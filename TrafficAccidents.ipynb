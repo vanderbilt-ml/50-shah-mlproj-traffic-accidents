{
  "nbformat": 4,
  "nbformat_minor": 0,
  "metadata": {
    "colab": {
      "name": "TrafficAccidents.ipynb",
      "provenance": [],
      "collapsed_sections": [],
      "authorship_tag": "ABX9TyMEIl7nPCrdJa3bvpapqDI3",
      "include_colab_link": true
    },
    "kernelspec": {
      "name": "python3",
      "display_name": "Python 3"
    },
    "language_info": {
      "name": "python"
    }
  },
  "cells": [
    {
      "cell_type": "markdown",
      "metadata": {
        "id": "view-in-github",
        "colab_type": "text"
      },
      "source": [
        "<a href=\"https://colab.research.google.com/github/vanderbilt-ml/50-shah-mlproj-traffic-accidents/blob/main/TrafficAccidents.ipynb\" target=\"_parent\"><img src=\"https://colab.research.google.com/assets/colab-badge.svg\" alt=\"Open In Colab\"/></a>"
      ]
    },
    {
      "cell_type": "markdown",
      "source": [
        "#Traffic Accidents"
      ],
      "metadata": {
        "id": "arfe9vfC2bO-"
      }
    },
    {
      "cell_type": "markdown",
      "source": [
        "###Background"
      ],
      "metadata": {
        "id": "2R0zJeoh2hwG"
      }
    },
    {
      "cell_type": "markdown",
      "source": [
        "This is dataset of traffic accidents reported to Metro Nashville from 2010 to present. The data is exported daily using automated scripts and is subject to change during an investigation as more information becomes available."
      ],
      "metadata": {
        "id": "C5vK98ftJHxv"
      }
    },
    {
      "cell_type": "markdown",
      "source": [
        "###Project Description"
      ],
      "metadata": {
        "id": "pdeE7iw828y7"
      }
    },
    {
      "cell_type": "markdown",
      "source": [
        "Each record is a reported traffic accident. Check the metadata field descriptions for more detailed information."
      ],
      "metadata": {
        "id": "a8Me5pVW3Dy4"
      }
    },
    {
      "cell_type": "markdown",
      "source": [
        "###Performance metrics"
      ],
      "metadata": {
        "id": "RkOIlgkR3l3R"
      }
    },
    {
      "cell_type": "markdown",
      "source": [
        "If successfull, the project will break down accident frequency by day of week and hour of day. One can also identify, when do accidents occur most frequently."
      ],
      "metadata": {
        "id": "Ijdc53tX3qJE"
      }
    }
  ]
}
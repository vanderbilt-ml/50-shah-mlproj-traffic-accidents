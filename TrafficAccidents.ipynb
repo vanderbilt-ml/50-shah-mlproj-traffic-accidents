{
  "nbformat": 4,
  "nbformat_minor": 0,
  "metadata": {
    "colab": {
      "name": "TrafficAccidents.ipynb",
      "provenance": [],
      "collapsed_sections": [],
      "authorship_tag": "ABX9TyPiu0iDDxy2uBKoZNbUhhrY",
      "include_colab_link": true
    },
    "kernelspec": {
      "name": "python3",
      "display_name": "Python 3"
    },
    "language_info": {
      "name": "python"
    }
  },
  "cells": [
    {
      "cell_type": "markdown",
      "metadata": {
        "id": "view-in-github",
        "colab_type": "text"
      },
      "source": [
        "<a href=\"https://colab.research.google.com/github/vanderbilt-ml/50-shah-mlproj-traffic-accidents/blob/main/TrafficAccidents.ipynb\" target=\"_parent\"><img src=\"https://colab.research.google.com/assets/colab-badge.svg\" alt=\"Open In Colab\"/></a>"
      ]
    },
    {
      "cell_type": "markdown",
      "source": [
        "\n",
        "\n",
        "```\n",
        "# This is formatted as code\n",
        "```\n",
        "\n",
        "#Traffic Accidents"
      ],
      "metadata": {
        "id": "arfe9vfC2bO-"
      }
    },
    {
      "cell_type": "markdown",
      "source": [
        "## Background"
      ],
      "metadata": {
        "id": "2R0zJeoh2hwG"
      }
    },
    {
      "cell_type": "markdown",
      "source": [
        "This is dataset of traffic accidents reported from 2019 to present. The data has been retrieved using manual export and is subject to change during an investigation as more information becomes available."
      ],
      "metadata": {
        "id": "C5vK98ftJHxv"
      }
    },
    {
      "cell_type": "markdown",
      "source": [
        "## Project Description"
      ],
      "metadata": {
        "id": "pdeE7iw828y7"
      }
    },
    {
      "cell_type": "markdown",
      "source": [
        "Each record is a reported traffic accident. Check the metadata field descriptions for more detailed information."
      ],
      "metadata": {
        "id": "a8Me5pVW3Dy4"
      }
    },
    {
      "cell_type": "markdown",
      "source": [
        "### **Data Dictionary**\n",
        "\n",
        "Feature\t|\tDescription\t|\tType\n",
        "-------------\t|\t-------------\t|\t-------------\n",
        "AccidentNumber\t|\tMNPD incident number for the crash\t|\tPlain Text\n",
        "AccidentDate\t|\tDate of the accident\t|\tDate & Time\n",
        "Injury\t|\tInjury reported\t|\tCheckBox\n",
        "Fatality\t|\tFatality reported\t|\tCheckBox\n",
        "PropertyDamage\t|\tIndicates if there was property damage as a result of the accident\t|\tCheckbox\n",
        "HitAndRun\t|\tIndicates if the accident was a hit and run\t|\tCheckbox\n",
        "CollisionType\t|\tFull text description of the collision type\t|\tPlain Text\n",
        "Weather\t|\tFull text description of the weather conditions\t|\tPlain Text\n",
        "Illumination\t|\tFull text description of the lighting conditions\t|\tPlain Text\n",
        "Precinct\t|\tAssigned precinct in which the accident occurred\t|\tPlain Text"
      ],
      "metadata": {
        "id": "MKSApobRkkh_"
      }
    },
    {
      "cell_type": "code",
      "source": [
        "#tables and visualizations\n",
        "import pandas as pd\n",
        "import numpy as np\n",
        "import seaborn as sns\n",
        "import matplotlib.pyplot as plt\n",
        "\n",
        "#machine learning\n",
        "from sklearn.model_selection import train_test_split, GridSearchCV\n",
        "from sklearn.metrics import mean_squared_error, mean_absolute_percentage_error, r2_score\n",
        "from sklearn.linear_model import LogisticRegression\n",
        "from sklearn.ensemble import RandomForestClassifier, GradientBoostingClassifier\n",
        "from sklearn.pipeline import Pipeline \n",
        "from sklearn.compose import ColumnTransformer, make_column_selector\n",
        "from sklearn.impute import SimpleImputer\n",
        "from sklearn.preprocessing import OneHotEncoder, LabelBinarizer, StandardScaler\n",
        "from sklearn import config_context, tree\n",
        "from sklearn.metrics import classification_report, confusion_matrix, ConfusionMatrixDisplay, roc_curve, roc_auc_score"
      ],
      "metadata": {
        "id": "PqlyBebnngSw"
      },
      "execution_count": 280,
      "outputs": []
    },
    {
      "cell_type": "markdown",
      "source": [
        "## Load Data\n",
        "\n",
        "Load the traffic accidents data provided using pandas and read it as a dataframe. Please note that the The repository is private so I have to use token to access .csv file."
      ],
      "metadata": {
        "id": "8ToIjCKinq-E"
      }
    },
    {
      "cell_type": "code",
      "source": [
        "penguins = pd.read_csv('https://raw.githubusercontent.com/vanderbilt-ml/50-shah-mlproj-traffic-accidents/main/Traffic_Accidents.csv')\n",
        "display(penguins.head())\n",
        "penguins.info()"
      ],
      "metadata": {
        "colab": {
          "base_uri": "https://localhost:8080/",
          "height": 501
        },
        "id": "QJcZnfpTn44c",
        "outputId": "dcfa0b44-7b8e-4592-bc2f-acfa9ae1d556"
      },
      "execution_count": 324,
      "outputs": [
        {
          "output_type": "display_data",
          "data": {
            "text/plain": [
              "   AccidentNumber AccidentDate  Injury  Fatality  PropertyDamage  HitAndRun  \\\n",
              "0     20200046129    1/31/2022   False     False           False      False   \n",
              "1     20200099766     3/4/2022   False     False           False      False   \n",
              "2     20200181991    4/15/2022    True     False           False      False   \n",
              "3     20210016364    1/12/2022   False     False            True      False   \n",
              "4     20220000022     1/1/2022   False     False           False      False   \n",
              "\n",
              "                             CollisionType Weather        Illumination  \\\n",
              "0               SIDESWIPE - SAME DIRECTION   CLEAR            DAYLIGHT   \n",
              "1                                    ANGLE   CLEAR            DAYLIGHT   \n",
              "2                                    ANGLE  CLOUDY            DAYLIGHT   \n",
              "3  NOT COLLISION W/MOTOR VEHICLE-TRANSPORT   CLEAR            DAYLIGHT   \n",
              "4  NOT COLLISION W/MOTOR VEHICLE-TRANSPORT   CLEAR  DARK - NOT LIGHTED   \n",
              "\n",
              "  Precinct  \n",
              "0     WEST  \n",
              "1   CENTRA  \n",
              "2   HERMIT  \n",
              "3   CENTRA  \n",
              "4     WEST  "
            ],
            "text/html": [
              "\n",
              "  <div id=\"df-f5dc54ec-49dd-44f6-8b3d-e11234425643\">\n",
              "    <div class=\"colab-df-container\">\n",
              "      <div>\n",
              "<style scoped>\n",
              "    .dataframe tbody tr th:only-of-type {\n",
              "        vertical-align: middle;\n",
              "    }\n",
              "\n",
              "    .dataframe tbody tr th {\n",
              "        vertical-align: top;\n",
              "    }\n",
              "\n",
              "    .dataframe thead th {\n",
              "        text-align: right;\n",
              "    }\n",
              "</style>\n",
              "<table border=\"1\" class=\"dataframe\">\n",
              "  <thead>\n",
              "    <tr style=\"text-align: right;\">\n",
              "      <th></th>\n",
              "      <th>AccidentNumber</th>\n",
              "      <th>AccidentDate</th>\n",
              "      <th>Injury</th>\n",
              "      <th>Fatality</th>\n",
              "      <th>PropertyDamage</th>\n",
              "      <th>HitAndRun</th>\n",
              "      <th>CollisionType</th>\n",
              "      <th>Weather</th>\n",
              "      <th>Illumination</th>\n",
              "      <th>Precinct</th>\n",
              "    </tr>\n",
              "  </thead>\n",
              "  <tbody>\n",
              "    <tr>\n",
              "      <th>0</th>\n",
              "      <td>20200046129</td>\n",
              "      <td>1/31/2022</td>\n",
              "      <td>False</td>\n",
              "      <td>False</td>\n",
              "      <td>False</td>\n",
              "      <td>False</td>\n",
              "      <td>SIDESWIPE - SAME DIRECTION</td>\n",
              "      <td>CLEAR</td>\n",
              "      <td>DAYLIGHT</td>\n",
              "      <td>WEST</td>\n",
              "    </tr>\n",
              "    <tr>\n",
              "      <th>1</th>\n",
              "      <td>20200099766</td>\n",
              "      <td>3/4/2022</td>\n",
              "      <td>False</td>\n",
              "      <td>False</td>\n",
              "      <td>False</td>\n",
              "      <td>False</td>\n",
              "      <td>ANGLE</td>\n",
              "      <td>CLEAR</td>\n",
              "      <td>DAYLIGHT</td>\n",
              "      <td>CENTRA</td>\n",
              "    </tr>\n",
              "    <tr>\n",
              "      <th>2</th>\n",
              "      <td>20200181991</td>\n",
              "      <td>4/15/2022</td>\n",
              "      <td>True</td>\n",
              "      <td>False</td>\n",
              "      <td>False</td>\n",
              "      <td>False</td>\n",
              "      <td>ANGLE</td>\n",
              "      <td>CLOUDY</td>\n",
              "      <td>DAYLIGHT</td>\n",
              "      <td>HERMIT</td>\n",
              "    </tr>\n",
              "    <tr>\n",
              "      <th>3</th>\n",
              "      <td>20210016364</td>\n",
              "      <td>1/12/2022</td>\n",
              "      <td>False</td>\n",
              "      <td>False</td>\n",
              "      <td>True</td>\n",
              "      <td>False</td>\n",
              "      <td>NOT COLLISION W/MOTOR VEHICLE-TRANSPORT</td>\n",
              "      <td>CLEAR</td>\n",
              "      <td>DAYLIGHT</td>\n",
              "      <td>CENTRA</td>\n",
              "    </tr>\n",
              "    <tr>\n",
              "      <th>4</th>\n",
              "      <td>20220000022</td>\n",
              "      <td>1/1/2022</td>\n",
              "      <td>False</td>\n",
              "      <td>False</td>\n",
              "      <td>False</td>\n",
              "      <td>False</td>\n",
              "      <td>NOT COLLISION W/MOTOR VEHICLE-TRANSPORT</td>\n",
              "      <td>CLEAR</td>\n",
              "      <td>DARK - NOT LIGHTED</td>\n",
              "      <td>WEST</td>\n",
              "    </tr>\n",
              "  </tbody>\n",
              "</table>\n",
              "</div>\n",
              "      <button class=\"colab-df-convert\" onclick=\"convertToInteractive('df-f5dc54ec-49dd-44f6-8b3d-e11234425643')\"\n",
              "              title=\"Convert this dataframe to an interactive table.\"\n",
              "              style=\"display:none;\">\n",
              "        \n",
              "  <svg xmlns=\"http://www.w3.org/2000/svg\" height=\"24px\"viewBox=\"0 0 24 24\"\n",
              "       width=\"24px\">\n",
              "    <path d=\"M0 0h24v24H0V0z\" fill=\"none\"/>\n",
              "    <path d=\"M18.56 5.44l.94 2.06.94-2.06 2.06-.94-2.06-.94-.94-2.06-.94 2.06-2.06.94zm-11 1L8.5 8.5l.94-2.06 2.06-.94-2.06-.94L8.5 2.5l-.94 2.06-2.06.94zm10 10l.94 2.06.94-2.06 2.06-.94-2.06-.94-.94-2.06-.94 2.06-2.06.94z\"/><path d=\"M17.41 7.96l-1.37-1.37c-.4-.4-.92-.59-1.43-.59-.52 0-1.04.2-1.43.59L10.3 9.45l-7.72 7.72c-.78.78-.78 2.05 0 2.83L4 21.41c.39.39.9.59 1.41.59.51 0 1.02-.2 1.41-.59l7.78-7.78 2.81-2.81c.8-.78.8-2.07 0-2.86zM5.41 20L4 18.59l7.72-7.72 1.47 1.35L5.41 20z\"/>\n",
              "  </svg>\n",
              "      </button>\n",
              "      \n",
              "  <style>\n",
              "    .colab-df-container {\n",
              "      display:flex;\n",
              "      flex-wrap:wrap;\n",
              "      gap: 12px;\n",
              "    }\n",
              "\n",
              "    .colab-df-convert {\n",
              "      background-color: #E8F0FE;\n",
              "      border: none;\n",
              "      border-radius: 50%;\n",
              "      cursor: pointer;\n",
              "      display: none;\n",
              "      fill: #1967D2;\n",
              "      height: 32px;\n",
              "      padding: 0 0 0 0;\n",
              "      width: 32px;\n",
              "    }\n",
              "\n",
              "    .colab-df-convert:hover {\n",
              "      background-color: #E2EBFA;\n",
              "      box-shadow: 0px 1px 2px rgba(60, 64, 67, 0.3), 0px 1px 3px 1px rgba(60, 64, 67, 0.15);\n",
              "      fill: #174EA6;\n",
              "    }\n",
              "\n",
              "    [theme=dark] .colab-df-convert {\n",
              "      background-color: #3B4455;\n",
              "      fill: #D2E3FC;\n",
              "    }\n",
              "\n",
              "    [theme=dark] .colab-df-convert:hover {\n",
              "      background-color: #434B5C;\n",
              "      box-shadow: 0px 1px 3px 1px rgba(0, 0, 0, 0.15);\n",
              "      filter: drop-shadow(0px 1px 2px rgba(0, 0, 0, 0.3));\n",
              "      fill: #FFFFFF;\n",
              "    }\n",
              "  </style>\n",
              "\n",
              "      <script>\n",
              "        const buttonEl =\n",
              "          document.querySelector('#df-f5dc54ec-49dd-44f6-8b3d-e11234425643 button.colab-df-convert');\n",
              "        buttonEl.style.display =\n",
              "          google.colab.kernel.accessAllowed ? 'block' : 'none';\n",
              "\n",
              "        async function convertToInteractive(key) {\n",
              "          const element = document.querySelector('#df-f5dc54ec-49dd-44f6-8b3d-e11234425643');\n",
              "          const dataTable =\n",
              "            await google.colab.kernel.invokeFunction('convertToInteractive',\n",
              "                                                     [key], {});\n",
              "          if (!dataTable) return;\n",
              "\n",
              "          const docLinkHtml = 'Like what you see? Visit the ' +\n",
              "            '<a target=\"_blank\" href=https://colab.research.google.com/notebooks/data_table.ipynb>data table notebook</a>'\n",
              "            + ' to learn more about interactive tables.';\n",
              "          element.innerHTML = '';\n",
              "          dataTable['output_type'] = 'display_data';\n",
              "          await google.colab.output.renderOutput(dataTable, element);\n",
              "          const docLink = document.createElement('div');\n",
              "          docLink.innerHTML = docLinkHtml;\n",
              "          element.appendChild(docLink);\n",
              "        }\n",
              "      </script>\n",
              "    </div>\n",
              "  </div>\n",
              "  "
            ]
          },
          "metadata": {}
        },
        {
          "output_type": "stream",
          "name": "stdout",
          "text": [
            "<class 'pandas.core.frame.DataFrame'>\n",
            "RangeIndex: 7762 entries, 0 to 7761\n",
            "Data columns (total 10 columns):\n",
            " #   Column          Non-Null Count  Dtype \n",
            "---  ------          --------------  ----- \n",
            " 0   AccidentNumber  7762 non-null   int64 \n",
            " 1   AccidentDate    7762 non-null   object\n",
            " 2   Injury          7762 non-null   bool  \n",
            " 3   Fatality        7762 non-null   bool  \n",
            " 4   PropertyDamage  7762 non-null   bool  \n",
            " 5   HitAndRun       7762 non-null   bool  \n",
            " 6   CollisionType   7762 non-null   object\n",
            " 7   Weather         7762 non-null   object\n",
            " 8   Illumination    7762 non-null   object\n",
            " 9   Precinct        7762 non-null   object\n",
            "dtypes: bool(4), int64(1), object(5)\n",
            "memory usage: 394.3+ KB\n"
          ]
        }
      ]
    },
    {
      "cell_type": "markdown",
      "source": [
        "### Data Cleaning\n",
        "Detect and Remove Missing values"
      ],
      "metadata": {
        "id": "t2SqNJRAsEFn"
      }
    },
    {
      "cell_type": "markdown",
      "source": [
        "After exploring and observing the data, there are a few columns with the coded value for which the description is already available. I am removing data values out of the dataframe.\n",
        "\n",
        "The columns are specified below:\n",
        "\n",
        "**Date and Time**, **Reporting Officer**, **Collision Type Code**, **Weather Code**, **Illumination Code**, **Harmful Code**, **RPA**"
      ],
      "metadata": {
        "id": "PQ3tbHHNx1nL"
      }
    },
    {
      "cell_type": "code",
      "source": [
        "penguins.isnull().sum()"
      ],
      "metadata": {
        "colab": {
          "base_uri": "https://localhost:8080/"
        },
        "id": "Eiq7QHGZZJ0M",
        "outputId": "7eadf835-5743-4e59-fb73-d96334adf3e8"
      },
      "execution_count": 282,
      "outputs": [
        {
          "output_type": "execute_result",
          "data": {
            "text/plain": [
              "AccidentNumber    0\n",
              "AccidentDate      0\n",
              "Injury            0\n",
              "Fatality          0\n",
              "PropertyDamage    0\n",
              "HitAndRun         0\n",
              "CollisionType     0\n",
              "Weather           0\n",
              "Illumination      0\n",
              "Precinct          0\n",
              "dtype: int64"
            ]
          },
          "metadata": {},
          "execution_count": 282
        }
      ]
    },
    {
      "cell_type": "markdown",
      "source": [
        "## Feature Engineering\n",
        "\n",
        "There are many feature engineering techniques including e.g. Imputation, Handling Outliers, Binning, Log Transform, One-Hot Encoding, Grouping Operations, Feature Split, Scaling etc. \n",
        "\n",
        "We will be applying lesson learned from various assignments lets create some statistics on the  data attached here. Also create the test and train set, pipeline and check/learn the outcome of the data."
      ],
      "metadata": {
        "id": "TN9WjBoCmeew"
      }
    },
    {
      "cell_type": "code",
      "source": [
        "penguins.shape\n",
        "penguins.head()"
      ],
      "metadata": {
        "colab": {
          "base_uri": "https://localhost:8080/",
          "height": 206
        },
        "id": "y_-92sv18tXg",
        "outputId": "b2722ba8-9b21-4916-dbd0-d975b3fad5a5"
      },
      "execution_count": 283,
      "outputs": [
        {
          "output_type": "execute_result",
          "data": {
            "text/plain": [
              "   AccidentNumber AccidentDate  Injury  Fatality  PropertyDamage  HitAndRun  \\\n",
              "0     20200046129    1/31/2022   False     False           False      False   \n",
              "1     20200099766     3/4/2022   False     False           False      False   \n",
              "2     20200181991    4/15/2022    True     False           False      False   \n",
              "3     20210016364    1/12/2022   False     False            True      False   \n",
              "4     20220000022     1/1/2022   False     False           False      False   \n",
              "\n",
              "                             CollisionType Weather        Illumination  \\\n",
              "0               SIDESWIPE - SAME DIRECTION   CLEAR            DAYLIGHT   \n",
              "1                                    ANGLE   CLEAR            DAYLIGHT   \n",
              "2                                    ANGLE  CLOUDY            DAYLIGHT   \n",
              "3  NOT COLLISION W/MOTOR VEHICLE-TRANSPORT   CLEAR            DAYLIGHT   \n",
              "4  NOT COLLISION W/MOTOR VEHICLE-TRANSPORT   CLEAR  DARK - NOT LIGHTED   \n",
              "\n",
              "  Precinct  \n",
              "0     WEST  \n",
              "1   CENTRA  \n",
              "2   HERMIT  \n",
              "3   CENTRA  \n",
              "4     WEST  "
            ],
            "text/html": [
              "\n",
              "  <div id=\"df-1d60c372-aff6-429e-9ab9-00923338433c\">\n",
              "    <div class=\"colab-df-container\">\n",
              "      <div>\n",
              "<style scoped>\n",
              "    .dataframe tbody tr th:only-of-type {\n",
              "        vertical-align: middle;\n",
              "    }\n",
              "\n",
              "    .dataframe tbody tr th {\n",
              "        vertical-align: top;\n",
              "    }\n",
              "\n",
              "    .dataframe thead th {\n",
              "        text-align: right;\n",
              "    }\n",
              "</style>\n",
              "<table border=\"1\" class=\"dataframe\">\n",
              "  <thead>\n",
              "    <tr style=\"text-align: right;\">\n",
              "      <th></th>\n",
              "      <th>AccidentNumber</th>\n",
              "      <th>AccidentDate</th>\n",
              "      <th>Injury</th>\n",
              "      <th>Fatality</th>\n",
              "      <th>PropertyDamage</th>\n",
              "      <th>HitAndRun</th>\n",
              "      <th>CollisionType</th>\n",
              "      <th>Weather</th>\n",
              "      <th>Illumination</th>\n",
              "      <th>Precinct</th>\n",
              "    </tr>\n",
              "  </thead>\n",
              "  <tbody>\n",
              "    <tr>\n",
              "      <th>0</th>\n",
              "      <td>20200046129</td>\n",
              "      <td>1/31/2022</td>\n",
              "      <td>False</td>\n",
              "      <td>False</td>\n",
              "      <td>False</td>\n",
              "      <td>False</td>\n",
              "      <td>SIDESWIPE - SAME DIRECTION</td>\n",
              "      <td>CLEAR</td>\n",
              "      <td>DAYLIGHT</td>\n",
              "      <td>WEST</td>\n",
              "    </tr>\n",
              "    <tr>\n",
              "      <th>1</th>\n",
              "      <td>20200099766</td>\n",
              "      <td>3/4/2022</td>\n",
              "      <td>False</td>\n",
              "      <td>False</td>\n",
              "      <td>False</td>\n",
              "      <td>False</td>\n",
              "      <td>ANGLE</td>\n",
              "      <td>CLEAR</td>\n",
              "      <td>DAYLIGHT</td>\n",
              "      <td>CENTRA</td>\n",
              "    </tr>\n",
              "    <tr>\n",
              "      <th>2</th>\n",
              "      <td>20200181991</td>\n",
              "      <td>4/15/2022</td>\n",
              "      <td>True</td>\n",
              "      <td>False</td>\n",
              "      <td>False</td>\n",
              "      <td>False</td>\n",
              "      <td>ANGLE</td>\n",
              "      <td>CLOUDY</td>\n",
              "      <td>DAYLIGHT</td>\n",
              "      <td>HERMIT</td>\n",
              "    </tr>\n",
              "    <tr>\n",
              "      <th>3</th>\n",
              "      <td>20210016364</td>\n",
              "      <td>1/12/2022</td>\n",
              "      <td>False</td>\n",
              "      <td>False</td>\n",
              "      <td>True</td>\n",
              "      <td>False</td>\n",
              "      <td>NOT COLLISION W/MOTOR VEHICLE-TRANSPORT</td>\n",
              "      <td>CLEAR</td>\n",
              "      <td>DAYLIGHT</td>\n",
              "      <td>CENTRA</td>\n",
              "    </tr>\n",
              "    <tr>\n",
              "      <th>4</th>\n",
              "      <td>20220000022</td>\n",
              "      <td>1/1/2022</td>\n",
              "      <td>False</td>\n",
              "      <td>False</td>\n",
              "      <td>False</td>\n",
              "      <td>False</td>\n",
              "      <td>NOT COLLISION W/MOTOR VEHICLE-TRANSPORT</td>\n",
              "      <td>CLEAR</td>\n",
              "      <td>DARK - NOT LIGHTED</td>\n",
              "      <td>WEST</td>\n",
              "    </tr>\n",
              "  </tbody>\n",
              "</table>\n",
              "</div>\n",
              "      <button class=\"colab-df-convert\" onclick=\"convertToInteractive('df-1d60c372-aff6-429e-9ab9-00923338433c')\"\n",
              "              title=\"Convert this dataframe to an interactive table.\"\n",
              "              style=\"display:none;\">\n",
              "        \n",
              "  <svg xmlns=\"http://www.w3.org/2000/svg\" height=\"24px\"viewBox=\"0 0 24 24\"\n",
              "       width=\"24px\">\n",
              "    <path d=\"M0 0h24v24H0V0z\" fill=\"none\"/>\n",
              "    <path d=\"M18.56 5.44l.94 2.06.94-2.06 2.06-.94-2.06-.94-.94-2.06-.94 2.06-2.06.94zm-11 1L8.5 8.5l.94-2.06 2.06-.94-2.06-.94L8.5 2.5l-.94 2.06-2.06.94zm10 10l.94 2.06.94-2.06 2.06-.94-2.06-.94-.94-2.06-.94 2.06-2.06.94z\"/><path d=\"M17.41 7.96l-1.37-1.37c-.4-.4-.92-.59-1.43-.59-.52 0-1.04.2-1.43.59L10.3 9.45l-7.72 7.72c-.78.78-.78 2.05 0 2.83L4 21.41c.39.39.9.59 1.41.59.51 0 1.02-.2 1.41-.59l7.78-7.78 2.81-2.81c.8-.78.8-2.07 0-2.86zM5.41 20L4 18.59l7.72-7.72 1.47 1.35L5.41 20z\"/>\n",
              "  </svg>\n",
              "      </button>\n",
              "      \n",
              "  <style>\n",
              "    .colab-df-container {\n",
              "      display:flex;\n",
              "      flex-wrap:wrap;\n",
              "      gap: 12px;\n",
              "    }\n",
              "\n",
              "    .colab-df-convert {\n",
              "      background-color: #E8F0FE;\n",
              "      border: none;\n",
              "      border-radius: 50%;\n",
              "      cursor: pointer;\n",
              "      display: none;\n",
              "      fill: #1967D2;\n",
              "      height: 32px;\n",
              "      padding: 0 0 0 0;\n",
              "      width: 32px;\n",
              "    }\n",
              "\n",
              "    .colab-df-convert:hover {\n",
              "      background-color: #E2EBFA;\n",
              "      box-shadow: 0px 1px 2px rgba(60, 64, 67, 0.3), 0px 1px 3px 1px rgba(60, 64, 67, 0.15);\n",
              "      fill: #174EA6;\n",
              "    }\n",
              "\n",
              "    [theme=dark] .colab-df-convert {\n",
              "      background-color: #3B4455;\n",
              "      fill: #D2E3FC;\n",
              "    }\n",
              "\n",
              "    [theme=dark] .colab-df-convert:hover {\n",
              "      background-color: #434B5C;\n",
              "      box-shadow: 0px 1px 3px 1px rgba(0, 0, 0, 0.15);\n",
              "      filter: drop-shadow(0px 1px 2px rgba(0, 0, 0, 0.3));\n",
              "      fill: #FFFFFF;\n",
              "    }\n",
              "  </style>\n",
              "\n",
              "      <script>\n",
              "        const buttonEl =\n",
              "          document.querySelector('#df-1d60c372-aff6-429e-9ab9-00923338433c button.colab-df-convert');\n",
              "        buttonEl.style.display =\n",
              "          google.colab.kernel.accessAllowed ? 'block' : 'none';\n",
              "\n",
              "        async function convertToInteractive(key) {\n",
              "          const element = document.querySelector('#df-1d60c372-aff6-429e-9ab9-00923338433c');\n",
              "          const dataTable =\n",
              "            await google.colab.kernel.invokeFunction('convertToInteractive',\n",
              "                                                     [key], {});\n",
              "          if (!dataTable) return;\n",
              "\n",
              "          const docLinkHtml = 'Like what you see? Visit the ' +\n",
              "            '<a target=\"_blank\" href=https://colab.research.google.com/notebooks/data_table.ipynb>data table notebook</a>'\n",
              "            + ' to learn more about interactive tables.';\n",
              "          element.innerHTML = '';\n",
              "          dataTable['output_type'] = 'display_data';\n",
              "          await google.colab.output.renderOutput(dataTable, element);\n",
              "          const docLink = document.createElement('div');\n",
              "          docLink.innerHTML = docLinkHtml;\n",
              "          element.appendChild(docLink);\n",
              "        }\n",
              "      </script>\n",
              "    </div>\n",
              "  </div>\n",
              "  "
            ]
          },
          "metadata": {},
          "execution_count": 283
        }
      ]
    },
    {
      "cell_type": "markdown",
      "source": [
        "**Total Number of accidents based on Collission Type**"
      ],
      "metadata": {
        "id": "l60RoL1n-Wv2"
      }
    },
    {
      "cell_type": "code",
      "source": [
        "penguins[\"CollisionType\"].unique()"
      ],
      "metadata": {
        "colab": {
          "base_uri": "https://localhost:8080/"
        },
        "id": "3e15Tlzj8aKf",
        "outputId": "1f99bf24-f2fc-412f-dca6-92780049a49a"
      },
      "execution_count": 284,
      "outputs": [
        {
          "output_type": "execute_result",
          "data": {
            "text/plain": [
              "array(['SIDESWIPE - SAME DIRECTION', 'ANGLE',\n",
              "       'NOT COLLISION W/MOTOR VEHICLE-TRANSPORT', 'Front to Rear',\n",
              "       'HEAD-ON', 'OTHER', 'Rear to Side',\n",
              "       'SIDESWIPE - OPPOSITE DIRECTION', 'REAR-TO-REAR'], dtype=object)"
            ]
          },
          "metadata": {},
          "execution_count": 284
        }
      ]
    },
    {
      "cell_type": "code",
      "source": [
        "collision_types = penguins[\"CollisionType\"].unique()"
      ],
      "metadata": {
        "id": "ab_IUszz985Y"
      },
      "execution_count": 285,
      "outputs": []
    },
    {
      "cell_type": "code",
      "source": [
        "counts_by_collision_type=[]\n",
        "for i in penguins[\"CollisionType\"].unique(): counts_by_collision_type.append(penguins[penguins['CollisionType']==i].count()['AccidentNumber'])\n",
        "\n",
        "fig,ax = plt.subplots(figsize=(16,10))\n",
        "sns.barplot(collision_types, counts_by_collision_type)"
      ],
      "metadata": {
        "colab": {
          "base_uri": "https://localhost:8080/",
          "height": 664
        },
        "id": "CKkKYDHF9dww",
        "outputId": "2b03643d-82d4-4337-9aed-215d3230b38c"
      },
      "execution_count": 286,
      "outputs": [
        {
          "output_type": "stream",
          "name": "stderr",
          "text": [
            "/usr/local/lib/python3.7/dist-packages/seaborn/_decorators.py:43: FutureWarning: Pass the following variables as keyword args: x, y. From version 0.12, the only valid positional argument will be `data`, and passing other arguments without an explicit keyword will result in an error or misinterpretation.\n",
            "  FutureWarning\n"
          ]
        },
        {
          "output_type": "execute_result",
          "data": {
            "text/plain": [
              "<matplotlib.axes._subplots.AxesSubplot at 0x7fc77953c790>"
            ]
          },
          "metadata": {},
          "execution_count": 286
        },
        {
          "output_type": "display_data",
          "data": {
            "text/plain": [
              "<Figure size 1152x720 with 1 Axes>"
            ],
            "image/png": "[encoded data removed]"
          },
          "metadata": {
            "needs_background": "light"
          }
        }
      ]
    },
    {
      "cell_type": "markdown",
      "source": [
        "**Total Number of accidents based on Weather Condition**"
      ],
      "metadata": {
        "id": "8oaPjdVo-hVJ"
      }
    },
    {
      "cell_type": "code",
      "source": [
        "penguins[\"Weather\"].unique()"
      ],
      "metadata": {
        "colab": {
          "base_uri": "https://localhost:8080/"
        },
        "id": "XPPB-WvL-gU9",
        "outputId": "aaa77bfd-b547-4e80-939b-83cc39edfd42"
      },
      "execution_count": 287,
      "outputs": [
        {
          "output_type": "execute_result",
          "data": {
            "text/plain": [
              "array(['CLEAR', 'CLOUDY', 'RAIN', 'SNOW', 'SLEET, HAIL', 'BLOWING SNOW',\n",
              "       'FOG', 'OTHER (NARRATIVE)'], dtype=object)"
            ]
          },
          "metadata": {},
          "execution_count": 287
        }
      ]
    },
    {
      "cell_type": "code",
      "source": [
        "weather_conditions = penguins[\"Weather\"].unique()"
      ],
      "metadata": {
        "id": "Eg1mzXFv-2JB"
      },
      "execution_count": 273,
      "outputs": []
    },
    {
      "cell_type": "code",
      "source": [
        "counts_by_weather_condition=[]\n",
        "for i in penguins[\"Weather\"].unique(): counts_by_weather_condition.append(penguins[penguins['Weather']==i].count()['AccidentNumber'])\n",
        "\n",
        "fig,ax = plt.subplots(figsize=(16,10))\n",
        "sns.barplot(weather_conditions, counts_by_weather_condition)"
      ],
      "metadata": {
        "colab": {
          "base_uri": "https://localhost:8080/",
          "height": 664
        },
        "id": "tUAf1Z9A-9_d",
        "outputId": "48f9fb3f-d80d-4bf9-814f-4debc4800e50"
      },
      "execution_count": 288,
      "outputs": [
        {
          "output_type": "stream",
          "name": "stderr",
          "text": [
            "/usr/local/lib/python3.7/dist-packages/seaborn/_decorators.py:43: FutureWarning: Pass the following variables as keyword args: x, y. From version 0.12, the only valid positional argument will be `data`, and passing other arguments without an explicit keyword will result in an error or misinterpretation.\n",
            "  FutureWarning\n"
          ]
        },
        {
          "output_type": "execute_result",
          "data": {
            "text/plain": [
              "<matplotlib.axes._subplots.AxesSubplot at 0x7fc779895050>"
            ]
          },
          "metadata": {},
          "execution_count": 288
        },
        {
          "output_type": "display_data",
          "data": {
            "text/plain": [
              "<Figure size 1152x720 with 1 Axes>"
            ],
            "image/png": "[encoded data removed]"
          },
          "metadata": {
            "needs_background": "light"
          }
        }
      ]
    },
    {
      "cell_type": "markdown",
      "source": [
        "**Total Number of accidents by Day Of Week**"
      ],
      "metadata": {
        "id": "9DCUrrgcBTaU"
      }
    },
    {
      "cell_type": "code",
      "source": [
        "accident_DOW = pd.to_datetime(penguins[\"AccidentDate\"]).dt.day_name().unique()"
      ],
      "metadata": {
        "id": "mYZBVupeBSj7"
      },
      "execution_count": 289,
      "outputs": []
    },
    {
      "cell_type": "code",
      "source": [
        "print(accident_DOW)"
      ],
      "metadata": {
        "colab": {
          "base_uri": "https://localhost:8080/"
        },
        "id": "ZfV0nxRBHYhi",
        "outputId": "469d1671-6f5e-4b25-d9ec-2dfe45b82d40"
      },
      "execution_count": 276,
      "outputs": [
        {
          "output_type": "stream",
          "name": "stdout",
          "text": [
            "['Monday' 'Friday' 'Wednesday' 'Saturday' 'Sunday' 'Tuesday' 'Thursday']\n"
          ]
        }
      ]
    },
    {
      "cell_type": "code",
      "source": [
        "counts_by_DOW=[]\n",
        "for i in pd.to_datetime(penguins[\"AccidentDate\"]).dt.day_name().unique(): counts_by_DOW.append(penguins[pd.to_datetime(penguins[\"AccidentDate\"]).dt.day_name()==i].count()['AccidentNumber'])\n",
        "\n",
        "fig,ax = plt.subplots(figsize=(16,10))\n",
        "sns.barplot(accident_DOW, counts_by_DOW)"
      ],
      "metadata": {
        "colab": {
          "base_uri": "https://localhost:8080/",
          "height": 664
        },
        "id": "VcIHQSw6FY8r",
        "outputId": "67302160-049e-424a-86e4-fce6492b43d2"
      },
      "execution_count": 290,
      "outputs": [
        {
          "output_type": "stream",
          "name": "stderr",
          "text": [
            "/usr/local/lib/python3.7/dist-packages/seaborn/_decorators.py:43: FutureWarning: Pass the following variables as keyword args: x, y. From version 0.12, the only valid positional argument will be `data`, and passing other arguments without an explicit keyword will result in an error or misinterpretation.\n",
            "  FutureWarning\n"
          ]
        },
        {
          "output_type": "execute_result",
          "data": {
            "text/plain": [
              "<matplotlib.axes._subplots.AxesSubplot at 0x7fc77a082310>"
            ]
          },
          "metadata": {},
          "execution_count": 290
        },
        {
          "output_type": "display_data",
          "data": {
            "text/plain": [
              "<Figure size 1152x720 with 1 Axes>"
            ],
            "image/png": "[encoded data removed]"
          },
          "metadata": {
            "needs_background": "light"
          }
        }
      ]
    },
    {
      "cell_type": "code",
      "source": [
        "penguins = penguins.drop(columns=['AccidentDate'])\n",
        "penguins.shape\n",
        "print(penguins.columns)"
      ],
      "metadata": {
        "colab": {
          "base_uri": "https://localhost:8080/"
        },
        "id": "sLZN0bplOSYV",
        "outputId": "f9e65bc3-5ece-4097-df6c-f56ac38918ca"
      },
      "execution_count": 291,
      "outputs": [
        {
          "output_type": "stream",
          "name": "stdout",
          "text": [
            "Index(['AccidentNumber', 'Injury', 'Fatality', 'PropertyDamage', 'HitAndRun',\n",
            "       'CollisionType', 'Weather', 'Illumination', 'Precinct'],\n",
            "      dtype='object')\n"
          ]
        }
      ]
    },
    {
      "cell_type": "markdown",
      "source": [
        "**Build Test and Train Set**"
      ],
      "metadata": {
        "id": "SDl0K2ya1aDa"
      }
    },
    {
      "cell_type": "code",
      "source": [
        "class_column = 'HitAndRun'\n",
        "random_seed = 2435\n",
        "\n",
        "X_train, X_test, Y_train, Y_test = train_test_split(penguins.drop(columns=class_column), penguins[class_column],\n",
        "                                                   test_size=0.25, random_state=random_seed, stratify=penguins[class_column])"
      ],
      "metadata": {
        "id": "fv3BwRH_1Zqy"
      },
      "execution_count": 292,
      "outputs": []
    },
    {
      "cell_type": "code",
      "source": [
        "# X Train\n",
        "print('On X train: ')\n",
        "print('X train dimensions: ', X_train.shape)\n",
        "display(X_train.head())\n",
        "\n",
        "# X test\n",
        "print('\\nOn X test: ')\n",
        "print('X test dimensions: ', X_test.shape)\n",
        "display(X_test.head())"
      ],
      "metadata": {
        "colab": {
          "base_uri": "https://localhost:8080/",
          "height": 482
        },
        "id": "adKFjOav4DRr",
        "outputId": "40785bb1-2b38-428b-975d-7cb764a602e5"
      },
      "execution_count": 293,
      "outputs": [
        {
          "output_type": "stream",
          "name": "stdout",
          "text": [
            "On X train: \n",
            "X train dimensions:  (5821, 8)\n"
          ]
        },
        {
          "output_type": "display_data",
          "data": {
            "text/plain": [
              "      AccidentNumber  Injury  Fatality  PropertyDamage  \\\n",
              "1302     20220044216   False     False           False   \n",
              "1531     20220051237   False     False           False   \n",
              "3423     20220115406   False     False           False   \n",
              "6096     20220221510   False     False           False   \n",
              "2208     20220073712   False     False           False   \n",
              "\n",
              "                                CollisionType Weather    Illumination Precinct  \n",
              "1302                                    ANGLE   CLEAR  DARK - LIGHTED   MIDTOW  \n",
              "1531  NOT COLLISION W/MOTOR VEHICLE-TRANSPORT    RAIN        DAYLIGHT   HERMIT  \n",
              "3423  NOT COLLISION W/MOTOR VEHICLE-TRANSPORT   CLEAR        DAYLIGHT     WEST  \n",
              "6096  NOT COLLISION W/MOTOR VEHICLE-TRANSPORT   CLEAR  DARK - LIGHTED    NORTH  \n",
              "2208  NOT COLLISION W/MOTOR VEHICLE-TRANSPORT  CLOUDY            DAWN     EAST  "
            ],
            "text/html": [
              "\n",
              "  <div id=\"df-83d02d6b-fb61-4e97-9605-7588beace1b3\">\n",
              "    <div class=\"colab-df-container\">\n",
              "      <div>\n",
              "<style scoped>\n",
              "    .dataframe tbody tr th:only-of-type {\n",
              "        vertical-align: middle;\n",
              "    }\n",
              "\n",
              "    .dataframe tbody tr th {\n",
              "        vertical-align: top;\n",
              "    }\n",
              "\n",
              "    .dataframe thead th {\n",
              "        text-align: right;\n",
              "    }\n",
              "</style>\n",
              "<table border=\"1\" class=\"dataframe\">\n",
              "  <thead>\n",
              "    <tr style=\"text-align: right;\">\n",
              "      <th></th>\n",
              "      <th>AccidentNumber</th>\n",
              "      <th>Injury</th>\n",
              "      <th>Fatality</th>\n",
              "      <th>PropertyDamage</th>\n",
              "      <th>CollisionType</th>\n",
              "      <th>Weather</th>\n",
              "      <th>Illumination</th>\n",
              "      <th>Precinct</th>\n",
              "    </tr>\n",
              "  </thead>\n",
              "  <tbody>\n",
              "    <tr>\n",
              "      <th>1302</th>\n",
              "      <td>20220044216</td>\n",
              "      <td>False</td>\n",
              "      <td>False</td>\n",
              "      <td>False</td>\n",
              "      <td>ANGLE</td>\n",
              "      <td>CLEAR</td>\n",
              "      <td>DARK - LIGHTED</td>\n",
              "      <td>MIDTOW</td>\n",
              "    </tr>\n",
              "    <tr>\n",
              "      <th>1531</th>\n",
              "      <td>20220051237</td>\n",
              "      <td>False</td>\n",
              "      <td>False</td>\n",
              "      <td>False</td>\n",
              "      <td>NOT COLLISION W/MOTOR VEHICLE-TRANSPORT</td>\n",
              "      <td>RAIN</td>\n",
              "      <td>DAYLIGHT</td>\n",
              "      <td>HERMIT</td>\n",
              "    </tr>\n",
              "    <tr>\n",
              "      <th>3423</th>\n",
              "      <td>20220115406</td>\n",
              "      <td>False</td>\n",
              "      <td>False</td>\n",
              "      <td>False</td>\n",
              "      <td>NOT COLLISION W/MOTOR VEHICLE-TRANSPORT</td>\n",
              "      <td>CLEAR</td>\n",
              "      <td>DAYLIGHT</td>\n",
              "      <td>WEST</td>\n",
              "    </tr>\n",
              "    <tr>\n",
              "      <th>6096</th>\n",
              "      <td>20220221510</td>\n",
              "      <td>False</td>\n",
              "      <td>False</td>\n",
              "      <td>False</td>\n",
              "      <td>NOT COLLISION W/MOTOR VEHICLE-TRANSPORT</td>\n",
              "      <td>CLEAR</td>\n",
              "      <td>DARK - LIGHTED</td>\n",
              "      <td>NORTH</td>\n",
              "    </tr>\n",
              "    <tr>\n",
              "      <th>2208</th>\n",
              "      <td>20220073712</td>\n",
              "      <td>False</td>\n",
              "      <td>False</td>\n",
              "      <td>False</td>\n",
              "      <td>NOT COLLISION W/MOTOR VEHICLE-TRANSPORT</td>\n",
              "      <td>CLOUDY</td>\n",
              "      <td>DAWN</td>\n",
              "      <td>EAST</td>\n",
              "    </tr>\n",
              "  </tbody>\n",
              "</table>\n",
              "</div>\n",
              "      <button class=\"colab-df-convert\" onclick=\"convertToInteractive('df-83d02d6b-fb61-4e97-9605-7588beace1b3')\"\n",
              "              title=\"Convert this dataframe to an interactive table.\"\n",
              "              style=\"display:none;\">\n",
              "        \n",
              "  <svg xmlns=\"http://www.w3.org/2000/svg\" height=\"24px\"viewBox=\"0 0 24 24\"\n",
              "       width=\"24px\">\n",
              "    <path d=\"M0 0h24v24H0V0z\" fill=\"none\"/>\n",
              "    <path d=\"M18.56 5.44l.94 2.06.94-2.06 2.06-.94-2.06-.94-.94-2.06-.94 2.06-2.06.94zm-11 1L8.5 8.5l.94-2.06 2.06-.94-2.06-.94L8.5 2.5l-.94 2.06-2.06.94zm10 10l.94 2.06.94-2.06 2.06-.94-2.06-.94-.94-2.06-.94 2.06-2.06.94z\"/><path d=\"M17.41 7.96l-1.37-1.37c-.4-.4-.92-.59-1.43-.59-.52 0-1.04.2-1.43.59L10.3 9.45l-7.72 7.72c-.78.78-.78 2.05 0 2.83L4 21.41c.39.39.9.59 1.41.59.51 0 1.02-.2 1.41-.59l7.78-7.78 2.81-2.81c.8-.78.8-2.07 0-2.86zM5.41 20L4 18.59l7.72-7.72 1.47 1.35L5.41 20z\"/>\n",
              "  </svg>\n",
              "      </button>\n",
              "      \n",
              "  <style>\n",
              "    .colab-df-container {\n",
              "      display:flex;\n",
              "      flex-wrap:wrap;\n",
              "      gap: 12px;\n",
              "    }\n",
              "\n",
              "    .colab-df-convert {\n",
              "      background-color: #E8F0FE;\n",
              "      border: none;\n",
              "      border-radius: 50%;\n",
              "      cursor: pointer;\n",
              "      display: none;\n",
              "      fill: #1967D2;\n",
              "      height: 32px;\n",
              "      padding: 0 0 0 0;\n",
              "      width: 32px;\n",
              "    }\n",
              "\n",
              "    .colab-df-convert:hover {\n",
              "      background-color: #E2EBFA;\n",
              "      box-shadow: 0px 1px 2px rgba(60, 64, 67, 0.3), 0px 1px 3px 1px rgba(60, 64, 67, 0.15);\n",
              "      fill: #174EA6;\n",
              "    }\n",
              "\n",
              "    [theme=dark] .colab-df-convert {\n",
              "      background-color: #3B4455;\n",
              "      fill: #D2E3FC;\n",
              "    }\n",
              "\n",
              "    [theme=dark] .colab-df-convert:hover {\n",
              "      background-color: #434B5C;\n",
              "      box-shadow: 0px 1px 3px 1px rgba(0, 0, 0, 0.15);\n",
              "      filter: drop-shadow(0px 1px 2px rgba(0, 0, 0, 0.3));\n",
              "      fill: #FFFFFF;\n",
              "    }\n",
              "  </style>\n",
              "\n",
              "      <script>\n",
              "        const buttonEl =\n",
              "          document.querySelector('#df-83d02d6b-fb61-4e97-9605-7588beace1b3 button.colab-df-convert');\n",
              "        buttonEl.style.display =\n",
              "          google.colab.kernel.accessAllowed ? 'block' : 'none';\n",
              "\n",
              "        async function convertToInteractive(key) {\n",
              "          const element = document.querySelector('#df-83d02d6b-fb61-4e97-9605-7588beace1b3');\n",
              "          const dataTable =\n",
              "            await google.colab.kernel.invokeFunction('convertToInteractive',\n",
              "                                                     [key], {});\n",
              "          if (!dataTable) return;\n",
              "\n",
              "          const docLinkHtml = 'Like what you see? Visit the ' +\n",
              "            '<a target=\"_blank\" href=https://colab.research.google.com/notebooks/data_table.ipynb>data table notebook</a>'\n",
              "            + ' to learn more about interactive tables.';\n",
              "          element.innerHTML = '';\n",
              "          dataTable['output_type'] = 'display_data';\n",
              "          await google.colab.output.renderOutput(dataTable, element);\n",
              "          const docLink = document.createElement('div');\n",
              "          docLink.innerHTML = docLinkHtml;\n",
              "          element.appendChild(docLink);\n",
              "        }\n",
              "      </script>\n",
              "    </div>\n",
              "  </div>\n",
              "  "
            ]
          },
          "metadata": {}
        },
        {
          "output_type": "stream",
          "name": "stdout",
          "text": [
            "\n",
            "On X test: \n",
            "X test dimensions:  (1941, 8)\n"
          ]
        },
        {
          "output_type": "display_data",
          "data": {
            "text/plain": [
              "      AccidentNumber  Injury  Fatality  PropertyDamage  \\\n",
              "7275     20220266122   False     False            True   \n",
              "4519     20220162176    True     False           False   \n",
              "7483     20220274557   False     False           False   \n",
              "6452     20220235366   False     False           False   \n",
              "2261     20220075449    True     False            True   \n",
              "\n",
              "                                CollisionType Weather    Illumination Precinct  \n",
              "7275  NOT COLLISION W/MOTOR VEHICLE-TRANSPORT   CLEAR        DAYLIGHT   CENTRA  \n",
              "4519                            Front to Rear   CLEAR  DARK - LIGHTED    SOUTH  \n",
              "7483                            Front to Rear   CLEAR        DAYLIGHT   HERMIT  \n",
              "6452                            Front to Rear   CLEAR        DAYLIGHT   CENTRA  \n",
              "2261                            Front to Rear  CLOUDY  DARK - LIGHTED    SOUTH  "
            ],
            "text/html": [
              "\n",
              "  <div id=\"df-6e8c8a1a-824a-487d-99b5-f0abebbd044f\">\n",
              "    <div class=\"colab-df-container\">\n",
              "      <div>\n",
              "<style scoped>\n",
              "    .dataframe tbody tr th:only-of-type {\n",
              "        vertical-align: middle;\n",
              "    }\n",
              "\n",
              "    .dataframe tbody tr th {\n",
              "        vertical-align: top;\n",
              "    }\n",
              "\n",
              "    .dataframe thead th {\n",
              "        text-align: right;\n",
              "    }\n",
              "</style>\n",
              "<table border=\"1\" class=\"dataframe\">\n",
              "  <thead>\n",
              "    <tr style=\"text-align: right;\">\n",
              "      <th></th>\n",
              "      <th>AccidentNumber</th>\n",
              "      <th>Injury</th>\n",
              "      <th>Fatality</th>\n",
              "      <th>PropertyDamage</th>\n",
              "      <th>CollisionType</th>\n",
              "      <th>Weather</th>\n",
              "      <th>Illumination</th>\n",
              "      <th>Precinct</th>\n",
              "    </tr>\n",
              "  </thead>\n",
              "  <tbody>\n",
              "    <tr>\n",
              "      <th>7275</th>\n",
              "      <td>20220266122</td>\n",
              "      <td>False</td>\n",
              "      <td>False</td>\n",
              "      <td>True</td>\n",
              "      <td>NOT COLLISION W/MOTOR VEHICLE-TRANSPORT</td>\n",
              "      <td>CLEAR</td>\n",
              "      <td>DAYLIGHT</td>\n",
              "      <td>CENTRA</td>\n",
              "    </tr>\n",
              "    <tr>\n",
              "      <th>4519</th>\n",
              "      <td>20220162176</td>\n",
              "      <td>True</td>\n",
              "      <td>False</td>\n",
              "      <td>False</td>\n",
              "      <td>Front to Rear</td>\n",
              "      <td>CLEAR</td>\n",
              "      <td>DARK - LIGHTED</td>\n",
              "      <td>SOUTH</td>\n",
              "    </tr>\n",
              "    <tr>\n",
              "      <th>7483</th>\n",
              "      <td>20220274557</td>\n",
              "      <td>False</td>\n",
              "      <td>False</td>\n",
              "      <td>False</td>\n",
              "      <td>Front to Rear</td>\n",
              "      <td>CLEAR</td>\n",
              "      <td>DAYLIGHT</td>\n",
              "      <td>HERMIT</td>\n",
              "    </tr>\n",
              "    <tr>\n",
              "      <th>6452</th>\n",
              "      <td>20220235366</td>\n",
              "      <td>False</td>\n",
              "      <td>False</td>\n",
              "      <td>False</td>\n",
              "      <td>Front to Rear</td>\n",
              "      <td>CLEAR</td>\n",
              "      <td>DAYLIGHT</td>\n",
              "      <td>CENTRA</td>\n",
              "    </tr>\n",
              "    <tr>\n",
              "      <th>2261</th>\n",
              "      <td>20220075449</td>\n",
              "      <td>True</td>\n",
              "      <td>False</td>\n",
              "      <td>True</td>\n",
              "      <td>Front to Rear</td>\n",
              "      <td>CLOUDY</td>\n",
              "      <td>DARK - LIGHTED</td>\n",
              "      <td>SOUTH</td>\n",
              "    </tr>\n",
              "  </tbody>\n",
              "</table>\n",
              "</div>\n",
              "      <button class=\"colab-df-convert\" onclick=\"convertToInteractive('df-6e8c8a1a-824a-487d-99b5-f0abebbd044f')\"\n",
              "              title=\"Convert this dataframe to an interactive table.\"\n",
              "              style=\"display:none;\">\n",
              "        \n",
              "  <svg xmlns=\"http://www.w3.org/2000/svg\" height=\"24px\"viewBox=\"0 0 24 24\"\n",
              "       width=\"24px\">\n",
              "    <path d=\"M0 0h24v24H0V0z\" fill=\"none\"/>\n",
              "    <path d=\"M18.56 5.44l.94 2.06.94-2.06 2.06-.94-2.06-.94-.94-2.06-.94 2.06-2.06.94zm-11 1L8.5 8.5l.94-2.06 2.06-.94-2.06-.94L8.5 2.5l-.94 2.06-2.06.94zm10 10l.94 2.06.94-2.06 2.06-.94-2.06-.94-.94-2.06-.94 2.06-2.06.94z\"/><path d=\"M17.41 7.96l-1.37-1.37c-.4-.4-.92-.59-1.43-.59-.52 0-1.04.2-1.43.59L10.3 9.45l-7.72 7.72c-.78.78-.78 2.05 0 2.83L4 21.41c.39.39.9.59 1.41.59.51 0 1.02-.2 1.41-.59l7.78-7.78 2.81-2.81c.8-.78.8-2.07 0-2.86zM5.41 20L4 18.59l7.72-7.72 1.47 1.35L5.41 20z\"/>\n",
              "  </svg>\n",
              "      </button>\n",
              "      \n",
              "  <style>\n",
              "    .colab-df-container {\n",
              "      display:flex;\n",
              "      flex-wrap:wrap;\n",
              "      gap: 12px;\n",
              "    }\n",
              "\n",
              "    .colab-df-convert {\n",
              "      background-color: #E8F0FE;\n",
              "      border: none;\n",
              "      border-radius: 50%;\n",
              "      cursor: pointer;\n",
              "      display: none;\n",
              "      fill: #1967D2;\n",
              "      height: 32px;\n",
              "      padding: 0 0 0 0;\n",
              "      width: 32px;\n",
              "    }\n",
              "\n",
              "    .colab-df-convert:hover {\n",
              "      background-color: #E2EBFA;\n",
              "      box-shadow: 0px 1px 2px rgba(60, 64, 67, 0.3), 0px 1px 3px 1px rgba(60, 64, 67, 0.15);\n",
              "      fill: #174EA6;\n",
              "    }\n",
              "\n",
              "    [theme=dark] .colab-df-convert {\n",
              "      background-color: #3B4455;\n",
              "      fill: #D2E3FC;\n",
              "    }\n",
              "\n",
              "    [theme=dark] .colab-df-convert:hover {\n",
              "      background-color: #434B5C;\n",
              "      box-shadow: 0px 1px 3px 1px rgba(0, 0, 0, 0.15);\n",
              "      filter: drop-shadow(0px 1px 2px rgba(0, 0, 0, 0.3));\n",
              "      fill: #FFFFFF;\n",
              "    }\n",
              "  </style>\n",
              "\n",
              "      <script>\n",
              "        const buttonEl =\n",
              "          document.querySelector('#df-6e8c8a1a-824a-487d-99b5-f0abebbd044f button.colab-df-convert');\n",
              "        buttonEl.style.display =\n",
              "          google.colab.kernel.accessAllowed ? 'block' : 'none';\n",
              "\n",
              "        async function convertToInteractive(key) {\n",
              "          const element = document.querySelector('#df-6e8c8a1a-824a-487d-99b5-f0abebbd044f');\n",
              "          const dataTable =\n",
              "            await google.colab.kernel.invokeFunction('convertToInteractive',\n",
              "                                                     [key], {});\n",
              "          if (!dataTable) return;\n",
              "\n",
              "          const docLinkHtml = 'Like what you see? Visit the ' +\n",
              "            '<a target=\"_blank\" href=https://colab.research.google.com/notebooks/data_table.ipynb>data table notebook</a>'\n",
              "            + ' to learn more about interactive tables.';\n",
              "          element.innerHTML = '';\n",
              "          dataTable['output_type'] = 'display_data';\n",
              "          await google.colab.output.renderOutput(dataTable, element);\n",
              "          const docLink = document.createElement('div');\n",
              "          docLink.innerHTML = docLinkHtml;\n",
              "          element.appendChild(docLink);\n",
              "        }\n",
              "      </script>\n",
              "    </div>\n",
              "  </div>\n",
              "  "
            ]
          },
          "metadata": {}
        }
      ]
    },
    {
      "cell_type": "code",
      "source": [
        "# Y Train\n",
        "print('On y train: ')\n",
        "print('y train dimensions: ', Y_train.shape)\n",
        "display(Y_train.head())\n",
        "\n",
        "# Y test\n",
        "print('\\nOn y test: ')\n",
        "print('y test dimensions: ', Y_test.shape)\n",
        "display(Y_test.head())"
      ],
      "metadata": {
        "colab": {
          "base_uri": "https://localhost:8080/",
          "height": 312
        },
        "id": "1YdMluCd4GCs",
        "outputId": "e65be801-c360-4074-fa31-409facdac9e8"
      },
      "execution_count": 294,
      "outputs": [
        {
          "output_type": "stream",
          "name": "stdout",
          "text": [
            "On y train: \n",
            "y train dimensions:  (5821,)\n"
          ]
        },
        {
          "output_type": "display_data",
          "data": {
            "text/plain": [
              "1302    False\n",
              "1531    False\n",
              "3423    False\n",
              "6096    False\n",
              "2208    False\n",
              "Name: HitAndRun, dtype: bool"
            ]
          },
          "metadata": {}
        },
        {
          "output_type": "stream",
          "name": "stdout",
          "text": [
            "\n",
            "On y test: \n",
            "y test dimensions:  (1941,)\n"
          ]
        },
        {
          "output_type": "display_data",
          "data": {
            "text/plain": [
              "7275    False\n",
              "4519    False\n",
              "7483    False\n",
              "6452    False\n",
              "2261    False\n",
              "Name: HitAndRun, dtype: bool"
            ]
          },
          "metadata": {}
        }
      ]
    },
    {
      "cell_type": "markdown",
      "source": [
        "### Training pipeline\n",
        "\n",
        "Establish the training pipeline for model and repeat several times as needed The pipeline can also change depending on the data types of the columns in the dataset."
      ],
      "metadata": {
        "id": "oY6QNKhw4Lt7"
      }
    },
    {
      "cell_type": "code",
      "source": [
        "#individual pipelines for differing datatypes\n",
        "cat_pipeline = Pipeline(steps=[('cat_impute', SimpleImputer(missing_values=np.nan, strategy='most_frequent')),\n",
        "                               ('onehot_cat', OneHotEncoder(drop='if_binary'))])\n",
        "num_pipeline = Pipeline(steps=[('impute_num', SimpleImputer(missing_values=np.nan, strategy='mean')),\n",
        "                               ('scale_num', StandardScaler())])"
      ],
      "metadata": {
        "id": "7CMUs88O4Rel"
      },
      "execution_count": 295,
      "outputs": []
    },
    {
      "cell_type": "code",
      "source": [
        "#establish preprocessing pipeline by columns\n",
        "preproc = ColumnTransformer([('cat_pipe', cat_pipeline, make_column_selector(dtype_include=object)),\n",
        "                             ('num_pipe', num_pipeline, make_column_selector(dtype_include=np.number))],\n",
        "                             remainder='passthrough')"
      ],
      "metadata": {
        "id": "GLRYSnMN4U5D"
      },
      "execution_count": 296,
      "outputs": []
    },
    {
      "cell_type": "markdown",
      "source": [
        "### Logistic Regression"
      ],
      "metadata": {
        "id": "ZXzR-hmNw89m"
      }
    },
    {
      "cell_type": "code",
      "source": [
        "#generate the whole modeling pipeline with preprocessing\n",
        "pipe_lg = Pipeline(steps=[('preproc', preproc), ('mdl', LogisticRegression(penalty='elasticnet', solver='saga', tol=0.01))])\n",
        "\n",
        "#visualization for steps\n",
        "with config_context(display='diagram'): display(pipe_lg)"
      ],
      "metadata": {
        "colab": {
          "base_uri": "https://localhost:8080/",
          "height": 227
        },
        "id": "DNzci5F_xADE",
        "outputId": "f01b2d44-f921-4053-b64e-19fc4cde4daa"
      },
      "execution_count": 297,
      "outputs": [
        {
          "output_type": "display_data",
          "data": {
            "text/plain": [
              "Pipeline(steps=[('preproc',\n",
              "                 ColumnTransformer(remainder='passthrough',\n",
              "                                   transformers=[('cat_pipe',\n",
              "                                                  Pipeline(steps=[('cat_impute',\n",
              "                                                                   SimpleImputer(strategy='most_frequent')),\n",
              "                                                                  ('onehot_cat',\n",
              "                                                                   OneHotEncoder(drop='if_binary'))]),\n",
              "                                                  <sklearn.compose._column_transformer.make_column_selector object at 0x7fc779007c10>),\n",
              "                                                 ('num_pipe',\n",
              "                                                  Pipeline(steps=[('impute_num',\n",
              "                                                                   SimpleImputer()),\n",
              "                                                                  ('scale_num',\n",
              "                                                                   StandardScaler())]),\n",
              "                                                  <sklearn.compose._column_transformer.make_column_selector object at 0x7fc779007cd0>)])),\n",
              "                ('mdl',\n",
              "                 LogisticRegression(penalty='elasticnet', solver='saga',\n",
              "                                    tol=0.01))])"
            ],
            "text/html": [
              "<style>#sk-b8332b71-ef24-4f91-b8cf-2e37d45753ad {color: black;background-color: white;}#sk-b8332b71-ef24-4f91-b8cf-2e37d45753ad pre{padding: 0;}#sk-b8332b71-ef24-4f91-b8cf-2e37d45753ad div.sk-toggleable {background-color: white;}#sk-b8332b71-ef24-4f91-b8cf-2e37d45753ad label.sk-toggleable__label {cursor: pointer;display: block;width: 100%;margin-bottom: 0;padding: 0.3em;box-sizing: border-box;text-align: center;}#sk-b8332b71-ef24-4f91-b8cf-2e37d45753ad label.sk-toggleable__label-arrow:before {content: \"▸\";float: left;margin-right: 0.25em;color: #696969;}#sk-b8332b71-ef24-4f91-b8cf-2e37d45753ad label.sk-toggleable__label-arrow:hover:before {color: black;}#sk-b8332b71-ef24-4f91-b8cf-2e37d45753ad div.sk-estimator:hover label.sk-toggleable__label-arrow:before {color: black;}#sk-b8332b71-ef24-4f91-b8cf-2e37d45753ad div.sk-toggleable__content {max-height: 0;max-width: 0;overflow: hidden;text-align: left;background-color: #f0f8ff;}#sk-b8332b71-ef24-4f91-b8cf-2e37d45753ad div.sk-toggleable__content pre {margin: 0.2em;color: black;border-radius: 0.25em;background-color: #f0f8ff;}#sk-b8332b71-ef24-4f91-b8cf-2e37d45753ad input.sk-toggleable__control:checked~div.sk-toggleable__content {max-height: 200px;max-width: 100%;overflow: auto;}#sk-b8332b71-ef24-4f91-b8cf-2e37d45753ad input.sk-toggleable__control:checked~label.sk-toggleable__label-arrow:before {content: \"▾\";}#sk-b8332b71-ef24-4f91-b8cf-2e37d45753ad div.sk-estimator input.sk-toggleable__control:checked~label.sk-toggleable__label {background-color: #d4ebff;}#sk-b8332b71-ef24-4f91-b8cf-2e37d45753ad div.sk-label input.sk-toggleable__control:checked~label.sk-toggleable__label {background-color: #d4ebff;}#sk-b8332b71-ef24-4f91-b8cf-2e37d45753ad input.sk-hidden--visually {border: 0;clip: rect(1px 1px 1px 1px);clip: rect(1px, 1px, 1px, 1px);height: 1px;margin: -1px;overflow: hidden;padding: 0;position: absolute;width: 1px;}#sk-b8332b71-ef24-4f91-b8cf-2e37d45753ad div.sk-estimator {font-family: monospace;background-color: #f0f8ff;border: 1px dotted black;border-radius: 0.25em;box-sizing: border-box;margin-bottom: 0.5em;}#sk-b8332b71-ef24-4f91-b8cf-2e37d45753ad div.sk-estimator:hover {background-color: #d4ebff;}#sk-b8332b71-ef24-4f91-b8cf-2e37d45753ad div.sk-parallel-item::after {content: \"\";width: 100%;border-bottom: 1px solid gray;flex-grow: 1;}#sk-b8332b71-ef24-4f91-b8cf-2e37d45753ad div.sk-label:hover label.sk-toggleable__label {background-color: #d4ebff;}#sk-b8332b71-ef24-4f91-b8cf-2e37d45753ad div.sk-serial::before {content: \"\";position: absolute;border-left: 1px solid gray;box-sizing: border-box;top: 2em;bottom: 0;left: 50%;}#sk-b8332b71-ef24-4f91-b8cf-2e37d45753ad div.sk-serial {display: flex;flex-direction: column;align-items: center;background-color: white;padding-right: 0.2em;padding-left: 0.2em;}#sk-b8332b71-ef24-4f91-b8cf-2e37d45753ad div.sk-item {z-index: 1;}#sk-b8332b71-ef24-4f91-b8cf-2e37d45753ad div.sk-parallel {display: flex;align-items: stretch;justify-content: center;background-color: white;}#sk-b8332b71-ef24-4f91-b8cf-2e37d45753ad div.sk-parallel::before {content: \"\";position: absolute;border-left: 1px solid gray;box-sizing: border-box;top: 2em;bottom: 0;left: 50%;}#sk-b8332b71-ef24-4f91-b8cf-2e37d45753ad div.sk-parallel-item {display: flex;flex-direction: column;position: relative;background-color: white;}#sk-b8332b71-ef24-4f91-b8cf-2e37d45753ad div.sk-parallel-item:first-child::after {align-self: flex-end;width: 50%;}#sk-b8332b71-ef24-4f91-b8cf-2e37d45753ad div.sk-parallel-item:last-child::after {align-self: flex-start;width: 50%;}#sk-b8332b71-ef24-4f91-b8cf-2e37d45753ad div.sk-parallel-item:only-child::after {width: 0;}#sk-b8332b71-ef24-4f91-b8cf-2e37d45753ad div.sk-dashed-wrapped {border: 1px dashed gray;margin: 0 0.4em 0.5em 0.4em;box-sizing: border-box;padding-bottom: 0.4em;background-color: white;position: relative;}#sk-b8332b71-ef24-4f91-b8cf-2e37d45753ad div.sk-label label {font-family: monospace;font-weight: bold;background-color: white;display: inline-block;line-height: 1.2em;}#sk-b8332b71-ef24-4f91-b8cf-2e37d45753ad div.sk-label-container {position: relative;z-index: 2;text-align: center;}#sk-b8332b71-ef24-4f91-b8cf-2e37d45753ad div.sk-container {/* jupyter's `normalize.less` sets `[hidden] { display: none; }` but bootstrap.min.css set `[hidden] { display: none !important; }` so we also need the `!important` here to be able to override the default hidden behavior on the sphinx rendered scikit-learn.org. See: https://github.com/scikit-learn/scikit-learn/issues/21755 */display: inline-block !important;position: relative;}#sk-b8332b71-ef24-4f91-b8cf-2e37d45753ad div.sk-text-repr-fallback {display: none;}</style><div id=\"sk-b8332b71-ef24-4f91-b8cf-2e37d45753ad\" class=\"sk-top-container\"><div class=\"sk-text-repr-fallback\"><pre>Pipeline(steps=[(&#x27;preproc&#x27;,\n",
              "                 ColumnTransformer(remainder=&#x27;passthrough&#x27;,\n",
              "                                   transformers=[(&#x27;cat_pipe&#x27;,\n",
              "                                                  Pipeline(steps=[(&#x27;cat_impute&#x27;,\n",
              "                                                                   SimpleImputer(strategy=&#x27;most_frequent&#x27;)),\n",
              "                                                                  (&#x27;onehot_cat&#x27;,\n",
              "                                                                   OneHotEncoder(drop=&#x27;if_binary&#x27;))]),\n",
              "                                                  &lt;sklearn.compose._column_transformer.make_column_selector object at 0x7fc779007c10&gt;),\n",
              "                                                 (&#x27;num_pipe&#x27;,\n",
              "                                                  Pipeline(steps=[(&#x27;impute_num&#x27;,\n",
              "                                                                   SimpleImputer()),\n",
              "                                                                  (&#x27;scale_num&#x27;,\n",
              "                                                                   StandardScaler())]),\n",
              "                                                  &lt;sklearn.compose._column_transformer.make_column_selector object at 0x7fc779007cd0&gt;)])),\n",
              "                (&#x27;mdl&#x27;,\n",
              "                 LogisticRegression(penalty=&#x27;elasticnet&#x27;, solver=&#x27;saga&#x27;,\n",
              "                                    tol=0.01))])</pre><b>Please rerun this cell to show the HTML repr or trust the notebook.</b></div><div class=\"sk-container\" hidden><div class=\"sk-item sk-dashed-wrapped\"><div class=\"sk-label-container\"><div class=\"sk-label sk-toggleable\"><input class=\"sk-toggleable__control sk-hidden--visually\" id=\"28724fd0-4708-418f-a6a2-d60aeca0a1fc\" type=\"checkbox\" ><label for=\"28724fd0-4708-418f-a6a2-d60aeca0a1fc\" class=\"sk-toggleable__label sk-toggleable__label-arrow\">Pipeline</label><div class=\"sk-toggleable__content\"><pre>Pipeline(steps=[(&#x27;preproc&#x27;,\n",
              "                 ColumnTransformer(remainder=&#x27;passthrough&#x27;,\n",
              "                                   transformers=[(&#x27;cat_pipe&#x27;,\n",
              "                                                  Pipeline(steps=[(&#x27;cat_impute&#x27;,\n",
              "                                                                   SimpleImputer(strategy=&#x27;most_frequent&#x27;)),\n",
              "                                                                  (&#x27;onehot_cat&#x27;,\n",
              "                                                                   OneHotEncoder(drop=&#x27;if_binary&#x27;))]),\n",
              "                                                  &lt;sklearn.compose._column_transformer.make_column_selector object at 0x7fc779007c10&gt;),\n",
              "                                                 (&#x27;num_pipe&#x27;,\n",
              "                                                  Pipeline(steps=[(&#x27;impute_num&#x27;,\n",
              "                                                                   SimpleImputer()),\n",
              "                                                                  (&#x27;scale_num&#x27;,\n",
              "                                                                   StandardScaler())]),\n",
              "                                                  &lt;sklearn.compose._column_transformer.make_column_selector object at 0x7fc779007cd0&gt;)])),\n",
              "                (&#x27;mdl&#x27;,\n",
              "                 LogisticRegression(penalty=&#x27;elasticnet&#x27;, solver=&#x27;saga&#x27;,\n",
              "                                    tol=0.01))])</pre></div></div></div><div class=\"sk-serial\"><div class=\"sk-item sk-dashed-wrapped\"><div class=\"sk-label-container\"><div class=\"sk-label sk-toggleable\"><input class=\"sk-toggleable__control sk-hidden--visually\" id=\"20401ed9-bd28-470d-96e1-8e5803094a4e\" type=\"checkbox\" ><label for=\"20401ed9-bd28-470d-96e1-8e5803094a4e\" class=\"sk-toggleable__label sk-toggleable__label-arrow\">preproc: ColumnTransformer</label><div class=\"sk-toggleable__content\"><pre>ColumnTransformer(remainder=&#x27;passthrough&#x27;,\n",
              "                  transformers=[(&#x27;cat_pipe&#x27;,\n",
              "                                 Pipeline(steps=[(&#x27;cat_impute&#x27;,\n",
              "                                                  SimpleImputer(strategy=&#x27;most_frequent&#x27;)),\n",
              "                                                 (&#x27;onehot_cat&#x27;,\n",
              "                                                  OneHotEncoder(drop=&#x27;if_binary&#x27;))]),\n",
              "                                 &lt;sklearn.compose._column_transformer.make_column_selector object at 0x7fc779007c10&gt;),\n",
              "                                (&#x27;num_pipe&#x27;,\n",
              "                                 Pipeline(steps=[(&#x27;impute_num&#x27;,\n",
              "                                                  SimpleImputer()),\n",
              "                                                 (&#x27;scale_num&#x27;,\n",
              "                                                  StandardScaler())]),\n",
              "                                 &lt;sklearn.compose._column_transformer.make_column_selector object at 0x7fc779007cd0&gt;)])</pre></div></div></div><div class=\"sk-parallel\"><div class=\"sk-parallel-item\"><div class=\"sk-item\"><div class=\"sk-label-container\"><div class=\"sk-label sk-toggleable\"><input class=\"sk-toggleable__control sk-hidden--visually\" id=\"92c98543-6aae-4d5d-9359-c5967eeb1029\" type=\"checkbox\" ><label for=\"92c98543-6aae-4d5d-9359-c5967eeb1029\" class=\"sk-toggleable__label sk-toggleable__label-arrow\">cat_pipe</label><div class=\"sk-toggleable__content\"><pre>&lt;sklearn.compose._column_transformer.make_column_selector object at 0x7fc779007c10&gt;</pre></div></div></div><div class=\"sk-serial\"><div class=\"sk-item\"><div class=\"sk-serial\"><div class=\"sk-item\"><div class=\"sk-estimator sk-toggleable\"><input class=\"sk-toggleable__control sk-hidden--visually\" id=\"cfee0b9e-4669-4ba6-9ceb-ee5d241eb408\" type=\"checkbox\" ><label for=\"cfee0b9e-4669-4ba6-9ceb-ee5d241eb408\" class=\"sk-toggleable__label sk-toggleable__label-arrow\">SimpleImputer</label><div class=\"sk-toggleable__content\"><pre>SimpleImputer(strategy=&#x27;most_frequent&#x27;)</pre></div></div></div><div class=\"sk-item\"><div class=\"sk-estimator sk-toggleable\"><input class=\"sk-toggleable__control sk-hidden--visually\" id=\"b45b6f04-2dd5-4946-a66c-f71ff6fc1f79\" type=\"checkbox\" ><label for=\"b45b6f04-2dd5-4946-a66c-f71ff6fc1f79\" class=\"sk-toggleable__label sk-toggleable__label-arrow\">OneHotEncoder</label><div class=\"sk-toggleable__content\"><pre>OneHotEncoder(drop=&#x27;if_binary&#x27;)</pre></div></div></div></div></div></div></div></div><div class=\"sk-parallel-item\"><div class=\"sk-item\"><div class=\"sk-label-container\"><div class=\"sk-label sk-toggleable\"><input class=\"sk-toggleable__control sk-hidden--visually\" id=\"a627ad12-22b3-409a-a46a-d82e2307ec30\" type=\"checkbox\" ><label for=\"a627ad12-22b3-409a-a46a-d82e2307ec30\" class=\"sk-toggleable__label sk-toggleable__label-arrow\">num_pipe</label><div class=\"sk-toggleable__content\"><pre>&lt;sklearn.compose._column_transformer.make_column_selector object at 0x7fc779007cd0&gt;</pre></div></div></div><div class=\"sk-serial\"><div class=\"sk-item\"><div class=\"sk-serial\"><div class=\"sk-item\"><div class=\"sk-estimator sk-toggleable\"><input class=\"sk-toggleable__control sk-hidden--visually\" id=\"2b75a063-ef4a-412d-8203-69ce5bb238ce\" type=\"checkbox\" ><label for=\"2b75a063-ef4a-412d-8203-69ce5bb238ce\" class=\"sk-toggleable__label sk-toggleable__label-arrow\">SimpleImputer</label><div class=\"sk-toggleable__content\"><pre>SimpleImputer()</pre></div></div></div><div class=\"sk-item\"><div class=\"sk-estimator sk-toggleable\"><input class=\"sk-toggleable__control sk-hidden--visually\" id=\"b7f2f976-641e-4a13-b574-e78aead463a1\" type=\"checkbox\" ><label for=\"b7f2f976-641e-4a13-b574-e78aead463a1\" class=\"sk-toggleable__label sk-toggleable__label-arrow\">StandardScaler</label><div class=\"sk-toggleable__content\"><pre>StandardScaler()</pre></div></div></div></div></div></div></div></div><div class=\"sk-parallel-item\"><div class=\"sk-item\"><div class=\"sk-label-container\"><div class=\"sk-label sk-toggleable\"><input class=\"sk-toggleable__control sk-hidden--visually\" id=\"5f207c57-7844-4a8e-9975-9710dd89e3cf\" type=\"checkbox\" ><label for=\"5f207c57-7844-4a8e-9975-9710dd89e3cf\" class=\"sk-toggleable__label sk-toggleable__label-arrow\">remainder</label><div class=\"sk-toggleable__content\"><pre></pre></div></div></div><div class=\"sk-serial\"><div class=\"sk-item\"><div class=\"sk-estimator sk-toggleable\"><input class=\"sk-toggleable__control sk-hidden--visually\" id=\"cd7e4a08-fe77-4a4f-a324-f35c18d10f05\" type=\"checkbox\" ><label for=\"cd7e4a08-fe77-4a4f-a324-f35c18d10f05\" class=\"sk-toggleable__label sk-toggleable__label-arrow\">passthrough</label><div class=\"sk-toggleable__content\"><pre>passthrough</pre></div></div></div></div></div></div></div></div><div class=\"sk-item\"><div class=\"sk-estimator sk-toggleable\"><input class=\"sk-toggleable__control sk-hidden--visually\" id=\"ce82285e-48ea-44d3-9660-b264bce1560d\" type=\"checkbox\" ><label for=\"ce82285e-48ea-44d3-9660-b264bce1560d\" class=\"sk-toggleable__label sk-toggleable__label-arrow\">LogisticRegression</label><div class=\"sk-toggleable__content\"><pre>LogisticRegression(penalty=&#x27;elasticnet&#x27;, solver=&#x27;saga&#x27;, tol=0.01)</pre></div></div></div></div></div></div></div>"
            ]
          },
          "metadata": {}
        }
      ]
    },
    {
      "cell_type": "markdown",
      "source": [
        "### Random Forest Classifier"
      ],
      "metadata": {
        "id": "r-dNJMC2xGMk"
      }
    },
    {
      "cell_type": "code",
      "source": [
        "pipe_rf = Pipeline([('preproc', preproc), ('rf', RandomForestClassifier())])\n",
        "\n",
        "# Feel free to uncomment and edit the code below to visualize your overall pipeline\n",
        "with config_context(display='diagram'): display(pipe_rf)"
      ],
      "metadata": {
        "colab": {
          "base_uri": "https://localhost:8080/",
          "height": 227
        },
        "id": "1z-51bjtxIQV",
        "outputId": "7d519b62-8d81-41cf-8fbb-15c9416e331a"
      },
      "execution_count": 298,
      "outputs": [
        {
          "output_type": "display_data",
          "data": {
            "text/plain": [
              "Pipeline(steps=[('preproc',\n",
              "                 ColumnTransformer(remainder='passthrough',\n",
              "                                   transformers=[('cat_pipe',\n",
              "                                                  Pipeline(steps=[('cat_impute',\n",
              "                                                                   SimpleImputer(strategy='most_frequent')),\n",
              "                                                                  ('onehot_cat',\n",
              "                                                                   OneHotEncoder(drop='if_binary'))]),\n",
              "                                                  <sklearn.compose._column_transformer.make_column_selector object at 0x7fc779007c10>),\n",
              "                                                 ('num_pipe',\n",
              "                                                  Pipeline(steps=[('impute_num',\n",
              "                                                                   SimpleImputer()),\n",
              "                                                                  ('scale_num',\n",
              "                                                                   StandardScaler())]),\n",
              "                                                  <sklearn.compose._column_transformer.make_column_selector object at 0x7fc779007cd0>)])),\n",
              "                ('rf', RandomForestClassifier())])"
            ],
            "text/html": [
              "<style>#sk-6465d1a7-100d-4cc6-888e-c1531c5f26ae {color: black;background-color: white;}#sk-6465d1a7-100d-4cc6-888e-c1531c5f26ae pre{padding: 0;}#sk-6465d1a7-100d-4cc6-888e-c1531c5f26ae div.sk-toggleable {background-color: white;}#sk-6465d1a7-100d-4cc6-888e-c1531c5f26ae label.sk-toggleable__label {cursor: pointer;display: block;width: 100%;margin-bottom: 0;padding: 0.3em;box-sizing: border-box;text-align: center;}#sk-6465d1a7-100d-4cc6-888e-c1531c5f26ae label.sk-toggleable__label-arrow:before {content: \"▸\";float: left;margin-right: 0.25em;color: #696969;}#sk-6465d1a7-100d-4cc6-888e-c1531c5f26ae label.sk-toggleable__label-arrow:hover:before {color: black;}#sk-6465d1a7-100d-4cc6-888e-c1531c5f26ae div.sk-estimator:hover label.sk-toggleable__label-arrow:before {color: black;}#sk-6465d1a7-100d-4cc6-888e-c1531c5f26ae div.sk-toggleable__content {max-height: 0;max-width: 0;overflow: hidden;text-align: left;background-color: #f0f8ff;}#sk-6465d1a7-100d-4cc6-888e-c1531c5f26ae div.sk-toggleable__content pre {margin: 0.2em;color: black;border-radius: 0.25em;background-color: #f0f8ff;}#sk-6465d1a7-100d-4cc6-888e-c1531c5f26ae input.sk-toggleable__control:checked~div.sk-toggleable__content {max-height: 200px;max-width: 100%;overflow: auto;}#sk-6465d1a7-100d-4cc6-888e-c1531c5f26ae input.sk-toggleable__control:checked~label.sk-toggleable__label-arrow:before {content: \"▾\";}#sk-6465d1a7-100d-4cc6-888e-c1531c5f26ae div.sk-estimator input.sk-toggleable__control:checked~label.sk-toggleable__label {background-color: #d4ebff;}#sk-6465d1a7-100d-4cc6-888e-c1531c5f26ae div.sk-label input.sk-toggleable__control:checked~label.sk-toggleable__label {background-color: #d4ebff;}#sk-6465d1a7-100d-4cc6-888e-c1531c5f26ae input.sk-hidden--visually {border: 0;clip: rect(1px 1px 1px 1px);clip: rect(1px, 1px, 1px, 1px);height: 1px;margin: -1px;overflow: hidden;padding: 0;position: absolute;width: 1px;}#sk-6465d1a7-100d-4cc6-888e-c1531c5f26ae div.sk-estimator {font-family: monospace;background-color: #f0f8ff;border: 1px dotted black;border-radius: 0.25em;box-sizing: border-box;margin-bottom: 0.5em;}#sk-6465d1a7-100d-4cc6-888e-c1531c5f26ae div.sk-estimator:hover {background-color: #d4ebff;}#sk-6465d1a7-100d-4cc6-888e-c1531c5f26ae div.sk-parallel-item::after {content: \"\";width: 100%;border-bottom: 1px solid gray;flex-grow: 1;}#sk-6465d1a7-100d-4cc6-888e-c1531c5f26ae div.sk-label:hover label.sk-toggleable__label {background-color: #d4ebff;}#sk-6465d1a7-100d-4cc6-888e-c1531c5f26ae div.sk-serial::before {content: \"\";position: absolute;border-left: 1px solid gray;box-sizing: border-box;top: 2em;bottom: 0;left: 50%;}#sk-6465d1a7-100d-4cc6-888e-c1531c5f26ae div.sk-serial {display: flex;flex-direction: column;align-items: center;background-color: white;padding-right: 0.2em;padding-left: 0.2em;}#sk-6465d1a7-100d-4cc6-888e-c1531c5f26ae div.sk-item {z-index: 1;}#sk-6465d1a7-100d-4cc6-888e-c1531c5f26ae div.sk-parallel {display: flex;align-items: stretch;justify-content: center;background-color: white;}#sk-6465d1a7-100d-4cc6-888e-c1531c5f26ae div.sk-parallel::before {content: \"\";position: absolute;border-left: 1px solid gray;box-sizing: border-box;top: 2em;bottom: 0;left: 50%;}#sk-6465d1a7-100d-4cc6-888e-c1531c5f26ae div.sk-parallel-item {display: flex;flex-direction: column;position: relative;background-color: white;}#sk-6465d1a7-100d-4cc6-888e-c1531c5f26ae div.sk-parallel-item:first-child::after {align-self: flex-end;width: 50%;}#sk-6465d1a7-100d-4cc6-888e-c1531c5f26ae div.sk-parallel-item:last-child::after {align-self: flex-start;width: 50%;}#sk-6465d1a7-100d-4cc6-888e-c1531c5f26ae div.sk-parallel-item:only-child::after {width: 0;}#sk-6465d1a7-100d-4cc6-888e-c1531c5f26ae div.sk-dashed-wrapped {border: 1px dashed gray;margin: 0 0.4em 0.5em 0.4em;box-sizing: border-box;padding-bottom: 0.4em;background-color: white;position: relative;}#sk-6465d1a7-100d-4cc6-888e-c1531c5f26ae div.sk-label label {font-family: monospace;font-weight: bold;background-color: white;display: inline-block;line-height: 1.2em;}#sk-6465d1a7-100d-4cc6-888e-c1531c5f26ae div.sk-label-container {position: relative;z-index: 2;text-align: center;}#sk-6465d1a7-100d-4cc6-888e-c1531c5f26ae div.sk-container {/* jupyter's `normalize.less` sets `[hidden] { display: none; }` but bootstrap.min.css set `[hidden] { display: none !important; }` so we also need the `!important` here to be able to override the default hidden behavior on the sphinx rendered scikit-learn.org. See: https://github.com/scikit-learn/scikit-learn/issues/21755 */display: inline-block !important;position: relative;}#sk-6465d1a7-100d-4cc6-888e-c1531c5f26ae div.sk-text-repr-fallback {display: none;}</style><div id=\"sk-6465d1a7-100d-4cc6-888e-c1531c5f26ae\" class=\"sk-top-container\"><div class=\"sk-text-repr-fallback\"><pre>Pipeline(steps=[(&#x27;preproc&#x27;,\n",
              "                 ColumnTransformer(remainder=&#x27;passthrough&#x27;,\n",
              "                                   transformers=[(&#x27;cat_pipe&#x27;,\n",
              "                                                  Pipeline(steps=[(&#x27;cat_impute&#x27;,\n",
              "                                                                   SimpleImputer(strategy=&#x27;most_frequent&#x27;)),\n",
              "                                                                  (&#x27;onehot_cat&#x27;,\n",
              "                                                                   OneHotEncoder(drop=&#x27;if_binary&#x27;))]),\n",
              "                                                  &lt;sklearn.compose._column_transformer.make_column_selector object at 0x7fc779007c10&gt;),\n",
              "                                                 (&#x27;num_pipe&#x27;,\n",
              "                                                  Pipeline(steps=[(&#x27;impute_num&#x27;,\n",
              "                                                                   SimpleImputer()),\n",
              "                                                                  (&#x27;scale_num&#x27;,\n",
              "                                                                   StandardScaler())]),\n",
              "                                                  &lt;sklearn.compose._column_transformer.make_column_selector object at 0x7fc779007cd0&gt;)])),\n",
              "                (&#x27;rf&#x27;, RandomForestClassifier())])</pre><b>Please rerun this cell to show the HTML repr or trust the notebook.</b></div><div class=\"sk-container\" hidden><div class=\"sk-item sk-dashed-wrapped\"><div class=\"sk-label-container\"><div class=\"sk-label sk-toggleable\"><input class=\"sk-toggleable__control sk-hidden--visually\" id=\"16e7ee6c-e434-4531-b5c9-3a6a2d154d9e\" type=\"checkbox\" ><label for=\"16e7ee6c-e434-4531-b5c9-3a6a2d154d9e\" class=\"sk-toggleable__label sk-toggleable__label-arrow\">Pipeline</label><div class=\"sk-toggleable__content\"><pre>Pipeline(steps=[(&#x27;preproc&#x27;,\n",
              "                 ColumnTransformer(remainder=&#x27;passthrough&#x27;,\n",
              "                                   transformers=[(&#x27;cat_pipe&#x27;,\n",
              "                                                  Pipeline(steps=[(&#x27;cat_impute&#x27;,\n",
              "                                                                   SimpleImputer(strategy=&#x27;most_frequent&#x27;)),\n",
              "                                                                  (&#x27;onehot_cat&#x27;,\n",
              "                                                                   OneHotEncoder(drop=&#x27;if_binary&#x27;))]),\n",
              "                                                  &lt;sklearn.compose._column_transformer.make_column_selector object at 0x7fc779007c10&gt;),\n",
              "                                                 (&#x27;num_pipe&#x27;,\n",
              "                                                  Pipeline(steps=[(&#x27;impute_num&#x27;,\n",
              "                                                                   SimpleImputer()),\n",
              "                                                                  (&#x27;scale_num&#x27;,\n",
              "                                                                   StandardScaler())]),\n",
              "                                                  &lt;sklearn.compose._column_transformer.make_column_selector object at 0x7fc779007cd0&gt;)])),\n",
              "                (&#x27;rf&#x27;, RandomForestClassifier())])</pre></div></div></div><div class=\"sk-serial\"><div class=\"sk-item sk-dashed-wrapped\"><div class=\"sk-label-container\"><div class=\"sk-label sk-toggleable\"><input class=\"sk-toggleable__control sk-hidden--visually\" id=\"6cd032f2-71b9-4e3c-b6eb-58625dd7156b\" type=\"checkbox\" ><label for=\"6cd032f2-71b9-4e3c-b6eb-58625dd7156b\" class=\"sk-toggleable__label sk-toggleable__label-arrow\">preproc: ColumnTransformer</label><div class=\"sk-toggleable__content\"><pre>ColumnTransformer(remainder=&#x27;passthrough&#x27;,\n",
              "                  transformers=[(&#x27;cat_pipe&#x27;,\n",
              "                                 Pipeline(steps=[(&#x27;cat_impute&#x27;,\n",
              "                                                  SimpleImputer(strategy=&#x27;most_frequent&#x27;)),\n",
              "                                                 (&#x27;onehot_cat&#x27;,\n",
              "                                                  OneHotEncoder(drop=&#x27;if_binary&#x27;))]),\n",
              "                                 &lt;sklearn.compose._column_transformer.make_column_selector object at 0x7fc779007c10&gt;),\n",
              "                                (&#x27;num_pipe&#x27;,\n",
              "                                 Pipeline(steps=[(&#x27;impute_num&#x27;,\n",
              "                                                  SimpleImputer()),\n",
              "                                                 (&#x27;scale_num&#x27;,\n",
              "                                                  StandardScaler())]),\n",
              "                                 &lt;sklearn.compose._column_transformer.make_column_selector object at 0x7fc779007cd0&gt;)])</pre></div></div></div><div class=\"sk-parallel\"><div class=\"sk-parallel-item\"><div class=\"sk-item\"><div class=\"sk-label-container\"><div class=\"sk-label sk-toggleable\"><input class=\"sk-toggleable__control sk-hidden--visually\" id=\"2d60bc8d-2eb4-46fb-aa4d-525d428a912f\" type=\"checkbox\" ><label for=\"2d60bc8d-2eb4-46fb-aa4d-525d428a912f\" class=\"sk-toggleable__label sk-toggleable__label-arrow\">cat_pipe</label><div class=\"sk-toggleable__content\"><pre>&lt;sklearn.compose._column_transformer.make_column_selector object at 0x7fc779007c10&gt;</pre></div></div></div><div class=\"sk-serial\"><div class=\"sk-item\"><div class=\"sk-serial\"><div class=\"sk-item\"><div class=\"sk-estimator sk-toggleable\"><input class=\"sk-toggleable__control sk-hidden--visually\" id=\"4807b05a-bbe5-4170-a387-6e50132e8bf0\" type=\"checkbox\" ><label for=\"4807b05a-bbe5-4170-a387-6e50132e8bf0\" class=\"sk-toggleable__label sk-toggleable__label-arrow\">SimpleImputer</label><div class=\"sk-toggleable__content\"><pre>SimpleImputer(strategy=&#x27;most_frequent&#x27;)</pre></div></div></div><div class=\"sk-item\"><div class=\"sk-estimator sk-toggleable\"><input class=\"sk-toggleable__control sk-hidden--visually\" id=\"1635b00e-7aa6-4083-96b8-2d84e1795c9e\" type=\"checkbox\" ><label for=\"1635b00e-7aa6-4083-96b8-2d84e1795c9e\" class=\"sk-toggleable__label sk-toggleable__label-arrow\">OneHotEncoder</label><div class=\"sk-toggleable__content\"><pre>OneHotEncoder(drop=&#x27;if_binary&#x27;)</pre></div></div></div></div></div></div></div></div><div class=\"sk-parallel-item\"><div class=\"sk-item\"><div class=\"sk-label-container\"><div class=\"sk-label sk-toggleable\"><input class=\"sk-toggleable__control sk-hidden--visually\" id=\"e9fbee9a-db70-428a-81be-3de7842ee873\" type=\"checkbox\" ><label for=\"e9fbee9a-db70-428a-81be-3de7842ee873\" class=\"sk-toggleable__label sk-toggleable__label-arrow\">num_pipe</label><div class=\"sk-toggleable__content\"><pre>&lt;sklearn.compose._column_transformer.make_column_selector object at 0x7fc779007cd0&gt;</pre></div></div></div><div class=\"sk-serial\"><div class=\"sk-item\"><div class=\"sk-serial\"><div class=\"sk-item\"><div class=\"sk-estimator sk-toggleable\"><input class=\"sk-toggleable__control sk-hidden--visually\" id=\"77c3d420-7a8d-4984-aecd-4cf6c6140418\" type=\"checkbox\" ><label for=\"77c3d420-7a8d-4984-aecd-4cf6c6140418\" class=\"sk-toggleable__label sk-toggleable__label-arrow\">SimpleImputer</label><div class=\"sk-toggleable__content\"><pre>SimpleImputer()</pre></div></div></div><div class=\"sk-item\"><div class=\"sk-estimator sk-toggleable\"><input class=\"sk-toggleable__control sk-hidden--visually\" id=\"ab8ca237-a555-4094-a3c8-4d55c585b6ab\" type=\"checkbox\" ><label for=\"ab8ca237-a555-4094-a3c8-4d55c585b6ab\" class=\"sk-toggleable__label sk-toggleable__label-arrow\">StandardScaler</label><div class=\"sk-toggleable__content\"><pre>StandardScaler()</pre></div></div></div></div></div></div></div></div><div class=\"sk-parallel-item\"><div class=\"sk-item\"><div class=\"sk-label-container\"><div class=\"sk-label sk-toggleable\"><input class=\"sk-toggleable__control sk-hidden--visually\" id=\"24c0b62a-4ae2-4c63-a23c-33ec5cb3e7d1\" type=\"checkbox\" ><label for=\"24c0b62a-4ae2-4c63-a23c-33ec5cb3e7d1\" class=\"sk-toggleable__label sk-toggleable__label-arrow\">remainder</label><div class=\"sk-toggleable__content\"><pre></pre></div></div></div><div class=\"sk-serial\"><div class=\"sk-item\"><div class=\"sk-estimator sk-toggleable\"><input class=\"sk-toggleable__control sk-hidden--visually\" id=\"9e00646b-7cab-44b5-9f14-e0a819178de4\" type=\"checkbox\" ><label for=\"9e00646b-7cab-44b5-9f14-e0a819178de4\" class=\"sk-toggleable__label sk-toggleable__label-arrow\">passthrough</label><div class=\"sk-toggleable__content\"><pre>passthrough</pre></div></div></div></div></div></div></div></div><div class=\"sk-item\"><div class=\"sk-estimator sk-toggleable\"><input class=\"sk-toggleable__control sk-hidden--visually\" id=\"acf408e5-8d8b-4362-a806-34fe432ddfe4\" type=\"checkbox\" ><label for=\"acf408e5-8d8b-4362-a806-34fe432ddfe4\" class=\"sk-toggleable__label sk-toggleable__label-arrow\">RandomForestClassifier</label><div class=\"sk-toggleable__content\"><pre>RandomForestClassifier()</pre></div></div></div></div></div></div></div>"
            ]
          },
          "metadata": {}
        }
      ]
    },
    {
      "cell_type": "markdown",
      "source": [
        "### Gradient Boosting Classifier"
      ],
      "metadata": {
        "id": "y2qIKw4exNuX"
      }
    },
    {
      "cell_type": "code",
      "source": [
        "pipe_gb = Pipeline(steps=[('preproc', preproc), ('gbc', GradientBoostingClassifier())])\n",
        "\n",
        "\n",
        "# Feel free to uncomment and edit the code below to visualize your overall pipeline\n",
        "with config_context(display='diagram'): display(pipe_gb)"
      ],
      "metadata": {
        "colab": {
          "base_uri": "https://localhost:8080/",
          "height": 227
        },
        "id": "TplvK1LCxMsg",
        "outputId": "6f51cb63-086a-4f57-a0d4-27fc647b27d8"
      },
      "execution_count": 299,
      "outputs": [
        {
          "output_type": "display_data",
          "data": {
            "text/plain": [
              "Pipeline(steps=[('preproc',\n",
              "                 ColumnTransformer(remainder='passthrough',\n",
              "                                   transformers=[('cat_pipe',\n",
              "                                                  Pipeline(steps=[('cat_impute',\n",
              "                                                                   SimpleImputer(strategy='most_frequent')),\n",
              "                                                                  ('onehot_cat',\n",
              "                                                                   OneHotEncoder(drop='if_binary'))]),\n",
              "                                                  <sklearn.compose._column_transformer.make_column_selector object at 0x7fc779007c10>),\n",
              "                                                 ('num_pipe',\n",
              "                                                  Pipeline(steps=[('impute_num',\n",
              "                                                                   SimpleImputer()),\n",
              "                                                                  ('scale_num',\n",
              "                                                                   StandardScaler())]),\n",
              "                                                  <sklearn.compose._column_transformer.make_column_selector object at 0x7fc779007cd0>)])),\n",
              "                ('gbc', GradientBoostingClassifier())])"
            ],
            "text/html": [
              "<style>#sk-a9f87526-7bc3-4571-b2bf-8fedded696bc {color: black;background-color: white;}#sk-a9f87526-7bc3-4571-b2bf-8fedded696bc pre{padding: 0;}#sk-a9f87526-7bc3-4571-b2bf-8fedded696bc div.sk-toggleable {background-color: white;}#sk-a9f87526-7bc3-4571-b2bf-8fedded696bc label.sk-toggleable__label {cursor: pointer;display: block;width: 100%;margin-bottom: 0;padding: 0.3em;box-sizing: border-box;text-align: center;}#sk-a9f87526-7bc3-4571-b2bf-8fedded696bc label.sk-toggleable__label-arrow:before {content: \"▸\";float: left;margin-right: 0.25em;color: #696969;}#sk-a9f87526-7bc3-4571-b2bf-8fedded696bc label.sk-toggleable__label-arrow:hover:before {color: black;}#sk-a9f87526-7bc3-4571-b2bf-8fedded696bc div.sk-estimator:hover label.sk-toggleable__label-arrow:before {color: black;}#sk-a9f87526-7bc3-4571-b2bf-8fedded696bc div.sk-toggleable__content {max-height: 0;max-width: 0;overflow: hidden;text-align: left;background-color: #f0f8ff;}#sk-a9f87526-7bc3-4571-b2bf-8fedded696bc div.sk-toggleable__content pre {margin: 0.2em;color: black;border-radius: 0.25em;background-color: #f0f8ff;}#sk-a9f87526-7bc3-4571-b2bf-8fedded696bc input.sk-toggleable__control:checked~div.sk-toggleable__content {max-height: 200px;max-width: 100%;overflow: auto;}#sk-a9f87526-7bc3-4571-b2bf-8fedded696bc input.sk-toggleable__control:checked~label.sk-toggleable__label-arrow:before {content: \"▾\";}#sk-a9f87526-7bc3-4571-b2bf-8fedded696bc div.sk-estimator input.sk-toggleable__control:checked~label.sk-toggleable__label {background-color: #d4ebff;}#sk-a9f87526-7bc3-4571-b2bf-8fedded696bc div.sk-label input.sk-toggleable__control:checked~label.sk-toggleable__label {background-color: #d4ebff;}#sk-a9f87526-7bc3-4571-b2bf-8fedded696bc input.sk-hidden--visually {border: 0;clip: rect(1px 1px 1px 1px);clip: rect(1px, 1px, 1px, 1px);height: 1px;margin: -1px;overflow: hidden;padding: 0;position: absolute;width: 1px;}#sk-a9f87526-7bc3-4571-b2bf-8fedded696bc div.sk-estimator {font-family: monospace;background-color: #f0f8ff;border: 1px dotted black;border-radius: 0.25em;box-sizing: border-box;margin-bottom: 0.5em;}#sk-a9f87526-7bc3-4571-b2bf-8fedded696bc div.sk-estimator:hover {background-color: #d4ebff;}#sk-a9f87526-7bc3-4571-b2bf-8fedded696bc div.sk-parallel-item::after {content: \"\";width: 100%;border-bottom: 1px solid gray;flex-grow: 1;}#sk-a9f87526-7bc3-4571-b2bf-8fedded696bc div.sk-label:hover label.sk-toggleable__label {background-color: #d4ebff;}#sk-a9f87526-7bc3-4571-b2bf-8fedded696bc div.sk-serial::before {content: \"\";position: absolute;border-left: 1px solid gray;box-sizing: border-box;top: 2em;bottom: 0;left: 50%;}#sk-a9f87526-7bc3-4571-b2bf-8fedded696bc div.sk-serial {display: flex;flex-direction: column;align-items: center;background-color: white;padding-right: 0.2em;padding-left: 0.2em;}#sk-a9f87526-7bc3-4571-b2bf-8fedded696bc div.sk-item {z-index: 1;}#sk-a9f87526-7bc3-4571-b2bf-8fedded696bc div.sk-parallel {display: flex;align-items: stretch;justify-content: center;background-color: white;}#sk-a9f87526-7bc3-4571-b2bf-8fedded696bc div.sk-parallel::before {content: \"\";position: absolute;border-left: 1px solid gray;box-sizing: border-box;top: 2em;bottom: 0;left: 50%;}#sk-a9f87526-7bc3-4571-b2bf-8fedded696bc div.sk-parallel-item {display: flex;flex-direction: column;position: relative;background-color: white;}#sk-a9f87526-7bc3-4571-b2bf-8fedded696bc div.sk-parallel-item:first-child::after {align-self: flex-end;width: 50%;}#sk-a9f87526-7bc3-4571-b2bf-8fedded696bc div.sk-parallel-item:last-child::after {align-self: flex-start;width: 50%;}#sk-a9f87526-7bc3-4571-b2bf-8fedded696bc div.sk-parallel-item:only-child::after {width: 0;}#sk-a9f87526-7bc3-4571-b2bf-8fedded696bc div.sk-dashed-wrapped {border: 1px dashed gray;margin: 0 0.4em 0.5em 0.4em;box-sizing: border-box;padding-bottom: 0.4em;background-color: white;position: relative;}#sk-a9f87526-7bc3-4571-b2bf-8fedded696bc div.sk-label label {font-family: monospace;font-weight: bold;background-color: white;display: inline-block;line-height: 1.2em;}#sk-a9f87526-7bc3-4571-b2bf-8fedded696bc div.sk-label-container {position: relative;z-index: 2;text-align: center;}#sk-a9f87526-7bc3-4571-b2bf-8fedded696bc div.sk-container {/* jupyter's `normalize.less` sets `[hidden] { display: none; }` but bootstrap.min.css set `[hidden] { display: none !important; }` so we also need the `!important` here to be able to override the default hidden behavior on the sphinx rendered scikit-learn.org. See: https://github.com/scikit-learn/scikit-learn/issues/21755 */display: inline-block !important;position: relative;}#sk-a9f87526-7bc3-4571-b2bf-8fedded696bc div.sk-text-repr-fallback {display: none;}</style><div id=\"sk-a9f87526-7bc3-4571-b2bf-8fedded696bc\" class=\"sk-top-container\"><div class=\"sk-text-repr-fallback\"><pre>Pipeline(steps=[(&#x27;preproc&#x27;,\n",
              "                 ColumnTransformer(remainder=&#x27;passthrough&#x27;,\n",
              "                                   transformers=[(&#x27;cat_pipe&#x27;,\n",
              "                                                  Pipeline(steps=[(&#x27;cat_impute&#x27;,\n",
              "                                                                   SimpleImputer(strategy=&#x27;most_frequent&#x27;)),\n",
              "                                                                  (&#x27;onehot_cat&#x27;,\n",
              "                                                                   OneHotEncoder(drop=&#x27;if_binary&#x27;))]),\n",
              "                                                  &lt;sklearn.compose._column_transformer.make_column_selector object at 0x7fc779007c10&gt;),\n",
              "                                                 (&#x27;num_pipe&#x27;,\n",
              "                                                  Pipeline(steps=[(&#x27;impute_num&#x27;,\n",
              "                                                                   SimpleImputer()),\n",
              "                                                                  (&#x27;scale_num&#x27;,\n",
              "                                                                   StandardScaler())]),\n",
              "                                                  &lt;sklearn.compose._column_transformer.make_column_selector object at 0x7fc779007cd0&gt;)])),\n",
              "                (&#x27;gbc&#x27;, GradientBoostingClassifier())])</pre><b>Please rerun this cell to show the HTML repr or trust the notebook.</b></div><div class=\"sk-container\" hidden><div class=\"sk-item sk-dashed-wrapped\"><div class=\"sk-label-container\"><div class=\"sk-label sk-toggleable\"><input class=\"sk-toggleable__control sk-hidden--visually\" id=\"8bd415b4-3352-4499-8008-e7aba396fb77\" type=\"checkbox\" ><label for=\"8bd415b4-3352-4499-8008-e7aba396fb77\" class=\"sk-toggleable__label sk-toggleable__label-arrow\">Pipeline</label><div class=\"sk-toggleable__content\"><pre>Pipeline(steps=[(&#x27;preproc&#x27;,\n",
              "                 ColumnTransformer(remainder=&#x27;passthrough&#x27;,\n",
              "                                   transformers=[(&#x27;cat_pipe&#x27;,\n",
              "                                                  Pipeline(steps=[(&#x27;cat_impute&#x27;,\n",
              "                                                                   SimpleImputer(strategy=&#x27;most_frequent&#x27;)),\n",
              "                                                                  (&#x27;onehot_cat&#x27;,\n",
              "                                                                   OneHotEncoder(drop=&#x27;if_binary&#x27;))]),\n",
              "                                                  &lt;sklearn.compose._column_transformer.make_column_selector object at 0x7fc779007c10&gt;),\n",
              "                                                 (&#x27;num_pipe&#x27;,\n",
              "                                                  Pipeline(steps=[(&#x27;impute_num&#x27;,\n",
              "                                                                   SimpleImputer()),\n",
              "                                                                  (&#x27;scale_num&#x27;,\n",
              "                                                                   StandardScaler())]),\n",
              "                                                  &lt;sklearn.compose._column_transformer.make_column_selector object at 0x7fc779007cd0&gt;)])),\n",
              "                (&#x27;gbc&#x27;, GradientBoostingClassifier())])</pre></div></div></div><div class=\"sk-serial\"><div class=\"sk-item sk-dashed-wrapped\"><div class=\"sk-label-container\"><div class=\"sk-label sk-toggleable\"><input class=\"sk-toggleable__control sk-hidden--visually\" id=\"8b1fe6c7-3989-40b1-8021-ee940ada730e\" type=\"checkbox\" ><label for=\"8b1fe6c7-3989-40b1-8021-ee940ada730e\" class=\"sk-toggleable__label sk-toggleable__label-arrow\">preproc: ColumnTransformer</label><div class=\"sk-toggleable__content\"><pre>ColumnTransformer(remainder=&#x27;passthrough&#x27;,\n",
              "                  transformers=[(&#x27;cat_pipe&#x27;,\n",
              "                                 Pipeline(steps=[(&#x27;cat_impute&#x27;,\n",
              "                                                  SimpleImputer(strategy=&#x27;most_frequent&#x27;)),\n",
              "                                                 (&#x27;onehot_cat&#x27;,\n",
              "                                                  OneHotEncoder(drop=&#x27;if_binary&#x27;))]),\n",
              "                                 &lt;sklearn.compose._column_transformer.make_column_selector object at 0x7fc779007c10&gt;),\n",
              "                                (&#x27;num_pipe&#x27;,\n",
              "                                 Pipeline(steps=[(&#x27;impute_num&#x27;,\n",
              "                                                  SimpleImputer()),\n",
              "                                                 (&#x27;scale_num&#x27;,\n",
              "                                                  StandardScaler())]),\n",
              "                                 &lt;sklearn.compose._column_transformer.make_column_selector object at 0x7fc779007cd0&gt;)])</pre></div></div></div><div class=\"sk-parallel\"><div class=\"sk-parallel-item\"><div class=\"sk-item\"><div class=\"sk-label-container\"><div class=\"sk-label sk-toggleable\"><input class=\"sk-toggleable__control sk-hidden--visually\" id=\"5e76406e-5cae-4c0a-a006-0ec9735d2ffe\" type=\"checkbox\" ><label for=\"5e76406e-5cae-4c0a-a006-0ec9735d2ffe\" class=\"sk-toggleable__label sk-toggleable__label-arrow\">cat_pipe</label><div class=\"sk-toggleable__content\"><pre>&lt;sklearn.compose._column_transformer.make_column_selector object at 0x7fc779007c10&gt;</pre></div></div></div><div class=\"sk-serial\"><div class=\"sk-item\"><div class=\"sk-serial\"><div class=\"sk-item\"><div class=\"sk-estimator sk-toggleable\"><input class=\"sk-toggleable__control sk-hidden--visually\" id=\"b411f0d9-ee70-4daf-afad-aa04d58f15da\" type=\"checkbox\" ><label for=\"b411f0d9-ee70-4daf-afad-aa04d58f15da\" class=\"sk-toggleable__label sk-toggleable__label-arrow\">SimpleImputer</label><div class=\"sk-toggleable__content\"><pre>SimpleImputer(strategy=&#x27;most_frequent&#x27;)</pre></div></div></div><div class=\"sk-item\"><div class=\"sk-estimator sk-toggleable\"><input class=\"sk-toggleable__control sk-hidden--visually\" id=\"56a4f8b7-a220-4be4-9826-7126da745954\" type=\"checkbox\" ><label for=\"56a4f8b7-a220-4be4-9826-7126da745954\" class=\"sk-toggleable__label sk-toggleable__label-arrow\">OneHotEncoder</label><div class=\"sk-toggleable__content\"><pre>OneHotEncoder(drop=&#x27;if_binary&#x27;)</pre></div></div></div></div></div></div></div></div><div class=\"sk-parallel-item\"><div class=\"sk-item\"><div class=\"sk-label-container\"><div class=\"sk-label sk-toggleable\"><input class=\"sk-toggleable__control sk-hidden--visually\" id=\"5318a16e-8c58-4b85-9375-f33dd654cd56\" type=\"checkbox\" ><label for=\"5318a16e-8c58-4b85-9375-f33dd654cd56\" class=\"sk-toggleable__label sk-toggleable__label-arrow\">num_pipe</label><div class=\"sk-toggleable__content\"><pre>&lt;sklearn.compose._column_transformer.make_column_selector object at 0x7fc779007cd0&gt;</pre></div></div></div><div class=\"sk-serial\"><div class=\"sk-item\"><div class=\"sk-serial\"><div class=\"sk-item\"><div class=\"sk-estimator sk-toggleable\"><input class=\"sk-toggleable__control sk-hidden--visually\" id=\"65fdf956-c5ba-4dcf-9160-ae2623f73d7f\" type=\"checkbox\" ><label for=\"65fdf956-c5ba-4dcf-9160-ae2623f73d7f\" class=\"sk-toggleable__label sk-toggleable__label-arrow\">SimpleImputer</label><div class=\"sk-toggleable__content\"><pre>SimpleImputer()</pre></div></div></div><div class=\"sk-item\"><div class=\"sk-estimator sk-toggleable\"><input class=\"sk-toggleable__control sk-hidden--visually\" id=\"1d8b6048-9a95-492c-8e70-1eae3fbe7896\" type=\"checkbox\" ><label for=\"1d8b6048-9a95-492c-8e70-1eae3fbe7896\" class=\"sk-toggleable__label sk-toggleable__label-arrow\">StandardScaler</label><div class=\"sk-toggleable__content\"><pre>StandardScaler()</pre></div></div></div></div></div></div></div></div><div class=\"sk-parallel-item\"><div class=\"sk-item\"><div class=\"sk-label-container\"><div class=\"sk-label sk-toggleable\"><input class=\"sk-toggleable__control sk-hidden--visually\" id=\"52090e56-2995-4299-b332-511992372745\" type=\"checkbox\" ><label for=\"52090e56-2995-4299-b332-511992372745\" class=\"sk-toggleable__label sk-toggleable__label-arrow\">remainder</label><div class=\"sk-toggleable__content\"><pre></pre></div></div></div><div class=\"sk-serial\"><div class=\"sk-item\"><div class=\"sk-estimator sk-toggleable\"><input class=\"sk-toggleable__control sk-hidden--visually\" id=\"96c4886d-a5fd-4270-9248-950607345757\" type=\"checkbox\" ><label for=\"96c4886d-a5fd-4270-9248-950607345757\" class=\"sk-toggleable__label sk-toggleable__label-arrow\">passthrough</label><div class=\"sk-toggleable__content\"><pre>passthrough</pre></div></div></div></div></div></div></div></div><div class=\"sk-item\"><div class=\"sk-estimator sk-toggleable\"><input class=\"sk-toggleable__control sk-hidden--visually\" id=\"d4605b68-f71b-4056-a130-c60f7d305145\" type=\"checkbox\" ><label for=\"d4605b68-f71b-4056-a130-c60f7d305145\" class=\"sk-toggleable__label sk-toggleable__label-arrow\">GradientBoostingClassifier</label><div class=\"sk-toggleable__content\"><pre>GradientBoostingClassifier()</pre></div></div></div></div></div></div></div>"
            ]
          },
          "metadata": {}
        }
      ]
    },
    {
      "cell_type": "markdown",
      "source": [
        "## Cross-validation with hyperparameter tuning"
      ],
      "metadata": {
        "id": "ZqOYi3Drx4Fj"
      }
    },
    {
      "cell_type": "markdown",
      "source": [
        "Now that we have our pipelines, we can now use this as part of cross validation and hyperparameter tuning."
      ],
      "metadata": {
        "id": "6ptQj3Cax7Kl"
      }
    },
    {
      "cell_type": "markdown",
      "source": [
        "### Logistic Regression"
      ],
      "metadata": {
        "id": "Ik0b1WZJx9iq"
      }
    },
    {
      "cell_type": "code",
      "source": [
        "tuning_grid_lg = {'mdl__l1_ratio' : np.linspace(0,1,5),\n",
        "               'mdl__C': np.logspace(-1, 6, 3) }\n",
        "grid_search_lg = GridSearchCV(pipe_lg, param_grid = tuning_grid_lg, cv = 5, return_train_score=True)"
      ],
      "metadata": {
        "id": "iUKswXy2x9IA"
      },
      "execution_count": 300,
      "outputs": []
    },
    {
      "cell_type": "code",
      "source": [
        "tuning_grid_lg"
      ],
      "metadata": {
        "colab": {
          "base_uri": "https://localhost:8080/"
        },
        "id": "wDS0PU1RyCc0",
        "outputId": "c346943f-cdf1-499c-dc8c-bbf28898886a"
      },
      "execution_count": 301,
      "outputs": [
        {
          "output_type": "execute_result",
          "data": {
            "text/plain": [
              "{'mdl__C': array([1.00000000e-01, 3.16227766e+02, 1.00000000e+06]),\n",
              " 'mdl__l1_ratio': array([0.  , 0.25, 0.5 , 0.75, 1.  ])}"
            ]
          },
          "metadata": {},
          "execution_count": 301
        }
      ]
    },
    {
      "cell_type": "code",
      "source": [
        "grid_search_lg.fit(X_train, Y_train)"
      ],
      "metadata": {
        "colab": {
          "base_uri": "https://localhost:8080/"
        },
        "id": "CsD_lAEwyD8C",
        "outputId": "bcf77f94-2269-4fe9-f634-f67ef5c06846"
      },
      "execution_count": 302,
      "outputs": [
        {
          "output_type": "execute_result",
          "data": {
            "text/plain": [
              "GridSearchCV(cv=5,\n",
              "             estimator=Pipeline(steps=[('preproc',\n",
              "                                        ColumnTransformer(remainder='passthrough',\n",
              "                                                          transformers=[('cat_pipe',\n",
              "                                                                         Pipeline(steps=[('cat_impute',\n",
              "                                                                                          SimpleImputer(strategy='most_frequent')),\n",
              "                                                                                         ('onehot_cat',\n",
              "                                                                                          OneHotEncoder(drop='if_binary'))]),\n",
              "                                                                         <sklearn.compose._column_transformer.make_column_selector object at 0x7fc779007c10>),\n",
              "                                                                        ('num_pipe',\n",
              "                                                                         Pipeline(step...\n",
              "                                                                                          SimpleImputer()),\n",
              "                                                                                         ('scale_num',\n",
              "                                                                                          StandardScaler())]),\n",
              "                                                                         <sklearn.compose._column_transformer.make_column_selector object at 0x7fc779007cd0>)])),\n",
              "                                       ('mdl',\n",
              "                                        LogisticRegression(penalty='elasticnet',\n",
              "                                                           solver='saga',\n",
              "                                                           tol=0.01))]),\n",
              "             param_grid={'mdl__C': array([1.00000000e-01, 3.16227766e+02, 1.00000000e+06]),\n",
              "                         'mdl__l1_ratio': array([0.  , 0.25, 0.5 , 0.75, 1.  ])},\n",
              "             return_train_score=True)"
            ]
          },
          "metadata": {},
          "execution_count": 302
        }
      ]
    },
    {
      "cell_type": "code",
      "source": [
        "print(grid_search_lg.best_score_)\n",
        "grid_search_lg.best_params_"
      ],
      "metadata": {
        "colab": {
          "base_uri": "https://localhost:8080/"
        },
        "id": "ecOn9-QdGPK8",
        "outputId": "17dd0df0-5283-43d4-f0ef-0c11ac3e4669"
      },
      "execution_count": 303,
      "outputs": [
        {
          "output_type": "stream",
          "name": "stdout",
          "text": [
            "0.8137768240343346\n"
          ]
        },
        {
          "output_type": "execute_result",
          "data": {
            "text/plain": [
              "{'mdl__C': 316.22776601683796, 'mdl__l1_ratio': 0.5}"
            ]
          },
          "metadata": {},
          "execution_count": 303
        }
      ]
    },
    {
      "cell_type": "code",
      "source": [
        "pd.DataFrame(grid_search_lg.cv_results_)"
      ],
      "metadata": {
        "colab": {
          "base_uri": "https://localhost:8080/",
          "height": 960
        },
        "id": "WZmBuDPsGRt4",
        "outputId": "883b4578-601b-41ae-b6fa-2de259d27f3b"
      },
      "execution_count": 304,
      "outputs": [
        {
          "output_type": "execute_result",
          "data": {
            "text/plain": [
              "    mean_fit_time  std_fit_time  mean_score_time  std_score_time param_mdl__C  \\\n",
              "0        0.048264      0.005567         0.010091        0.000460          0.1   \n",
              "1        0.063997      0.005955         0.010261        0.000262          0.1   \n",
              "2        0.059580      0.005430         0.010966        0.001312          0.1   \n",
              "3        0.059230      0.004956         0.010496        0.001100          0.1   \n",
              "4        0.056247      0.005177         0.009787        0.000050          0.1   \n",
              "5        0.049483      0.003577         0.010815        0.001026   316.227766   \n",
              "6        0.085676      0.004321         0.010708        0.000158   316.227766   \n",
              "7        0.081145      0.006363         0.010299        0.000306   316.227766   \n",
              "8        0.080572      0.005649         0.009997        0.000192   316.227766   \n",
              "9        0.081450      0.007090         0.009945        0.000145   316.227766   \n",
              "10       0.048196      0.002095         0.009740        0.000208    1000000.0   \n",
              "11       0.082154      0.005960         0.011585        0.002531    1000000.0   \n",
              "12       0.079574      0.002984         0.010443        0.001047    1000000.0   \n",
              "13       0.080098      0.005697         0.009825        0.000095    1000000.0   \n",
              "14       0.081938      0.002432         0.010031        0.000131    1000000.0   \n",
              "\n",
              "   param_mdl__l1_ratio                                             params  \\\n",
              "0                  0.0              {'mdl__C': 0.1, 'mdl__l1_ratio': 0.0}   \n",
              "1                 0.25             {'mdl__C': 0.1, 'mdl__l1_ratio': 0.25}   \n",
              "2                  0.5              {'mdl__C': 0.1, 'mdl__l1_ratio': 0.5}   \n",
              "3                 0.75             {'mdl__C': 0.1, 'mdl__l1_ratio': 0.75}   \n",
              "4                  1.0              {'mdl__C': 0.1, 'mdl__l1_ratio': 1.0}   \n",
              "5                  0.0  {'mdl__C': 316.22776601683796, 'mdl__l1_ratio'...   \n",
              "6                 0.25  {'mdl__C': 316.22776601683796, 'mdl__l1_ratio'...   \n",
              "7                  0.5  {'mdl__C': 316.22776601683796, 'mdl__l1_ratio'...   \n",
              "8                 0.75  {'mdl__C': 316.22776601683796, 'mdl__l1_ratio'...   \n",
              "9                  1.0  {'mdl__C': 316.22776601683796, 'mdl__l1_ratio'...   \n",
              "10                 0.0        {'mdl__C': 1000000.0, 'mdl__l1_ratio': 0.0}   \n",
              "11                0.25       {'mdl__C': 1000000.0, 'mdl__l1_ratio': 0.25}   \n",
              "12                 0.5        {'mdl__C': 1000000.0, 'mdl__l1_ratio': 0.5}   \n",
              "13                0.75       {'mdl__C': 1000000.0, 'mdl__l1_ratio': 0.75}   \n",
              "14                 1.0        {'mdl__C': 1000000.0, 'mdl__l1_ratio': 1.0}   \n",
              "\n",
              "    split0_test_score  split1_test_score  split2_test_score  ...  \\\n",
              "0            0.818026           0.810997           0.812715  ...   \n",
              "1            0.817167           0.810997           0.811856  ...   \n",
              "2            0.817167           0.810137           0.811856  ...   \n",
              "3            0.817167           0.810137           0.811856  ...   \n",
              "4            0.814592           0.810137           0.811856  ...   \n",
              "5            0.818026           0.811856           0.811856  ...   \n",
              "6            0.818026           0.811856           0.811856  ...   \n",
              "7            0.818884           0.811856           0.811856  ...   \n",
              "8            0.817167           0.811856           0.811856  ...   \n",
              "9            0.817167           0.811856           0.811856  ...   \n",
              "10           0.818026           0.811856           0.811856  ...   \n",
              "11           0.818026           0.811856           0.811856  ...   \n",
              "12           0.818026           0.812715           0.811856  ...   \n",
              "13           0.817167           0.811856           0.811856  ...   \n",
              "14           0.818884           0.811856           0.811856  ...   \n",
              "\n",
              "    mean_test_score  std_test_score  rank_test_score  split0_train_score  \\\n",
              "0          0.812746        0.002776               11            0.810782   \n",
              "1          0.812231        0.002527               12            0.810352   \n",
              "2          0.812059        0.002633               13            0.810782   \n",
              "3          0.812059        0.002633               13            0.809708   \n",
              "4          0.811716        0.001537               15            0.810137   \n",
              "5          0.813605        0.002300                3            0.812500   \n",
              "6          0.813605        0.002300                3            0.812285   \n",
              "7          0.813777        0.002632                1            0.812500   \n",
              "8          0.813433        0.001973                8            0.812500   \n",
              "9          0.813433        0.001973                8            0.812500   \n",
              "10         0.813605        0.002300                3            0.812285   \n",
              "11         0.813605        0.002300                3            0.812500   \n",
              "12         0.813605        0.002300                3            0.812500   \n",
              "13         0.813262        0.001990               10            0.812500   \n",
              "14         0.813777        0.002632                1            0.812715   \n",
              "\n",
              "    split1_train_score  split2_train_score  split3_train_score  \\\n",
              "0             0.813184            0.812540            0.811252   \n",
              "1             0.812970            0.812540            0.811037   \n",
              "2             0.812755            0.812111            0.811037   \n",
              "3             0.812540            0.811896            0.811037   \n",
              "4             0.811896            0.811896            0.811037   \n",
              "5             0.813829            0.812970            0.812326   \n",
              "6             0.814043            0.813184            0.812540   \n",
              "7             0.813614            0.812755            0.812326   \n",
              "8             0.813829            0.813399            0.812326   \n",
              "9             0.814258            0.812755            0.812326   \n",
              "10            0.814258            0.812970            0.812326   \n",
              "11            0.814258            0.813614            0.812540   \n",
              "12            0.814258            0.812970            0.812540   \n",
              "13            0.814043            0.812970            0.812326   \n",
              "14            0.814258            0.812755            0.812111   \n",
              "\n",
              "    split4_train_score  mean_train_score  std_train_score  \n",
              "0             0.813614          0.812274         0.001092  \n",
              "1             0.812755          0.811931         0.001041  \n",
              "2             0.811681          0.811673         0.000716  \n",
              "3             0.811252          0.811287         0.000949  \n",
              "4             0.811037          0.811201         0.000656  \n",
              "5             0.813829          0.813091         0.000638  \n",
              "6             0.813829          0.813176         0.000689  \n",
              "7             0.813829          0.813005         0.000605  \n",
              "8             0.813829          0.813176         0.000645  \n",
              "9             0.814043          0.813176         0.000810  \n",
              "10            0.813829          0.813133         0.000793  \n",
              "11            0.813829          0.813348         0.000707  \n",
              "12            0.813829          0.813219         0.000706  \n",
              "13            0.813829          0.813133         0.000692  \n",
              "14            0.813829          0.813133         0.000789  \n",
              "\n",
              "[15 rows x 22 columns]"
            ],
            "text/html": [
              "\n",
              "  <div id=\"df-a9fcf4d2-c557-47bd-aa59-6434cc8cb961\">\n",
              "    <div class=\"colab-df-container\">\n",
              "      <div>\n",
              "<style scoped>\n",
              "    .dataframe tbody tr th:only-of-type {\n",
              "        vertical-align: middle;\n",
              "    }\n",
              "\n",
              "    .dataframe tbody tr th {\n",
              "        vertical-align: top;\n",
              "    }\n",
              "\n",
              "    .dataframe thead th {\n",
              "        text-align: right;\n",
              "    }\n",
              "</style>\n",
              "<table border=\"1\" class=\"dataframe\">\n",
              "  <thead>\n",
              "    <tr style=\"text-align: right;\">\n",
              "      <th></th>\n",
              "      <th>mean_fit_time</th>\n",
              "      <th>std_fit_time</th>\n",
              "      <th>mean_score_time</th>\n",
              "      <th>std_score_time</th>\n",
              "      <th>param_mdl__C</th>\n",
              "      <th>param_mdl__l1_ratio</th>\n",
              "      <th>params</th>\n",
              "      <th>split0_test_score</th>\n",
              "      <th>split1_test_score</th>\n",
              "      <th>split2_test_score</th>\n",
              "      <th>...</th>\n",
              "      <th>mean_test_score</th>\n",
              "      <th>std_test_score</th>\n",
              "      <th>rank_test_score</th>\n",
              "      <th>split0_train_score</th>\n",
              "      <th>split1_train_score</th>\n",
              "      <th>split2_train_score</th>\n",
              "      <th>split3_train_score</th>\n",
              "      <th>split4_train_score</th>\n",
              "      <th>mean_train_score</th>\n",
              "      <th>std_train_score</th>\n",
              "    </tr>\n",
              "  </thead>\n",
              "  <tbody>\n",
              "    <tr>\n",
              "      <th>0</th>\n",
              "      <td>0.048264</td>\n",
              "      <td>0.005567</td>\n",
              "      <td>0.010091</td>\n",
              "      <td>0.000460</td>\n",
              "      <td>0.1</td>\n",
              "      <td>0.0</td>\n",
              "      <td>{'mdl__C': 0.1, 'mdl__l1_ratio': 0.0}</td>\n",
              "      <td>0.818026</td>\n",
              "      <td>0.810997</td>\n",
              "      <td>0.812715</td>\n",
              "      <td>...</td>\n",
              "      <td>0.812746</td>\n",
              "      <td>0.002776</td>\n",
              "      <td>11</td>\n",
              "      <td>0.810782</td>\n",
              "      <td>0.813184</td>\n",
              "      <td>0.812540</td>\n",
              "      <td>0.811252</td>\n",
              "      <td>0.813614</td>\n",
              "      <td>0.812274</td>\n",
              "      <td>0.001092</td>\n",
              "    </tr>\n",
              "    <tr>\n",
              "      <th>1</th>\n",
              "      <td>0.063997</td>\n",
              "      <td>0.005955</td>\n",
              "      <td>0.010261</td>\n",
              "      <td>0.000262</td>\n",
              "      <td>0.1</td>\n",
              "      <td>0.25</td>\n",
              "      <td>{'mdl__C': 0.1, 'mdl__l1_ratio': 0.25}</td>\n",
              "      <td>0.817167</td>\n",
              "      <td>0.810997</td>\n",
              "      <td>0.811856</td>\n",
              "      <td>...</td>\n",
              "      <td>0.812231</td>\n",
              "      <td>0.002527</td>\n",
              "      <td>12</td>\n",
              "      <td>0.810352</td>\n",
              "      <td>0.812970</td>\n",
              "      <td>0.812540</td>\n",
              "      <td>0.811037</td>\n",
              "      <td>0.812755</td>\n",
              "      <td>0.811931</td>\n",
              "      <td>0.001041</td>\n",
              "    </tr>\n",
              "    <tr>\n",
              "      <th>2</th>\n",
              "      <td>0.059580</td>\n",
              "      <td>0.005430</td>\n",
              "      <td>0.010966</td>\n",
              "      <td>0.001312</td>\n",
              "      <td>0.1</td>\n",
              "      <td>0.5</td>\n",
              "      <td>{'mdl__C': 0.1, 'mdl__l1_ratio': 0.5}</td>\n",
              "      <td>0.817167</td>\n",
              "      <td>0.810137</td>\n",
              "      <td>0.811856</td>\n",
              "      <td>...</td>\n",
              "      <td>0.812059</td>\n",
              "      <td>0.002633</td>\n",
              "      <td>13</td>\n",
              "      <td>0.810782</td>\n",
              "      <td>0.812755</td>\n",
              "      <td>0.812111</td>\n",
              "      <td>0.811037</td>\n",
              "      <td>0.811681</td>\n",
              "      <td>0.811673</td>\n",
              "      <td>0.000716</td>\n",
              "    </tr>\n",
              "    <tr>\n",
              "      <th>3</th>\n",
              "      <td>0.059230</td>\n",
              "      <td>0.004956</td>\n",
              "      <td>0.010496</td>\n",
              "      <td>0.001100</td>\n",
              "      <td>0.1</td>\n",
              "      <td>0.75</td>\n",
              "      <td>{'mdl__C': 0.1, 'mdl__l1_ratio': 0.75}</td>\n",
              "      <td>0.817167</td>\n",
              "      <td>0.810137</td>\n",
              "      <td>0.811856</td>\n",
              "      <td>...</td>\n",
              "      <td>0.812059</td>\n",
              "      <td>0.002633</td>\n",
              "      <td>13</td>\n",
              "      <td>0.809708</td>\n",
              "      <td>0.812540</td>\n",
              "      <td>0.811896</td>\n",
              "      <td>0.811037</td>\n",
              "      <td>0.811252</td>\n",
              "      <td>0.811287</td>\n",
              "      <td>0.000949</td>\n",
              "    </tr>\n",
              "    <tr>\n",
              "      <th>4</th>\n",
              "      <td>0.056247</td>\n",
              "      <td>0.005177</td>\n",
              "      <td>0.009787</td>\n",
              "      <td>0.000050</td>\n",
              "      <td>0.1</td>\n",
              "      <td>1.0</td>\n",
              "      <td>{'mdl__C': 0.1, 'mdl__l1_ratio': 1.0}</td>\n",
              "      <td>0.814592</td>\n",
              "      <td>0.810137</td>\n",
              "      <td>0.811856</td>\n",
              "      <td>...</td>\n",
              "      <td>0.811716</td>\n",
              "      <td>0.001537</td>\n",
              "      <td>15</td>\n",
              "      <td>0.810137</td>\n",
              "      <td>0.811896</td>\n",
              "      <td>0.811896</td>\n",
              "      <td>0.811037</td>\n",
              "      <td>0.811037</td>\n",
              "      <td>0.811201</td>\n",
              "      <td>0.000656</td>\n",
              "    </tr>\n",
              "    <tr>\n",
              "      <th>5</th>\n",
              "      <td>0.049483</td>\n",
              "      <td>0.003577</td>\n",
              "      <td>0.010815</td>\n",
              "      <td>0.001026</td>\n",
              "      <td>316.227766</td>\n",
              "      <td>0.0</td>\n",
              "      <td>{'mdl__C': 316.22776601683796, 'mdl__l1_ratio'...</td>\n",
              "      <td>0.818026</td>\n",
              "      <td>0.811856</td>\n",
              "      <td>0.811856</td>\n",
              "      <td>...</td>\n",
              "      <td>0.813605</td>\n",
              "      <td>0.002300</td>\n",
              "      <td>3</td>\n",
              "      <td>0.812500</td>\n",
              "      <td>0.813829</td>\n",
              "      <td>0.812970</td>\n",
              "      <td>0.812326</td>\n",
              "      <td>0.813829</td>\n",
              "      <td>0.813091</td>\n",
              "      <td>0.000638</td>\n",
              "    </tr>\n",
              "    <tr>\n",
              "      <th>6</th>\n",
              "      <td>0.085676</td>\n",
              "      <td>0.004321</td>\n",
              "      <td>0.010708</td>\n",
              "      <td>0.000158</td>\n",
              "      <td>316.227766</td>\n",
              "      <td>0.25</td>\n",
              "      <td>{'mdl__C': 316.22776601683796, 'mdl__l1_ratio'...</td>\n",
              "      <td>0.818026</td>\n",
              "      <td>0.811856</td>\n",
              "      <td>0.811856</td>\n",
              "      <td>...</td>\n",
              "      <td>0.813605</td>\n",
              "      <td>0.002300</td>\n",
              "      <td>3</td>\n",
              "      <td>0.812285</td>\n",
              "      <td>0.814043</td>\n",
              "      <td>0.813184</td>\n",
              "      <td>0.812540</td>\n",
              "      <td>0.813829</td>\n",
              "      <td>0.813176</td>\n",
              "      <td>0.000689</td>\n",
              "    </tr>\n",
              "    <tr>\n",
              "      <th>7</th>\n",
              "      <td>0.081145</td>\n",
              "      <td>0.006363</td>\n",
              "      <td>0.010299</td>\n",
              "      <td>0.000306</td>\n",
              "      <td>316.227766</td>\n",
              "      <td>0.5</td>\n",
              "      <td>{'mdl__C': 316.22776601683796, 'mdl__l1_ratio'...</td>\n",
              "      <td>0.818884</td>\n",
              "      <td>0.811856</td>\n",
              "      <td>0.811856</td>\n",
              "      <td>...</td>\n",
              "      <td>0.813777</td>\n",
              "      <td>0.002632</td>\n",
              "      <td>1</td>\n",
              "      <td>0.812500</td>\n",
              "      <td>0.813614</td>\n",
              "      <td>0.812755</td>\n",
              "      <td>0.812326</td>\n",
              "      <td>0.813829</td>\n",
              "      <td>0.813005</td>\n",
              "      <td>0.000605</td>\n",
              "    </tr>\n",
              "    <tr>\n",
              "      <th>8</th>\n",
              "      <td>0.080572</td>\n",
              "      <td>0.005649</td>\n",
              "      <td>0.009997</td>\n",
              "      <td>0.000192</td>\n",
              "      <td>316.227766</td>\n",
              "      <td>0.75</td>\n",
              "      <td>{'mdl__C': 316.22776601683796, 'mdl__l1_ratio'...</td>\n",
              "      <td>0.817167</td>\n",
              "      <td>0.811856</td>\n",
              "      <td>0.811856</td>\n",
              "      <td>...</td>\n",
              "      <td>0.813433</td>\n",
              "      <td>0.001973</td>\n",
              "      <td>8</td>\n",
              "      <td>0.812500</td>\n",
              "      <td>0.813829</td>\n",
              "      <td>0.813399</td>\n",
              "      <td>0.812326</td>\n",
              "      <td>0.813829</td>\n",
              "      <td>0.813176</td>\n",
              "      <td>0.000645</td>\n",
              "    </tr>\n",
              "    <tr>\n",
              "      <th>9</th>\n",
              "      <td>0.081450</td>\n",
              "      <td>0.007090</td>\n",
              "      <td>0.009945</td>\n",
              "      <td>0.000145</td>\n",
              "      <td>316.227766</td>\n",
              "      <td>1.0</td>\n",
              "      <td>{'mdl__C': 316.22776601683796, 'mdl__l1_ratio'...</td>\n",
              "      <td>0.817167</td>\n",
              "      <td>0.811856</td>\n",
              "      <td>0.811856</td>\n",
              "      <td>...</td>\n",
              "      <td>0.813433</td>\n",
              "      <td>0.001973</td>\n",
              "      <td>8</td>\n",
              "      <td>0.812500</td>\n",
              "      <td>0.814258</td>\n",
              "      <td>0.812755</td>\n",
              "      <td>0.812326</td>\n",
              "      <td>0.814043</td>\n",
              "      <td>0.813176</td>\n",
              "      <td>0.000810</td>\n",
              "    </tr>\n",
              "    <tr>\n",
              "      <th>10</th>\n",
              "      <td>0.048196</td>\n",
              "      <td>0.002095</td>\n",
              "      <td>0.009740</td>\n",
              "      <td>0.000208</td>\n",
              "      <td>1000000.0</td>\n",
              "      <td>0.0</td>\n",
              "      <td>{'mdl__C': 1000000.0, 'mdl__l1_ratio': 0.0}</td>\n",
              "      <td>0.818026</td>\n",
              "      <td>0.811856</td>\n",
              "      <td>0.811856</td>\n",
              "      <td>...</td>\n",
              "      <td>0.813605</td>\n",
              "      <td>0.002300</td>\n",
              "      <td>3</td>\n",
              "      <td>0.812285</td>\n",
              "      <td>0.814258</td>\n",
              "      <td>0.812970</td>\n",
              "      <td>0.812326</td>\n",
              "      <td>0.813829</td>\n",
              "      <td>0.813133</td>\n",
              "      <td>0.000793</td>\n",
              "    </tr>\n",
              "    <tr>\n",
              "      <th>11</th>\n",
              "      <td>0.082154</td>\n",
              "      <td>0.005960</td>\n",
              "      <td>0.011585</td>\n",
              "      <td>0.002531</td>\n",
              "      <td>1000000.0</td>\n",
              "      <td>0.25</td>\n",
              "      <td>{'mdl__C': 1000000.0, 'mdl__l1_ratio': 0.25}</td>\n",
              "      <td>0.818026</td>\n",
              "      <td>0.811856</td>\n",
              "      <td>0.811856</td>\n",
              "      <td>...</td>\n",
              "      <td>0.813605</td>\n",
              "      <td>0.002300</td>\n",
              "      <td>3</td>\n",
              "      <td>0.812500</td>\n",
              "      <td>0.814258</td>\n",
              "      <td>0.813614</td>\n",
              "      <td>0.812540</td>\n",
              "      <td>0.813829</td>\n",
              "      <td>0.813348</td>\n",
              "      <td>0.000707</td>\n",
              "    </tr>\n",
              "    <tr>\n",
              "      <th>12</th>\n",
              "      <td>0.079574</td>\n",
              "      <td>0.002984</td>\n",
              "      <td>0.010443</td>\n",
              "      <td>0.001047</td>\n",
              "      <td>1000000.0</td>\n",
              "      <td>0.5</td>\n",
              "      <td>{'mdl__C': 1000000.0, 'mdl__l1_ratio': 0.5}</td>\n",
              "      <td>0.818026</td>\n",
              "      <td>0.812715</td>\n",
              "      <td>0.811856</td>\n",
              "      <td>...</td>\n",
              "      <td>0.813605</td>\n",
              "      <td>0.002300</td>\n",
              "      <td>3</td>\n",
              "      <td>0.812500</td>\n",
              "      <td>0.814258</td>\n",
              "      <td>0.812970</td>\n",
              "      <td>0.812540</td>\n",
              "      <td>0.813829</td>\n",
              "      <td>0.813219</td>\n",
              "      <td>0.000706</td>\n",
              "    </tr>\n",
              "    <tr>\n",
              "      <th>13</th>\n",
              "      <td>0.080098</td>\n",
              "      <td>0.005697</td>\n",
              "      <td>0.009825</td>\n",
              "      <td>0.000095</td>\n",
              "      <td>1000000.0</td>\n",
              "      <td>0.75</td>\n",
              "      <td>{'mdl__C': 1000000.0, 'mdl__l1_ratio': 0.75}</td>\n",
              "      <td>0.817167</td>\n",
              "      <td>0.811856</td>\n",
              "      <td>0.811856</td>\n",
              "      <td>...</td>\n",
              "      <td>0.813262</td>\n",
              "      <td>0.001990</td>\n",
              "      <td>10</td>\n",
              "      <td>0.812500</td>\n",
              "      <td>0.814043</td>\n",
              "      <td>0.812970</td>\n",
              "      <td>0.812326</td>\n",
              "      <td>0.813829</td>\n",
              "      <td>0.813133</td>\n",
              "      <td>0.000692</td>\n",
              "    </tr>\n",
              "    <tr>\n",
              "      <th>14</th>\n",
              "      <td>0.081938</td>\n",
              "      <td>0.002432</td>\n",
              "      <td>0.010031</td>\n",
              "      <td>0.000131</td>\n",
              "      <td>1000000.0</td>\n",
              "      <td>1.0</td>\n",
              "      <td>{'mdl__C': 1000000.0, 'mdl__l1_ratio': 1.0}</td>\n",
              "      <td>0.818884</td>\n",
              "      <td>0.811856</td>\n",
              "      <td>0.811856</td>\n",
              "      <td>...</td>\n",
              "      <td>0.813777</td>\n",
              "      <td>0.002632</td>\n",
              "      <td>1</td>\n",
              "      <td>0.812715</td>\n",
              "      <td>0.814258</td>\n",
              "      <td>0.812755</td>\n",
              "      <td>0.812111</td>\n",
              "      <td>0.813829</td>\n",
              "      <td>0.813133</td>\n",
              "      <td>0.000789</td>\n",
              "    </tr>\n",
              "  </tbody>\n",
              "</table>\n",
              "<p>15 rows × 22 columns</p>\n",
              "</div>\n",
              "      <button class=\"colab-df-convert\" onclick=\"convertToInteractive('df-a9fcf4d2-c557-47bd-aa59-6434cc8cb961')\"\n",
              "              title=\"Convert this dataframe to an interactive table.\"\n",
              "              style=\"display:none;\">\n",
              "        \n",
              "  <svg xmlns=\"http://www.w3.org/2000/svg\" height=\"24px\"viewBox=\"0 0 24 24\"\n",
              "       width=\"24px\">\n",
              "    <path d=\"M0 0h24v24H0V0z\" fill=\"none\"/>\n",
              "    <path d=\"M18.56 5.44l.94 2.06.94-2.06 2.06-.94-2.06-.94-.94-2.06-.94 2.06-2.06.94zm-11 1L8.5 8.5l.94-2.06 2.06-.94-2.06-.94L8.5 2.5l-.94 2.06-2.06.94zm10 10l.94 2.06.94-2.06 2.06-.94-2.06-.94-.94-2.06-.94 2.06-2.06.94z\"/><path d=\"M17.41 7.96l-1.37-1.37c-.4-.4-.92-.59-1.43-.59-.52 0-1.04.2-1.43.59L10.3 9.45l-7.72 7.72c-.78.78-.78 2.05 0 2.83L4 21.41c.39.39.9.59 1.41.59.51 0 1.02-.2 1.41-.59l7.78-7.78 2.81-2.81c.8-.78.8-2.07 0-2.86zM5.41 20L4 18.59l7.72-7.72 1.47 1.35L5.41 20z\"/>\n",
              "  </svg>\n",
              "      </button>\n",
              "      \n",
              "  <style>\n",
              "    .colab-df-container {\n",
              "      display:flex;\n",
              "      flex-wrap:wrap;\n",
              "      gap: 12px;\n",
              "    }\n",
              "\n",
              "    .colab-df-convert {\n",
              "      background-color: #E8F0FE;\n",
              "      border: none;\n",
              "      border-radius: 50%;\n",
              "      cursor: pointer;\n",
              "      display: none;\n",
              "      fill: #1967D2;\n",
              "      height: 32px;\n",
              "      padding: 0 0 0 0;\n",
              "      width: 32px;\n",
              "    }\n",
              "\n",
              "    .colab-df-convert:hover {\n",
              "      background-color: #E2EBFA;\n",
              "      box-shadow: 0px 1px 2px rgba(60, 64, 67, 0.3), 0px 1px 3px 1px rgba(60, 64, 67, 0.15);\n",
              "      fill: #174EA6;\n",
              "    }\n",
              "\n",
              "    [theme=dark] .colab-df-convert {\n",
              "      background-color: #3B4455;\n",
              "      fill: #D2E3FC;\n",
              "    }\n",
              "\n",
              "    [theme=dark] .colab-df-convert:hover {\n",
              "      background-color: #434B5C;\n",
              "      box-shadow: 0px 1px 3px 1px rgba(0, 0, 0, 0.15);\n",
              "      filter: drop-shadow(0px 1px 2px rgba(0, 0, 0, 0.3));\n",
              "      fill: #FFFFFF;\n",
              "    }\n",
              "  </style>\n",
              "\n",
              "      <script>\n",
              "        const buttonEl =\n",
              "          document.querySelector('#df-a9fcf4d2-c557-47bd-aa59-6434cc8cb961 button.colab-df-convert');\n",
              "        buttonEl.style.display =\n",
              "          google.colab.kernel.accessAllowed ? 'block' : 'none';\n",
              "\n",
              "        async function convertToInteractive(key) {\n",
              "          const element = document.querySelector('#df-a9fcf4d2-c557-47bd-aa59-6434cc8cb961');\n",
              "          const dataTable =\n",
              "            await google.colab.kernel.invokeFunction('convertToInteractive',\n",
              "                                                     [key], {});\n",
              "          if (!dataTable) return;\n",
              "\n",
              "          const docLinkHtml = 'Like what you see? Visit the ' +\n",
              "            '<a target=\"_blank\" href=https://colab.research.google.com/notebooks/data_table.ipynb>data table notebook</a>'\n",
              "            + ' to learn more about interactive tables.';\n",
              "          element.innerHTML = '';\n",
              "          dataTable['output_type'] = 'display_data';\n",
              "          await google.colab.output.renderOutput(dataTable, element);\n",
              "          const docLink = document.createElement('div');\n",
              "          docLink.innerHTML = docLinkHtml;\n",
              "          element.appendChild(docLink);\n",
              "        }\n",
              "      </script>\n",
              "    </div>\n",
              "  </div>\n",
              "  "
            ]
          },
          "metadata": {},
          "execution_count": 304
        }
      ]
    },
    {
      "cell_type": "markdown",
      "source": [
        "### Random Forest Classifier"
      ],
      "metadata": {
        "id": "vlEV8SIsGU61"
      }
    },
    {
      "cell_type": "code",
      "source": [
        "tuning_grid_rf = param_grid = {'rf__n_estimators': [10, 50],\n",
        "                                        'rf__max_features': ['auto', 'sqrt', 'log2'],\n",
        "                                        'rf__max_depth' : [4,5,6],\n",
        "                                        'rf__criterion' :['gini', 'entropy']\n",
        "                                       }\n",
        "grid_search_rf = GridSearchCV(pipe_rf, param_grid = tuning_grid_rf, cv = 5, return_train_score=True)"
      ],
      "metadata": {
        "id": "KFh4yZJ1GY5m"
      },
      "execution_count": 305,
      "outputs": []
    },
    {
      "cell_type": "code",
      "source": [
        "grid_search_rf.fit(X_train, Y_train)"
      ],
      "metadata": {
        "colab": {
          "base_uri": "https://localhost:8080/"
        },
        "id": "lTMgBv2rGbER",
        "outputId": "e4afcab4-d425-4b49-a873-4f6d11b2ec82"
      },
      "execution_count": 306,
      "outputs": [
        {
          "output_type": "execute_result",
          "data": {
            "text/plain": [
              "GridSearchCV(cv=5,\n",
              "             estimator=Pipeline(steps=[('preproc',\n",
              "                                        ColumnTransformer(remainder='passthrough',\n",
              "                                                          transformers=[('cat_pipe',\n",
              "                                                                         Pipeline(steps=[('cat_impute',\n",
              "                                                                                          SimpleImputer(strategy='most_frequent')),\n",
              "                                                                                         ('onehot_cat',\n",
              "                                                                                          OneHotEncoder(drop='if_binary'))]),\n",
              "                                                                         <sklearn.compose._column_transformer.make_column_selector object at 0x7fc779007c10>),\n",
              "                                                                        ('num_pipe',\n",
              "                                                                         Pipeline(steps=[('impute_num',\n",
              "                                                                                          SimpleImputer()),\n",
              "                                                                                         ('scale_num',\n",
              "                                                                                          StandardScaler())]),\n",
              "                                                                         <sklearn.compose._column_transformer.make_column_selector object at 0x7fc779007cd0>)])),\n",
              "                                       ('rf', RandomForestClassifier())]),\n",
              "             param_grid={'rf__criterion': ['gini', 'entropy'],\n",
              "                         'rf__max_depth': [4, 5, 6],\n",
              "                         'rf__max_features': ['auto', 'sqrt', 'log2'],\n",
              "                         'rf__n_estimators': [10, 50]},\n",
              "             return_train_score=True)"
            ]
          },
          "metadata": {},
          "execution_count": 306
        }
      ]
    },
    {
      "cell_type": "code",
      "source": [
        "pipe_rf.fit(X_train, Y_train)"
      ],
      "metadata": {
        "colab": {
          "base_uri": "https://localhost:8080/"
        },
        "id": "VI52k8L2GfuS",
        "outputId": "9f784b4b-6a7a-4916-aba4-9ce271f61395"
      },
      "execution_count": 307,
      "outputs": [
        {
          "output_type": "execute_result",
          "data": {
            "text/plain": [
              "Pipeline(steps=[('preproc',\n",
              "                 ColumnTransformer(remainder='passthrough',\n",
              "                                   transformers=[('cat_pipe',\n",
              "                                                  Pipeline(steps=[('cat_impute',\n",
              "                                                                   SimpleImputer(strategy='most_frequent')),\n",
              "                                                                  ('onehot_cat',\n",
              "                                                                   OneHotEncoder(drop='if_binary'))]),\n",
              "                                                  <sklearn.compose._column_transformer.make_column_selector object at 0x7fc779007c10>),\n",
              "                                                 ('num_pipe',\n",
              "                                                  Pipeline(steps=[('impute_num',\n",
              "                                                                   SimpleImputer()),\n",
              "                                                                  ('scale_num',\n",
              "                                                                   StandardScaler())]),\n",
              "                                                  <sklearn.compose._column_transformer.make_column_selector object at 0x7fc779007cd0>)])),\n",
              "                ('rf', RandomForestClassifier())])"
            ]
          },
          "metadata": {},
          "execution_count": 307
        }
      ]
    },
    {
      "cell_type": "code",
      "source": [
        "grid_search_rf.best_params_"
      ],
      "metadata": {
        "colab": {
          "base_uri": "https://localhost:8080/"
        },
        "id": "nPbbxCypGmgK",
        "outputId": "4f557f7c-c2a4-494d-b3e8-3c0fcf7344e4"
      },
      "execution_count": 308,
      "outputs": [
        {
          "output_type": "execute_result",
          "data": {
            "text/plain": [
              "{'rf__criterion': 'gini',\n",
              " 'rf__max_depth': 5,\n",
              " 'rf__max_features': 'log2',\n",
              " 'rf__n_estimators': 10}"
            ]
          },
          "metadata": {},
          "execution_count": 308
        }
      ]
    },
    {
      "cell_type": "code",
      "source": [
        "print(grid_search_rf.best_score_)"
      ],
      "metadata": {
        "colab": {
          "base_uri": "https://localhost:8080/"
        },
        "id": "8td7yeSmGoDu",
        "outputId": "61f1d307-66a0-4408-f249-54018ae536e1"
      },
      "execution_count": 309,
      "outputs": [
        {
          "output_type": "stream",
          "name": "stdout",
          "text": [
            "0.8112008318216007\n"
          ]
        }
      ]
    },
    {
      "cell_type": "markdown",
      "source": [
        "### Gradient Boosting Classifier"
      ],
      "metadata": {
        "id": "B761CNS9Gumg"
      }
    },
    {
      "cell_type": "code",
      "source": [
        "tuning_grid_gb = param_grid = {'gbc__learning_rate': [1, 0.5, 0.25],\n",
        "                                       'gbc__n_estimators': [64, 128, 256],\n",
        "                                       'gbc__max_depth': [2, 4],\n",
        "                                       'gbc__min_samples_split': [2, 4]\n",
        "                                      }\n",
        "grid_search_gb = GridSearchCV(pipe_gb, param_grid = tuning_grid_gb, cv = 5, return_train_score=True)"
      ],
      "metadata": {
        "id": "jTa3qYxXGxxU"
      },
      "execution_count": 310,
      "outputs": []
    },
    {
      "cell_type": "code",
      "source": [
        "grid_search_gb.fit(X_train, Y_train)"
      ],
      "metadata": {
        "colab": {
          "base_uri": "https://localhost:8080/"
        },
        "id": "QvdLUefcGyic",
        "outputId": "3f8f5365-8069-4718-c371-ebd17efc8349"
      },
      "execution_count": 311,
      "outputs": [
        {
          "output_type": "execute_result",
          "data": {
            "text/plain": [
              "GridSearchCV(cv=5,\n",
              "             estimator=Pipeline(steps=[('preproc',\n",
              "                                        ColumnTransformer(remainder='passthrough',\n",
              "                                                          transformers=[('cat_pipe',\n",
              "                                                                         Pipeline(steps=[('cat_impute',\n",
              "                                                                                          SimpleImputer(strategy='most_frequent')),\n",
              "                                                                                         ('onehot_cat',\n",
              "                                                                                          OneHotEncoder(drop='if_binary'))]),\n",
              "                                                                         <sklearn.compose._column_transformer.make_column_selector object at 0x7fc779007c10>),\n",
              "                                                                        ('num_pipe',\n",
              "                                                                         Pipeline(steps=[('impute_num',\n",
              "                                                                                          SimpleImputer()),\n",
              "                                                                                         ('scale_num',\n",
              "                                                                                          StandardScaler())]),\n",
              "                                                                         <sklearn.compose._column_transformer.make_column_selector object at 0x7fc779007cd0>)])),\n",
              "                                       ('gbc', GradientBoostingClassifier())]),\n",
              "             param_grid={'gbc__learning_rate': [1, 0.5, 0.25],\n",
              "                         'gbc__max_depth': [2, 4],\n",
              "                         'gbc__min_samples_split': [2, 4],\n",
              "                         'gbc__n_estimators': [64, 128, 256]},\n",
              "             return_train_score=True)"
            ]
          },
          "metadata": {},
          "execution_count": 311
        }
      ]
    },
    {
      "cell_type": "code",
      "source": [
        "pipe_gb.fit(X_train, Y_train)"
      ],
      "metadata": {
        "colab": {
          "base_uri": "https://localhost:8080/"
        },
        "id": "oODRxFfQG1qS",
        "outputId": "25eb8e4f-696d-4e05-d6f0-16e6dfbc6d45"
      },
      "execution_count": 312,
      "outputs": [
        {
          "output_type": "execute_result",
          "data": {
            "text/plain": [
              "Pipeline(steps=[('preproc',\n",
              "                 ColumnTransformer(remainder='passthrough',\n",
              "                                   transformers=[('cat_pipe',\n",
              "                                                  Pipeline(steps=[('cat_impute',\n",
              "                                                                   SimpleImputer(strategy='most_frequent')),\n",
              "                                                                  ('onehot_cat',\n",
              "                                                                   OneHotEncoder(drop='if_binary'))]),\n",
              "                                                  <sklearn.compose._column_transformer.make_column_selector object at 0x7fc779007c10>),\n",
              "                                                 ('num_pipe',\n",
              "                                                  Pipeline(steps=[('impute_num',\n",
              "                                                                   SimpleImputer()),\n",
              "                                                                  ('scale_num',\n",
              "                                                                   StandardScaler())]),\n",
              "                                                  <sklearn.compose._column_transformer.make_column_selector object at 0x7fc779007cd0>)])),\n",
              "                ('gbc', GradientBoostingClassifier())])"
            ]
          },
          "metadata": {},
          "execution_count": 312
        }
      ]
    },
    {
      "cell_type": "code",
      "source": [
        "grid_search_gb.best_params_"
      ],
      "metadata": {
        "colab": {
          "base_uri": "https://localhost:8080/"
        },
        "id": "VhH4ZAfsG5L9",
        "outputId": "8541214a-093e-4036-8c3c-6b0b120b88d1"
      },
      "execution_count": 313,
      "outputs": [
        {
          "output_type": "execute_result",
          "data": {
            "text/plain": [
              "{'gbc__learning_rate': 0.25,\n",
              " 'gbc__max_depth': 2,\n",
              " 'gbc__min_samples_split': 2,\n",
              " 'gbc__n_estimators': 64}"
            ]
          },
          "metadata": {},
          "execution_count": 313
        }
      ]
    },
    {
      "cell_type": "code",
      "source": [
        "print(grid_search_gb.best_score_)"
      ],
      "metadata": {
        "colab": {
          "base_uri": "https://localhost:8080/"
        },
        "id": "XAHiWeePG6en",
        "outputId": "be7a1cb9-50ce-42c1-8cd2-2a88ac4228be"
      },
      "execution_count": 314,
      "outputs": [
        {
          "output_type": "stream",
          "name": "stdout",
          "text": [
            "0.8120594958925121\n"
          ]
        }
      ]
    },
    {
      "cell_type": "markdown",
      "source": [
        "## Final fit"
      ],
      "metadata": {
        "id": "BK30kkzFG8vo"
      }
    },
    {
      "cell_type": "markdown",
      "source": [
        "The final fit here is already present in the generated model due to the way we set our parameters in the grid search. If we want to look at the performance, we can do so. Here is a non-helpful description of the best model:"
      ],
      "metadata": {
        "id": "_rgaDkBwHAg6"
      }
    },
    {
      "cell_type": "markdown",
      "source": [
        "### Logistic Regression"
      ],
      "metadata": {
        "id": "Gh74gnAMHCSJ"
      }
    },
    {
      "cell_type": "code",
      "source": [
        "grid_search_lg.best_estimator_"
      ],
      "metadata": {
        "colab": {
          "base_uri": "https://localhost:8080/"
        },
        "id": "KpTBms2YHFZH",
        "outputId": "4d285911-588f-4ca1-ef83-11c01c8db363"
      },
      "execution_count": 315,
      "outputs": [
        {
          "output_type": "execute_result",
          "data": {
            "text/plain": [
              "Pipeline(steps=[('preproc',\n",
              "                 ColumnTransformer(remainder='passthrough',\n",
              "                                   transformers=[('cat_pipe',\n",
              "                                                  Pipeline(steps=[('cat_impute',\n",
              "                                                                   SimpleImputer(strategy='most_frequent')),\n",
              "                                                                  ('onehot_cat',\n",
              "                                                                   OneHotEncoder(drop='if_binary'))]),\n",
              "                                                  <sklearn.compose._column_transformer.make_column_selector object at 0x7fc7798bc150>),\n",
              "                                                 ('num_pipe',\n",
              "                                                  Pipeline(steps=[('impute_num',\n",
              "                                                                   SimpleImputer()),\n",
              "                                                                  ('scale_num',\n",
              "                                                                   StandardScaler())]),\n",
              "                                                  <sklearn.compose._column_transformer.make_column_selector object at 0x7fc77988c510>)])),\n",
              "                ('mdl',\n",
              "                 LogisticRegression(C=316.22776601683796, l1_ratio=0.5,\n",
              "                                    penalty='elasticnet', solver='saga',\n",
              "                                    tol=0.01))])"
            ]
          },
          "metadata": {},
          "execution_count": 315
        }
      ]
    },
    {
      "cell_type": "markdown",
      "source": [
        "### Random Forest Classifier"
      ],
      "metadata": {
        "id": "i_orSacpHJZg"
      }
    },
    {
      "cell_type": "code",
      "source": [
        "grid_search_rf.best_estimator_"
      ],
      "metadata": {
        "colab": {
          "base_uri": "https://localhost:8080/"
        },
        "id": "0LoPElL6HMMg",
        "outputId": "b3a38ef1-9532-4c0c-d9d0-bc7e228d29c6"
      },
      "execution_count": 316,
      "outputs": [
        {
          "output_type": "execute_result",
          "data": {
            "text/plain": [
              "Pipeline(steps=[('preproc',\n",
              "                 ColumnTransformer(remainder='passthrough',\n",
              "                                   transformers=[('cat_pipe',\n",
              "                                                  Pipeline(steps=[('cat_impute',\n",
              "                                                                   SimpleImputer(strategy='most_frequent')),\n",
              "                                                                  ('onehot_cat',\n",
              "                                                                   OneHotEncoder(drop='if_binary'))]),\n",
              "                                                  <sklearn.compose._column_transformer.make_column_selector object at 0x7fc7795c0f10>),\n",
              "                                                 ('num_pipe',\n",
              "                                                  Pipeline(steps=[('impute_num',\n",
              "                                                                   SimpleImputer()),\n",
              "                                                                  ('scale_num',\n",
              "                                                                   StandardScaler())]),\n",
              "                                                  <sklearn.compose._column_transformer.make_column_selector object at 0x7fc77941be50>)])),\n",
              "                ('rf',\n",
              "                 RandomForestClassifier(max_depth=5, max_features='log2',\n",
              "                                        n_estimators=10))])"
            ]
          },
          "metadata": {},
          "execution_count": 316
        }
      ]
    },
    {
      "cell_type": "markdown",
      "source": [
        "### Gradient Boosting Classifier"
      ],
      "metadata": {
        "id": "JT27QfNfHPGW"
      }
    },
    {
      "cell_type": "code",
      "source": [
        "grid_search_gb.best_estimator_"
      ],
      "metadata": {
        "colab": {
          "base_uri": "https://localhost:8080/"
        },
        "id": "wEUHzzt_HQpq",
        "outputId": "dffb0cc6-1b50-46b9-e335-e94b3ca7f393"
      },
      "execution_count": 317,
      "outputs": [
        {
          "output_type": "execute_result",
          "data": {
            "text/plain": [
              "Pipeline(steps=[('preproc',\n",
              "                 ColumnTransformer(remainder='passthrough',\n",
              "                                   transformers=[('cat_pipe',\n",
              "                                                  Pipeline(steps=[('cat_impute',\n",
              "                                                                   SimpleImputer(strategy='most_frequent')),\n",
              "                                                                  ('onehot_cat',\n",
              "                                                                   OneHotEncoder(drop='if_binary'))]),\n",
              "                                                  <sklearn.compose._column_transformer.make_column_selector object at 0x7fc779011290>),\n",
              "                                                 ('num_pipe',\n",
              "                                                  Pipeline(steps=[('impute_num',\n",
              "                                                                   SimpleImputer()),\n",
              "                                                                  ('scale_num',\n",
              "                                                                   StandardScaler())]),\n",
              "                                                  <sklearn.compose._column_transformer.make_column_selector object at 0x7fc7797704d0>)])),\n",
              "                ('gbc',\n",
              "                 GradientBoostingClassifier(learning_rate=0.25, max_depth=2,\n",
              "                                            n_estimators=64))])"
            ]
          },
          "metadata": {},
          "execution_count": 317
        }
      ]
    },
    {
      "cell_type": "markdown",
      "source": [
        "## Variable importance"
      ],
      "metadata": {
        "id": "kSdAClrYHSik"
      }
    },
    {
      "cell_type": "markdown",
      "source": [
        "Now we assess the importance in the selected model to reveal any potential insights."
      ],
      "metadata": {
        "id": "IpzILkgDHXZV"
      }
    },
    {
      "cell_type": "markdown",
      "source": [
        "### Logistic Regression"
      ],
      "metadata": {
        "id": "xYM5wYMCHZZx"
      }
    },
    {
      "cell_type": "code",
      "source": [
        "grid_search_lg.classes_"
      ],
      "metadata": {
        "colab": {
          "base_uri": "https://localhost:8080/"
        },
        "id": "D_OP3ugxHcq9",
        "outputId": "6a7e66fd-44b0-465e-babb-d6862ddf0411"
      },
      "execution_count": 319,
      "outputs": [
        {
          "output_type": "execute_result",
          "data": {
            "text/plain": [
              "array([False,  True])"
            ]
          },
          "metadata": {},
          "execution_count": 319
        }
      ]
    },
    {
      "cell_type": "code",
      "source": [
        "vip_lg = grid_search_lg.best_estimator_['mdl'].coef_[0]\n",
        "vip_lg"
      ],
      "metadata": {
        "colab": {
          "base_uri": "https://localhost:8080/"
        },
        "id": "C6J5O06FHesZ",
        "outputId": "b19b8ab6-b337-478f-adf2-5c4ab12ab746"
      },
      "execution_count": 320,
      "outputs": [
        {
          "output_type": "execute_result",
          "data": {
            "text/plain": [
              "array([-5.35658901e-01, -3.80686681e-01, -8.36798196e-02, -9.91266427e-01,\n",
              "        1.20763863e-01,  1.41389813e-01,  1.83924571e-01,  3.19796221e-01,\n",
              "       -1.37877114e-02, -2.71298069e-02, -2.57925263e-02, -4.17583830e-01,\n",
              "       -2.54135309e-04, -4.15692503e-02, -4.17455586e-01, -6.77514202e-02,\n",
              "       -2.41257569e-01,  3.67970048e-02, -2.29152214e-01, -1.47706095e-01,\n",
              "       -7.96758510e-01, -1.64241486e-01,  1.27895463e-01, -6.58174260e-02,\n",
              "       -6.05537558e-01,  2.14174611e-02, -2.06854192e-01,  2.00426818e-01,\n",
              "       -3.29152118e-01, -9.35416322e-02,  1.19709498e-01, -1.31100611e-02,\n",
              "       -3.32317948e-01,  1.78858218e-01, -9.49057384e-01,  0.00000000e+00,\n",
              "        3.74724041e-01])"
            ]
          },
          "metadata": {},
          "execution_count": 320
        }
      ]
    },
    {
      "cell_type": "code",
      "source": [
        "#get names in correct preproc order\n",
        "cat_names = grid_search_lg.best_estimator_.named_steps['preproc'].transformers_[0][1].named_steps['onehot_cat'].get_feature_names_out()\n",
        "cat_names"
      ],
      "metadata": {
        "colab": {
          "base_uri": "https://localhost:8080/"
        },
        "id": "yQmSYLRjVVUx",
        "outputId": "953af4f7-b858-4345-ada6-d0e9f4920898"
      },
      "execution_count": 321,
      "outputs": [
        {
          "output_type": "execute_result",
          "data": {
            "text/plain": [
              "array(['x0_ANGLE', 'x0_Front to Rear', 'x0_HEAD-ON',\n",
              "       'x0_NOT COLLISION W/MOTOR VEHICLE-TRANSPORT', 'x0_OTHER',\n",
              "       'x0_REAR-TO-REAR', 'x0_Rear to Side',\n",
              "       'x0_SIDESWIPE - OPPOSITE DIRECTION',\n",
              "       'x0_SIDESWIPE - SAME DIRECTION', 'x1_BLOWING SNOW', 'x1_CLEAR',\n",
              "       'x1_CLOUDY', 'x1_FOG', 'x1_OTHER (NARRATIVE)', 'x1_RAIN',\n",
              "       'x1_SLEET, HAIL', 'x1_SNOW', 'x2_DARK - LIGHTED',\n",
              "       'x2_DARK - NOT LIGHTED', 'x2_DAWN', 'x2_DAYLIGHT', 'x2_DUSK',\n",
              "       'x2_Dark-Unknown Lighting', 'x2_OTHER', 'x3_CENTRA', 'x3_EAST',\n",
              "       'x3_HERMIT', 'x3_MADISO', 'x3_MIDTOW', 'x3_NORTH', 'x3_SOUTH',\n",
              "       'x3_Unknown', 'x3_WEST'], dtype=object)"
            ]
          },
          "metadata": {},
          "execution_count": 321
        }
      ]
    },
    {
      "cell_type": "code",
      "source": [
        "num_names = grid_search_lg.best_estimator_.named_steps['preproc'].transformers_[1][2]\n",
        "num_names"
      ],
      "metadata": {
        "colab": {
          "base_uri": "https://localhost:8080/"
        },
        "id": "fs11LIT1HiQI",
        "outputId": "a462b80c-9889-4a8a-91c9-ccfee69de6ea"
      },
      "execution_count": 322,
      "outputs": [
        {
          "output_type": "execute_result",
          "data": {
            "text/plain": [
              "['AccidentNumber']"
            ]
          },
          "metadata": {},
          "execution_count": 322
        }
      ]
    },
    {
      "cell_type": "code",
      "source": [
        "#create df with vip info\n",
        "coef_info = pd.DataFrame({'feat_names':np.hstack([cat_names, num_names]), 'vip': vip_lg})\n",
        "\n",
        "#get sign and magnitude information\n",
        "coef_info = coef_info.assign(coef_mag = abs(coef_info['vip']),\n",
        "                             coef_sign = np.sign(coef_info['vip']))\n",
        "\n",
        "#sort and plot\n",
        "coef_info = coef_info.set_index('feat_names').sort_values(by='coef_mag', ascending=False)\n",
        "plt.figure(figsize=(10, 10)) \n",
        "sns.barplot(y=coef_info.index, x='coef_mag', hue='coef_sign', data=coef_info, orient='h', dodge=False);"
      ],
      "metadata": {
        "colab": {
          "base_uri": "https://localhost:8080/",
          "height": 381
        },
        "id": "aGW_NuxKVYen",
        "outputId": "224d397c-aeee-4cfa-f78b-33c9aeef08e6"
      },
      "execution_count": 323,
      "outputs": [
        {
          "output_type": "error",
          "ename": "ValueError",
          "evalue": "ignored",
          "traceback": [
            "\u001b[0;31m---------------------------------------------------------------------------\u001b[0m",
            "\u001b[0;31mValueError\u001b[0m                                Traceback (most recent call last)",
            "\u001b[0;32m<ipython-input-323-7cbbe72c9eed>\u001b[0m in \u001b[0;36m<module>\u001b[0;34m()\u001b[0m\n\u001b[1;32m      1\u001b[0m \u001b[0;31m#create df with vip info\u001b[0m\u001b[0;34m\u001b[0m\u001b[0;34m\u001b[0m\u001b[0;34m\u001b[0m\u001b[0m\n\u001b[0;32m----> 2\u001b[0;31m \u001b[0mcoef_info\u001b[0m \u001b[0;34m=\u001b[0m \u001b[0mpd\u001b[0m\u001b[0;34m.\u001b[0m\u001b[0mDataFrame\u001b[0m\u001b[0;34m(\u001b[0m\u001b[0;34m{\u001b[0m\u001b[0;34m'feat_names'\u001b[0m\u001b[0;34m:\u001b[0m\u001b[0mnp\u001b[0m\u001b[0;34m.\u001b[0m\u001b[0mhstack\u001b[0m\u001b[0;34m(\u001b[0m\u001b[0;34m[\u001b[0m\u001b[0mcat_names\u001b[0m\u001b[0;34m,\u001b[0m \u001b[0mnum_names\u001b[0m\u001b[0;34m]\u001b[0m\u001b[0;34m)\u001b[0m\u001b[0;34m,\u001b[0m \u001b[0;34m'vip'\u001b[0m\u001b[0;34m:\u001b[0m \u001b[0mvip_lg\u001b[0m\u001b[0;34m}\u001b[0m\u001b[0;34m)\u001b[0m\u001b[0;34m\u001b[0m\u001b[0;34m\u001b[0m\u001b[0m\n\u001b[0m\u001b[1;32m      3\u001b[0m \u001b[0;34m\u001b[0m\u001b[0m\n\u001b[1;32m      4\u001b[0m \u001b[0;31m#get sign and magnitude information\u001b[0m\u001b[0;34m\u001b[0m\u001b[0;34m\u001b[0m\u001b[0;34m\u001b[0m\u001b[0m\n\u001b[1;32m      5\u001b[0m coef_info = coef_info.assign(coef_mag = abs(coef_info['vip']),\n",
            "\u001b[0;32m/usr/local/lib/python3.7/dist-packages/pandas/core/frame.py\u001b[0m in \u001b[0;36m__init__\u001b[0;34m(self, data, index, columns, dtype, copy)\u001b[0m\n\u001b[1;32m    612\u001b[0m         \u001b[0;32melif\u001b[0m \u001b[0misinstance\u001b[0m\u001b[0;34m(\u001b[0m\u001b[0mdata\u001b[0m\u001b[0;34m,\u001b[0m \u001b[0mdict\u001b[0m\u001b[0;34m)\u001b[0m\u001b[0;34m:\u001b[0m\u001b[0;34m\u001b[0m\u001b[0;34m\u001b[0m\u001b[0m\n\u001b[1;32m    613\u001b[0m             \u001b[0;31m# GH#38939 de facto copy defaults to False only in non-dict cases\u001b[0m\u001b[0;34m\u001b[0m\u001b[0;34m\u001b[0m\u001b[0;34m\u001b[0m\u001b[0m\n\u001b[0;32m--> 614\u001b[0;31m             \u001b[0mmgr\u001b[0m \u001b[0;34m=\u001b[0m \u001b[0mdict_to_mgr\u001b[0m\u001b[0;34m(\u001b[0m\u001b[0mdata\u001b[0m\u001b[0;34m,\u001b[0m \u001b[0mindex\u001b[0m\u001b[0;34m,\u001b[0m \u001b[0mcolumns\u001b[0m\u001b[0;34m,\u001b[0m \u001b[0mdtype\u001b[0m\u001b[0;34m=\u001b[0m\u001b[0mdtype\u001b[0m\u001b[0;34m,\u001b[0m \u001b[0mcopy\u001b[0m\u001b[0;34m=\u001b[0m\u001b[0mcopy\u001b[0m\u001b[0;34m,\u001b[0m \u001b[0mtyp\u001b[0m\u001b[0;34m=\u001b[0m\u001b[0mmanager\u001b[0m\u001b[0;34m)\u001b[0m\u001b[0;34m\u001b[0m\u001b[0;34m\u001b[0m\u001b[0m\n\u001b[0m\u001b[1;32m    615\u001b[0m         \u001b[0;32melif\u001b[0m \u001b[0misinstance\u001b[0m\u001b[0;34m(\u001b[0m\u001b[0mdata\u001b[0m\u001b[0;34m,\u001b[0m \u001b[0mma\u001b[0m\u001b[0;34m.\u001b[0m\u001b[0mMaskedArray\u001b[0m\u001b[0;34m)\u001b[0m\u001b[0;34m:\u001b[0m\u001b[0;34m\u001b[0m\u001b[0;34m\u001b[0m\u001b[0m\n\u001b[1;32m    616\u001b[0m             \u001b[0;32mimport\u001b[0m \u001b[0mnumpy\u001b[0m\u001b[0;34m.\u001b[0m\u001b[0mma\u001b[0m\u001b[0;34m.\u001b[0m\u001b[0mmrecords\u001b[0m \u001b[0;32mas\u001b[0m \u001b[0mmrecords\u001b[0m\u001b[0;34m\u001b[0m\u001b[0;34m\u001b[0m\u001b[0m\n",
            "\u001b[0;32m/usr/local/lib/python3.7/dist-packages/pandas/core/internals/construction.py\u001b[0m in \u001b[0;36mdict_to_mgr\u001b[0;34m(data, index, columns, dtype, typ, copy)\u001b[0m\n\u001b[1;32m    463\u001b[0m \u001b[0;34m\u001b[0m\u001b[0m\n\u001b[1;32m    464\u001b[0m     return arrays_to_mgr(\n\u001b[0;32m--> 465\u001b[0;31m         \u001b[0marrays\u001b[0m\u001b[0;34m,\u001b[0m \u001b[0mdata_names\u001b[0m\u001b[0;34m,\u001b[0m \u001b[0mindex\u001b[0m\u001b[0;34m,\u001b[0m \u001b[0mcolumns\u001b[0m\u001b[0;34m,\u001b[0m \u001b[0mdtype\u001b[0m\u001b[0;34m=\u001b[0m\u001b[0mdtype\u001b[0m\u001b[0;34m,\u001b[0m \u001b[0mtyp\u001b[0m\u001b[0;34m=\u001b[0m\u001b[0mtyp\u001b[0m\u001b[0;34m,\u001b[0m \u001b[0mconsolidate\u001b[0m\u001b[0;34m=\u001b[0m\u001b[0mcopy\u001b[0m\u001b[0;34m\u001b[0m\u001b[0;34m\u001b[0m\u001b[0m\n\u001b[0m\u001b[1;32m    466\u001b[0m     )\n\u001b[1;32m    467\u001b[0m \u001b[0;34m\u001b[0m\u001b[0m\n",
            "\u001b[0;32m/usr/local/lib/python3.7/dist-packages/pandas/core/internals/construction.py\u001b[0m in \u001b[0;36marrays_to_mgr\u001b[0;34m(arrays, arr_names, index, columns, dtype, verify_integrity, typ, consolidate)\u001b[0m\n\u001b[1;32m    117\u001b[0m         \u001b[0;31m# figure out the index, if necessary\u001b[0m\u001b[0;34m\u001b[0m\u001b[0;34m\u001b[0m\u001b[0;34m\u001b[0m\u001b[0m\n\u001b[1;32m    118\u001b[0m         \u001b[0;32mif\u001b[0m \u001b[0mindex\u001b[0m \u001b[0;32mis\u001b[0m \u001b[0;32mNone\u001b[0m\u001b[0;34m:\u001b[0m\u001b[0;34m\u001b[0m\u001b[0;34m\u001b[0m\u001b[0m\n\u001b[0;32m--> 119\u001b[0;31m             \u001b[0mindex\u001b[0m \u001b[0;34m=\u001b[0m \u001b[0m_extract_index\u001b[0m\u001b[0;34m(\u001b[0m\u001b[0marrays\u001b[0m\u001b[0;34m)\u001b[0m\u001b[0;34m\u001b[0m\u001b[0;34m\u001b[0m\u001b[0m\n\u001b[0m\u001b[1;32m    120\u001b[0m         \u001b[0;32melse\u001b[0m\u001b[0;34m:\u001b[0m\u001b[0;34m\u001b[0m\u001b[0;34m\u001b[0m\u001b[0m\n\u001b[1;32m    121\u001b[0m             \u001b[0mindex\u001b[0m \u001b[0;34m=\u001b[0m \u001b[0mensure_index\u001b[0m\u001b[0;34m(\u001b[0m\u001b[0mindex\u001b[0m\u001b[0;34m)\u001b[0m\u001b[0;34m\u001b[0m\u001b[0;34m\u001b[0m\u001b[0m\n",
            "\u001b[0;32m/usr/local/lib/python3.7/dist-packages/pandas/core/internals/construction.py\u001b[0m in \u001b[0;36m_extract_index\u001b[0;34m(data)\u001b[0m\n\u001b[1;32m    633\u001b[0m             \u001b[0mlengths\u001b[0m \u001b[0;34m=\u001b[0m \u001b[0mlist\u001b[0m\u001b[0;34m(\u001b[0m\u001b[0mset\u001b[0m\u001b[0;34m(\u001b[0m\u001b[0mraw_lengths\u001b[0m\u001b[0;34m)\u001b[0m\u001b[0;34m)\u001b[0m\u001b[0;34m\u001b[0m\u001b[0;34m\u001b[0m\u001b[0m\n\u001b[1;32m    634\u001b[0m             \u001b[0;32mif\u001b[0m \u001b[0mlen\u001b[0m\u001b[0;34m(\u001b[0m\u001b[0mlengths\u001b[0m\u001b[0;34m)\u001b[0m \u001b[0;34m>\u001b[0m \u001b[0;36m1\u001b[0m\u001b[0;34m:\u001b[0m\u001b[0;34m\u001b[0m\u001b[0;34m\u001b[0m\u001b[0m\n\u001b[0;32m--> 635\u001b[0;31m                 \u001b[0;32mraise\u001b[0m \u001b[0mValueError\u001b[0m\u001b[0;34m(\u001b[0m\u001b[0;34m\"All arrays must be of the same length\"\u001b[0m\u001b[0;34m)\u001b[0m\u001b[0;34m\u001b[0m\u001b[0;34m\u001b[0m\u001b[0m\n\u001b[0m\u001b[1;32m    636\u001b[0m \u001b[0;34m\u001b[0m\u001b[0m\n\u001b[1;32m    637\u001b[0m             \u001b[0;32mif\u001b[0m \u001b[0mhave_dicts\u001b[0m\u001b[0;34m:\u001b[0m\u001b[0;34m\u001b[0m\u001b[0;34m\u001b[0m\u001b[0m\n",
            "\u001b[0;31mValueError\u001b[0m: All arrays must be of the same length"
          ]
        }
      ]
    },
    {
      "cell_type": "markdown",
      "source": [
        "### Random Forest Classifier"
      ],
      "metadata": {
        "id": "wHRQ4UWeHmIG"
      }
    },
    {
      "cell_type": "code",
      "source": [
        "grid_search_rf.classes_"
      ],
      "metadata": {
        "id": "-tFFWkj_Holk"
      },
      "execution_count": null,
      "outputs": []
    },
    {
      "cell_type": "code",
      "source": [
        "vip_rf = grid_search_rf.best_estimator_['rf']\n",
        "vip_rf"
      ],
      "metadata": {
        "id": "7dVXEVgMHqcE"
      },
      "execution_count": null,
      "outputs": []
    },
    {
      "cell_type": "code",
      "source": [
        "cat_names = grid_search_rf.best_estimator_.named_steps['preproc'].transformers_[0][1].named_steps['onehot_cat'].get_feature_names_out()\n",
        "num_names = grid_search_rf.best_estimator_.named_steps['preproc'].transformers_[1][2]\n",
        "vip_rf = grid_search_rf.best_estimator_.steps[1]\n",
        "vip_rf = vip_rf[1].estimators_\n",
        "\n",
        "plt.figure(figsize=(18, 12)) \n",
        "tree.plot_tree(vip_rf[0], feature_names=np.hstack([cat_names, num_names]), fontsize=8, filled=True)\n",
        "plt.show()"
      ],
      "metadata": {
        "id": "AfETEOjhHr7a"
      },
      "execution_count": null,
      "outputs": []
    },
    {
      "cell_type": "markdown",
      "source": [
        "### Gradient Boosting Classifier"
      ],
      "metadata": {
        "id": "ouYlaZpvHvlg"
      }
    },
    {
      "cell_type": "code",
      "source": [
        "grid_search_gb.classes_"
      ],
      "metadata": {
        "id": "4YAp03_gHx5L"
      },
      "execution_count": null,
      "outputs": []
    },
    {
      "cell_type": "code",
      "source": [
        "vip_gb = grid_search_gb.best_estimator_['gbc']\n",
        "vip_gb"
      ],
      "metadata": {
        "id": "u5yFS2XUH0nP"
      },
      "execution_count": null,
      "outputs": []
    },
    {
      "cell_type": "markdown",
      "source": [
        ""
      ],
      "metadata": {
        "id": "Mi-sfCz_HvVp"
      }
    },
    {
      "cell_type": "markdown",
      "source": [
        "## Performance metrics on test data"
      ],
      "metadata": {
        "id": "RkOIlgkR3l3R"
      }
    },
    {
      "cell_type": "markdown",
      "source": [
        "Here, we can see the performance of the model, which is pretty nice! We can also look into different scores specifically for more insight into the performance."
      ],
      "metadata": {
        "id": "Ijdc53tX3qJE"
      }
    },
    {
      "cell_type": "markdown",
      "source": [
        "### Logistic Regression"
      ],
      "metadata": {
        "id": "uJlBIRtfIA1_"
      }
    },
    {
      "cell_type": "code",
      "source": [
        "print(classification_report(Y_test, grid_search_lg.best_estimator_.predict(X_test)))"
      ],
      "metadata": {
        "id": "MeYSQFw8IEGU"
      },
      "execution_count": null,
      "outputs": []
    },
    {
      "cell_type": "code",
      "source": [
        "cm_lg = confusion_matrix(Y_test, grid_search_lg.best_estimator_.predict(X_test))\n",
        "disp = ConfusionMatrixDisplay(confusion_matrix=cm_lg,\n",
        "                               display_labels=grid_search_lg.classes_)\n",
        "disp.plot()\n",
        "plt.show()"
      ],
      "metadata": {
        "id": "BFQwCkS6IHR0"
      },
      "execution_count": null,
      "outputs": []
    },
    {
      "cell_type": "code",
      "source": [
        "rmse = np.sqrt(mean_squared_error(Y_test.reset_index(drop=True), grid_search_lg.best_estimator_.predict(X_test)))\n",
        "mape = mean_absolute_percentage_error(Y_test.reset_index(drop=True),grid_search_lg.best_estimator_.predict(X_test))\n",
        "r2 = r2_score(Y_test.reset_index(drop=True), grid_search_lg.best_estimator_.predict(X_test))\n",
        "\n",
        "print('lg R2 is: {0}'.format(r2))\n",
        "print('lg RMSE is: {0}'.format(rmse))\n",
        "print('lg MAPE is: {0}'.format(mape))"
      ],
      "metadata": {
        "id": "z0fgqaiPIYM0"
      },
      "execution_count": null,
      "outputs": []
    },
    {
      "cell_type": "markdown",
      "source": [
        "### Random Forest Classifier"
      ],
      "metadata": {
        "id": "ME4TJYC_Iagh"
      }
    },
    {
      "cell_type": "code",
      "source": [
        "print(classification_report(Y_test, grid_search_rf.best_estimator_.predict(X_test)))"
      ],
      "metadata": {
        "id": "hIA5mTLoIc0t"
      },
      "execution_count": null,
      "outputs": []
    },
    {
      "cell_type": "code",
      "source": [
        "cm_rf = confusion_matrix(Y_test, grid_search_rf.best_estimator_.predict(X_test))\n",
        "disp = ConfusionMatrixDisplay(confusion_matrix=cm_rf, display_labels=grid_search_rf.classes_)\n",
        "disp.plot()\n",
        "plt.show()"
      ],
      "metadata": {
        "id": "NkJY3Hc3Ifdn"
      },
      "execution_count": null,
      "outputs": []
    },
    {
      "cell_type": "code",
      "source": [
        "rmse = np.sqrt(mean_squared_error(Y_test.reset_index(drop=True), grid_search_rf.best_estimator_.predict(X_test)))\n",
        "mape = mean_absolute_percentage_error(Y_test.reset_index(drop=True),grid_search_rf.best_estimator_.predict(X_test))\n",
        "r2 = r2_score(Y_test.reset_index(drop=True), grid_search_rf.best_estimator_.predict(X_test))\n",
        "\n",
        "print('rf R2 is: {0}'.format(r2))\n",
        "print('rf RMSE is: {0}'.format(rmse))\n",
        "print('rf MAPE is: {0}'.format(mape))"
      ],
      "metadata": {
        "id": "AFtKCuFhIhG9"
      },
      "execution_count": null,
      "outputs": []
    },
    {
      "cell_type": "markdown",
      "source": [
        "### Gradient Boosting Classifier"
      ],
      "metadata": {
        "id": "WdGTdi9gIxaT"
      }
    },
    {
      "cell_type": "code",
      "source": [
        "print(classification_report(Y_test, grid_search_gb.best_estimator_.predict(X_test)))"
      ],
      "metadata": {
        "id": "syv4QAHCIzsW"
      },
      "execution_count": null,
      "outputs": []
    },
    {
      "cell_type": "code",
      "source": [
        "cm_gb = confusion_matrix(Y_test, grid_search_gb.best_estimator_.predict(X_test))\n",
        "disp = ConfusionMatrixDisplay(confusion_matrix=cm_gb, display_labels=grid_search_gb.classes_)\n",
        "disp.plot()\n",
        "plt.show()"
      ],
      "metadata": {
        "id": "vTlAGs-_I1m0"
      },
      "execution_count": null,
      "outputs": []
    },
    {
      "cell_type": "code",
      "source": [
        "rmse = np.sqrt(mean_squared_error(y_test.reset_index(drop=True), grid_search_gb.best_estimator_.predict(X_test)))\n",
        "mape = mean_absolute_percentage_error(y_test.reset_index(drop=True),grid_search_gb.best_estimator_.predict(X_test))\n",
        "r2 = r2_score(y_test.reset_index(drop=True), grid_search_gb.best_estimator_.predict(X_test))\n",
        "\n",
        "print('gb R2 is: {0}'.format(r2))\n",
        "print('gb RMSE is: {0}'.format(rmse))\n",
        "print('gb MAPE is: {0}'.format(mape))"
      ],
      "metadata": {
        "id": "h95UGC2iI5VM"
      },
      "execution_count": null,
      "outputs": []
    },
    {
      "cell_type": "markdown",
      "source": [
        "## ROC Curve"
      ],
      "metadata": {
        "id": "Dr8ykQUYI7kr"
      }
    },
    {
      "cell_type": "code",
      "source": [
        "lg_roc_auc = roc_auc_score(y_test, grid_search_lg.best_estimator_.predict_proba(X_test)[:,1])\n",
        "print('Area under Lg ROC cure:', lg_roc_auc)\n",
        "\n",
        "rf_roc_auc = roc_auc_score(y_test, grid_search_rf.best_estimator_.predict_proba(X_test)[:,1])\n",
        "print('Area under Rf ROC cure:', rf_roc_auc)\n",
        "\n",
        "gb_roc_auc = roc_auc_score(y_test, grid_search_gb.best_estimator_.predict_proba(X_test)[:,1])\n",
        "print('Area under Gb ROC cure:', gb_roc_auc)\n",
        "\n",
        "lg_FPR, lg_TPR, lg_Thresholds = roc_curve(y_test, grid_search_lg.best_estimator_.predict_proba(X_test)[:,1])\n",
        "rf_FPR, rf_TPR, rf_Thresholds = roc_curve(y_test, grid_search_rf.best_estimator_.predict_proba(X_test)[:,1])\n",
        "gb_FPR, gb_TPR, gb_Thresholds = roc_curve(y_test, grid_search_gb.best_estimator_.predict_proba(X_test)[:,1])\n",
        "\n",
        "sns.set_style(\"darkgrid\")\n",
        "plt.figure(figsize=(12,12))\n",
        "\n",
        "plt.plot(lg_FPR, lg_TPR, label='Logistic Regression (area = %0.2f)' % lg_roc_auc)\n",
        "plt.plot(rf_FPR, rf_TPR, label='Random Forest Classifier (area = %0.2f)' % rf_roc_auc)\n",
        "plt.plot(gb_FPR, gb_TPR, label='Gradient Boosting Classifier (area = %0.2f)' % gb_roc_auc)\n",
        "\n",
        "# Plot Base Rate ROC\n",
        "plt.plot([0,1], [0,1],label='Base Rate')\n",
        "\n",
        "plt.xlim([0.0, 1.0])\n",
        "plt.ylim([0.0, 1.05])\n",
        "plt.xlabel('False Positive Rate', fontsize = 14)\n",
        "plt.ylabel('True Positive Rate', fontsize = 14)\n",
        "plt.title('ROC Graph', fontsize =16)\n",
        "plt.legend(loc=\"lower right\")\n",
        "plt.show()"
      ],
      "metadata": {
        "id": "wCD_f4eyI-pc"
      },
      "execution_count": null,
      "outputs": []
    },
    {
      "cell_type": "markdown",
      "source": [
        "## Model Comparsion"
      ],
      "metadata": {
        "id": "BFj_-rHcJDxF"
      }
    },
    {
      "cell_type": "markdown",
      "source": [
        "The comparsion of three model shows that **GRADIENT BOOSTING** model was the best with better accuracy, precision, and f-score"
      ],
      "metadata": {
        "id": "id9OvdivJHQ-"
      }
    },
    {
      "cell_type": "code",
      "source": [
        "#------------------------------------------------------\n",
        "# The comparsion of three model shows that GRADIENT BOOSTING classification model was the best\n",
        "# with higher accuracy, precision, f-score and under the ROC curve.\n",
        "#------------------------------------------------------\n",
        "print(classification_report(Y_test, grid_search_lg.best_estimator_.predict(X_test)))\n",
        "print(classification_report(Y_test, grid_search_rf.best_estimator_.predict(X_test)))\n",
        "print(classification_report(Y_test, grid_search_gb.best_estimator_.predict(X_test)))"
      ],
      "metadata": {
        "id": "7Xinan7UJJtO"
      },
      "execution_count": null,
      "outputs": []
    }
  ]
}
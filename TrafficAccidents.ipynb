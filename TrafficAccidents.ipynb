{
  "nbformat": 4,
  "nbformat_minor": 0,
  "metadata": {
    "colab": {
      "name": "TrafficAccidents.ipynb",
      "provenance": [],
      "collapsed_sections": [],
      "authorship_tag": "ABX9TyPRJkZLr+eOZkiG5UHplpFu",
      "include_colab_link": true
    },
    "kernelspec": {
      "name": "python3",
      "display_name": "Python 3"
    },
    "language_info": {
      "name": "python"
    }
  },
  "cells": [
    {
      "cell_type": "markdown",
      "metadata": {
        "id": "view-in-github",
        "colab_type": "text"
      },
      "source": [
        "<a href=\"https://colab.research.google.com/github/vanderbilt-ml/50-shah-mlproj-traffic-accidents/blob/main/TrafficAccidents.ipynb\" target=\"_parent\"><img src=\"https://colab.research.google.com/assets/colab-badge.svg\" alt=\"Open In Colab\"/></a>"
      ]
    },
    {
      "cell_type": "markdown",
      "source": [
        "#Traffic Accidents"
      ],
      "metadata": {
        "id": "arfe9vfC2bO-"
      }
    },
    {
      "cell_type": "markdown",
      "source": [
        "###Background"
      ],
      "metadata": {
        "id": "2R0zJeoh2hwG"
      }
    },
    {
      "cell_type": "markdown",
      "source": [
        "Use machine learning technique to analyze historical traffic accidents data."
      ],
      "metadata": {
        "id": "AQY6blhI2mRd"
      }
    },
    {
      "cell_type": "markdown",
      "source": [
        "###Project Description"
      ],
      "metadata": {
        "id": "pdeE7iw828y7"
      }
    },
    {
      "cell_type": "markdown",
      "source": [
        "Use machine learning technique to analyze historical traffic accidents data and average annual daily flow."
      ],
      "metadata": {
        "id": "a8Me5pVW3Dy4"
      }
    },
    {
      "cell_type": "markdown",
      "source": [
        "###Performance metrics"
      ],
      "metadata": {
        "id": "RkOIlgkR3l3R"
      }
    },
    {
      "cell_type": "markdown",
      "source": [
        "If successfull, the project will predict the probability of an accident at an intersection."
      ],
      "metadata": {
        "id": "Ijdc53tX3qJE"
      }
    }
  ]
}
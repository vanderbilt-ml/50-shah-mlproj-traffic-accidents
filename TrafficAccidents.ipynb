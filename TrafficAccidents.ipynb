{
  "nbformat": 4,
  "nbformat_minor": 0,
  "metadata": {
    "colab": {
      "name": "TrafficAccidents.ipynb",
      "provenance": [],
      "collapsed_sections": [],
      "authorship_tag": "ABX9TyNJWymn11hnH0X4EWQdfmBK",
      "include_colab_link": true
    },
    "kernelspec": {
      "name": "python3",
      "display_name": "Python 3"
    },
    "language_info": {
      "name": "python"
    }
  },
  "cells": [
    {
      "cell_type": "markdown",
      "metadata": {
        "id": "view-in-github",
        "colab_type": "text"
      },
      "source": [
        "<a href=\"https://colab.research.google.com/github/vanderbilt-ml/50-shah-mlproj-traffic-accidents/blob/main/TrafficAccidents.ipynb\" target=\"_parent\"><img src=\"https://colab.research.google.com/assets/colab-badge.svg\" alt=\"Open In Colab\"/></a>"
      ]
    },
    {
      "cell_type": "markdown",
      "source": [
        "\n",
        "\n",
        "```\n",
        "# This is formatted as code\n",
        "```\n",
        "\n",
        "#Traffic Accidents"
      ],
      "metadata": {
        "id": "arfe9vfC2bO-"
      }
    },
    {
      "cell_type": "markdown",
      "source": [
        "## Background"
      ],
      "metadata": {
        "id": "2R0zJeoh2hwG"
      }
    },
    {
      "cell_type": "markdown",
      "source": [
        "This is dataset of traffic accidents reported from 2019 to present. The data has been retrieved using manual export and is subject to change during an investigation as more information becomes available."
      ],
      "metadata": {
        "id": "C5vK98ftJHxv"
      }
    },
    {
      "cell_type": "markdown",
      "source": [
        "## Project Description"
      ],
      "metadata": {
        "id": "pdeE7iw828y7"
      }
    },
    {
      "cell_type": "markdown",
      "source": [
        "Each record is a reported traffic accident. Check the metadata field descriptions for more detailed information."
      ],
      "metadata": {
        "id": "a8Me5pVW3Dy4"
      }
    },
    {
      "cell_type": "markdown",
      "source": [
        "### **Data Dictionary**\n",
        "\n",
        "Feature\t|\tDescription\t|\tType\n",
        "-------------\t|\t-------------\t|\t-------------\n",
        "Accident Number\t|\tMNPD incident number for the crash\t|\tPlain Text\n",
        "Date and Time\t|\tDate and time of the accident\t|\tDate & Time\n",
        "Number of Motor Vehicles\t|\tNumber of vehicles involved in the accident\t|\tNumber\n",
        "Number of Injuries\t|\tNumber of people with injuries as a result of the accident\t|\tNumber\n",
        "Number of Fatalities\t|\tNumber of fatalities as a result of the accident\t|\tNumber\n",
        "Property Damage\t|\tIndicates if there was property damage as a result of the accident\t|\tCheckbox\n",
        "Hit and Run\t|\tIndicates if the accident was a hit and run\t|\tCheckbox\n",
        "Reporting Officer\t|\tID number of the officer responding to the accident\t|\tPlain Text\n",
        "Collision Type Code\t|\tSystem code for the type of collision\t|\tNumber\n",
        "Collision Type Description\t|\tFull text description of the collision type\t|\tPlain Text\n",
        "Weather Code\t|\tSystem code for the weather conditions at the time of the accident\t|\tNumber\n",
        "Weather Description\t|\tFull text description of the weather conditions\t|\tPlain Text\n",
        "Illumination Code\t|\tSystem code for type of lighting at the time of the accident\t|\tNumber\n",
        "Illumination Description\t|\tFull text description of the lighting conditions\t|\tPlain Text\n",
        "Harmful Code\t|\tSystem code indicating harmful objects or conditions present in the accident\t|\tPlain Text\n",
        "Harmful Description\t|\tFull text description of the harmful objects or conditions\t|\tPlain Text\n",
        "Street Address\t|\tStreet address at which the accident occurred\t|\tPlain Text\n",
        "City\t|\tCity in which the accident occurred\t|\tPlain Text\n",
        "State\t|\tState in which the accident occurred\t|\tPlain Text\n",
        "ZIP\t|\tZIP Code in which the accident occurred\t|\tNumber\n",
        "RPA\t|\tMNPD reporting zone in which the accident occurred\t|\tNumber\n",
        "Precinct\t|\tAssigned MNPD precinct in which the accident occurred\t|\tPlain Text\n",
        "Latitude\t|\tApproximate latitude where the accident occurred\t|\tNumber\n",
        "Longitude\t|\tApproximate longitude where the accident occurred\t|\tNumber\n",
        "Mapped Location\t|\tCombined latitude and longitude for the accident for mapping purposes\t|\tPoint"
      ],
      "metadata": {
        "id": "MKSApobRkkh_"
      }
    },
    {
      "cell_type": "markdown",
      "source": [
        "## Performance metrics"
      ],
      "metadata": {
        "id": "RkOIlgkR3l3R"
      }
    },
    {
      "cell_type": "markdown",
      "source": [
        "If successfull, the project will break down accident frequency by day of week and hour of day. One can also identify, when do accidents occur most frequently."
      ],
      "metadata": {
        "id": "Ijdc53tX3qJE"
      }
    }
  ]
}
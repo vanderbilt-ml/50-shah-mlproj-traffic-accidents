{
  "nbformat": 4,
  "nbformat_minor": 0,
  "metadata": {
    "colab": {
      "name": "TrafficAccidents.ipynb",
      "provenance": [],
      "collapsed_sections": [],
      "authorship_tag": "ABX9TyOMN02FQay4GZBOG2zMibvx",
      "include_colab_link": true
    },
    "kernelspec": {
      "name": "python3",
      "display_name": "Python 3"
    },
    "language_info": {
      "name": "python"
    }
  },
  "cells": [
    {
      "cell_type": "markdown",
      "metadata": {
        "id": "view-in-github",
        "colab_type": "text"
      },
      "source": [
        "<a href=\"https://colab.research.google.com/github/vanderbilt-ml/50-shah-mlproj-traffic-accidents/blob/main/TrafficAccidents.ipynb\" target=\"_parent\"><img src=\"https://colab.research.google.com/assets/colab-badge.svg\" alt=\"Open In Colab\"/></a>"
      ]
    },
    {
      "cell_type": "markdown",
      "source": [
        "\n",
        "\n",
        "```\n",
        "# This is formatted as code\n",
        "```\n",
        "\n",
        "#Traffic Accidents"
      ],
      "metadata": {
        "id": "arfe9vfC2bO-"
      }
    },
    {
      "cell_type": "markdown",
      "source": [
        "## Background"
      ],
      "metadata": {
        "id": "2R0zJeoh2hwG"
      }
    },
    {
      "cell_type": "markdown",
      "source": [
        "This is dataset of traffic accidents reported from 2019 to present. The data has been retrieved using manual export and is subject to change during an investigation as more information becomes available."
      ],
      "metadata": {
        "id": "C5vK98ftJHxv"
      }
    },
    {
      "cell_type": "markdown",
      "source": [
        "## Project Description"
      ],
      "metadata": {
        "id": "pdeE7iw828y7"
      }
    },
    {
      "cell_type": "markdown",
      "source": [
        "Each record is a reported traffic accident. Check the metadata field descriptions for more detailed information."
      ],
      "metadata": {
        "id": "a8Me5pVW3Dy4"
      }
    },
    {
      "cell_type": "markdown",
      "source": [
        "### **Data Dictionary**\n",
        "\n",
        "Feature\t|\tDescription\t|\tType\n",
        "-------------\t|\t-------------\t|\t-------------\n",
        "AccidentNumber\t|\tMNPD incident number for the crash\t|\tPlain Text\n",
        "AccidentDate\t|\tDate of the accident\t|\tDate & Time\n",
        "Injury\t|\tInjury reported\t|\tCheckBox\n",
        "CollisionType\t|\tFull text description of the collision type\t|\tPlain Text\n",
        "Weather\t|\tFull text description of the weather conditions\t|\tPlain Text\n",
        "Illumination\t|\tFull text description of the lighting conditions\t|\tPlain Text\n",
        "Precinct\t|\tAssigned precinct in which the accident occurred\t|\tPlain Text"
      ],
      "metadata": {
        "id": "MKSApobRkkh_"
      }
    },
    {
      "cell_type": "code",
      "source": [
        "#tables and visualizations\n",
        "import pandas as pd\n",
        "import numpy as np\n",
        "import seaborn as sns\n",
        "import matplotlib.pyplot as plt\n",
        "\n",
        "#machine learning\n",
        "from sklearn.model_selection import train_test_split, GridSearchCV\n",
        "from sklearn.metrics import mean_squared_error, mean_absolute_percentage_error, r2_score\n",
        "from sklearn.linear_model import LogisticRegression\n",
        "from sklearn.ensemble import RandomForestClassifier, GradientBoostingClassifier\n",
        "from sklearn.pipeline import Pipeline \n",
        "from sklearn.compose import ColumnTransformer, make_column_selector\n",
        "from sklearn.impute import SimpleImputer\n",
        "from sklearn.preprocessing import OneHotEncoder, LabelBinarizer, StandardScaler\n",
        "from sklearn import config_context, tree\n",
        "from sklearn.metrics import classification_report, confusion_matrix, ConfusionMatrixDisplay, roc_curve, roc_auc_score"
      ],
      "metadata": {
        "id": "PqlyBebnngSw"
      },
      "execution_count": 424,
      "outputs": []
    },
    {
      "cell_type": "markdown",
      "source": [
        "## Load Data\n",
        "\n",
        "Load the traffic accidents data provided using pandas and read it as a dataframe. Please note that the The repository is private so I have to use token to access .csv file."
      ],
      "metadata": {
        "id": "8ToIjCKinq-E"
      }
    },
    {
      "cell_type": "code",
      "source": [
        "penguins = pd.read_csv('https://raw.githubusercontent.com/vanderbilt-ml/50-shah-mlproj-traffic-accidents/main/Traffic_Accidents.csv')\n",
        "display(penguins.head())\n",
        "penguins.info()"
      ],
      "metadata": {
        "colab": {
          "base_uri": "https://localhost:8080/",
          "height": 449
        },
        "id": "QJcZnfpTn44c",
        "outputId": "8f4f649f-d9c8-4125-8327-f16b0454ceb5"
      },
      "execution_count": 425,
      "outputs": [
        {
          "output_type": "display_data",
          "data": {
            "text/plain": [
              "   AccidentNumber AccidentDate CollisionType Weather Illumination Precinct  \\\n",
              "0               1     6/9/2022         Front   CLEAR     DAYLIGHT    SOUTH   \n",
              "1               2     6/9/2022    Side Swipe   CLEAR     DAYLIGHT   MIDTOW   \n",
              "2               3     6/9/2022         Angle   CLEAR     DAYLIGHT   MIDTOW   \n",
              "3               4     6/9/2022         Angle   CLEAR     DAYLIGHT    SOUTH   \n",
              "4               5     6/9/2022         Angle   CLEAR     DAYLIGHT   HERMIT   \n",
              "\n",
              "  Injury  \n",
              "0    Yes  \n",
              "1     No  \n",
              "2     No  \n",
              "3    Yes  \n",
              "4    Yes  "
            ],
            "text/html": [
              "\n",
              "  <div id=\"df-cdd46bdb-f5a4-4c6e-b1f8-1801f9bebe2d\">\n",
              "    <div class=\"colab-df-container\">\n",
              "      <div>\n",
              "<style scoped>\n",
              "    .dataframe tbody tr th:only-of-type {\n",
              "        vertical-align: middle;\n",
              "    }\n",
              "\n",
              "    .dataframe tbody tr th {\n",
              "        vertical-align: top;\n",
              "    }\n",
              "\n",
              "    .dataframe thead th {\n",
              "        text-align: right;\n",
              "    }\n",
              "</style>\n",
              "<table border=\"1\" class=\"dataframe\">\n",
              "  <thead>\n",
              "    <tr style=\"text-align: right;\">\n",
              "      <th></th>\n",
              "      <th>AccidentNumber</th>\n",
              "      <th>AccidentDate</th>\n",
              "      <th>CollisionType</th>\n",
              "      <th>Weather</th>\n",
              "      <th>Illumination</th>\n",
              "      <th>Precinct</th>\n",
              "      <th>Injury</th>\n",
              "    </tr>\n",
              "  </thead>\n",
              "  <tbody>\n",
              "    <tr>\n",
              "      <th>0</th>\n",
              "      <td>1</td>\n",
              "      <td>6/9/2022</td>\n",
              "      <td>Front</td>\n",
              "      <td>CLEAR</td>\n",
              "      <td>DAYLIGHT</td>\n",
              "      <td>SOUTH</td>\n",
              "      <td>Yes</td>\n",
              "    </tr>\n",
              "    <tr>\n",
              "      <th>1</th>\n",
              "      <td>2</td>\n",
              "      <td>6/9/2022</td>\n",
              "      <td>Side Swipe</td>\n",
              "      <td>CLEAR</td>\n",
              "      <td>DAYLIGHT</td>\n",
              "      <td>MIDTOW</td>\n",
              "      <td>No</td>\n",
              "    </tr>\n",
              "    <tr>\n",
              "      <th>2</th>\n",
              "      <td>3</td>\n",
              "      <td>6/9/2022</td>\n",
              "      <td>Angle</td>\n",
              "      <td>CLEAR</td>\n",
              "      <td>DAYLIGHT</td>\n",
              "      <td>MIDTOW</td>\n",
              "      <td>No</td>\n",
              "    </tr>\n",
              "    <tr>\n",
              "      <th>3</th>\n",
              "      <td>4</td>\n",
              "      <td>6/9/2022</td>\n",
              "      <td>Angle</td>\n",
              "      <td>CLEAR</td>\n",
              "      <td>DAYLIGHT</td>\n",
              "      <td>SOUTH</td>\n",
              "      <td>Yes</td>\n",
              "    </tr>\n",
              "    <tr>\n",
              "      <th>4</th>\n",
              "      <td>5</td>\n",
              "      <td>6/9/2022</td>\n",
              "      <td>Angle</td>\n",
              "      <td>CLEAR</td>\n",
              "      <td>DAYLIGHT</td>\n",
              "      <td>HERMIT</td>\n",
              "      <td>Yes</td>\n",
              "    </tr>\n",
              "  </tbody>\n",
              "</table>\n",
              "</div>\n",
              "      <button class=\"colab-df-convert\" onclick=\"convertToInteractive('df-cdd46bdb-f5a4-4c6e-b1f8-1801f9bebe2d')\"\n",
              "              title=\"Convert this dataframe to an interactive table.\"\n",
              "              style=\"display:none;\">\n",
              "        \n",
              "  <svg xmlns=\"http://www.w3.org/2000/svg\" height=\"24px\"viewBox=\"0 0 24 24\"\n",
              "       width=\"24px\">\n",
              "    <path d=\"M0 0h24v24H0V0z\" fill=\"none\"/>\n",
              "    <path d=\"M18.56 5.44l.94 2.06.94-2.06 2.06-.94-2.06-.94-.94-2.06-.94 2.06-2.06.94zm-11 1L8.5 8.5l.94-2.06 2.06-.94-2.06-.94L8.5 2.5l-.94 2.06-2.06.94zm10 10l.94 2.06.94-2.06 2.06-.94-2.06-.94-.94-2.06-.94 2.06-2.06.94z\"/><path d=\"M17.41 7.96l-1.37-1.37c-.4-.4-.92-.59-1.43-.59-.52 0-1.04.2-1.43.59L10.3 9.45l-7.72 7.72c-.78.78-.78 2.05 0 2.83L4 21.41c.39.39.9.59 1.41.59.51 0 1.02-.2 1.41-.59l7.78-7.78 2.81-2.81c.8-.78.8-2.07 0-2.86zM5.41 20L4 18.59l7.72-7.72 1.47 1.35L5.41 20z\"/>\n",
              "  </svg>\n",
              "      </button>\n",
              "      \n",
              "  <style>\n",
              "    .colab-df-container {\n",
              "      display:flex;\n",
              "      flex-wrap:wrap;\n",
              "      gap: 12px;\n",
              "    }\n",
              "\n",
              "    .colab-df-convert {\n",
              "      background-color: #E8F0FE;\n",
              "      border: none;\n",
              "      border-radius: 50%;\n",
              "      cursor: pointer;\n",
              "      display: none;\n",
              "      fill: #1967D2;\n",
              "      height: 32px;\n",
              "      padding: 0 0 0 0;\n",
              "      width: 32px;\n",
              "    }\n",
              "\n",
              "    .colab-df-convert:hover {\n",
              "      background-color: #E2EBFA;\n",
              "      box-shadow: 0px 1px 2px rgba(60, 64, 67, 0.3), 0px 1px 3px 1px rgba(60, 64, 67, 0.15);\n",
              "      fill: #174EA6;\n",
              "    }\n",
              "\n",
              "    [theme=dark] .colab-df-convert {\n",
              "      background-color: #3B4455;\n",
              "      fill: #D2E3FC;\n",
              "    }\n",
              "\n",
              "    [theme=dark] .colab-df-convert:hover {\n",
              "      background-color: #434B5C;\n",
              "      box-shadow: 0px 1px 3px 1px rgba(0, 0, 0, 0.15);\n",
              "      filter: drop-shadow(0px 1px 2px rgba(0, 0, 0, 0.3));\n",
              "      fill: #FFFFFF;\n",
              "    }\n",
              "  </style>\n",
              "\n",
              "      <script>\n",
              "        const buttonEl =\n",
              "          document.querySelector('#df-cdd46bdb-f5a4-4c6e-b1f8-1801f9bebe2d button.colab-df-convert');\n",
              "        buttonEl.style.display =\n",
              "          google.colab.kernel.accessAllowed ? 'block' : 'none';\n",
              "\n",
              "        async function convertToInteractive(key) {\n",
              "          const element = document.querySelector('#df-cdd46bdb-f5a4-4c6e-b1f8-1801f9bebe2d');\n",
              "          const dataTable =\n",
              "            await google.colab.kernel.invokeFunction('convertToInteractive',\n",
              "                                                     [key], {});\n",
              "          if (!dataTable) return;\n",
              "\n",
              "          const docLinkHtml = 'Like what you see? Visit the ' +\n",
              "            '<a target=\"_blank\" href=https://colab.research.google.com/notebooks/data_table.ipynb>data table notebook</a>'\n",
              "            + ' to learn more about interactive tables.';\n",
              "          element.innerHTML = '';\n",
              "          dataTable['output_type'] = 'display_data';\n",
              "          await google.colab.output.renderOutput(dataTable, element);\n",
              "          const docLink = document.createElement('div');\n",
              "          docLink.innerHTML = docLinkHtml;\n",
              "          element.appendChild(docLink);\n",
              "        }\n",
              "      </script>\n",
              "    </div>\n",
              "  </div>\n",
              "  "
            ]
          },
          "metadata": {}
        },
        {
          "output_type": "stream",
          "name": "stdout",
          "text": [
            "<class 'pandas.core.frame.DataFrame'>\n",
            "RangeIndex: 7762 entries, 0 to 7761\n",
            "Data columns (total 7 columns):\n",
            " #   Column          Non-Null Count  Dtype \n",
            "---  ------          --------------  ----- \n",
            " 0   AccidentNumber  7762 non-null   int64 \n",
            " 1   AccidentDate    7762 non-null   object\n",
            " 2   CollisionType   7762 non-null   object\n",
            " 3   Weather         7762 non-null   object\n",
            " 4   Illumination    7762 non-null   object\n",
            " 5   Precinct        7762 non-null   object\n",
            " 6   Injury          7762 non-null   object\n",
            "dtypes: int64(1), object(6)\n",
            "memory usage: 424.6+ KB\n"
          ]
        }
      ]
    },
    {
      "cell_type": "markdown",
      "source": [
        "### Data Cleaning\n",
        "Detect and Remove Missing values"
      ],
      "metadata": {
        "id": "t2SqNJRAsEFn"
      }
    },
    {
      "cell_type": "markdown",
      "source": [
        "After exploring and observing the data, there are a few columns with the coded value for which the description is already available. I am removing data values out of the dataframe.\n",
        "\n",
        "The columns are specified below:\n",
        "\n",
        "**Date and Time**, **Reporting Officer**, **Collision Type Code**, **Weather Code**, **Illumination Code**, **Harmful Code**, **RPA**"
      ],
      "metadata": {
        "id": "PQ3tbHHNx1nL"
      }
    },
    {
      "cell_type": "code",
      "source": [
        "penguins.isnull().sum()"
      ],
      "metadata": {
        "id": "Eiq7QHGZZJ0M",
        "outputId": "e4020509-6637-4978-ce27-3ecf749b9449",
        "colab": {
          "base_uri": "https://localhost:8080/"
        }
      },
      "execution_count": 426,
      "outputs": [
        {
          "output_type": "execute_result",
          "data": {
            "text/plain": [
              "AccidentNumber    0\n",
              "AccidentDate      0\n",
              "CollisionType     0\n",
              "Weather           0\n",
              "Illumination      0\n",
              "Precinct          0\n",
              "Injury            0\n",
              "dtype: int64"
            ]
          },
          "metadata": {},
          "execution_count": 426
        }
      ]
    },
    {
      "cell_type": "markdown",
      "source": [
        "## Feature Engineering\n",
        "\n",
        "There are many feature engineering techniques including e.g. Imputation, Handling Outliers, Binning, Log Transform, One-Hot Encoding, Grouping Operations, Feature Split, Scaling etc. \n",
        "\n",
        "We will be applying lesson learned from various assignments lets create some statistics on the  data attached here. Also create the test and train set, pipeline and check/learn the outcome of the data."
      ],
      "metadata": {
        "id": "TN9WjBoCmeew"
      }
    },
    {
      "cell_type": "code",
      "source": [
        "penguins.shape\n",
        "penguins.head()"
      ],
      "metadata": {
        "colab": {
          "base_uri": "https://localhost:8080/",
          "height": 206
        },
        "id": "y_-92sv18tXg",
        "outputId": "a61942b9-622f-4988-885e-4f7efc182e7d"
      },
      "execution_count": 427,
      "outputs": [
        {
          "output_type": "execute_result",
          "data": {
            "text/plain": [
              "   AccidentNumber AccidentDate CollisionType Weather Illumination Precinct  \\\n",
              "0               1     6/9/2022         Front   CLEAR     DAYLIGHT    SOUTH   \n",
              "1               2     6/9/2022    Side Swipe   CLEAR     DAYLIGHT   MIDTOW   \n",
              "2               3     6/9/2022         Angle   CLEAR     DAYLIGHT   MIDTOW   \n",
              "3               4     6/9/2022         Angle   CLEAR     DAYLIGHT    SOUTH   \n",
              "4               5     6/9/2022         Angle   CLEAR     DAYLIGHT   HERMIT   \n",
              "\n",
              "  Injury  \n",
              "0    Yes  \n",
              "1     No  \n",
              "2     No  \n",
              "3    Yes  \n",
              "4    Yes  "
            ],
            "text/html": [
              "\n",
              "  <div id=\"df-dadd437a-102a-4850-8f36-15e1daaef72d\">\n",
              "    <div class=\"colab-df-container\">\n",
              "      <div>\n",
              "<style scoped>\n",
              "    .dataframe tbody tr th:only-of-type {\n",
              "        vertical-align: middle;\n",
              "    }\n",
              "\n",
              "    .dataframe tbody tr th {\n",
              "        vertical-align: top;\n",
              "    }\n",
              "\n",
              "    .dataframe thead th {\n",
              "        text-align: right;\n",
              "    }\n",
              "</style>\n",
              "<table border=\"1\" class=\"dataframe\">\n",
              "  <thead>\n",
              "    <tr style=\"text-align: right;\">\n",
              "      <th></th>\n",
              "      <th>AccidentNumber</th>\n",
              "      <th>AccidentDate</th>\n",
              "      <th>CollisionType</th>\n",
              "      <th>Weather</th>\n",
              "      <th>Illumination</th>\n",
              "      <th>Precinct</th>\n",
              "      <th>Injury</th>\n",
              "    </tr>\n",
              "  </thead>\n",
              "  <tbody>\n",
              "    <tr>\n",
              "      <th>0</th>\n",
              "      <td>1</td>\n",
              "      <td>6/9/2022</td>\n",
              "      <td>Front</td>\n",
              "      <td>CLEAR</td>\n",
              "      <td>DAYLIGHT</td>\n",
              "      <td>SOUTH</td>\n",
              "      <td>Yes</td>\n",
              "    </tr>\n",
              "    <tr>\n",
              "      <th>1</th>\n",
              "      <td>2</td>\n",
              "      <td>6/9/2022</td>\n",
              "      <td>Side Swipe</td>\n",
              "      <td>CLEAR</td>\n",
              "      <td>DAYLIGHT</td>\n",
              "      <td>MIDTOW</td>\n",
              "      <td>No</td>\n",
              "    </tr>\n",
              "    <tr>\n",
              "      <th>2</th>\n",
              "      <td>3</td>\n",
              "      <td>6/9/2022</td>\n",
              "      <td>Angle</td>\n",
              "      <td>CLEAR</td>\n",
              "      <td>DAYLIGHT</td>\n",
              "      <td>MIDTOW</td>\n",
              "      <td>No</td>\n",
              "    </tr>\n",
              "    <tr>\n",
              "      <th>3</th>\n",
              "      <td>4</td>\n",
              "      <td>6/9/2022</td>\n",
              "      <td>Angle</td>\n",
              "      <td>CLEAR</td>\n",
              "      <td>DAYLIGHT</td>\n",
              "      <td>SOUTH</td>\n",
              "      <td>Yes</td>\n",
              "    </tr>\n",
              "    <tr>\n",
              "      <th>4</th>\n",
              "      <td>5</td>\n",
              "      <td>6/9/2022</td>\n",
              "      <td>Angle</td>\n",
              "      <td>CLEAR</td>\n",
              "      <td>DAYLIGHT</td>\n",
              "      <td>HERMIT</td>\n",
              "      <td>Yes</td>\n",
              "    </tr>\n",
              "  </tbody>\n",
              "</table>\n",
              "</div>\n",
              "      <button class=\"colab-df-convert\" onclick=\"convertToInteractive('df-dadd437a-102a-4850-8f36-15e1daaef72d')\"\n",
              "              title=\"Convert this dataframe to an interactive table.\"\n",
              "              style=\"display:none;\">\n",
              "        \n",
              "  <svg xmlns=\"http://www.w3.org/2000/svg\" height=\"24px\"viewBox=\"0 0 24 24\"\n",
              "       width=\"24px\">\n",
              "    <path d=\"M0 0h24v24H0V0z\" fill=\"none\"/>\n",
              "    <path d=\"M18.56 5.44l.94 2.06.94-2.06 2.06-.94-2.06-.94-.94-2.06-.94 2.06-2.06.94zm-11 1L8.5 8.5l.94-2.06 2.06-.94-2.06-.94L8.5 2.5l-.94 2.06-2.06.94zm10 10l.94 2.06.94-2.06 2.06-.94-2.06-.94-.94-2.06-.94 2.06-2.06.94z\"/><path d=\"M17.41 7.96l-1.37-1.37c-.4-.4-.92-.59-1.43-.59-.52 0-1.04.2-1.43.59L10.3 9.45l-7.72 7.72c-.78.78-.78 2.05 0 2.83L4 21.41c.39.39.9.59 1.41.59.51 0 1.02-.2 1.41-.59l7.78-7.78 2.81-2.81c.8-.78.8-2.07 0-2.86zM5.41 20L4 18.59l7.72-7.72 1.47 1.35L5.41 20z\"/>\n",
              "  </svg>\n",
              "      </button>\n",
              "      \n",
              "  <style>\n",
              "    .colab-df-container {\n",
              "      display:flex;\n",
              "      flex-wrap:wrap;\n",
              "      gap: 12px;\n",
              "    }\n",
              "\n",
              "    .colab-df-convert {\n",
              "      background-color: #E8F0FE;\n",
              "      border: none;\n",
              "      border-radius: 50%;\n",
              "      cursor: pointer;\n",
              "      display: none;\n",
              "      fill: #1967D2;\n",
              "      height: 32px;\n",
              "      padding: 0 0 0 0;\n",
              "      width: 32px;\n",
              "    }\n",
              "\n",
              "    .colab-df-convert:hover {\n",
              "      background-color: #E2EBFA;\n",
              "      box-shadow: 0px 1px 2px rgba(60, 64, 67, 0.3), 0px 1px 3px 1px rgba(60, 64, 67, 0.15);\n",
              "      fill: #174EA6;\n",
              "    }\n",
              "\n",
              "    [theme=dark] .colab-df-convert {\n",
              "      background-color: #3B4455;\n",
              "      fill: #D2E3FC;\n",
              "    }\n",
              "\n",
              "    [theme=dark] .colab-df-convert:hover {\n",
              "      background-color: #434B5C;\n",
              "      box-shadow: 0px 1px 3px 1px rgba(0, 0, 0, 0.15);\n",
              "      filter: drop-shadow(0px 1px 2px rgba(0, 0, 0, 0.3));\n",
              "      fill: #FFFFFF;\n",
              "    }\n",
              "  </style>\n",
              "\n",
              "      <script>\n",
              "        const buttonEl =\n",
              "          document.querySelector('#df-dadd437a-102a-4850-8f36-15e1daaef72d button.colab-df-convert');\n",
              "        buttonEl.style.display =\n",
              "          google.colab.kernel.accessAllowed ? 'block' : 'none';\n",
              "\n",
              "        async function convertToInteractive(key) {\n",
              "          const element = document.querySelector('#df-dadd437a-102a-4850-8f36-15e1daaef72d');\n",
              "          const dataTable =\n",
              "            await google.colab.kernel.invokeFunction('convertToInteractive',\n",
              "                                                     [key], {});\n",
              "          if (!dataTable) return;\n",
              "\n",
              "          const docLinkHtml = 'Like what you see? Visit the ' +\n",
              "            '<a target=\"_blank\" href=https://colab.research.google.com/notebooks/data_table.ipynb>data table notebook</a>'\n",
              "            + ' to learn more about interactive tables.';\n",
              "          element.innerHTML = '';\n",
              "          dataTable['output_type'] = 'display_data';\n",
              "          await google.colab.output.renderOutput(dataTable, element);\n",
              "          const docLink = document.createElement('div');\n",
              "          docLink.innerHTML = docLinkHtml;\n",
              "          element.appendChild(docLink);\n",
              "        }\n",
              "      </script>\n",
              "    </div>\n",
              "  </div>\n",
              "  "
            ]
          },
          "metadata": {},
          "execution_count": 427
        }
      ]
    },
    {
      "cell_type": "markdown",
      "source": [
        "**Total Number of accidents based on Collission Type**"
      ],
      "metadata": {
        "id": "l60RoL1n-Wv2"
      }
    },
    {
      "cell_type": "code",
      "source": [
        "penguins[\"CollisionType\"].unique()"
      ],
      "metadata": {
        "colab": {
          "base_uri": "https://localhost:8080/"
        },
        "id": "3e15Tlzj8aKf",
        "outputId": "5b15df97-06ec-45d4-893d-21ece25080a3"
      },
      "execution_count": 428,
      "outputs": [
        {
          "output_type": "execute_result",
          "data": {
            "text/plain": [
              "array(['Front', 'Side Swipe', 'Angle', 'Other', 'Head On', 'Rear'],\n",
              "      dtype=object)"
            ]
          },
          "metadata": {},
          "execution_count": 428
        }
      ]
    },
    {
      "cell_type": "code",
      "source": [
        "collision_types = penguins[\"CollisionType\"].unique()"
      ],
      "metadata": {
        "id": "ab_IUszz985Y"
      },
      "execution_count": 429,
      "outputs": []
    },
    {
      "cell_type": "code",
      "source": [
        "counts_by_collision_type=[]\n",
        "for i in penguins[\"CollisionType\"].unique(): counts_by_collision_type.append(penguins[penguins['CollisionType']==i].count()['AccidentNumber'])\n",
        "\n",
        "fig,ax = plt.subplots(figsize=(16,10))\n",
        "sns.barplot(collision_types, counts_by_collision_type)"
      ],
      "metadata": {
        "colab": {
          "base_uri": "https://localhost:8080/",
          "height": 664
        },
        "id": "CKkKYDHF9dww",
        "outputId": "dc82f204-d7f1-465b-9c18-50f20ca000ad"
      },
      "execution_count": 430,
      "outputs": [
        {
          "output_type": "stream",
          "name": "stderr",
          "text": [
            "/usr/local/lib/python3.7/dist-packages/seaborn/_decorators.py:43: FutureWarning: Pass the following variables as keyword args: x, y. From version 0.12, the only valid positional argument will be `data`, and passing other arguments without an explicit keyword will result in an error or misinterpretation.\n",
            "  FutureWarning\n"
          ]
        },
        {
          "output_type": "execute_result",
          "data": {
            "text/plain": [
              "<matplotlib.axes._subplots.AxesSubplot at 0x7fc779148f50>"
            ]
          },
          "metadata": {},
          "execution_count": 430
        },
        {
          "output_type": "display_data",
          "data": {
            "text/plain": [
              "<Figure size 1152x720 with 1 Axes>"
            ],
            "image/png": "[encoded data removed]"
          },
          "metadata": {
            "needs_background": "light"
          }
        }
      ]
    },
    {
      "cell_type": "markdown",
      "source": [
        "**Total Number of accidents based on Weather Condition**"
      ],
      "metadata": {
        "id": "8oaPjdVo-hVJ"
      }
    },
    {
      "cell_type": "code",
      "source": [
        "penguins[\"Weather\"].unique()"
      ],
      "metadata": {
        "colab": {
          "base_uri": "https://localhost:8080/"
        },
        "id": "XPPB-WvL-gU9",
        "outputId": "c0959312-c394-4d89-91bc-0125d52bc6ac"
      },
      "execution_count": 431,
      "outputs": [
        {
          "output_type": "execute_result",
          "data": {
            "text/plain": [
              "array(['CLEAR', 'CLOUDY', 'RAIN', 'Other', 'FOG', 'SNOW', 'Sleet', 'Snow'],\n",
              "      dtype=object)"
            ]
          },
          "metadata": {},
          "execution_count": 431
        }
      ]
    },
    {
      "cell_type": "code",
      "source": [
        "weather_conditions = penguins[\"Weather\"].unique()"
      ],
      "metadata": {
        "id": "Eg1mzXFv-2JB"
      },
      "execution_count": 433,
      "outputs": []
    },
    {
      "cell_type": "code",
      "source": [
        "counts_by_weather_condition=[]\n",
        "for i in penguins[\"Weather\"].unique(): counts_by_weather_condition.append(penguins[penguins['Weather']==i].count()['AccidentNumber'])\n",
        "\n",
        "fig,ax = plt.subplots(figsize=(16,10))\n",
        "sns.barplot(weather_conditions, counts_by_weather_condition)"
      ],
      "metadata": {
        "colab": {
          "base_uri": "https://localhost:8080/",
          "height": 664
        },
        "id": "tUAf1Z9A-9_d",
        "outputId": "a2a7b861-8131-4bc7-f77f-ac43fb7eff32"
      },
      "execution_count": 434,
      "outputs": [
        {
          "output_type": "stream",
          "name": "stderr",
          "text": [
            "/usr/local/lib/python3.7/dist-packages/seaborn/_decorators.py:43: FutureWarning: Pass the following variables as keyword args: x, y. From version 0.12, the only valid positional argument will be `data`, and passing other arguments without an explicit keyword will result in an error or misinterpretation.\n",
            "  FutureWarning\n"
          ]
        },
        {
          "output_type": "execute_result",
          "data": {
            "text/plain": [
              "<matplotlib.axes._subplots.AxesSubplot at 0x7fc779758f50>"
            ]
          },
          "metadata": {},
          "execution_count": 434
        },
        {
          "output_type": "display_data",
          "data": {
            "text/plain": [
              "<Figure size 1152x720 with 1 Axes>"
            ],
            "image/png": "[encoded data removed]"
          },
          "metadata": {
            "needs_background": "light"
          }
        }
      ]
    },
    {
      "cell_type": "markdown",
      "source": [
        "**Total Number of accidents by Day Of Week**"
      ],
      "metadata": {
        "id": "9DCUrrgcBTaU"
      }
    },
    {
      "cell_type": "code",
      "source": [
        "accident_DOW = pd.to_datetime(penguins[\"AccidentDate\"]).dt.day_name().unique()"
      ],
      "metadata": {
        "id": "mYZBVupeBSj7"
      },
      "execution_count": 435,
      "outputs": []
    },
    {
      "cell_type": "code",
      "source": [
        "print(accident_DOW)"
      ],
      "metadata": {
        "colab": {
          "base_uri": "https://localhost:8080/"
        },
        "id": "ZfV0nxRBHYhi",
        "outputId": "ea29c51a-40f7-422f-f28c-6f8e54116a24"
      },
      "execution_count": 436,
      "outputs": [
        {
          "output_type": "stream",
          "name": "stdout",
          "text": [
            "['Thursday' 'Wednesday' 'Tuesday' 'Monday' 'Sunday' 'Saturday' 'Friday']\n"
          ]
        }
      ]
    },
    {
      "cell_type": "code",
      "source": [
        "counts_by_DOW=[]\n",
        "for i in pd.to_datetime(penguins[\"AccidentDate\"]).dt.day_name().unique(): counts_by_DOW.append(penguins[pd.to_datetime(penguins[\"AccidentDate\"]).dt.day_name()==i].count()['AccidentNumber'])\n",
        "\n",
        "fig,ax = plt.subplots(figsize=(16,10))\n",
        "sns.barplot(accident_DOW, counts_by_DOW)"
      ],
      "metadata": {
        "colab": {
          "base_uri": "https://localhost:8080/",
          "height": 664
        },
        "id": "VcIHQSw6FY8r",
        "outputId": "572746ea-cca6-41ca-a7de-8e57b5a10afe"
      },
      "execution_count": 437,
      "outputs": [
        {
          "output_type": "stream",
          "name": "stderr",
          "text": [
            "/usr/local/lib/python3.7/dist-packages/seaborn/_decorators.py:43: FutureWarning: Pass the following variables as keyword args: x, y. From version 0.12, the only valid positional argument will be `data`, and passing other arguments without an explicit keyword will result in an error or misinterpretation.\n",
            "  FutureWarning\n"
          ]
        },
        {
          "output_type": "execute_result",
          "data": {
            "text/plain": [
              "<matplotlib.axes._subplots.AxesSubplot at 0x7fc777471fd0>"
            ]
          },
          "metadata": {},
          "execution_count": 437
        },
        {
          "output_type": "display_data",
          "data": {
            "text/plain": [
              "<Figure size 1152x720 with 1 Axes>"
            ],
            "image/png": "[encoded data removed]"
          },
          "metadata": {
            "needs_background": "light"
          }
        }
      ]
    },
    {
      "cell_type": "code",
      "source": [
        "penguins = penguins.drop(columns=['AccidentDate'])\n",
        "penguins.shape\n",
        "print(penguins.columns)"
      ],
      "metadata": {
        "colab": {
          "base_uri": "https://localhost:8080/"
        },
        "id": "sLZN0bplOSYV",
        "outputId": "9aafde55-f441-4b22-8a86-e75519f3f870"
      },
      "execution_count": 438,
      "outputs": [
        {
          "output_type": "stream",
          "name": "stdout",
          "text": [
            "Index(['AccidentNumber', 'CollisionType', 'Weather', 'Illumination',\n",
            "       'Precinct', 'Injury'],\n",
            "      dtype='object')\n"
          ]
        }
      ]
    },
    {
      "cell_type": "markdown",
      "source": [
        "**Build Test and Train Set**"
      ],
      "metadata": {
        "id": "SDl0K2ya1aDa"
      }
    },
    {
      "cell_type": "code",
      "source": [
        "class_column = 'Injury'\n",
        "random_seed = 2435\n",
        "\n",
        "X_train, X_test, Y_train, Y_test = train_test_split(penguins.drop(columns=class_column), penguins[class_column],\n",
        "                                                   test_size=0.25, random_state=random_seed, stratify=penguins[class_column])"
      ],
      "metadata": {
        "id": "fv3BwRH_1Zqy"
      },
      "execution_count": 439,
      "outputs": []
    },
    {
      "cell_type": "code",
      "source": [
        "# X Train\n",
        "print('On X train: ')\n",
        "print('X train dimensions: ', X_train.shape)\n",
        "display(X_train.head())\n",
        "\n",
        "# X test\n",
        "print('\\nOn X test: ')\n",
        "print('X test dimensions: ', X_test.shape)\n",
        "display(X_test.head())"
      ],
      "metadata": {
        "colab": {
          "base_uri": "https://localhost:8080/",
          "height": 482
        },
        "id": "adKFjOav4DRr",
        "outputId": "0b902c5e-9fe7-454b-d05d-180b47947a03"
      },
      "execution_count": 440,
      "outputs": [
        {
          "output_type": "stream",
          "name": "stdout",
          "text": [
            "On X train: \n",
            "X train dimensions:  (5821, 5)\n"
          ]
        },
        {
          "output_type": "display_data",
          "data": {
            "text/plain": [
              "      AccidentNumber CollisionType Weather    Illumination Precinct\n",
              "6323            6324         Other   CLEAR  DARK - LIGHTED     WEST\n",
              "3024            3025    Side Swipe   CLEAR        DAYLIGHT    SOUTH\n",
              "1009            1010         Front   CLEAR        DAYLIGHT     WEST\n",
              "2078            2079         Angle   CLEAR        DAYLIGHT   HERMIT\n",
              "7245            7246    Side Swipe   CLEAR  DARK - LIGHTED   CENTRA"
            ],
            "text/html": [
              "\n",
              "  <div id=\"df-7a607409-f6df-4f09-a9f5-95c040862c39\">\n",
              "    <div class=\"colab-df-container\">\n",
              "      <div>\n",
              "<style scoped>\n",
              "    .dataframe tbody tr th:only-of-type {\n",
              "        vertical-align: middle;\n",
              "    }\n",
              "\n",
              "    .dataframe tbody tr th {\n",
              "        vertical-align: top;\n",
              "    }\n",
              "\n",
              "    .dataframe thead th {\n",
              "        text-align: right;\n",
              "    }\n",
              "</style>\n",
              "<table border=\"1\" class=\"dataframe\">\n",
              "  <thead>\n",
              "    <tr style=\"text-align: right;\">\n",
              "      <th></th>\n",
              "      <th>AccidentNumber</th>\n",
              "      <th>CollisionType</th>\n",
              "      <th>Weather</th>\n",
              "      <th>Illumination</th>\n",
              "      <th>Precinct</th>\n",
              "    </tr>\n",
              "  </thead>\n",
              "  <tbody>\n",
              "    <tr>\n",
              "      <th>6323</th>\n",
              "      <td>6324</td>\n",
              "      <td>Other</td>\n",
              "      <td>CLEAR</td>\n",
              "      <td>DARK - LIGHTED</td>\n",
              "      <td>WEST</td>\n",
              "    </tr>\n",
              "    <tr>\n",
              "      <th>3024</th>\n",
              "      <td>3025</td>\n",
              "      <td>Side Swipe</td>\n",
              "      <td>CLEAR</td>\n",
              "      <td>DAYLIGHT</td>\n",
              "      <td>SOUTH</td>\n",
              "    </tr>\n",
              "    <tr>\n",
              "      <th>1009</th>\n",
              "      <td>1010</td>\n",
              "      <td>Front</td>\n",
              "      <td>CLEAR</td>\n",
              "      <td>DAYLIGHT</td>\n",
              "      <td>WEST</td>\n",
              "    </tr>\n",
              "    <tr>\n",
              "      <th>2078</th>\n",
              "      <td>2079</td>\n",
              "      <td>Angle</td>\n",
              "      <td>CLEAR</td>\n",
              "      <td>DAYLIGHT</td>\n",
              "      <td>HERMIT</td>\n",
              "    </tr>\n",
              "    <tr>\n",
              "      <th>7245</th>\n",
              "      <td>7246</td>\n",
              "      <td>Side Swipe</td>\n",
              "      <td>CLEAR</td>\n",
              "      <td>DARK - LIGHTED</td>\n",
              "      <td>CENTRA</td>\n",
              "    </tr>\n",
              "  </tbody>\n",
              "</table>\n",
              "</div>\n",
              "      <button class=\"colab-df-convert\" onclick=\"convertToInteractive('df-7a607409-f6df-4f09-a9f5-95c040862c39')\"\n",
              "              title=\"Convert this dataframe to an interactive table.\"\n",
              "              style=\"display:none;\">\n",
              "        \n",
              "  <svg xmlns=\"http://www.w3.org/2000/svg\" height=\"24px\"viewBox=\"0 0 24 24\"\n",
              "       width=\"24px\">\n",
              "    <path d=\"M0 0h24v24H0V0z\" fill=\"none\"/>\n",
              "    <path d=\"M18.56 5.44l.94 2.06.94-2.06 2.06-.94-2.06-.94-.94-2.06-.94 2.06-2.06.94zm-11 1L8.5 8.5l.94-2.06 2.06-.94-2.06-.94L8.5 2.5l-.94 2.06-2.06.94zm10 10l.94 2.06.94-2.06 2.06-.94-2.06-.94-.94-2.06-.94 2.06-2.06.94z\"/><path d=\"M17.41 7.96l-1.37-1.37c-.4-.4-.92-.59-1.43-.59-.52 0-1.04.2-1.43.59L10.3 9.45l-7.72 7.72c-.78.78-.78 2.05 0 2.83L4 21.41c.39.39.9.59 1.41.59.51 0 1.02-.2 1.41-.59l7.78-7.78 2.81-2.81c.8-.78.8-2.07 0-2.86zM5.41 20L4 18.59l7.72-7.72 1.47 1.35L5.41 20z\"/>\n",
              "  </svg>\n",
              "      </button>\n",
              "      \n",
              "  <style>\n",
              "    .colab-df-container {\n",
              "      display:flex;\n",
              "      flex-wrap:wrap;\n",
              "      gap: 12px;\n",
              "    }\n",
              "\n",
              "    .colab-df-convert {\n",
              "      background-color: #E8F0FE;\n",
              "      border: none;\n",
              "      border-radius: 50%;\n",
              "      cursor: pointer;\n",
              "      display: none;\n",
              "      fill: #1967D2;\n",
              "      height: 32px;\n",
              "      padding: 0 0 0 0;\n",
              "      width: 32px;\n",
              "    }\n",
              "\n",
              "    .colab-df-convert:hover {\n",
              "      background-color: #E2EBFA;\n",
              "      box-shadow: 0px 1px 2px rgba(60, 64, 67, 0.3), 0px 1px 3px 1px rgba(60, 64, 67, 0.15);\n",
              "      fill: #174EA6;\n",
              "    }\n",
              "\n",
              "    [theme=dark] .colab-df-convert {\n",
              "      background-color: #3B4455;\n",
              "      fill: #D2E3FC;\n",
              "    }\n",
              "\n",
              "    [theme=dark] .colab-df-convert:hover {\n",
              "      background-color: #434B5C;\n",
              "      box-shadow: 0px 1px 3px 1px rgba(0, 0, 0, 0.15);\n",
              "      filter: drop-shadow(0px 1px 2px rgba(0, 0, 0, 0.3));\n",
              "      fill: #FFFFFF;\n",
              "    }\n",
              "  </style>\n",
              "\n",
              "      <script>\n",
              "        const buttonEl =\n",
              "          document.querySelector('#df-7a607409-f6df-4f09-a9f5-95c040862c39 button.colab-df-convert');\n",
              "        buttonEl.style.display =\n",
              "          google.colab.kernel.accessAllowed ? 'block' : 'none';\n",
              "\n",
              "        async function convertToInteractive(key) {\n",
              "          const element = document.querySelector('#df-7a607409-f6df-4f09-a9f5-95c040862c39');\n",
              "          const dataTable =\n",
              "            await google.colab.kernel.invokeFunction('convertToInteractive',\n",
              "                                                     [key], {});\n",
              "          if (!dataTable) return;\n",
              "\n",
              "          const docLinkHtml = 'Like what you see? Visit the ' +\n",
              "            '<a target=\"_blank\" href=https://colab.research.google.com/notebooks/data_table.ipynb>data table notebook</a>'\n",
              "            + ' to learn more about interactive tables.';\n",
              "          element.innerHTML = '';\n",
              "          dataTable['output_type'] = 'display_data';\n",
              "          await google.colab.output.renderOutput(dataTable, element);\n",
              "          const docLink = document.createElement('div');\n",
              "          docLink.innerHTML = docLinkHtml;\n",
              "          element.appendChild(docLink);\n",
              "        }\n",
              "      </script>\n",
              "    </div>\n",
              "  </div>\n",
              "  "
            ]
          },
          "metadata": {}
        },
        {
          "output_type": "stream",
          "name": "stdout",
          "text": [
            "\n",
            "On X test: \n",
            "X test dimensions:  (1941, 5)\n"
          ]
        },
        {
          "output_type": "display_data",
          "data": {
            "text/plain": [
              "      AccidentNumber CollisionType Weather    Illumination Precinct\n",
              "2692            2693         Other    RAIN  DARK - LIGHTED    SOUTH\n",
              "4371            4372         Other    SNOW  DARK - LIGHTED     WEST\n",
              "4770            4771         Front   CLEAR        DAYLIGHT     EAST\n",
              "3091            3092         Front  CLOUDY        DAYLIGHT    SOUTH\n",
              "3208            3209         Angle  CLOUDY        DAYLIGHT   HERMIT"
            ],
            "text/html": [
              "\n",
              "  <div id=\"df-91e32e4b-0f85-4db0-9892-2779294e583f\">\n",
              "    <div class=\"colab-df-container\">\n",
              "      <div>\n",
              "<style scoped>\n",
              "    .dataframe tbody tr th:only-of-type {\n",
              "        vertical-align: middle;\n",
              "    }\n",
              "\n",
              "    .dataframe tbody tr th {\n",
              "        vertical-align: top;\n",
              "    }\n",
              "\n",
              "    .dataframe thead th {\n",
              "        text-align: right;\n",
              "    }\n",
              "</style>\n",
              "<table border=\"1\" class=\"dataframe\">\n",
              "  <thead>\n",
              "    <tr style=\"text-align: right;\">\n",
              "      <th></th>\n",
              "      <th>AccidentNumber</th>\n",
              "      <th>CollisionType</th>\n",
              "      <th>Weather</th>\n",
              "      <th>Illumination</th>\n",
              "      <th>Precinct</th>\n",
              "    </tr>\n",
              "  </thead>\n",
              "  <tbody>\n",
              "    <tr>\n",
              "      <th>2692</th>\n",
              "      <td>2693</td>\n",
              "      <td>Other</td>\n",
              "      <td>RAIN</td>\n",
              "      <td>DARK - LIGHTED</td>\n",
              "      <td>SOUTH</td>\n",
              "    </tr>\n",
              "    <tr>\n",
              "      <th>4371</th>\n",
              "      <td>4372</td>\n",
              "      <td>Other</td>\n",
              "      <td>SNOW</td>\n",
              "      <td>DARK - LIGHTED</td>\n",
              "      <td>WEST</td>\n",
              "    </tr>\n",
              "    <tr>\n",
              "      <th>4770</th>\n",
              "      <td>4771</td>\n",
              "      <td>Front</td>\n",
              "      <td>CLEAR</td>\n",
              "      <td>DAYLIGHT</td>\n",
              "      <td>EAST</td>\n",
              "    </tr>\n",
              "    <tr>\n",
              "      <th>3091</th>\n",
              "      <td>3092</td>\n",
              "      <td>Front</td>\n",
              "      <td>CLOUDY</td>\n",
              "      <td>DAYLIGHT</td>\n",
              "      <td>SOUTH</td>\n",
              "    </tr>\n",
              "    <tr>\n",
              "      <th>3208</th>\n",
              "      <td>3209</td>\n",
              "      <td>Angle</td>\n",
              "      <td>CLOUDY</td>\n",
              "      <td>DAYLIGHT</td>\n",
              "      <td>HERMIT</td>\n",
              "    </tr>\n",
              "  </tbody>\n",
              "</table>\n",
              "</div>\n",
              "      <button class=\"colab-df-convert\" onclick=\"convertToInteractive('df-91e32e4b-0f85-4db0-9892-2779294e583f')\"\n",
              "              title=\"Convert this dataframe to an interactive table.\"\n",
              "              style=\"display:none;\">\n",
              "        \n",
              "  <svg xmlns=\"http://www.w3.org/2000/svg\" height=\"24px\"viewBox=\"0 0 24 24\"\n",
              "       width=\"24px\">\n",
              "    <path d=\"M0 0h24v24H0V0z\" fill=\"none\"/>\n",
              "    <path d=\"M18.56 5.44l.94 2.06.94-2.06 2.06-.94-2.06-.94-.94-2.06-.94 2.06-2.06.94zm-11 1L8.5 8.5l.94-2.06 2.06-.94-2.06-.94L8.5 2.5l-.94 2.06-2.06.94zm10 10l.94 2.06.94-2.06 2.06-.94-2.06-.94-.94-2.06-.94 2.06-2.06.94z\"/><path d=\"M17.41 7.96l-1.37-1.37c-.4-.4-.92-.59-1.43-.59-.52 0-1.04.2-1.43.59L10.3 9.45l-7.72 7.72c-.78.78-.78 2.05 0 2.83L4 21.41c.39.39.9.59 1.41.59.51 0 1.02-.2 1.41-.59l7.78-7.78 2.81-2.81c.8-.78.8-2.07 0-2.86zM5.41 20L4 18.59l7.72-7.72 1.47 1.35L5.41 20z\"/>\n",
              "  </svg>\n",
              "      </button>\n",
              "      \n",
              "  <style>\n",
              "    .colab-df-container {\n",
              "      display:flex;\n",
              "      flex-wrap:wrap;\n",
              "      gap: 12px;\n",
              "    }\n",
              "\n",
              "    .colab-df-convert {\n",
              "      background-color: #E8F0FE;\n",
              "      border: none;\n",
              "      border-radius: 50%;\n",
              "      cursor: pointer;\n",
              "      display: none;\n",
              "      fill: #1967D2;\n",
              "      height: 32px;\n",
              "      padding: 0 0 0 0;\n",
              "      width: 32px;\n",
              "    }\n",
              "\n",
              "    .colab-df-convert:hover {\n",
              "      background-color: #E2EBFA;\n",
              "      box-shadow: 0px 1px 2px rgba(60, 64, 67, 0.3), 0px 1px 3px 1px rgba(60, 64, 67, 0.15);\n",
              "      fill: #174EA6;\n",
              "    }\n",
              "\n",
              "    [theme=dark] .colab-df-convert {\n",
              "      background-color: #3B4455;\n",
              "      fill: #D2E3FC;\n",
              "    }\n",
              "\n",
              "    [theme=dark] .colab-df-convert:hover {\n",
              "      background-color: #434B5C;\n",
              "      box-shadow: 0px 1px 3px 1px rgba(0, 0, 0, 0.15);\n",
              "      filter: drop-shadow(0px 1px 2px rgba(0, 0, 0, 0.3));\n",
              "      fill: #FFFFFF;\n",
              "    }\n",
              "  </style>\n",
              "\n",
              "      <script>\n",
              "        const buttonEl =\n",
              "          document.querySelector('#df-91e32e4b-0f85-4db0-9892-2779294e583f button.colab-df-convert');\n",
              "        buttonEl.style.display =\n",
              "          google.colab.kernel.accessAllowed ? 'block' : 'none';\n",
              "\n",
              "        async function convertToInteractive(key) {\n",
              "          const element = document.querySelector('#df-91e32e4b-0f85-4db0-9892-2779294e583f');\n",
              "          const dataTable =\n",
              "            await google.colab.kernel.invokeFunction('convertToInteractive',\n",
              "                                                     [key], {});\n",
              "          if (!dataTable) return;\n",
              "\n",
              "          const docLinkHtml = 'Like what you see? Visit the ' +\n",
              "            '<a target=\"_blank\" href=https://colab.research.google.com/notebooks/data_table.ipynb>data table notebook</a>'\n",
              "            + ' to learn more about interactive tables.';\n",
              "          element.innerHTML = '';\n",
              "          dataTable['output_type'] = 'display_data';\n",
              "          await google.colab.output.renderOutput(dataTable, element);\n",
              "          const docLink = document.createElement('div');\n",
              "          docLink.innerHTML = docLinkHtml;\n",
              "          element.appendChild(docLink);\n",
              "        }\n",
              "      </script>\n",
              "    </div>\n",
              "  </div>\n",
              "  "
            ]
          },
          "metadata": {}
        }
      ]
    },
    {
      "cell_type": "code",
      "source": [
        "# Y Train\n",
        "print('On y train: ')\n",
        "print('y train dimensions: ', Y_train.shape)\n",
        "display(Y_train.head())\n",
        "\n",
        "# Y test\n",
        "print('\\nOn y test: ')\n",
        "print('y test dimensions: ', Y_test.shape)\n",
        "display(Y_test.head())"
      ],
      "metadata": {
        "colab": {
          "base_uri": "https://localhost:8080/",
          "height": 312
        },
        "id": "1YdMluCd4GCs",
        "outputId": "f2d44cc8-27f2-4ce7-d2aa-24cc1af8e209"
      },
      "execution_count": 441,
      "outputs": [
        {
          "output_type": "stream",
          "name": "stdout",
          "text": [
            "On y train: \n",
            "y train dimensions:  (5821,)\n"
          ]
        },
        {
          "output_type": "display_data",
          "data": {
            "text/plain": [
              "6323     No\n",
              "3024    Yes\n",
              "1009    Yes\n",
              "2078     No\n",
              "7245     No\n",
              "Name: Injury, dtype: object"
            ]
          },
          "metadata": {}
        },
        {
          "output_type": "stream",
          "name": "stdout",
          "text": [
            "\n",
            "On y test: \n",
            "y test dimensions:  (1941,)\n"
          ]
        },
        {
          "output_type": "display_data",
          "data": {
            "text/plain": [
              "2692    Yes\n",
              "4371     No\n",
              "4770     No\n",
              "3091    Yes\n",
              "3208    Yes\n",
              "Name: Injury, dtype: object"
            ]
          },
          "metadata": {}
        }
      ]
    },
    {
      "cell_type": "markdown",
      "source": [
        "### Training pipeline\n",
        "\n",
        "Establish the training pipeline for model and repeat several times as needed The pipeline can also change depending on the data types of the columns in the dataset."
      ],
      "metadata": {
        "id": "oY6QNKhw4Lt7"
      }
    },
    {
      "cell_type": "code",
      "source": [
        "#individual pipelines for differing datatypes\n",
        "cat_pipeline = Pipeline(steps=[('cat_impute', SimpleImputer(missing_values=np.nan, strategy='most_frequent')),\n",
        "                               ('onehot_cat', OneHotEncoder(drop='if_binary'))])\n",
        "num_pipeline = Pipeline(steps=[('impute_num', SimpleImputer(missing_values=np.nan, strategy='mean')),\n",
        "                               ('scale_num', StandardScaler())])"
      ],
      "metadata": {
        "id": "7CMUs88O4Rel"
      },
      "execution_count": 442,
      "outputs": []
    },
    {
      "cell_type": "code",
      "source": [
        "#establish preprocessing pipeline by columns\n",
        "preproc = ColumnTransformer([('cat_pipe', cat_pipeline, make_column_selector(dtype_include=object)),\n",
        "                             ('num_pipe', num_pipeline, make_column_selector(dtype_include=np.number))],\n",
        "                             remainder='passthrough')"
      ],
      "metadata": {
        "id": "GLRYSnMN4U5D"
      },
      "execution_count": 443,
      "outputs": []
    },
    {
      "cell_type": "markdown",
      "source": [
        "### Logistic Regression"
      ],
      "metadata": {
        "id": "ZXzR-hmNw89m"
      }
    },
    {
      "cell_type": "code",
      "source": [
        "#generate the whole modeling pipeline with preprocessing\n",
        "pipe_lg = Pipeline(steps=[('preproc', preproc), ('mdl', LogisticRegression(penalty='elasticnet', solver='saga', tol=0.01))])\n",
        "\n",
        "#visualization for steps\n",
        "with config_context(display='diagram'): display(pipe_lg)"
      ],
      "metadata": {
        "colab": {
          "base_uri": "https://localhost:8080/",
          "height": 227
        },
        "id": "DNzci5F_xADE",
        "outputId": "c465c862-e68e-4c2b-f09c-7da93070d9c2"
      },
      "execution_count": 444,
      "outputs": [
        {
          "output_type": "display_data",
          "data": {
            "text/plain": [
              "Pipeline(steps=[('preproc',\n",
              "                 ColumnTransformer(remainder='passthrough',\n",
              "                                   transformers=[('cat_pipe',\n",
              "                                                  Pipeline(steps=[('cat_impute',\n",
              "                                                                   SimpleImputer(strategy='most_frequent')),\n",
              "                                                                  ('onehot_cat',\n",
              "                                                                   OneHotEncoder(drop='if_binary'))]),\n",
              "                                                  <sklearn.compose._column_transformer.make_column_selector object at 0x7fc777457e90>),\n",
              "                                                 ('num_pipe',\n",
              "                                                  Pipeline(steps=[('impute_num',\n",
              "                                                                   SimpleImputer()),\n",
              "                                                                  ('scale_num',\n",
              "                                                                   StandardScaler())]),\n",
              "                                                  <sklearn.compose._column_transformer.make_column_selector object at 0x7fc777457f10>)])),\n",
              "                ('mdl',\n",
              "                 LogisticRegression(penalty='elasticnet', solver='saga',\n",
              "                                    tol=0.01))])"
            ],
            "text/html": [
              "<style>#sk-89afef11-e586-4eb2-928a-597f074a17e6 {color: black;background-color: white;}#sk-89afef11-e586-4eb2-928a-597f074a17e6 pre{padding: 0;}#sk-89afef11-e586-4eb2-928a-597f074a17e6 div.sk-toggleable {background-color: white;}#sk-89afef11-e586-4eb2-928a-597f074a17e6 label.sk-toggleable__label {cursor: pointer;display: block;width: 100%;margin-bottom: 0;padding: 0.3em;box-sizing: border-box;text-align: center;}#sk-89afef11-e586-4eb2-928a-597f074a17e6 label.sk-toggleable__label-arrow:before {content: \"▸\";float: left;margin-right: 0.25em;color: #696969;}#sk-89afef11-e586-4eb2-928a-597f074a17e6 label.sk-toggleable__label-arrow:hover:before {color: black;}#sk-89afef11-e586-4eb2-928a-597f074a17e6 div.sk-estimator:hover label.sk-toggleable__label-arrow:before {color: black;}#sk-89afef11-e586-4eb2-928a-597f074a17e6 div.sk-toggleable__content {max-height: 0;max-width: 0;overflow: hidden;text-align: left;background-color: #f0f8ff;}#sk-89afef11-e586-4eb2-928a-597f074a17e6 div.sk-toggleable__content pre {margin: 0.2em;color: black;border-radius: 0.25em;background-color: #f0f8ff;}#sk-89afef11-e586-4eb2-928a-597f074a17e6 input.sk-toggleable__control:checked~div.sk-toggleable__content {max-height: 200px;max-width: 100%;overflow: auto;}#sk-89afef11-e586-4eb2-928a-597f074a17e6 input.sk-toggleable__control:checked~label.sk-toggleable__label-arrow:before {content: \"▾\";}#sk-89afef11-e586-4eb2-928a-597f074a17e6 div.sk-estimator input.sk-toggleable__control:checked~label.sk-toggleable__label {background-color: #d4ebff;}#sk-89afef11-e586-4eb2-928a-597f074a17e6 div.sk-label input.sk-toggleable__control:checked~label.sk-toggleable__label {background-color: #d4ebff;}#sk-89afef11-e586-4eb2-928a-597f074a17e6 input.sk-hidden--visually {border: 0;clip: rect(1px 1px 1px 1px);clip: rect(1px, 1px, 1px, 1px);height: 1px;margin: -1px;overflow: hidden;padding: 0;position: absolute;width: 1px;}#sk-89afef11-e586-4eb2-928a-597f074a17e6 div.sk-estimator {font-family: monospace;background-color: #f0f8ff;border: 1px dotted black;border-radius: 0.25em;box-sizing: border-box;margin-bottom: 0.5em;}#sk-89afef11-e586-4eb2-928a-597f074a17e6 div.sk-estimator:hover {background-color: #d4ebff;}#sk-89afef11-e586-4eb2-928a-597f074a17e6 div.sk-parallel-item::after {content: \"\";width: 100%;border-bottom: 1px solid gray;flex-grow: 1;}#sk-89afef11-e586-4eb2-928a-597f074a17e6 div.sk-label:hover label.sk-toggleable__label {background-color: #d4ebff;}#sk-89afef11-e586-4eb2-928a-597f074a17e6 div.sk-serial::before {content: \"\";position: absolute;border-left: 1px solid gray;box-sizing: border-box;top: 2em;bottom: 0;left: 50%;}#sk-89afef11-e586-4eb2-928a-597f074a17e6 div.sk-serial {display: flex;flex-direction: column;align-items: center;background-color: white;padding-right: 0.2em;padding-left: 0.2em;}#sk-89afef11-e586-4eb2-928a-597f074a17e6 div.sk-item {z-index: 1;}#sk-89afef11-e586-4eb2-928a-597f074a17e6 div.sk-parallel {display: flex;align-items: stretch;justify-content: center;background-color: white;}#sk-89afef11-e586-4eb2-928a-597f074a17e6 div.sk-parallel::before {content: \"\";position: absolute;border-left: 1px solid gray;box-sizing: border-box;top: 2em;bottom: 0;left: 50%;}#sk-89afef11-e586-4eb2-928a-597f074a17e6 div.sk-parallel-item {display: flex;flex-direction: column;position: relative;background-color: white;}#sk-89afef11-e586-4eb2-928a-597f074a17e6 div.sk-parallel-item:first-child::after {align-self: flex-end;width: 50%;}#sk-89afef11-e586-4eb2-928a-597f074a17e6 div.sk-parallel-item:last-child::after {align-self: flex-start;width: 50%;}#sk-89afef11-e586-4eb2-928a-597f074a17e6 div.sk-parallel-item:only-child::after {width: 0;}#sk-89afef11-e586-4eb2-928a-597f074a17e6 div.sk-dashed-wrapped {border: 1px dashed gray;margin: 0 0.4em 0.5em 0.4em;box-sizing: border-box;padding-bottom: 0.4em;background-color: white;position: relative;}#sk-89afef11-e586-4eb2-928a-597f074a17e6 div.sk-label label {font-family: monospace;font-weight: bold;background-color: white;display: inline-block;line-height: 1.2em;}#sk-89afef11-e586-4eb2-928a-597f074a17e6 div.sk-label-container {position: relative;z-index: 2;text-align: center;}#sk-89afef11-e586-4eb2-928a-597f074a17e6 div.sk-container {/* jupyter's `normalize.less` sets `[hidden] { display: none; }` but bootstrap.min.css set `[hidden] { display: none !important; }` so we also need the `!important` here to be able to override the default hidden behavior on the sphinx rendered scikit-learn.org. See: https://github.com/scikit-learn/scikit-learn/issues/21755 */display: inline-block !important;position: relative;}#sk-89afef11-e586-4eb2-928a-597f074a17e6 div.sk-text-repr-fallback {display: none;}</style><div id=\"sk-89afef11-e586-4eb2-928a-597f074a17e6\" class=\"sk-top-container\"><div class=\"sk-text-repr-fallback\"><pre>Pipeline(steps=[(&#x27;preproc&#x27;,\n",
              "                 ColumnTransformer(remainder=&#x27;passthrough&#x27;,\n",
              "                                   transformers=[(&#x27;cat_pipe&#x27;,\n",
              "                                                  Pipeline(steps=[(&#x27;cat_impute&#x27;,\n",
              "                                                                   SimpleImputer(strategy=&#x27;most_frequent&#x27;)),\n",
              "                                                                  (&#x27;onehot_cat&#x27;,\n",
              "                                                                   OneHotEncoder(drop=&#x27;if_binary&#x27;))]),\n",
              "                                                  &lt;sklearn.compose._column_transformer.make_column_selector object at 0x7fc777457e90&gt;),\n",
              "                                                 (&#x27;num_pipe&#x27;,\n",
              "                                                  Pipeline(steps=[(&#x27;impute_num&#x27;,\n",
              "                                                                   SimpleImputer()),\n",
              "                                                                  (&#x27;scale_num&#x27;,\n",
              "                                                                   StandardScaler())]),\n",
              "                                                  &lt;sklearn.compose._column_transformer.make_column_selector object at 0x7fc777457f10&gt;)])),\n",
              "                (&#x27;mdl&#x27;,\n",
              "                 LogisticRegression(penalty=&#x27;elasticnet&#x27;, solver=&#x27;saga&#x27;,\n",
              "                                    tol=0.01))])</pre><b>Please rerun this cell to show the HTML repr or trust the notebook.</b></div><div class=\"sk-container\" hidden><div class=\"sk-item sk-dashed-wrapped\"><div class=\"sk-label-container\"><div class=\"sk-label sk-toggleable\"><input class=\"sk-toggleable__control sk-hidden--visually\" id=\"a057f8be-cd8a-4fbd-959d-36514ca32139\" type=\"checkbox\" ><label for=\"a057f8be-cd8a-4fbd-959d-36514ca32139\" class=\"sk-toggleable__label sk-toggleable__label-arrow\">Pipeline</label><div class=\"sk-toggleable__content\"><pre>Pipeline(steps=[(&#x27;preproc&#x27;,\n",
              "                 ColumnTransformer(remainder=&#x27;passthrough&#x27;,\n",
              "                                   transformers=[(&#x27;cat_pipe&#x27;,\n",
              "                                                  Pipeline(steps=[(&#x27;cat_impute&#x27;,\n",
              "                                                                   SimpleImputer(strategy=&#x27;most_frequent&#x27;)),\n",
              "                                                                  (&#x27;onehot_cat&#x27;,\n",
              "                                                                   OneHotEncoder(drop=&#x27;if_binary&#x27;))]),\n",
              "                                                  &lt;sklearn.compose._column_transformer.make_column_selector object at 0x7fc777457e90&gt;),\n",
              "                                                 (&#x27;num_pipe&#x27;,\n",
              "                                                  Pipeline(steps=[(&#x27;impute_num&#x27;,\n",
              "                                                                   SimpleImputer()),\n",
              "                                                                  (&#x27;scale_num&#x27;,\n",
              "                                                                   StandardScaler())]),\n",
              "                                                  &lt;sklearn.compose._column_transformer.make_column_selector object at 0x7fc777457f10&gt;)])),\n",
              "                (&#x27;mdl&#x27;,\n",
              "                 LogisticRegression(penalty=&#x27;elasticnet&#x27;, solver=&#x27;saga&#x27;,\n",
              "                                    tol=0.01))])</pre></div></div></div><div class=\"sk-serial\"><div class=\"sk-item sk-dashed-wrapped\"><div class=\"sk-label-container\"><div class=\"sk-label sk-toggleable\"><input class=\"sk-toggleable__control sk-hidden--visually\" id=\"1d22ad2d-996e-4796-b0fa-871eca6f97f8\" type=\"checkbox\" ><label for=\"1d22ad2d-996e-4796-b0fa-871eca6f97f8\" class=\"sk-toggleable__label sk-toggleable__label-arrow\">preproc: ColumnTransformer</label><div class=\"sk-toggleable__content\"><pre>ColumnTransformer(remainder=&#x27;passthrough&#x27;,\n",
              "                  transformers=[(&#x27;cat_pipe&#x27;,\n",
              "                                 Pipeline(steps=[(&#x27;cat_impute&#x27;,\n",
              "                                                  SimpleImputer(strategy=&#x27;most_frequent&#x27;)),\n",
              "                                                 (&#x27;onehot_cat&#x27;,\n",
              "                                                  OneHotEncoder(drop=&#x27;if_binary&#x27;))]),\n",
              "                                 &lt;sklearn.compose._column_transformer.make_column_selector object at 0x7fc777457e90&gt;),\n",
              "                                (&#x27;num_pipe&#x27;,\n",
              "                                 Pipeline(steps=[(&#x27;impute_num&#x27;,\n",
              "                                                  SimpleImputer()),\n",
              "                                                 (&#x27;scale_num&#x27;,\n",
              "                                                  StandardScaler())]),\n",
              "                                 &lt;sklearn.compose._column_transformer.make_column_selector object at 0x7fc777457f10&gt;)])</pre></div></div></div><div class=\"sk-parallel\"><div class=\"sk-parallel-item\"><div class=\"sk-item\"><div class=\"sk-label-container\"><div class=\"sk-label sk-toggleable\"><input class=\"sk-toggleable__control sk-hidden--visually\" id=\"6c0c8799-9f14-421c-8d7f-03c46b5f5f11\" type=\"checkbox\" ><label for=\"6c0c8799-9f14-421c-8d7f-03c46b5f5f11\" class=\"sk-toggleable__label sk-toggleable__label-arrow\">cat_pipe</label><div class=\"sk-toggleable__content\"><pre>&lt;sklearn.compose._column_transformer.make_column_selector object at 0x7fc777457e90&gt;</pre></div></div></div><div class=\"sk-serial\"><div class=\"sk-item\"><div class=\"sk-serial\"><div class=\"sk-item\"><div class=\"sk-estimator sk-toggleable\"><input class=\"sk-toggleable__control sk-hidden--visually\" id=\"7950b180-7eb1-4963-a182-7b84b0546ac0\" type=\"checkbox\" ><label for=\"7950b180-7eb1-4963-a182-7b84b0546ac0\" class=\"sk-toggleable__label sk-toggleable__label-arrow\">SimpleImputer</label><div class=\"sk-toggleable__content\"><pre>SimpleImputer(strategy=&#x27;most_frequent&#x27;)</pre></div></div></div><div class=\"sk-item\"><div class=\"sk-estimator sk-toggleable\"><input class=\"sk-toggleable__control sk-hidden--visually\" id=\"e48c3407-f1ea-4d80-8b4f-ee2c3d9d7377\" type=\"checkbox\" ><label for=\"e48c3407-f1ea-4d80-8b4f-ee2c3d9d7377\" class=\"sk-toggleable__label sk-toggleable__label-arrow\">OneHotEncoder</label><div class=\"sk-toggleable__content\"><pre>OneHotEncoder(drop=&#x27;if_binary&#x27;)</pre></div></div></div></div></div></div></div></div><div class=\"sk-parallel-item\"><div class=\"sk-item\"><div class=\"sk-label-container\"><div class=\"sk-label sk-toggleable\"><input class=\"sk-toggleable__control sk-hidden--visually\" id=\"f0a73d44-33f7-4102-bd08-e304878c1cd5\" type=\"checkbox\" ><label for=\"f0a73d44-33f7-4102-bd08-e304878c1cd5\" class=\"sk-toggleable__label sk-toggleable__label-arrow\">num_pipe</label><div class=\"sk-toggleable__content\"><pre>&lt;sklearn.compose._column_transformer.make_column_selector object at 0x7fc777457f10&gt;</pre></div></div></div><div class=\"sk-serial\"><div class=\"sk-item\"><div class=\"sk-serial\"><div class=\"sk-item\"><div class=\"sk-estimator sk-toggleable\"><input class=\"sk-toggleable__control sk-hidden--visually\" id=\"2d59795c-1a33-4510-8f21-e0419a8c783b\" type=\"checkbox\" ><label for=\"2d59795c-1a33-4510-8f21-e0419a8c783b\" class=\"sk-toggleable__label sk-toggleable__label-arrow\">SimpleImputer</label><div class=\"sk-toggleable__content\"><pre>SimpleImputer()</pre></div></div></div><div class=\"sk-item\"><div class=\"sk-estimator sk-toggleable\"><input class=\"sk-toggleable__control sk-hidden--visually\" id=\"a029e89c-b756-40ab-b8a9-309be9d852f7\" type=\"checkbox\" ><label for=\"a029e89c-b756-40ab-b8a9-309be9d852f7\" class=\"sk-toggleable__label sk-toggleable__label-arrow\">StandardScaler</label><div class=\"sk-toggleable__content\"><pre>StandardScaler()</pre></div></div></div></div></div></div></div></div><div class=\"sk-parallel-item\"><div class=\"sk-item\"><div class=\"sk-label-container\"><div class=\"sk-label sk-toggleable\"><input class=\"sk-toggleable__control sk-hidden--visually\" id=\"cbd0bf71-2c93-459c-99ef-86428a92fa1a\" type=\"checkbox\" ><label for=\"cbd0bf71-2c93-459c-99ef-86428a92fa1a\" class=\"sk-toggleable__label sk-toggleable__label-arrow\">remainder</label><div class=\"sk-toggleable__content\"><pre></pre></div></div></div><div class=\"sk-serial\"><div class=\"sk-item\"><div class=\"sk-estimator sk-toggleable\"><input class=\"sk-toggleable__control sk-hidden--visually\" id=\"dabb17c7-f997-4b6c-86ae-a315cf378535\" type=\"checkbox\" ><label for=\"dabb17c7-f997-4b6c-86ae-a315cf378535\" class=\"sk-toggleable__label sk-toggleable__label-arrow\">passthrough</label><div class=\"sk-toggleable__content\"><pre>passthrough</pre></div></div></div></div></div></div></div></div><div class=\"sk-item\"><div class=\"sk-estimator sk-toggleable\"><input class=\"sk-toggleable__control sk-hidden--visually\" id=\"0277cbc2-6d33-43d2-b313-0eae6df09c8b\" type=\"checkbox\" ><label for=\"0277cbc2-6d33-43d2-b313-0eae6df09c8b\" class=\"sk-toggleable__label sk-toggleable__label-arrow\">LogisticRegression</label><div class=\"sk-toggleable__content\"><pre>LogisticRegression(penalty=&#x27;elasticnet&#x27;, solver=&#x27;saga&#x27;, tol=0.01)</pre></div></div></div></div></div></div></div>"
            ]
          },
          "metadata": {}
        }
      ]
    },
    {
      "cell_type": "markdown",
      "source": [
        "### Random Forest Classifier"
      ],
      "metadata": {
        "id": "r-dNJMC2xGMk"
      }
    },
    {
      "cell_type": "code",
      "source": [
        "pipe_rf = Pipeline([('preproc', preproc), ('rf', RandomForestClassifier())])\n",
        "\n",
        "# Feel free to uncomment and edit the code below to visualize your overall pipeline\n",
        "with config_context(display='diagram'): display(pipe_rf)"
      ],
      "metadata": {
        "colab": {
          "base_uri": "https://localhost:8080/",
          "height": 227
        },
        "id": "1z-51bjtxIQV",
        "outputId": "963c0b0e-5423-4812-a4d6-a09136e560ce"
      },
      "execution_count": 445,
      "outputs": [
        {
          "output_type": "display_data",
          "data": {
            "text/plain": [
              "Pipeline(steps=[('preproc',\n",
              "                 ColumnTransformer(remainder='passthrough',\n",
              "                                   transformers=[('cat_pipe',\n",
              "                                                  Pipeline(steps=[('cat_impute',\n",
              "                                                                   SimpleImputer(strategy='most_frequent')),\n",
              "                                                                  ('onehot_cat',\n",
              "                                                                   OneHotEncoder(drop='if_binary'))]),\n",
              "                                                  <sklearn.compose._column_transformer.make_column_selector object at 0x7fc777457e90>),\n",
              "                                                 ('num_pipe',\n",
              "                                                  Pipeline(steps=[('impute_num',\n",
              "                                                                   SimpleImputer()),\n",
              "                                                                  ('scale_num',\n",
              "                                                                   StandardScaler())]),\n",
              "                                                  <sklearn.compose._column_transformer.make_column_selector object at 0x7fc777457f10>)])),\n",
              "                ('rf', RandomForestClassifier())])"
            ],
            "text/html": [
              "<style>#sk-939a6dc0-eb69-4b6e-b70a-807151a13716 {color: black;background-color: white;}#sk-939a6dc0-eb69-4b6e-b70a-807151a13716 pre{padding: 0;}#sk-939a6dc0-eb69-4b6e-b70a-807151a13716 div.sk-toggleable {background-color: white;}#sk-939a6dc0-eb69-4b6e-b70a-807151a13716 label.sk-toggleable__label {cursor: pointer;display: block;width: 100%;margin-bottom: 0;padding: 0.3em;box-sizing: border-box;text-align: center;}#sk-939a6dc0-eb69-4b6e-b70a-807151a13716 label.sk-toggleable__label-arrow:before {content: \"▸\";float: left;margin-right: 0.25em;color: #696969;}#sk-939a6dc0-eb69-4b6e-b70a-807151a13716 label.sk-toggleable__label-arrow:hover:before {color: black;}#sk-939a6dc0-eb69-4b6e-b70a-807151a13716 div.sk-estimator:hover label.sk-toggleable__label-arrow:before {color: black;}#sk-939a6dc0-eb69-4b6e-b70a-807151a13716 div.sk-toggleable__content {max-height: 0;max-width: 0;overflow: hidden;text-align: left;background-color: #f0f8ff;}#sk-939a6dc0-eb69-4b6e-b70a-807151a13716 div.sk-toggleable__content pre {margin: 0.2em;color: black;border-radius: 0.25em;background-color: #f0f8ff;}#sk-939a6dc0-eb69-4b6e-b70a-807151a13716 input.sk-toggleable__control:checked~div.sk-toggleable__content {max-height: 200px;max-width: 100%;overflow: auto;}#sk-939a6dc0-eb69-4b6e-b70a-807151a13716 input.sk-toggleable__control:checked~label.sk-toggleable__label-arrow:before {content: \"▾\";}#sk-939a6dc0-eb69-4b6e-b70a-807151a13716 div.sk-estimator input.sk-toggleable__control:checked~label.sk-toggleable__label {background-color: #d4ebff;}#sk-939a6dc0-eb69-4b6e-b70a-807151a13716 div.sk-label input.sk-toggleable__control:checked~label.sk-toggleable__label {background-color: #d4ebff;}#sk-939a6dc0-eb69-4b6e-b70a-807151a13716 input.sk-hidden--visually {border: 0;clip: rect(1px 1px 1px 1px);clip: rect(1px, 1px, 1px, 1px);height: 1px;margin: -1px;overflow: hidden;padding: 0;position: absolute;width: 1px;}#sk-939a6dc0-eb69-4b6e-b70a-807151a13716 div.sk-estimator {font-family: monospace;background-color: #f0f8ff;border: 1px dotted black;border-radius: 0.25em;box-sizing: border-box;margin-bottom: 0.5em;}#sk-939a6dc0-eb69-4b6e-b70a-807151a13716 div.sk-estimator:hover {background-color: #d4ebff;}#sk-939a6dc0-eb69-4b6e-b70a-807151a13716 div.sk-parallel-item::after {content: \"\";width: 100%;border-bottom: 1px solid gray;flex-grow: 1;}#sk-939a6dc0-eb69-4b6e-b70a-807151a13716 div.sk-label:hover label.sk-toggleable__label {background-color: #d4ebff;}#sk-939a6dc0-eb69-4b6e-b70a-807151a13716 div.sk-serial::before {content: \"\";position: absolute;border-left: 1px solid gray;box-sizing: border-box;top: 2em;bottom: 0;left: 50%;}#sk-939a6dc0-eb69-4b6e-b70a-807151a13716 div.sk-serial {display: flex;flex-direction: column;align-items: center;background-color: white;padding-right: 0.2em;padding-left: 0.2em;}#sk-939a6dc0-eb69-4b6e-b70a-807151a13716 div.sk-item {z-index: 1;}#sk-939a6dc0-eb69-4b6e-b70a-807151a13716 div.sk-parallel {display: flex;align-items: stretch;justify-content: center;background-color: white;}#sk-939a6dc0-eb69-4b6e-b70a-807151a13716 div.sk-parallel::before {content: \"\";position: absolute;border-left: 1px solid gray;box-sizing: border-box;top: 2em;bottom: 0;left: 50%;}#sk-939a6dc0-eb69-4b6e-b70a-807151a13716 div.sk-parallel-item {display: flex;flex-direction: column;position: relative;background-color: white;}#sk-939a6dc0-eb69-4b6e-b70a-807151a13716 div.sk-parallel-item:first-child::after {align-self: flex-end;width: 50%;}#sk-939a6dc0-eb69-4b6e-b70a-807151a13716 div.sk-parallel-item:last-child::after {align-self: flex-start;width: 50%;}#sk-939a6dc0-eb69-4b6e-b70a-807151a13716 div.sk-parallel-item:only-child::after {width: 0;}#sk-939a6dc0-eb69-4b6e-b70a-807151a13716 div.sk-dashed-wrapped {border: 1px dashed gray;margin: 0 0.4em 0.5em 0.4em;box-sizing: border-box;padding-bottom: 0.4em;background-color: white;position: relative;}#sk-939a6dc0-eb69-4b6e-b70a-807151a13716 div.sk-label label {font-family: monospace;font-weight: bold;background-color: white;display: inline-block;line-height: 1.2em;}#sk-939a6dc0-eb69-4b6e-b70a-807151a13716 div.sk-label-container {position: relative;z-index: 2;text-align: center;}#sk-939a6dc0-eb69-4b6e-b70a-807151a13716 div.sk-container {/* jupyter's `normalize.less` sets `[hidden] { display: none; }` but bootstrap.min.css set `[hidden] { display: none !important; }` so we also need the `!important` here to be able to override the default hidden behavior on the sphinx rendered scikit-learn.org. See: https://github.com/scikit-learn/scikit-learn/issues/21755 */display: inline-block !important;position: relative;}#sk-939a6dc0-eb69-4b6e-b70a-807151a13716 div.sk-text-repr-fallback {display: none;}</style><div id=\"sk-939a6dc0-eb69-4b6e-b70a-807151a13716\" class=\"sk-top-container\"><div class=\"sk-text-repr-fallback\"><pre>Pipeline(steps=[(&#x27;preproc&#x27;,\n",
              "                 ColumnTransformer(remainder=&#x27;passthrough&#x27;,\n",
              "                                   transformers=[(&#x27;cat_pipe&#x27;,\n",
              "                                                  Pipeline(steps=[(&#x27;cat_impute&#x27;,\n",
              "                                                                   SimpleImputer(strategy=&#x27;most_frequent&#x27;)),\n",
              "                                                                  (&#x27;onehot_cat&#x27;,\n",
              "                                                                   OneHotEncoder(drop=&#x27;if_binary&#x27;))]),\n",
              "                                                  &lt;sklearn.compose._column_transformer.make_column_selector object at 0x7fc777457e90&gt;),\n",
              "                                                 (&#x27;num_pipe&#x27;,\n",
              "                                                  Pipeline(steps=[(&#x27;impute_num&#x27;,\n",
              "                                                                   SimpleImputer()),\n",
              "                                                                  (&#x27;scale_num&#x27;,\n",
              "                                                                   StandardScaler())]),\n",
              "                                                  &lt;sklearn.compose._column_transformer.make_column_selector object at 0x7fc777457f10&gt;)])),\n",
              "                (&#x27;rf&#x27;, RandomForestClassifier())])</pre><b>Please rerun this cell to show the HTML repr or trust the notebook.</b></div><div class=\"sk-container\" hidden><div class=\"sk-item sk-dashed-wrapped\"><div class=\"sk-label-container\"><div class=\"sk-label sk-toggleable\"><input class=\"sk-toggleable__control sk-hidden--visually\" id=\"51cda6ef-9254-4846-8dd2-73c2e08636c1\" type=\"checkbox\" ><label for=\"51cda6ef-9254-4846-8dd2-73c2e08636c1\" class=\"sk-toggleable__label sk-toggleable__label-arrow\">Pipeline</label><div class=\"sk-toggleable__content\"><pre>Pipeline(steps=[(&#x27;preproc&#x27;,\n",
              "                 ColumnTransformer(remainder=&#x27;passthrough&#x27;,\n",
              "                                   transformers=[(&#x27;cat_pipe&#x27;,\n",
              "                                                  Pipeline(steps=[(&#x27;cat_impute&#x27;,\n",
              "                                                                   SimpleImputer(strategy=&#x27;most_frequent&#x27;)),\n",
              "                                                                  (&#x27;onehot_cat&#x27;,\n",
              "                                                                   OneHotEncoder(drop=&#x27;if_binary&#x27;))]),\n",
              "                                                  &lt;sklearn.compose._column_transformer.make_column_selector object at 0x7fc777457e90&gt;),\n",
              "                                                 (&#x27;num_pipe&#x27;,\n",
              "                                                  Pipeline(steps=[(&#x27;impute_num&#x27;,\n",
              "                                                                   SimpleImputer()),\n",
              "                                                                  (&#x27;scale_num&#x27;,\n",
              "                                                                   StandardScaler())]),\n",
              "                                                  &lt;sklearn.compose._column_transformer.make_column_selector object at 0x7fc777457f10&gt;)])),\n",
              "                (&#x27;rf&#x27;, RandomForestClassifier())])</pre></div></div></div><div class=\"sk-serial\"><div class=\"sk-item sk-dashed-wrapped\"><div class=\"sk-label-container\"><div class=\"sk-label sk-toggleable\"><input class=\"sk-toggleable__control sk-hidden--visually\" id=\"d48168f1-5c90-40f0-8f75-c78d3f15c236\" type=\"checkbox\" ><label for=\"d48168f1-5c90-40f0-8f75-c78d3f15c236\" class=\"sk-toggleable__label sk-toggleable__label-arrow\">preproc: ColumnTransformer</label><div class=\"sk-toggleable__content\"><pre>ColumnTransformer(remainder=&#x27;passthrough&#x27;,\n",
              "                  transformers=[(&#x27;cat_pipe&#x27;,\n",
              "                                 Pipeline(steps=[(&#x27;cat_impute&#x27;,\n",
              "                                                  SimpleImputer(strategy=&#x27;most_frequent&#x27;)),\n",
              "                                                 (&#x27;onehot_cat&#x27;,\n",
              "                                                  OneHotEncoder(drop=&#x27;if_binary&#x27;))]),\n",
              "                                 &lt;sklearn.compose._column_transformer.make_column_selector object at 0x7fc777457e90&gt;),\n",
              "                                (&#x27;num_pipe&#x27;,\n",
              "                                 Pipeline(steps=[(&#x27;impute_num&#x27;,\n",
              "                                                  SimpleImputer()),\n",
              "                                                 (&#x27;scale_num&#x27;,\n",
              "                                                  StandardScaler())]),\n",
              "                                 &lt;sklearn.compose._column_transformer.make_column_selector object at 0x7fc777457f10&gt;)])</pre></div></div></div><div class=\"sk-parallel\"><div class=\"sk-parallel-item\"><div class=\"sk-item\"><div class=\"sk-label-container\"><div class=\"sk-label sk-toggleable\"><input class=\"sk-toggleable__control sk-hidden--visually\" id=\"8349981f-71d4-4780-b3fd-129ab88f2f58\" type=\"checkbox\" ><label for=\"8349981f-71d4-4780-b3fd-129ab88f2f58\" class=\"sk-toggleable__label sk-toggleable__label-arrow\">cat_pipe</label><div class=\"sk-toggleable__content\"><pre>&lt;sklearn.compose._column_transformer.make_column_selector object at 0x7fc777457e90&gt;</pre></div></div></div><div class=\"sk-serial\"><div class=\"sk-item\"><div class=\"sk-serial\"><div class=\"sk-item\"><div class=\"sk-estimator sk-toggleable\"><input class=\"sk-toggleable__control sk-hidden--visually\" id=\"d5090bec-4d10-429c-af85-900cd82c34bd\" type=\"checkbox\" ><label for=\"d5090bec-4d10-429c-af85-900cd82c34bd\" class=\"sk-toggleable__label sk-toggleable__label-arrow\">SimpleImputer</label><div class=\"sk-toggleable__content\"><pre>SimpleImputer(strategy=&#x27;most_frequent&#x27;)</pre></div></div></div><div class=\"sk-item\"><div class=\"sk-estimator sk-toggleable\"><input class=\"sk-toggleable__control sk-hidden--visually\" id=\"ea8a7455-64fb-460d-843b-d251b0b5158e\" type=\"checkbox\" ><label for=\"ea8a7455-64fb-460d-843b-d251b0b5158e\" class=\"sk-toggleable__label sk-toggleable__label-arrow\">OneHotEncoder</label><div class=\"sk-toggleable__content\"><pre>OneHotEncoder(drop=&#x27;if_binary&#x27;)</pre></div></div></div></div></div></div></div></div><div class=\"sk-parallel-item\"><div class=\"sk-item\"><div class=\"sk-label-container\"><div class=\"sk-label sk-toggleable\"><input class=\"sk-toggleable__control sk-hidden--visually\" id=\"c35b46df-6555-4d01-8d85-168b021deb1b\" type=\"checkbox\" ><label for=\"c35b46df-6555-4d01-8d85-168b021deb1b\" class=\"sk-toggleable__label sk-toggleable__label-arrow\">num_pipe</label><div class=\"sk-toggleable__content\"><pre>&lt;sklearn.compose._column_transformer.make_column_selector object at 0x7fc777457f10&gt;</pre></div></div></div><div class=\"sk-serial\"><div class=\"sk-item\"><div class=\"sk-serial\"><div class=\"sk-item\"><div class=\"sk-estimator sk-toggleable\"><input class=\"sk-toggleable__control sk-hidden--visually\" id=\"67b6924c-eeb6-468d-9808-c868431e1b3f\" type=\"checkbox\" ><label for=\"67b6924c-eeb6-468d-9808-c868431e1b3f\" class=\"sk-toggleable__label sk-toggleable__label-arrow\">SimpleImputer</label><div class=\"sk-toggleable__content\"><pre>SimpleImputer()</pre></div></div></div><div class=\"sk-item\"><div class=\"sk-estimator sk-toggleable\"><input class=\"sk-toggleable__control sk-hidden--visually\" id=\"3ffb9042-8a8b-4288-8be4-751c2ed449bf\" type=\"checkbox\" ><label for=\"3ffb9042-8a8b-4288-8be4-751c2ed449bf\" class=\"sk-toggleable__label sk-toggleable__label-arrow\">StandardScaler</label><div class=\"sk-toggleable__content\"><pre>StandardScaler()</pre></div></div></div></div></div></div></div></div><div class=\"sk-parallel-item\"><div class=\"sk-item\"><div class=\"sk-label-container\"><div class=\"sk-label sk-toggleable\"><input class=\"sk-toggleable__control sk-hidden--visually\" id=\"46d96e80-cbc5-413f-ba22-6e27d2097b73\" type=\"checkbox\" ><label for=\"46d96e80-cbc5-413f-ba22-6e27d2097b73\" class=\"sk-toggleable__label sk-toggleable__label-arrow\">remainder</label><div class=\"sk-toggleable__content\"><pre></pre></div></div></div><div class=\"sk-serial\"><div class=\"sk-item\"><div class=\"sk-estimator sk-toggleable\"><input class=\"sk-toggleable__control sk-hidden--visually\" id=\"2bfca443-42ff-46f9-9dac-c18a32ff9e97\" type=\"checkbox\" ><label for=\"2bfca443-42ff-46f9-9dac-c18a32ff9e97\" class=\"sk-toggleable__label sk-toggleable__label-arrow\">passthrough</label><div class=\"sk-toggleable__content\"><pre>passthrough</pre></div></div></div></div></div></div></div></div><div class=\"sk-item\"><div class=\"sk-estimator sk-toggleable\"><input class=\"sk-toggleable__control sk-hidden--visually\" id=\"1ad28330-2b3a-45e3-a3bc-e1b2ea9b42e0\" type=\"checkbox\" ><label for=\"1ad28330-2b3a-45e3-a3bc-e1b2ea9b42e0\" class=\"sk-toggleable__label sk-toggleable__label-arrow\">RandomForestClassifier</label><div class=\"sk-toggleable__content\"><pre>RandomForestClassifier()</pre></div></div></div></div></div></div></div>"
            ]
          },
          "metadata": {}
        }
      ]
    },
    {
      "cell_type": "markdown",
      "source": [
        "### Gradient Boosting Classifier"
      ],
      "metadata": {
        "id": "y2qIKw4exNuX"
      }
    },
    {
      "cell_type": "code",
      "source": [
        "pipe_gb = Pipeline(steps=[('preproc', preproc), ('gbc', GradientBoostingClassifier())])\n",
        "\n",
        "\n",
        "# Feel free to uncomment and edit the code below to visualize your overall pipeline\n",
        "with config_context(display='diagram'): display(pipe_gb)"
      ],
      "metadata": {
        "colab": {
          "base_uri": "https://localhost:8080/",
          "height": 227
        },
        "id": "TplvK1LCxMsg",
        "outputId": "6cf741bb-527d-4604-a0a8-b8aac7f8c994"
      },
      "execution_count": 446,
      "outputs": [
        {
          "output_type": "display_data",
          "data": {
            "text/plain": [
              "Pipeline(steps=[('preproc',\n",
              "                 ColumnTransformer(remainder='passthrough',\n",
              "                                   transformers=[('cat_pipe',\n",
              "                                                  Pipeline(steps=[('cat_impute',\n",
              "                                                                   SimpleImputer(strategy='most_frequent')),\n",
              "                                                                  ('onehot_cat',\n",
              "                                                                   OneHotEncoder(drop='if_binary'))]),\n",
              "                                                  <sklearn.compose._column_transformer.make_column_selector object at 0x7fc777457e90>),\n",
              "                                                 ('num_pipe',\n",
              "                                                  Pipeline(steps=[('impute_num',\n",
              "                                                                   SimpleImputer()),\n",
              "                                                                  ('scale_num',\n",
              "                                                                   StandardScaler())]),\n",
              "                                                  <sklearn.compose._column_transformer.make_column_selector object at 0x7fc777457f10>)])),\n",
              "                ('gbc', GradientBoostingClassifier())])"
            ],
            "text/html": [
              "<style>#sk-c64013d4-e754-478f-9a2d-2b50962709c2 {color: black;background-color: white;}#sk-c64013d4-e754-478f-9a2d-2b50962709c2 pre{padding: 0;}#sk-c64013d4-e754-478f-9a2d-2b50962709c2 div.sk-toggleable {background-color: white;}#sk-c64013d4-e754-478f-9a2d-2b50962709c2 label.sk-toggleable__label {cursor: pointer;display: block;width: 100%;margin-bottom: 0;padding: 0.3em;box-sizing: border-box;text-align: center;}#sk-c64013d4-e754-478f-9a2d-2b50962709c2 label.sk-toggleable__label-arrow:before {content: \"▸\";float: left;margin-right: 0.25em;color: #696969;}#sk-c64013d4-e754-478f-9a2d-2b50962709c2 label.sk-toggleable__label-arrow:hover:before {color: black;}#sk-c64013d4-e754-478f-9a2d-2b50962709c2 div.sk-estimator:hover label.sk-toggleable__label-arrow:before {color: black;}#sk-c64013d4-e754-478f-9a2d-2b50962709c2 div.sk-toggleable__content {max-height: 0;max-width: 0;overflow: hidden;text-align: left;background-color: #f0f8ff;}#sk-c64013d4-e754-478f-9a2d-2b50962709c2 div.sk-toggleable__content pre {margin: 0.2em;color: black;border-radius: 0.25em;background-color: #f0f8ff;}#sk-c64013d4-e754-478f-9a2d-2b50962709c2 input.sk-toggleable__control:checked~div.sk-toggleable__content {max-height: 200px;max-width: 100%;overflow: auto;}#sk-c64013d4-e754-478f-9a2d-2b50962709c2 input.sk-toggleable__control:checked~label.sk-toggleable__label-arrow:before {content: \"▾\";}#sk-c64013d4-e754-478f-9a2d-2b50962709c2 div.sk-estimator input.sk-toggleable__control:checked~label.sk-toggleable__label {background-color: #d4ebff;}#sk-c64013d4-e754-478f-9a2d-2b50962709c2 div.sk-label input.sk-toggleable__control:checked~label.sk-toggleable__label {background-color: #d4ebff;}#sk-c64013d4-e754-478f-9a2d-2b50962709c2 input.sk-hidden--visually {border: 0;clip: rect(1px 1px 1px 1px);clip: rect(1px, 1px, 1px, 1px);height: 1px;margin: -1px;overflow: hidden;padding: 0;position: absolute;width: 1px;}#sk-c64013d4-e754-478f-9a2d-2b50962709c2 div.sk-estimator {font-family: monospace;background-color: #f0f8ff;border: 1px dotted black;border-radius: 0.25em;box-sizing: border-box;margin-bottom: 0.5em;}#sk-c64013d4-e754-478f-9a2d-2b50962709c2 div.sk-estimator:hover {background-color: #d4ebff;}#sk-c64013d4-e754-478f-9a2d-2b50962709c2 div.sk-parallel-item::after {content: \"\";width: 100%;border-bottom: 1px solid gray;flex-grow: 1;}#sk-c64013d4-e754-478f-9a2d-2b50962709c2 div.sk-label:hover label.sk-toggleable__label {background-color: #d4ebff;}#sk-c64013d4-e754-478f-9a2d-2b50962709c2 div.sk-serial::before {content: \"\";position: absolute;border-left: 1px solid gray;box-sizing: border-box;top: 2em;bottom: 0;left: 50%;}#sk-c64013d4-e754-478f-9a2d-2b50962709c2 div.sk-serial {display: flex;flex-direction: column;align-items: center;background-color: white;padding-right: 0.2em;padding-left: 0.2em;}#sk-c64013d4-e754-478f-9a2d-2b50962709c2 div.sk-item {z-index: 1;}#sk-c64013d4-e754-478f-9a2d-2b50962709c2 div.sk-parallel {display: flex;align-items: stretch;justify-content: center;background-color: white;}#sk-c64013d4-e754-478f-9a2d-2b50962709c2 div.sk-parallel::before {content: \"\";position: absolute;border-left: 1px solid gray;box-sizing: border-box;top: 2em;bottom: 0;left: 50%;}#sk-c64013d4-e754-478f-9a2d-2b50962709c2 div.sk-parallel-item {display: flex;flex-direction: column;position: relative;background-color: white;}#sk-c64013d4-e754-478f-9a2d-2b50962709c2 div.sk-parallel-item:first-child::after {align-self: flex-end;width: 50%;}#sk-c64013d4-e754-478f-9a2d-2b50962709c2 div.sk-parallel-item:last-child::after {align-self: flex-start;width: 50%;}#sk-c64013d4-e754-478f-9a2d-2b50962709c2 div.sk-parallel-item:only-child::after {width: 0;}#sk-c64013d4-e754-478f-9a2d-2b50962709c2 div.sk-dashed-wrapped {border: 1px dashed gray;margin: 0 0.4em 0.5em 0.4em;box-sizing: border-box;padding-bottom: 0.4em;background-color: white;position: relative;}#sk-c64013d4-e754-478f-9a2d-2b50962709c2 div.sk-label label {font-family: monospace;font-weight: bold;background-color: white;display: inline-block;line-height: 1.2em;}#sk-c64013d4-e754-478f-9a2d-2b50962709c2 div.sk-label-container {position: relative;z-index: 2;text-align: center;}#sk-c64013d4-e754-478f-9a2d-2b50962709c2 div.sk-container {/* jupyter's `normalize.less` sets `[hidden] { display: none; }` but bootstrap.min.css set `[hidden] { display: none !important; }` so we also need the `!important` here to be able to override the default hidden behavior on the sphinx rendered scikit-learn.org. See: https://github.com/scikit-learn/scikit-learn/issues/21755 */display: inline-block !important;position: relative;}#sk-c64013d4-e754-478f-9a2d-2b50962709c2 div.sk-text-repr-fallback {display: none;}</style><div id=\"sk-c64013d4-e754-478f-9a2d-2b50962709c2\" class=\"sk-top-container\"><div class=\"sk-text-repr-fallback\"><pre>Pipeline(steps=[(&#x27;preproc&#x27;,\n",
              "                 ColumnTransformer(remainder=&#x27;passthrough&#x27;,\n",
              "                                   transformers=[(&#x27;cat_pipe&#x27;,\n",
              "                                                  Pipeline(steps=[(&#x27;cat_impute&#x27;,\n",
              "                                                                   SimpleImputer(strategy=&#x27;most_frequent&#x27;)),\n",
              "                                                                  (&#x27;onehot_cat&#x27;,\n",
              "                                                                   OneHotEncoder(drop=&#x27;if_binary&#x27;))]),\n",
              "                                                  &lt;sklearn.compose._column_transformer.make_column_selector object at 0x7fc777457e90&gt;),\n",
              "                                                 (&#x27;num_pipe&#x27;,\n",
              "                                                  Pipeline(steps=[(&#x27;impute_num&#x27;,\n",
              "                                                                   SimpleImputer()),\n",
              "                                                                  (&#x27;scale_num&#x27;,\n",
              "                                                                   StandardScaler())]),\n",
              "                                                  &lt;sklearn.compose._column_transformer.make_column_selector object at 0x7fc777457f10&gt;)])),\n",
              "                (&#x27;gbc&#x27;, GradientBoostingClassifier())])</pre><b>Please rerun this cell to show the HTML repr or trust the notebook.</b></div><div class=\"sk-container\" hidden><div class=\"sk-item sk-dashed-wrapped\"><div class=\"sk-label-container\"><div class=\"sk-label sk-toggleable\"><input class=\"sk-toggleable__control sk-hidden--visually\" id=\"8ce6677f-ecf1-4079-8b20-3cdfdba84ca8\" type=\"checkbox\" ><label for=\"8ce6677f-ecf1-4079-8b20-3cdfdba84ca8\" class=\"sk-toggleable__label sk-toggleable__label-arrow\">Pipeline</label><div class=\"sk-toggleable__content\"><pre>Pipeline(steps=[(&#x27;preproc&#x27;,\n",
              "                 ColumnTransformer(remainder=&#x27;passthrough&#x27;,\n",
              "                                   transformers=[(&#x27;cat_pipe&#x27;,\n",
              "                                                  Pipeline(steps=[(&#x27;cat_impute&#x27;,\n",
              "                                                                   SimpleImputer(strategy=&#x27;most_frequent&#x27;)),\n",
              "                                                                  (&#x27;onehot_cat&#x27;,\n",
              "                                                                   OneHotEncoder(drop=&#x27;if_binary&#x27;))]),\n",
              "                                                  &lt;sklearn.compose._column_transformer.make_column_selector object at 0x7fc777457e90&gt;),\n",
              "                                                 (&#x27;num_pipe&#x27;,\n",
              "                                                  Pipeline(steps=[(&#x27;impute_num&#x27;,\n",
              "                                                                   SimpleImputer()),\n",
              "                                                                  (&#x27;scale_num&#x27;,\n",
              "                                                                   StandardScaler())]),\n",
              "                                                  &lt;sklearn.compose._column_transformer.make_column_selector object at 0x7fc777457f10&gt;)])),\n",
              "                (&#x27;gbc&#x27;, GradientBoostingClassifier())])</pre></div></div></div><div class=\"sk-serial\"><div class=\"sk-item sk-dashed-wrapped\"><div class=\"sk-label-container\"><div class=\"sk-label sk-toggleable\"><input class=\"sk-toggleable__control sk-hidden--visually\" id=\"ffa13338-95e9-4698-a88b-7093668fd20c\" type=\"checkbox\" ><label for=\"ffa13338-95e9-4698-a88b-7093668fd20c\" class=\"sk-toggleable__label sk-toggleable__label-arrow\">preproc: ColumnTransformer</label><div class=\"sk-toggleable__content\"><pre>ColumnTransformer(remainder=&#x27;passthrough&#x27;,\n",
              "                  transformers=[(&#x27;cat_pipe&#x27;,\n",
              "                                 Pipeline(steps=[(&#x27;cat_impute&#x27;,\n",
              "                                                  SimpleImputer(strategy=&#x27;most_frequent&#x27;)),\n",
              "                                                 (&#x27;onehot_cat&#x27;,\n",
              "                                                  OneHotEncoder(drop=&#x27;if_binary&#x27;))]),\n",
              "                                 &lt;sklearn.compose._column_transformer.make_column_selector object at 0x7fc777457e90&gt;),\n",
              "                                (&#x27;num_pipe&#x27;,\n",
              "                                 Pipeline(steps=[(&#x27;impute_num&#x27;,\n",
              "                                                  SimpleImputer()),\n",
              "                                                 (&#x27;scale_num&#x27;,\n",
              "                                                  StandardScaler())]),\n",
              "                                 &lt;sklearn.compose._column_transformer.make_column_selector object at 0x7fc777457f10&gt;)])</pre></div></div></div><div class=\"sk-parallel\"><div class=\"sk-parallel-item\"><div class=\"sk-item\"><div class=\"sk-label-container\"><div class=\"sk-label sk-toggleable\"><input class=\"sk-toggleable__control sk-hidden--visually\" id=\"b411a77a-e37f-4930-88e1-d7d886b1c333\" type=\"checkbox\" ><label for=\"b411a77a-e37f-4930-88e1-d7d886b1c333\" class=\"sk-toggleable__label sk-toggleable__label-arrow\">cat_pipe</label><div class=\"sk-toggleable__content\"><pre>&lt;sklearn.compose._column_transformer.make_column_selector object at 0x7fc777457e90&gt;</pre></div></div></div><div class=\"sk-serial\"><div class=\"sk-item\"><div class=\"sk-serial\"><div class=\"sk-item\"><div class=\"sk-estimator sk-toggleable\"><input class=\"sk-toggleable__control sk-hidden--visually\" id=\"41c35ea7-6422-4cf2-b749-3749355c7877\" type=\"checkbox\" ><label for=\"41c35ea7-6422-4cf2-b749-3749355c7877\" class=\"sk-toggleable__label sk-toggleable__label-arrow\">SimpleImputer</label><div class=\"sk-toggleable__content\"><pre>SimpleImputer(strategy=&#x27;most_frequent&#x27;)</pre></div></div></div><div class=\"sk-item\"><div class=\"sk-estimator sk-toggleable\"><input class=\"sk-toggleable__control sk-hidden--visually\" id=\"9fbb9817-9b69-4523-bad3-91950ba5a061\" type=\"checkbox\" ><label for=\"9fbb9817-9b69-4523-bad3-91950ba5a061\" class=\"sk-toggleable__label sk-toggleable__label-arrow\">OneHotEncoder</label><div class=\"sk-toggleable__content\"><pre>OneHotEncoder(drop=&#x27;if_binary&#x27;)</pre></div></div></div></div></div></div></div></div><div class=\"sk-parallel-item\"><div class=\"sk-item\"><div class=\"sk-label-container\"><div class=\"sk-label sk-toggleable\"><input class=\"sk-toggleable__control sk-hidden--visually\" id=\"88cefbcc-3a98-4f6a-84b8-eed260236a3c\" type=\"checkbox\" ><label for=\"88cefbcc-3a98-4f6a-84b8-eed260236a3c\" class=\"sk-toggleable__label sk-toggleable__label-arrow\">num_pipe</label><div class=\"sk-toggleable__content\"><pre>&lt;sklearn.compose._column_transformer.make_column_selector object at 0x7fc777457f10&gt;</pre></div></div></div><div class=\"sk-serial\"><div class=\"sk-item\"><div class=\"sk-serial\"><div class=\"sk-item\"><div class=\"sk-estimator sk-toggleable\"><input class=\"sk-toggleable__control sk-hidden--visually\" id=\"505d2264-46b4-45ee-a91d-0e649ba27c07\" type=\"checkbox\" ><label for=\"505d2264-46b4-45ee-a91d-0e649ba27c07\" class=\"sk-toggleable__label sk-toggleable__label-arrow\">SimpleImputer</label><div class=\"sk-toggleable__content\"><pre>SimpleImputer()</pre></div></div></div><div class=\"sk-item\"><div class=\"sk-estimator sk-toggleable\"><input class=\"sk-toggleable__control sk-hidden--visually\" id=\"be6a1832-a20f-423a-8f5e-632915c5dd2c\" type=\"checkbox\" ><label for=\"be6a1832-a20f-423a-8f5e-632915c5dd2c\" class=\"sk-toggleable__label sk-toggleable__label-arrow\">StandardScaler</label><div class=\"sk-toggleable__content\"><pre>StandardScaler()</pre></div></div></div></div></div></div></div></div><div class=\"sk-parallel-item\"><div class=\"sk-item\"><div class=\"sk-label-container\"><div class=\"sk-label sk-toggleable\"><input class=\"sk-toggleable__control sk-hidden--visually\" id=\"c8315f95-b797-4e7a-8029-318c16a63275\" type=\"checkbox\" ><label for=\"c8315f95-b797-4e7a-8029-318c16a63275\" class=\"sk-toggleable__label sk-toggleable__label-arrow\">remainder</label><div class=\"sk-toggleable__content\"><pre></pre></div></div></div><div class=\"sk-serial\"><div class=\"sk-item\"><div class=\"sk-estimator sk-toggleable\"><input class=\"sk-toggleable__control sk-hidden--visually\" id=\"be0855de-f9f8-4bef-aaf7-e48f7e9c0e30\" type=\"checkbox\" ><label for=\"be0855de-f9f8-4bef-aaf7-e48f7e9c0e30\" class=\"sk-toggleable__label sk-toggleable__label-arrow\">passthrough</label><div class=\"sk-toggleable__content\"><pre>passthrough</pre></div></div></div></div></div></div></div></div><div class=\"sk-item\"><div class=\"sk-estimator sk-toggleable\"><input class=\"sk-toggleable__control sk-hidden--visually\" id=\"7d39302d-9342-4685-a9a2-cefc2f0ca8e2\" type=\"checkbox\" ><label for=\"7d39302d-9342-4685-a9a2-cefc2f0ca8e2\" class=\"sk-toggleable__label sk-toggleable__label-arrow\">GradientBoostingClassifier</label><div class=\"sk-toggleable__content\"><pre>GradientBoostingClassifier()</pre></div></div></div></div></div></div></div>"
            ]
          },
          "metadata": {}
        }
      ]
    },
    {
      "cell_type": "markdown",
      "source": [
        "## Cross-validation with hyperparameter tuning"
      ],
      "metadata": {
        "id": "ZqOYi3Drx4Fj"
      }
    },
    {
      "cell_type": "markdown",
      "source": [
        "Now that we have our pipelines, we can now use this as part of cross validation and hyperparameter tuning."
      ],
      "metadata": {
        "id": "6ptQj3Cax7Kl"
      }
    },
    {
      "cell_type": "markdown",
      "source": [
        "### Logistic Regression"
      ],
      "metadata": {
        "id": "Ik0b1WZJx9iq"
      }
    },
    {
      "cell_type": "code",
      "source": [
        "tuning_grid_lg = {'mdl__l1_ratio' : np.linspace(0,1,5),\n",
        "               'mdl__C': np.logspace(-1, 6, 3) }\n",
        "grid_search_lg = GridSearchCV(pipe_lg, param_grid = tuning_grid_lg, cv = 5, return_train_score=True)"
      ],
      "metadata": {
        "id": "iUKswXy2x9IA"
      },
      "execution_count": 447,
      "outputs": []
    },
    {
      "cell_type": "code",
      "source": [
        "tuning_grid_lg"
      ],
      "metadata": {
        "colab": {
          "base_uri": "https://localhost:8080/"
        },
        "id": "wDS0PU1RyCc0",
        "outputId": "43487463-4e69-46ea-e370-a604a8531a08"
      },
      "execution_count": 448,
      "outputs": [
        {
          "output_type": "execute_result",
          "data": {
            "text/plain": [
              "{'mdl__C': array([1.00000000e-01, 3.16227766e+02, 1.00000000e+06]),\n",
              " 'mdl__l1_ratio': array([0.  , 0.25, 0.5 , 0.75, 1.  ])}"
            ]
          },
          "metadata": {},
          "execution_count": 448
        }
      ]
    },
    {
      "cell_type": "code",
      "source": [
        "grid_search_lg.fit(X_train, Y_train)"
      ],
      "metadata": {
        "colab": {
          "base_uri": "https://localhost:8080/"
        },
        "id": "CsD_lAEwyD8C",
        "outputId": "1002104c-eda3-4d98-87f8-c8df8a7fe2c1"
      },
      "execution_count": 449,
      "outputs": [
        {
          "output_type": "execute_result",
          "data": {
            "text/plain": [
              "GridSearchCV(cv=5,\n",
              "             estimator=Pipeline(steps=[('preproc',\n",
              "                                        ColumnTransformer(remainder='passthrough',\n",
              "                                                          transformers=[('cat_pipe',\n",
              "                                                                         Pipeline(steps=[('cat_impute',\n",
              "                                                                                          SimpleImputer(strategy='most_frequent')),\n",
              "                                                                                         ('onehot_cat',\n",
              "                                                                                          OneHotEncoder(drop='if_binary'))]),\n",
              "                                                                         <sklearn.compose._column_transformer.make_column_selector object at 0x7fc777457e90>),\n",
              "                                                                        ('num_pipe',\n",
              "                                                                         Pipeline(step...\n",
              "                                                                                          SimpleImputer()),\n",
              "                                                                                         ('scale_num',\n",
              "                                                                                          StandardScaler())]),\n",
              "                                                                         <sklearn.compose._column_transformer.make_column_selector object at 0x7fc777457f10>)])),\n",
              "                                       ('mdl',\n",
              "                                        LogisticRegression(penalty='elasticnet',\n",
              "                                                           solver='saga',\n",
              "                                                           tol=0.01))]),\n",
              "             param_grid={'mdl__C': array([1.00000000e-01, 3.16227766e+02, 1.00000000e+06]),\n",
              "                         'mdl__l1_ratio': array([0.  , 0.25, 0.5 , 0.75, 1.  ])},\n",
              "             return_train_score=True)"
            ]
          },
          "metadata": {},
          "execution_count": 449
        }
      ]
    },
    {
      "cell_type": "code",
      "source": [
        "print(grid_search_lg.best_score_)\n",
        "grid_search_lg.best_params_"
      ],
      "metadata": {
        "colab": {
          "base_uri": "https://localhost:8080/"
        },
        "id": "ecOn9-QdGPK8",
        "outputId": "8ef47c88-0768-4388-b7e2-19aa013b6834"
      },
      "execution_count": 450,
      "outputs": [
        {
          "output_type": "stream",
          "name": "stdout",
          "text": [
            "0.6414701414391694\n"
          ]
        },
        {
          "output_type": "execute_result",
          "data": {
            "text/plain": [
              "{'mdl__C': 316.22776601683796, 'mdl__l1_ratio': 0.0}"
            ]
          },
          "metadata": {},
          "execution_count": 450
        }
      ]
    },
    {
      "cell_type": "code",
      "source": [
        "pd.DataFrame(grid_search_lg.cv_results_)"
      ],
      "metadata": {
        "colab": {
          "base_uri": "https://localhost:8080/",
          "height": 960
        },
        "id": "WZmBuDPsGRt4",
        "outputId": "5bd5d060-ada3-45b0-c3dc-a717421cb4aa"
      },
      "execution_count": 451,
      "outputs": [
        {
          "output_type": "execute_result",
          "data": {
            "text/plain": [
              "    mean_fit_time  std_fit_time  mean_score_time  std_score_time param_mdl__C  \\\n",
              "0        0.039191      0.003021         0.009866        0.000503          0.1   \n",
              "1        0.043946      0.002181         0.009650        0.000296          0.1   \n",
              "2        0.046900      0.007474         0.010181        0.000654          0.1   \n",
              "3        0.040942      0.001518         0.009374        0.000219          0.1   \n",
              "4        0.039771      0.001675         0.009997        0.000926          0.1   \n",
              "5        0.048459      0.002937         0.009715        0.000119   316.227766   \n",
              "6        0.076654      0.005976         0.009745        0.000152   316.227766   \n",
              "7        0.078306      0.003331         0.009837        0.000072   316.227766   \n",
              "8        0.077082      0.004277         0.010214        0.000435   316.227766   \n",
              "9        0.073862      0.001854         0.010064        0.000359   316.227766   \n",
              "10       0.050651      0.001867         0.009961        0.000145    1000000.0   \n",
              "11       0.078184      0.002702         0.009833        0.000163    1000000.0   \n",
              "12       0.078236      0.004569         0.010802        0.001893    1000000.0   \n",
              "13       0.077285      0.001446         0.009866        0.000189    1000000.0   \n",
              "14       0.077909      0.003021         0.010884        0.002135    1000000.0   \n",
              "\n",
              "   param_mdl__l1_ratio                                             params  \\\n",
              "0                  0.0              {'mdl__C': 0.1, 'mdl__l1_ratio': 0.0}   \n",
              "1                 0.25             {'mdl__C': 0.1, 'mdl__l1_ratio': 0.25}   \n",
              "2                  0.5              {'mdl__C': 0.1, 'mdl__l1_ratio': 0.5}   \n",
              "3                 0.75             {'mdl__C': 0.1, 'mdl__l1_ratio': 0.75}   \n",
              "4                  1.0              {'mdl__C': 0.1, 'mdl__l1_ratio': 1.0}   \n",
              "5                  0.0  {'mdl__C': 316.22776601683796, 'mdl__l1_ratio'...   \n",
              "6                 0.25  {'mdl__C': 316.22776601683796, 'mdl__l1_ratio'...   \n",
              "7                  0.5  {'mdl__C': 316.22776601683796, 'mdl__l1_ratio'...   \n",
              "8                 0.75  {'mdl__C': 316.22776601683796, 'mdl__l1_ratio'...   \n",
              "9                  1.0  {'mdl__C': 316.22776601683796, 'mdl__l1_ratio'...   \n",
              "10                 0.0        {'mdl__C': 1000000.0, 'mdl__l1_ratio': 0.0}   \n",
              "11                0.25       {'mdl__C': 1000000.0, 'mdl__l1_ratio': 0.25}   \n",
              "12                 0.5        {'mdl__C': 1000000.0, 'mdl__l1_ratio': 0.5}   \n",
              "13                0.75       {'mdl__C': 1000000.0, 'mdl__l1_ratio': 0.75}   \n",
              "14                 1.0        {'mdl__C': 1000000.0, 'mdl__l1_ratio': 1.0}   \n",
              "\n",
              "    split0_test_score  split1_test_score  split2_test_score  ...  \\\n",
              "0            0.643777           0.635739           0.642612  ...   \n",
              "1            0.642918           0.634021           0.644330  ...   \n",
              "2            0.642060           0.635739           0.643471  ...   \n",
              "3            0.640343           0.635739           0.643471  ...   \n",
              "4            0.639485           0.635739           0.642612  ...   \n",
              "5            0.643777           0.636598           0.646907  ...   \n",
              "6            0.643777           0.636598           0.646907  ...   \n",
              "7            0.643777           0.636598           0.646907  ...   \n",
              "8            0.643777           0.636598           0.646907  ...   \n",
              "9            0.643777           0.636598           0.646907  ...   \n",
              "10           0.643777           0.636598           0.646907  ...   \n",
              "11           0.643777           0.636598           0.646907  ...   \n",
              "12           0.643777           0.636598           0.646907  ...   \n",
              "13           0.643777           0.636598           0.646907  ...   \n",
              "14           0.643777           0.636598           0.646907  ...   \n",
              "\n",
              "    mean_test_score  std_test_score  rank_test_score  split0_train_score  \\\n",
              "0          0.641126        0.003540               11            0.641538   \n",
              "1          0.640611        0.004156               14            0.641538   \n",
              "2          0.640611        0.003400               13            0.641323   \n",
              "3          0.640612        0.003412               12            0.640464   \n",
              "4          0.639753        0.002948               15            0.640034   \n",
              "5          0.641470        0.003542                1            0.641323   \n",
              "6          0.641470        0.003542                1            0.641323   \n",
              "7          0.641470        0.003542                1            0.641323   \n",
              "8          0.641470        0.003542                1            0.641323   \n",
              "9          0.641470        0.003542                1            0.641323   \n",
              "10         0.641470        0.003542                1            0.641323   \n",
              "11         0.641470        0.003542                1            0.641323   \n",
              "12         0.641470        0.003542                1            0.641323   \n",
              "13         0.641470        0.003542                1            0.641323   \n",
              "14         0.641470        0.003542                1            0.641323   \n",
              "\n",
              "    split1_train_score  split2_train_score  split3_train_score  \\\n",
              "0             0.644192            0.641615            0.641185   \n",
              "1             0.642903            0.641615            0.641185   \n",
              "2             0.642044            0.640756            0.641185   \n",
              "3             0.642259            0.640326            0.641185   \n",
              "4             0.642044            0.639253            0.640971   \n",
              "5             0.643762            0.641830            0.642903   \n",
              "6             0.643762            0.641830            0.642903   \n",
              "7             0.643762            0.641830            0.642903   \n",
              "8             0.643762            0.641830            0.642903   \n",
              "9             0.643762            0.641830            0.642903   \n",
              "10            0.643762            0.641830            0.642903   \n",
              "11            0.643762            0.641830            0.642903   \n",
              "12            0.643762            0.641830            0.642903   \n",
              "13            0.643762            0.641830            0.642903   \n",
              "14            0.643762            0.641830            0.642903   \n",
              "\n",
              "    split4_train_score  mean_train_score  std_train_score  \n",
              "0             0.642044          0.642115         0.001074  \n",
              "1             0.641400          0.641728         0.000605  \n",
              "2             0.640112          0.641084         0.000639  \n",
              "3             0.639253          0.640697         0.000996  \n",
              "4             0.639467          0.640354         0.001033  \n",
              "5             0.642903          0.642544         0.000865  \n",
              "6             0.642903          0.642544         0.000865  \n",
              "7             0.642903          0.642544         0.000865  \n",
              "8             0.642903          0.642544         0.000865  \n",
              "9             0.642903          0.642544         0.000865  \n",
              "10            0.642903          0.642544         0.000865  \n",
              "11            0.642903          0.642544         0.000865  \n",
              "12            0.642903          0.642544         0.000865  \n",
              "13            0.642903          0.642544         0.000865  \n",
              "14            0.642903          0.642544         0.000865  \n",
              "\n",
              "[15 rows x 22 columns]"
            ],
            "text/html": [
              "\n",
              "  <div id=\"df-6154e8a6-bb0e-495d-8364-cb813a863c9f\">\n",
              "    <div class=\"colab-df-container\">\n",
              "      <div>\n",
              "<style scoped>\n",
              "    .dataframe tbody tr th:only-of-type {\n",
              "        vertical-align: middle;\n",
              "    }\n",
              "\n",
              "    .dataframe tbody tr th {\n",
              "        vertical-align: top;\n",
              "    }\n",
              "\n",
              "    .dataframe thead th {\n",
              "        text-align: right;\n",
              "    }\n",
              "</style>\n",
              "<table border=\"1\" class=\"dataframe\">\n",
              "  <thead>\n",
              "    <tr style=\"text-align: right;\">\n",
              "      <th></th>\n",
              "      <th>mean_fit_time</th>\n",
              "      <th>std_fit_time</th>\n",
              "      <th>mean_score_time</th>\n",
              "      <th>std_score_time</th>\n",
              "      <th>param_mdl__C</th>\n",
              "      <th>param_mdl__l1_ratio</th>\n",
              "      <th>params</th>\n",
              "      <th>split0_test_score</th>\n",
              "      <th>split1_test_score</th>\n",
              "      <th>split2_test_score</th>\n",
              "      <th>...</th>\n",
              "      <th>mean_test_score</th>\n",
              "      <th>std_test_score</th>\n",
              "      <th>rank_test_score</th>\n",
              "      <th>split0_train_score</th>\n",
              "      <th>split1_train_score</th>\n",
              "      <th>split2_train_score</th>\n",
              "      <th>split3_train_score</th>\n",
              "      <th>split4_train_score</th>\n",
              "      <th>mean_train_score</th>\n",
              "      <th>std_train_score</th>\n",
              "    </tr>\n",
              "  </thead>\n",
              "  <tbody>\n",
              "    <tr>\n",
              "      <th>0</th>\n",
              "      <td>0.039191</td>\n",
              "      <td>0.003021</td>\n",
              "      <td>0.009866</td>\n",
              "      <td>0.000503</td>\n",
              "      <td>0.1</td>\n",
              "      <td>0.0</td>\n",
              "      <td>{'mdl__C': 0.1, 'mdl__l1_ratio': 0.0}</td>\n",
              "      <td>0.643777</td>\n",
              "      <td>0.635739</td>\n",
              "      <td>0.642612</td>\n",
              "      <td>...</td>\n",
              "      <td>0.641126</td>\n",
              "      <td>0.003540</td>\n",
              "      <td>11</td>\n",
              "      <td>0.641538</td>\n",
              "      <td>0.644192</td>\n",
              "      <td>0.641615</td>\n",
              "      <td>0.641185</td>\n",
              "      <td>0.642044</td>\n",
              "      <td>0.642115</td>\n",
              "      <td>0.001074</td>\n",
              "    </tr>\n",
              "    <tr>\n",
              "      <th>1</th>\n",
              "      <td>0.043946</td>\n",
              "      <td>0.002181</td>\n",
              "      <td>0.009650</td>\n",
              "      <td>0.000296</td>\n",
              "      <td>0.1</td>\n",
              "      <td>0.25</td>\n",
              "      <td>{'mdl__C': 0.1, 'mdl__l1_ratio': 0.25}</td>\n",
              "      <td>0.642918</td>\n",
              "      <td>0.634021</td>\n",
              "      <td>0.644330</td>\n",
              "      <td>...</td>\n",
              "      <td>0.640611</td>\n",
              "      <td>0.004156</td>\n",
              "      <td>14</td>\n",
              "      <td>0.641538</td>\n",
              "      <td>0.642903</td>\n",
              "      <td>0.641615</td>\n",
              "      <td>0.641185</td>\n",
              "      <td>0.641400</td>\n",
              "      <td>0.641728</td>\n",
              "      <td>0.000605</td>\n",
              "    </tr>\n",
              "    <tr>\n",
              "      <th>2</th>\n",
              "      <td>0.046900</td>\n",
              "      <td>0.007474</td>\n",
              "      <td>0.010181</td>\n",
              "      <td>0.000654</td>\n",
              "      <td>0.1</td>\n",
              "      <td>0.5</td>\n",
              "      <td>{'mdl__C': 0.1, 'mdl__l1_ratio': 0.5}</td>\n",
              "      <td>0.642060</td>\n",
              "      <td>0.635739</td>\n",
              "      <td>0.643471</td>\n",
              "      <td>...</td>\n",
              "      <td>0.640611</td>\n",
              "      <td>0.003400</td>\n",
              "      <td>13</td>\n",
              "      <td>0.641323</td>\n",
              "      <td>0.642044</td>\n",
              "      <td>0.640756</td>\n",
              "      <td>0.641185</td>\n",
              "      <td>0.640112</td>\n",
              "      <td>0.641084</td>\n",
              "      <td>0.000639</td>\n",
              "    </tr>\n",
              "    <tr>\n",
              "      <th>3</th>\n",
              "      <td>0.040942</td>\n",
              "      <td>0.001518</td>\n",
              "      <td>0.009374</td>\n",
              "      <td>0.000219</td>\n",
              "      <td>0.1</td>\n",
              "      <td>0.75</td>\n",
              "      <td>{'mdl__C': 0.1, 'mdl__l1_ratio': 0.75}</td>\n",
              "      <td>0.640343</td>\n",
              "      <td>0.635739</td>\n",
              "      <td>0.643471</td>\n",
              "      <td>...</td>\n",
              "      <td>0.640612</td>\n",
              "      <td>0.003412</td>\n",
              "      <td>12</td>\n",
              "      <td>0.640464</td>\n",
              "      <td>0.642259</td>\n",
              "      <td>0.640326</td>\n",
              "      <td>0.641185</td>\n",
              "      <td>0.639253</td>\n",
              "      <td>0.640697</td>\n",
              "      <td>0.000996</td>\n",
              "    </tr>\n",
              "    <tr>\n",
              "      <th>4</th>\n",
              "      <td>0.039771</td>\n",
              "      <td>0.001675</td>\n",
              "      <td>0.009997</td>\n",
              "      <td>0.000926</td>\n",
              "      <td>0.1</td>\n",
              "      <td>1.0</td>\n",
              "      <td>{'mdl__C': 0.1, 'mdl__l1_ratio': 1.0}</td>\n",
              "      <td>0.639485</td>\n",
              "      <td>0.635739</td>\n",
              "      <td>0.642612</td>\n",
              "      <td>...</td>\n",
              "      <td>0.639753</td>\n",
              "      <td>0.002948</td>\n",
              "      <td>15</td>\n",
              "      <td>0.640034</td>\n",
              "      <td>0.642044</td>\n",
              "      <td>0.639253</td>\n",
              "      <td>0.640971</td>\n",
              "      <td>0.639467</td>\n",
              "      <td>0.640354</td>\n",
              "      <td>0.001033</td>\n",
              "    </tr>\n",
              "    <tr>\n",
              "      <th>5</th>\n",
              "      <td>0.048459</td>\n",
              "      <td>0.002937</td>\n",
              "      <td>0.009715</td>\n",
              "      <td>0.000119</td>\n",
              "      <td>316.227766</td>\n",
              "      <td>0.0</td>\n",
              "      <td>{'mdl__C': 316.22776601683796, 'mdl__l1_ratio'...</td>\n",
              "      <td>0.643777</td>\n",
              "      <td>0.636598</td>\n",
              "      <td>0.646907</td>\n",
              "      <td>...</td>\n",
              "      <td>0.641470</td>\n",
              "      <td>0.003542</td>\n",
              "      <td>1</td>\n",
              "      <td>0.641323</td>\n",
              "      <td>0.643762</td>\n",
              "      <td>0.641830</td>\n",
              "      <td>0.642903</td>\n",
              "      <td>0.642903</td>\n",
              "      <td>0.642544</td>\n",
              "      <td>0.000865</td>\n",
              "    </tr>\n",
              "    <tr>\n",
              "      <th>6</th>\n",
              "      <td>0.076654</td>\n",
              "      <td>0.005976</td>\n",
              "      <td>0.009745</td>\n",
              "      <td>0.000152</td>\n",
              "      <td>316.227766</td>\n",
              "      <td>0.25</td>\n",
              "      <td>{'mdl__C': 316.22776601683796, 'mdl__l1_ratio'...</td>\n",
              "      <td>0.643777</td>\n",
              "      <td>0.636598</td>\n",
              "      <td>0.646907</td>\n",
              "      <td>...</td>\n",
              "      <td>0.641470</td>\n",
              "      <td>0.003542</td>\n",
              "      <td>1</td>\n",
              "      <td>0.641323</td>\n",
              "      <td>0.643762</td>\n",
              "      <td>0.641830</td>\n",
              "      <td>0.642903</td>\n",
              "      <td>0.642903</td>\n",
              "      <td>0.642544</td>\n",
              "      <td>0.000865</td>\n",
              "    </tr>\n",
              "    <tr>\n",
              "      <th>7</th>\n",
              "      <td>0.078306</td>\n",
              "      <td>0.003331</td>\n",
              "      <td>0.009837</td>\n",
              "      <td>0.000072</td>\n",
              "      <td>316.227766</td>\n",
              "      <td>0.5</td>\n",
              "      <td>{'mdl__C': 316.22776601683796, 'mdl__l1_ratio'...</td>\n",
              "      <td>0.643777</td>\n",
              "      <td>0.636598</td>\n",
              "      <td>0.646907</td>\n",
              "      <td>...</td>\n",
              "      <td>0.641470</td>\n",
              "      <td>0.003542</td>\n",
              "      <td>1</td>\n",
              "      <td>0.641323</td>\n",
              "      <td>0.643762</td>\n",
              "      <td>0.641830</td>\n",
              "      <td>0.642903</td>\n",
              "      <td>0.642903</td>\n",
              "      <td>0.642544</td>\n",
              "      <td>0.000865</td>\n",
              "    </tr>\n",
              "    <tr>\n",
              "      <th>8</th>\n",
              "      <td>0.077082</td>\n",
              "      <td>0.004277</td>\n",
              "      <td>0.010214</td>\n",
              "      <td>0.000435</td>\n",
              "      <td>316.227766</td>\n",
              "      <td>0.75</td>\n",
              "      <td>{'mdl__C': 316.22776601683796, 'mdl__l1_ratio'...</td>\n",
              "      <td>0.643777</td>\n",
              "      <td>0.636598</td>\n",
              "      <td>0.646907</td>\n",
              "      <td>...</td>\n",
              "      <td>0.641470</td>\n",
              "      <td>0.003542</td>\n",
              "      <td>1</td>\n",
              "      <td>0.641323</td>\n",
              "      <td>0.643762</td>\n",
              "      <td>0.641830</td>\n",
              "      <td>0.642903</td>\n",
              "      <td>0.642903</td>\n",
              "      <td>0.642544</td>\n",
              "      <td>0.000865</td>\n",
              "    </tr>\n",
              "    <tr>\n",
              "      <th>9</th>\n",
              "      <td>0.073862</td>\n",
              "      <td>0.001854</td>\n",
              "      <td>0.010064</td>\n",
              "      <td>0.000359</td>\n",
              "      <td>316.227766</td>\n",
              "      <td>1.0</td>\n",
              "      <td>{'mdl__C': 316.22776601683796, 'mdl__l1_ratio'...</td>\n",
              "      <td>0.643777</td>\n",
              "      <td>0.636598</td>\n",
              "      <td>0.646907</td>\n",
              "      <td>...</td>\n",
              "      <td>0.641470</td>\n",
              "      <td>0.003542</td>\n",
              "      <td>1</td>\n",
              "      <td>0.641323</td>\n",
              "      <td>0.643762</td>\n",
              "      <td>0.641830</td>\n",
              "      <td>0.642903</td>\n",
              "      <td>0.642903</td>\n",
              "      <td>0.642544</td>\n",
              "      <td>0.000865</td>\n",
              "    </tr>\n",
              "    <tr>\n",
              "      <th>10</th>\n",
              "      <td>0.050651</td>\n",
              "      <td>0.001867</td>\n",
              "      <td>0.009961</td>\n",
              "      <td>0.000145</td>\n",
              "      <td>1000000.0</td>\n",
              "      <td>0.0</td>\n",
              "      <td>{'mdl__C': 1000000.0, 'mdl__l1_ratio': 0.0}</td>\n",
              "      <td>0.643777</td>\n",
              "      <td>0.636598</td>\n",
              "      <td>0.646907</td>\n",
              "      <td>...</td>\n",
              "      <td>0.641470</td>\n",
              "      <td>0.003542</td>\n",
              "      <td>1</td>\n",
              "      <td>0.641323</td>\n",
              "      <td>0.643762</td>\n",
              "      <td>0.641830</td>\n",
              "      <td>0.642903</td>\n",
              "      <td>0.642903</td>\n",
              "      <td>0.642544</td>\n",
              "      <td>0.000865</td>\n",
              "    </tr>\n",
              "    <tr>\n",
              "      <th>11</th>\n",
              "      <td>0.078184</td>\n",
              "      <td>0.002702</td>\n",
              "      <td>0.009833</td>\n",
              "      <td>0.000163</td>\n",
              "      <td>1000000.0</td>\n",
              "      <td>0.25</td>\n",
              "      <td>{'mdl__C': 1000000.0, 'mdl__l1_ratio': 0.25}</td>\n",
              "      <td>0.643777</td>\n",
              "      <td>0.636598</td>\n",
              "      <td>0.646907</td>\n",
              "      <td>...</td>\n",
              "      <td>0.641470</td>\n",
              "      <td>0.003542</td>\n",
              "      <td>1</td>\n",
              "      <td>0.641323</td>\n",
              "      <td>0.643762</td>\n",
              "      <td>0.641830</td>\n",
              "      <td>0.642903</td>\n",
              "      <td>0.642903</td>\n",
              "      <td>0.642544</td>\n",
              "      <td>0.000865</td>\n",
              "    </tr>\n",
              "    <tr>\n",
              "      <th>12</th>\n",
              "      <td>0.078236</td>\n",
              "      <td>0.004569</td>\n",
              "      <td>0.010802</td>\n",
              "      <td>0.001893</td>\n",
              "      <td>1000000.0</td>\n",
              "      <td>0.5</td>\n",
              "      <td>{'mdl__C': 1000000.0, 'mdl__l1_ratio': 0.5}</td>\n",
              "      <td>0.643777</td>\n",
              "      <td>0.636598</td>\n",
              "      <td>0.646907</td>\n",
              "      <td>...</td>\n",
              "      <td>0.641470</td>\n",
              "      <td>0.003542</td>\n",
              "      <td>1</td>\n",
              "      <td>0.641323</td>\n",
              "      <td>0.643762</td>\n",
              "      <td>0.641830</td>\n",
              "      <td>0.642903</td>\n",
              "      <td>0.642903</td>\n",
              "      <td>0.642544</td>\n",
              "      <td>0.000865</td>\n",
              "    </tr>\n",
              "    <tr>\n",
              "      <th>13</th>\n",
              "      <td>0.077285</td>\n",
              "      <td>0.001446</td>\n",
              "      <td>0.009866</td>\n",
              "      <td>0.000189</td>\n",
              "      <td>1000000.0</td>\n",
              "      <td>0.75</td>\n",
              "      <td>{'mdl__C': 1000000.0, 'mdl__l1_ratio': 0.75}</td>\n",
              "      <td>0.643777</td>\n",
              "      <td>0.636598</td>\n",
              "      <td>0.646907</td>\n",
              "      <td>...</td>\n",
              "      <td>0.641470</td>\n",
              "      <td>0.003542</td>\n",
              "      <td>1</td>\n",
              "      <td>0.641323</td>\n",
              "      <td>0.643762</td>\n",
              "      <td>0.641830</td>\n",
              "      <td>0.642903</td>\n",
              "      <td>0.642903</td>\n",
              "      <td>0.642544</td>\n",
              "      <td>0.000865</td>\n",
              "    </tr>\n",
              "    <tr>\n",
              "      <th>14</th>\n",
              "      <td>0.077909</td>\n",
              "      <td>0.003021</td>\n",
              "      <td>0.010884</td>\n",
              "      <td>0.002135</td>\n",
              "      <td>1000000.0</td>\n",
              "      <td>1.0</td>\n",
              "      <td>{'mdl__C': 1000000.0, 'mdl__l1_ratio': 1.0}</td>\n",
              "      <td>0.643777</td>\n",
              "      <td>0.636598</td>\n",
              "      <td>0.646907</td>\n",
              "      <td>...</td>\n",
              "      <td>0.641470</td>\n",
              "      <td>0.003542</td>\n",
              "      <td>1</td>\n",
              "      <td>0.641323</td>\n",
              "      <td>0.643762</td>\n",
              "      <td>0.641830</td>\n",
              "      <td>0.642903</td>\n",
              "      <td>0.642903</td>\n",
              "      <td>0.642544</td>\n",
              "      <td>0.000865</td>\n",
              "    </tr>\n",
              "  </tbody>\n",
              "</table>\n",
              "<p>15 rows × 22 columns</p>\n",
              "</div>\n",
              "      <button class=\"colab-df-convert\" onclick=\"convertToInteractive('df-6154e8a6-bb0e-495d-8364-cb813a863c9f')\"\n",
              "              title=\"Convert this dataframe to an interactive table.\"\n",
              "              style=\"display:none;\">\n",
              "        \n",
              "  <svg xmlns=\"http://www.w3.org/2000/svg\" height=\"24px\"viewBox=\"0 0 24 24\"\n",
              "       width=\"24px\">\n",
              "    <path d=\"M0 0h24v24H0V0z\" fill=\"none\"/>\n",
              "    <path d=\"M18.56 5.44l.94 2.06.94-2.06 2.06-.94-2.06-.94-.94-2.06-.94 2.06-2.06.94zm-11 1L8.5 8.5l.94-2.06 2.06-.94-2.06-.94L8.5 2.5l-.94 2.06-2.06.94zm10 10l.94 2.06.94-2.06 2.06-.94-2.06-.94-.94-2.06-.94 2.06-2.06.94z\"/><path d=\"M17.41 7.96l-1.37-1.37c-.4-.4-.92-.59-1.43-.59-.52 0-1.04.2-1.43.59L10.3 9.45l-7.72 7.72c-.78.78-.78 2.05 0 2.83L4 21.41c.39.39.9.59 1.41.59.51 0 1.02-.2 1.41-.59l7.78-7.78 2.81-2.81c.8-.78.8-2.07 0-2.86zM5.41 20L4 18.59l7.72-7.72 1.47 1.35L5.41 20z\"/>\n",
              "  </svg>\n",
              "      </button>\n",
              "      \n",
              "  <style>\n",
              "    .colab-df-container {\n",
              "      display:flex;\n",
              "      flex-wrap:wrap;\n",
              "      gap: 12px;\n",
              "    }\n",
              "\n",
              "    .colab-df-convert {\n",
              "      background-color: #E8F0FE;\n",
              "      border: none;\n",
              "      border-radius: 50%;\n",
              "      cursor: pointer;\n",
              "      display: none;\n",
              "      fill: #1967D2;\n",
              "      height: 32px;\n",
              "      padding: 0 0 0 0;\n",
              "      width: 32px;\n",
              "    }\n",
              "\n",
              "    .colab-df-convert:hover {\n",
              "      background-color: #E2EBFA;\n",
              "      box-shadow: 0px 1px 2px rgba(60, 64, 67, 0.3), 0px 1px 3px 1px rgba(60, 64, 67, 0.15);\n",
              "      fill: #174EA6;\n",
              "    }\n",
              "\n",
              "    [theme=dark] .colab-df-convert {\n",
              "      background-color: #3B4455;\n",
              "      fill: #D2E3FC;\n",
              "    }\n",
              "\n",
              "    [theme=dark] .colab-df-convert:hover {\n",
              "      background-color: #434B5C;\n",
              "      box-shadow: 0px 1px 3px 1px rgba(0, 0, 0, 0.15);\n",
              "      filter: drop-shadow(0px 1px 2px rgba(0, 0, 0, 0.3));\n",
              "      fill: #FFFFFF;\n",
              "    }\n",
              "  </style>\n",
              "\n",
              "      <script>\n",
              "        const buttonEl =\n",
              "          document.querySelector('#df-6154e8a6-bb0e-495d-8364-cb813a863c9f button.colab-df-convert');\n",
              "        buttonEl.style.display =\n",
              "          google.colab.kernel.accessAllowed ? 'block' : 'none';\n",
              "\n",
              "        async function convertToInteractive(key) {\n",
              "          const element = document.querySelector('#df-6154e8a6-bb0e-495d-8364-cb813a863c9f');\n",
              "          const dataTable =\n",
              "            await google.colab.kernel.invokeFunction('convertToInteractive',\n",
              "                                                     [key], {});\n",
              "          if (!dataTable) return;\n",
              "\n",
              "          const docLinkHtml = 'Like what you see? Visit the ' +\n",
              "            '<a target=\"_blank\" href=https://colab.research.google.com/notebooks/data_table.ipynb>data table notebook</a>'\n",
              "            + ' to learn more about interactive tables.';\n",
              "          element.innerHTML = '';\n",
              "          dataTable['output_type'] = 'display_data';\n",
              "          await google.colab.output.renderOutput(dataTable, element);\n",
              "          const docLink = document.createElement('div');\n",
              "          docLink.innerHTML = docLinkHtml;\n",
              "          element.appendChild(docLink);\n",
              "        }\n",
              "      </script>\n",
              "    </div>\n",
              "  </div>\n",
              "  "
            ]
          },
          "metadata": {},
          "execution_count": 451
        }
      ]
    },
    {
      "cell_type": "markdown",
      "source": [
        "### Random Forest Classifier"
      ],
      "metadata": {
        "id": "vlEV8SIsGU61"
      }
    },
    {
      "cell_type": "code",
      "source": [
        "tuning_grid_rf = param_grid = {'rf__n_estimators': [10, 50],\n",
        "                                        'rf__max_features': ['auto', 'sqrt', 'log2'],\n",
        "                                        'rf__max_depth' : [4,5,6],\n",
        "                                        'rf__criterion' :['gini', 'entropy']\n",
        "                                       }\n",
        "grid_search_rf = GridSearchCV(pipe_rf, param_grid = tuning_grid_rf, cv = 5, return_train_score=True)"
      ],
      "metadata": {
        "id": "KFh4yZJ1GY5m"
      },
      "execution_count": 452,
      "outputs": []
    },
    {
      "cell_type": "code",
      "source": [
        "grid_search_rf.fit(X_train, Y_train)"
      ],
      "metadata": {
        "colab": {
          "base_uri": "https://localhost:8080/"
        },
        "id": "lTMgBv2rGbER",
        "outputId": "a3ec6552-aec4-4937-ed39-930b7dc59118"
      },
      "execution_count": 453,
      "outputs": [
        {
          "output_type": "execute_result",
          "data": {
            "text/plain": [
              "GridSearchCV(cv=5,\n",
              "             estimator=Pipeline(steps=[('preproc',\n",
              "                                        ColumnTransformer(remainder='passthrough',\n",
              "                                                          transformers=[('cat_pipe',\n",
              "                                                                         Pipeline(steps=[('cat_impute',\n",
              "                                                                                          SimpleImputer(strategy='most_frequent')),\n",
              "                                                                                         ('onehot_cat',\n",
              "                                                                                          OneHotEncoder(drop='if_binary'))]),\n",
              "                                                                         <sklearn.compose._column_transformer.make_column_selector object at 0x7fc777457e90>),\n",
              "                                                                        ('num_pipe',\n",
              "                                                                         Pipeline(steps=[('impute_num',\n",
              "                                                                                          SimpleImputer()),\n",
              "                                                                                         ('scale_num',\n",
              "                                                                                          StandardScaler())]),\n",
              "                                                                         <sklearn.compose._column_transformer.make_column_selector object at 0x7fc777457f10>)])),\n",
              "                                       ('rf', RandomForestClassifier())]),\n",
              "             param_grid={'rf__criterion': ['gini', 'entropy'],\n",
              "                         'rf__max_depth': [4, 5, 6],\n",
              "                         'rf__max_features': ['auto', 'sqrt', 'log2'],\n",
              "                         'rf__n_estimators': [10, 50]},\n",
              "             return_train_score=True)"
            ]
          },
          "metadata": {},
          "execution_count": 453
        }
      ]
    },
    {
      "cell_type": "code",
      "source": [
        "pipe_rf.fit(X_train, Y_train)"
      ],
      "metadata": {
        "colab": {
          "base_uri": "https://localhost:8080/"
        },
        "id": "VI52k8L2GfuS",
        "outputId": "c021e62f-28a4-414c-c274-dacb3ecad3db"
      },
      "execution_count": 454,
      "outputs": [
        {
          "output_type": "execute_result",
          "data": {
            "text/plain": [
              "Pipeline(steps=[('preproc',\n",
              "                 ColumnTransformer(remainder='passthrough',\n",
              "                                   transformers=[('cat_pipe',\n",
              "                                                  Pipeline(steps=[('cat_impute',\n",
              "                                                                   SimpleImputer(strategy='most_frequent')),\n",
              "                                                                  ('onehot_cat',\n",
              "                                                                   OneHotEncoder(drop='if_binary'))]),\n",
              "                                                  <sklearn.compose._column_transformer.make_column_selector object at 0x7fc777457e90>),\n",
              "                                                 ('num_pipe',\n",
              "                                                  Pipeline(steps=[('impute_num',\n",
              "                                                                   SimpleImputer()),\n",
              "                                                                  ('scale_num',\n",
              "                                                                   StandardScaler())]),\n",
              "                                                  <sklearn.compose._column_transformer.make_column_selector object at 0x7fc777457f10>)])),\n",
              "                ('rf', RandomForestClassifier())])"
            ]
          },
          "metadata": {},
          "execution_count": 454
        }
      ]
    },
    {
      "cell_type": "code",
      "source": [
        "grid_search_rf.best_params_"
      ],
      "metadata": {
        "colab": {
          "base_uri": "https://localhost:8080/"
        },
        "id": "nPbbxCypGmgK",
        "outputId": "5ccb98a7-52d0-45fb-e29b-9e5dd0d4b3de"
      },
      "execution_count": 455,
      "outputs": [
        {
          "output_type": "execute_result",
          "data": {
            "text/plain": [
              "{'rf__criterion': 'gini',\n",
              " 'rf__max_depth': 5,\n",
              " 'rf__max_features': 'sqrt',\n",
              " 'rf__n_estimators': 10}"
            ]
          },
          "metadata": {},
          "execution_count": 455
        }
      ]
    },
    {
      "cell_type": "code",
      "source": [
        "print(grid_search_rf.best_score_)"
      ],
      "metadata": {
        "colab": {
          "base_uri": "https://localhost:8080/"
        },
        "id": "8td7yeSmGoDu",
        "outputId": "93087e77-b85a-495b-e753-4f5b636b516d"
      },
      "execution_count": 456,
      "outputs": [
        {
          "output_type": "stream",
          "name": "stdout",
          "text": [
            "0.6400960134507322\n"
          ]
        }
      ]
    },
    {
      "cell_type": "markdown",
      "source": [
        "### Gradient Boosting Classifier"
      ],
      "metadata": {
        "id": "B761CNS9Gumg"
      }
    },
    {
      "cell_type": "code",
      "source": [
        "tuning_grid_gb = param_grid = {'gbc__learning_rate': [1, 0.5, 0.25],\n",
        "                                       'gbc__n_estimators': [64, 128, 256],\n",
        "                                       'gbc__max_depth': [2, 4],\n",
        "                                       'gbc__min_samples_split': [2, 4]\n",
        "                                      }\n",
        "grid_search_gb = GridSearchCV(pipe_gb, param_grid = tuning_grid_gb, cv = 5, return_train_score=True)"
      ],
      "metadata": {
        "id": "jTa3qYxXGxxU"
      },
      "execution_count": 457,
      "outputs": []
    },
    {
      "cell_type": "code",
      "source": [
        "grid_search_gb.fit(X_train, Y_train)"
      ],
      "metadata": {
        "colab": {
          "base_uri": "https://localhost:8080/"
        },
        "id": "QvdLUefcGyic",
        "outputId": "6231b2ac-d198-40a0-ce42-bf76f7271104"
      },
      "execution_count": 458,
      "outputs": [
        {
          "output_type": "execute_result",
          "data": {
            "text/plain": [
              "GridSearchCV(cv=5,\n",
              "             estimator=Pipeline(steps=[('preproc',\n",
              "                                        ColumnTransformer(remainder='passthrough',\n",
              "                                                          transformers=[('cat_pipe',\n",
              "                                                                         Pipeline(steps=[('cat_impute',\n",
              "                                                                                          SimpleImputer(strategy='most_frequent')),\n",
              "                                                                                         ('onehot_cat',\n",
              "                                                                                          OneHotEncoder(drop='if_binary'))]),\n",
              "                                                                         <sklearn.compose._column_transformer.make_column_selector object at 0x7fc777457e90>),\n",
              "                                                                        ('num_pipe',\n",
              "                                                                         Pipeline(steps=[('impute_num',\n",
              "                                                                                          SimpleImputer()),\n",
              "                                                                                         ('scale_num',\n",
              "                                                                                          StandardScaler())]),\n",
              "                                                                         <sklearn.compose._column_transformer.make_column_selector object at 0x7fc777457f10>)])),\n",
              "                                       ('gbc', GradientBoostingClassifier())]),\n",
              "             param_grid={'gbc__learning_rate': [1, 0.5, 0.25],\n",
              "                         'gbc__max_depth': [2, 4],\n",
              "                         'gbc__min_samples_split': [2, 4],\n",
              "                         'gbc__n_estimators': [64, 128, 256]},\n",
              "             return_train_score=True)"
            ]
          },
          "metadata": {},
          "execution_count": 458
        }
      ]
    },
    {
      "cell_type": "code",
      "source": [
        "pipe_gb.fit(X_train, Y_train)"
      ],
      "metadata": {
        "colab": {
          "base_uri": "https://localhost:8080/"
        },
        "id": "oODRxFfQG1qS",
        "outputId": "a54d9ca8-eb97-478a-b8d4-e4965cea7ab5"
      },
      "execution_count": 459,
      "outputs": [
        {
          "output_type": "execute_result",
          "data": {
            "text/plain": [
              "Pipeline(steps=[('preproc',\n",
              "                 ColumnTransformer(remainder='passthrough',\n",
              "                                   transformers=[('cat_pipe',\n",
              "                                                  Pipeline(steps=[('cat_impute',\n",
              "                                                                   SimpleImputer(strategy='most_frequent')),\n",
              "                                                                  ('onehot_cat',\n",
              "                                                                   OneHotEncoder(drop='if_binary'))]),\n",
              "                                                  <sklearn.compose._column_transformer.make_column_selector object at 0x7fc777457e90>),\n",
              "                                                 ('num_pipe',\n",
              "                                                  Pipeline(steps=[('impute_num',\n",
              "                                                                   SimpleImputer()),\n",
              "                                                                  ('scale_num',\n",
              "                                                                   StandardScaler())]),\n",
              "                                                  <sklearn.compose._column_transformer.make_column_selector object at 0x7fc777457f10>)])),\n",
              "                ('gbc', GradientBoostingClassifier())])"
            ]
          },
          "metadata": {},
          "execution_count": 459
        }
      ]
    },
    {
      "cell_type": "code",
      "source": [
        "grid_search_gb.best_params_"
      ],
      "metadata": {
        "colab": {
          "base_uri": "https://localhost:8080/"
        },
        "id": "VhH4ZAfsG5L9",
        "outputId": "62b2d60a-ca64-4cc9-c5b6-e631f12eec6b"
      },
      "execution_count": 460,
      "outputs": [
        {
          "output_type": "execute_result",
          "data": {
            "text/plain": [
              "{'gbc__learning_rate': 0.25,\n",
              " 'gbc__max_depth': 2,\n",
              " 'gbc__min_samples_split': 4,\n",
              " 'gbc__n_estimators': 64}"
            ]
          },
          "metadata": {},
          "execution_count": 460
        }
      ]
    },
    {
      "cell_type": "code",
      "source": [
        "print(grid_search_gb.best_score_)"
      ],
      "metadata": {
        "colab": {
          "base_uri": "https://localhost:8080/"
        },
        "id": "XAHiWeePG6en",
        "outputId": "a00d78d4-de10-44fa-cb74-309e1b395878"
      },
      "execution_count": 461,
      "outputs": [
        {
          "output_type": "stream",
          "name": "stdout",
          "text": [
            "0.6363155022639116\n"
          ]
        }
      ]
    },
    {
      "cell_type": "markdown",
      "source": [
        "## Final fit"
      ],
      "metadata": {
        "id": "BK30kkzFG8vo"
      }
    },
    {
      "cell_type": "markdown",
      "source": [
        "The final fit here is already present in the generated model due to the way we set our parameters in the grid search. If we want to look at the performance, we can do so. Here is a non-helpful description of the best model:"
      ],
      "metadata": {
        "id": "_rgaDkBwHAg6"
      }
    },
    {
      "cell_type": "markdown",
      "source": [
        "### Logistic Regression"
      ],
      "metadata": {
        "id": "Gh74gnAMHCSJ"
      }
    },
    {
      "cell_type": "code",
      "source": [
        "grid_search_lg.best_estimator_"
      ],
      "metadata": {
        "colab": {
          "base_uri": "https://localhost:8080/"
        },
        "id": "KpTBms2YHFZH",
        "outputId": "7bb552ee-7252-4862-8f97-d7082af15e6d"
      },
      "execution_count": 462,
      "outputs": [
        {
          "output_type": "execute_result",
          "data": {
            "text/plain": [
              "Pipeline(steps=[('preproc',\n",
              "                 ColumnTransformer(remainder='passthrough',\n",
              "                                   transformers=[('cat_pipe',\n",
              "                                                  Pipeline(steps=[('cat_impute',\n",
              "                                                                   SimpleImputer(strategy='most_frequent')),\n",
              "                                                                  ('onehot_cat',\n",
              "                                                                   OneHotEncoder(drop='if_binary'))]),\n",
              "                                                  <sklearn.compose._column_transformer.make_column_selector object at 0x7fc779542410>),\n",
              "                                                 ('num_pipe',\n",
              "                                                  Pipeline(steps=[('impute_num',\n",
              "                                                                   SimpleImputer()),\n",
              "                                                                  ('scale_num',\n",
              "                                                                   StandardScaler())]),\n",
              "                                                  <sklearn.compose._column_transformer.make_column_selector object at 0x7fc779148d90>)])),\n",
              "                ('mdl',\n",
              "                 LogisticRegression(C=316.22776601683796, l1_ratio=0.0,\n",
              "                                    penalty='elasticnet', solver='saga',\n",
              "                                    tol=0.01))])"
            ]
          },
          "metadata": {},
          "execution_count": 462
        }
      ]
    },
    {
      "cell_type": "markdown",
      "source": [
        "### Random Forest Classifier"
      ],
      "metadata": {
        "id": "i_orSacpHJZg"
      }
    },
    {
      "cell_type": "code",
      "source": [
        "grid_search_rf.best_estimator_"
      ],
      "metadata": {
        "colab": {
          "base_uri": "https://localhost:8080/"
        },
        "id": "0LoPElL6HMMg",
        "outputId": "612a926f-d81a-4b07-a4c7-747a25ea9eb7"
      },
      "execution_count": 463,
      "outputs": [
        {
          "output_type": "execute_result",
          "data": {
            "text/plain": [
              "Pipeline(steps=[('preproc',\n",
              "                 ColumnTransformer(remainder='passthrough',\n",
              "                                   transformers=[('cat_pipe',\n",
              "                                                  Pipeline(steps=[('cat_impute',\n",
              "                                                                   SimpleImputer(strategy='most_frequent')),\n",
              "                                                                  ('onehot_cat',\n",
              "                                                                   OneHotEncoder(drop='if_binary'))]),\n",
              "                                                  <sklearn.compose._column_transformer.make_column_selector object at 0x7fc7774b1610>),\n",
              "                                                 ('num_pipe',\n",
              "                                                  Pipeline(steps=[('impute_num',\n",
              "                                                                   SimpleImputer()),\n",
              "                                                                  ('scale_num',\n",
              "                                                                   StandardScaler())]),\n",
              "                                                  <sklearn.compose._column_transformer.make_column_selector object at 0x7fc77966db90>)])),\n",
              "                ('rf',\n",
              "                 RandomForestClassifier(max_depth=5, max_features='sqrt',\n",
              "                                        n_estimators=10))])"
            ]
          },
          "metadata": {},
          "execution_count": 463
        }
      ]
    },
    {
      "cell_type": "markdown",
      "source": [
        "### Gradient Boosting Classifier"
      ],
      "metadata": {
        "id": "JT27QfNfHPGW"
      }
    },
    {
      "cell_type": "code",
      "source": [
        "grid_search_gb.best_estimator_"
      ],
      "metadata": {
        "colab": {
          "base_uri": "https://localhost:8080/"
        },
        "id": "wEUHzzt_HQpq",
        "outputId": "6a2b68b7-7dca-4c39-daf9-a19dfb407d5e"
      },
      "execution_count": 464,
      "outputs": [
        {
          "output_type": "execute_result",
          "data": {
            "text/plain": [
              "Pipeline(steps=[('preproc',\n",
              "                 ColumnTransformer(remainder='passthrough',\n",
              "                                   transformers=[('cat_pipe',\n",
              "                                                  Pipeline(steps=[('cat_impute',\n",
              "                                                                   SimpleImputer(strategy='most_frequent')),\n",
              "                                                                  ('onehot_cat',\n",
              "                                                                   OneHotEncoder(drop='if_binary'))]),\n",
              "                                                  <sklearn.compose._column_transformer.make_column_selector object at 0x7fc7773e5650>),\n",
              "                                                 ('num_pipe',\n",
              "                                                  Pipeline(steps=[('impute_num',\n",
              "                                                                   SimpleImputer()),\n",
              "                                                                  ('scale_num',\n",
              "                                                                   StandardScaler())]),\n",
              "                                                  <sklearn.compose._column_transformer.make_column_selector object at 0x7fc777426550>)])),\n",
              "                ('gbc',\n",
              "                 GradientBoostingClassifier(learning_rate=0.25, max_depth=2,\n",
              "                                            min_samples_split=4,\n",
              "                                            n_estimators=64))])"
            ]
          },
          "metadata": {},
          "execution_count": 464
        }
      ]
    },
    {
      "cell_type": "markdown",
      "source": [
        "## Variable importance"
      ],
      "metadata": {
        "id": "kSdAClrYHSik"
      }
    },
    {
      "cell_type": "markdown",
      "source": [
        "Now we assess the importance in the selected model to reveal any potential insights."
      ],
      "metadata": {
        "id": "IpzILkgDHXZV"
      }
    },
    {
      "cell_type": "markdown",
      "source": [
        "### Logistic Regression"
      ],
      "metadata": {
        "id": "xYM5wYMCHZZx"
      }
    },
    {
      "cell_type": "code",
      "source": [
        "grid_search_lg.classes_"
      ],
      "metadata": {
        "colab": {
          "base_uri": "https://localhost:8080/"
        },
        "id": "D_OP3ugxHcq9",
        "outputId": "459da3f9-02f7-4d5c-c7dc-80ff51857786"
      },
      "execution_count": 465,
      "outputs": [
        {
          "output_type": "execute_result",
          "data": {
            "text/plain": [
              "array(['No', 'Yes'], dtype=object)"
            ]
          },
          "metadata": {},
          "execution_count": 465
        }
      ]
    },
    {
      "cell_type": "code",
      "source": [
        "vip_lg = grid_search_lg.best_estimator_['mdl'].coef_[0]\n",
        "vip_lg"
      ],
      "metadata": {
        "colab": {
          "base_uri": "https://localhost:8080/"
        },
        "id": "C6J5O06FHesZ",
        "outputId": "2f35fd52-07f6-44e3-ab48-2141dbf6330c"
      },
      "execution_count": 466,
      "outputs": [
        {
          "output_type": "execute_result",
          "data": {
            "text/plain": [
              "array([-0.08785207, -0.14726032,  0.71311065, -0.04866459, -1.10179517,\n",
              "       -1.1788266 ,  0.08180265,  0.04157444,  0.45605404,  0.89354979,\n",
              "        0.0649121 ,  0.16671692, -0.14347394, -3.4124241 , -0.10214499,\n",
              "       -0.14725478,  0.58678179, -0.12772382, -0.50958244, -1.13831875,\n",
              "       -0.41304511, -0.71047246, -0.30814923, -0.41926773, -0.19124219,\n",
              "       -0.15717505, -0.2256201 , -0.18504107,  0.77192919, -0.42624946,\n",
              "       -0.07328227])"
            ]
          },
          "metadata": {},
          "execution_count": 466
        }
      ]
    },
    {
      "cell_type": "code",
      "source": [
        "#get names in correct preproc order\n",
        "cat_names = grid_search_lg.best_estimator_.named_steps['preproc'].transformers_[0][1].named_steps['onehot_cat'].get_feature_names_out()\n",
        "cat_names"
      ],
      "metadata": {
        "colab": {
          "base_uri": "https://localhost:8080/"
        },
        "id": "yQmSYLRjVVUx",
        "outputId": "b7d3db9a-7090-42fe-f679-66605bab1538"
      },
      "execution_count": 467,
      "outputs": [
        {
          "output_type": "execute_result",
          "data": {
            "text/plain": [
              "array(['x0_Angle', 'x0_Front', 'x0_Head On', 'x0_Other', 'x0_Rear',\n",
              "       'x0_Side Swipe', 'x1_CLEAR', 'x1_CLOUDY', 'x1_FOG', 'x1_Other',\n",
              "       'x1_RAIN', 'x1_SNOW', 'x1_Sleet', 'x1_Snow', 'x2_DARK - LIGHTED',\n",
              "       'x2_DARK - NOT LIGHTED', 'x2_DAWN', 'x2_DAYLIGHT', 'x2_DUSK',\n",
              "       'x2_Dark-Unknown Lighting', 'x2_OTHER', 'x3_CENTRA', 'x3_EAST',\n",
              "       'x3_HERMIT', 'x3_MADISO', 'x3_MIDTOW', 'x3_NORTH', 'x3_SOUTH',\n",
              "       'x3_Unknown', 'x3_WEST'], dtype=object)"
            ]
          },
          "metadata": {},
          "execution_count": 467
        }
      ]
    },
    {
      "cell_type": "code",
      "source": [
        "num_names = grid_search_lg.best_estimator_.named_steps['preproc'].transformers_[1][2]\n",
        "num_names"
      ],
      "metadata": {
        "colab": {
          "base_uri": "https://localhost:8080/"
        },
        "id": "fs11LIT1HiQI",
        "outputId": "b2f1103c-14c4-4c4c-cc71-080320fd59d2"
      },
      "execution_count": 468,
      "outputs": [
        {
          "output_type": "execute_result",
          "data": {
            "text/plain": [
              "['AccidentNumber']"
            ]
          },
          "metadata": {},
          "execution_count": 468
        }
      ]
    },
    {
      "cell_type": "code",
      "source": [
        "#create df with vip info\n",
        "coef_info = pd.DataFrame({'feat_names':np.hstack([cat_names, num_names]), 'vip': vip_lg})\n",
        "\n",
        "#get sign and magnitude information\n",
        "coef_info = coef_info.assign(coef_mag = abs(coef_info['vip']),\n",
        "                             coef_sign = np.sign(coef_info['vip']))\n",
        "\n",
        "#sort and plot\n",
        "coef_info = coef_info.set_index('feat_names').sort_values(by='coef_mag', ascending=False)\n",
        "plt.figure(figsize=(10, 10)) \n",
        "sns.barplot(y=coef_info.index, x='coef_mag', hue='coef_sign', data=coef_info, orient='h', dodge=False);"
      ],
      "metadata": {
        "colab": {
          "base_uri": "https://localhost:8080/",
          "height": 606
        },
        "id": "aGW_NuxKVYen",
        "outputId": "1a9229ca-8718-490b-acf3-a2f6b7c4ab98"
      },
      "execution_count": 469,
      "outputs": [
        {
          "output_type": "display_data",
          "data": {
            "text/plain": [
              "<Figure size 720x720 with 1 Axes>"
            ],
            "image/png": "[encoded data removed]"
          },
          "metadata": {
            "needs_background": "light"
          }
        }
      ]
    },
    {
      "cell_type": "markdown",
      "source": [
        "### Random Forest Classifier"
      ],
      "metadata": {
        "id": "wHRQ4UWeHmIG"
      }
    },
    {
      "cell_type": "code",
      "source": [
        "grid_search_rf.classes_"
      ],
      "metadata": {
        "id": "-tFFWkj_Holk",
        "colab": {
          "base_uri": "https://localhost:8080/"
        },
        "outputId": "919de805-a5bf-4c22-cdd7-22a50f29ddc7"
      },
      "execution_count": 470,
      "outputs": [
        {
          "output_type": "execute_result",
          "data": {
            "text/plain": [
              "array(['No', 'Yes'], dtype=object)"
            ]
          },
          "metadata": {},
          "execution_count": 470
        }
      ]
    },
    {
      "cell_type": "code",
      "source": [
        "vip_rf = grid_search_rf.best_estimator_['rf']\n",
        "vip_rf"
      ],
      "metadata": {
        "id": "7dVXEVgMHqcE",
        "colab": {
          "base_uri": "https://localhost:8080/"
        },
        "outputId": "1833850d-e43d-424b-aa09-5e2da8b02b7e"
      },
      "execution_count": 471,
      "outputs": [
        {
          "output_type": "execute_result",
          "data": {
            "text/plain": [
              "RandomForestClassifier(max_depth=5, max_features='sqrt', n_estimators=10)"
            ]
          },
          "metadata": {},
          "execution_count": 471
        }
      ]
    },
    {
      "cell_type": "code",
      "source": [
        "cat_names = grid_search_rf.best_estimator_.named_steps['preproc'].transformers_[0][1].named_steps['onehot_cat'].get_feature_names_out()\n",
        "num_names = grid_search_rf.best_estimator_.named_steps['preproc'].transformers_[1][2]\n",
        "vip_rf = grid_search_rf.best_estimator_.steps[1]\n",
        "vip_rf = vip_rf[1].estimators_\n",
        "\n",
        "plt.figure(figsize=(18, 12)) \n",
        "tree.plot_tree(vip_rf[0], feature_names=np.hstack([cat_names, num_names]), fontsize=8, filled=True)\n",
        "plt.show()"
      ],
      "metadata": {
        "id": "AfETEOjhHr7a",
        "colab": {
          "base_uri": "https://localhost:8080/",
          "height": 683
        },
        "outputId": "fd56b5a1-9726-4ec4-e0a8-213837433fa0"
      },
      "execution_count": 472,
      "outputs": [
        {
          "output_type": "display_data",
          "data": {
            "text/plain": [
              "<Figure size 1296x864 with 1 Axes>"
            ],
            "image/png": "[encoded data removed]"
          },
          "metadata": {
            "needs_background": "light"
          }
        }
      ]
    },
    {
      "cell_type": "markdown",
      "source": [
        "### Gradient Boosting Classifier"
      ],
      "metadata": {
        "id": "ouYlaZpvHvlg"
      }
    },
    {
      "cell_type": "code",
      "source": [
        "grid_search_gb.classes_"
      ],
      "metadata": {
        "id": "4YAp03_gHx5L",
        "colab": {
          "base_uri": "https://localhost:8080/"
        },
        "outputId": "9be7f807-41db-44f7-d60e-d1421cac8102"
      },
      "execution_count": 473,
      "outputs": [
        {
          "output_type": "execute_result",
          "data": {
            "text/plain": [
              "array(['No', 'Yes'], dtype=object)"
            ]
          },
          "metadata": {},
          "execution_count": 473
        }
      ]
    },
    {
      "cell_type": "code",
      "source": [
        "vip_gb = grid_search_gb.best_estimator_['gbc']\n",
        "vip_gb"
      ],
      "metadata": {
        "id": "u5yFS2XUH0nP",
        "colab": {
          "base_uri": "https://localhost:8080/"
        },
        "outputId": "6e52456b-be3f-432d-94c8-050e538a120c"
      },
      "execution_count": 474,
      "outputs": [
        {
          "output_type": "execute_result",
          "data": {
            "text/plain": [
              "GradientBoostingClassifier(learning_rate=0.25, max_depth=2, min_samples_split=4,\n",
              "                           n_estimators=64)"
            ]
          },
          "metadata": {},
          "execution_count": 474
        }
      ]
    },
    {
      "cell_type": "markdown",
      "source": [
        ""
      ],
      "metadata": {
        "id": "Mi-sfCz_HvVp"
      }
    },
    {
      "cell_type": "markdown",
      "source": [
        "## Performance metrics on test data"
      ],
      "metadata": {
        "id": "RkOIlgkR3l3R"
      }
    },
    {
      "cell_type": "markdown",
      "source": [
        "Here, we can see the performance of the model, which is pretty nice! We can also look into different scores specifically for more insight into the performance."
      ],
      "metadata": {
        "id": "Ijdc53tX3qJE"
      }
    },
    {
      "cell_type": "markdown",
      "source": [
        "### Logistic Regression"
      ],
      "metadata": {
        "id": "uJlBIRtfIA1_"
      }
    },
    {
      "cell_type": "code",
      "source": [
        "print(classification_report(Y_test, grid_search_lg.best_estimator_.predict(X_test)))"
      ],
      "metadata": {
        "id": "MeYSQFw8IEGU",
        "colab": {
          "base_uri": "https://localhost:8080/"
        },
        "outputId": "df8c33de-3bc8-465d-aaf4-291d44e85df2"
      },
      "execution_count": 475,
      "outputs": [
        {
          "output_type": "stream",
          "name": "stdout",
          "text": [
            "              precision    recall  f1-score   support\n",
            "\n",
            "          No       0.64      0.97      0.77      1233\n",
            "         Yes       0.54      0.05      0.10       708\n",
            "\n",
            "    accuracy                           0.64      1941\n",
            "   macro avg       0.59      0.51      0.44      1941\n",
            "weighted avg       0.61      0.64      0.53      1941\n",
            "\n"
          ]
        }
      ]
    },
    {
      "cell_type": "code",
      "source": [
        "cm_lg = confusion_matrix(Y_test, grid_search_lg.best_estimator_.predict(X_test))\n",
        "disp = ConfusionMatrixDisplay(confusion_matrix=cm_lg,\n",
        "                               display_labels=grid_search_lg.classes_)\n",
        "disp.plot()\n",
        "plt.show()"
      ],
      "metadata": {
        "id": "BFQwCkS6IHR0",
        "colab": {
          "base_uri": "https://localhost:8080/",
          "height": 283
        },
        "outputId": "b900f5cc-b6d5-49ad-eee7-6a7fa7eec353"
      },
      "execution_count": 476,
      "outputs": [
        {
          "output_type": "display_data",
          "data": {
            "text/plain": [
              "<Figure size 432x288 with 2 Axes>"
            ],
            "image/png": "[encoded data removed]"
          },
          "metadata": {
            "needs_background": "light"
          }
        }
      ]
    },
    {
      "cell_type": "markdown",
      "source": [
        "### Random Forest Classifier"
      ],
      "metadata": {
        "id": "ME4TJYC_Iagh"
      }
    },
    {
      "cell_type": "code",
      "source": [
        "print(classification_report(Y_test, grid_search_rf.best_estimator_.predict(X_test)))"
      ],
      "metadata": {
        "id": "hIA5mTLoIc0t",
        "colab": {
          "base_uri": "https://localhost:8080/"
        },
        "outputId": "fabdf0e5-8ea5-419d-8e70-bb1a734be7c9"
      },
      "execution_count": 479,
      "outputs": [
        {
          "output_type": "stream",
          "name": "stdout",
          "text": [
            "              precision    recall  f1-score   support\n",
            "\n",
            "          No       0.64      0.99      0.78      1233\n",
            "         Yes       0.58      0.02      0.03       708\n",
            "\n",
            "    accuracy                           0.64      1941\n",
            "   macro avg       0.61      0.50      0.40      1941\n",
            "weighted avg       0.62      0.64      0.50      1941\n",
            "\n"
          ]
        }
      ]
    },
    {
      "cell_type": "code",
      "source": [
        "cm_rf = confusion_matrix(Y_test, grid_search_rf.best_estimator_.predict(X_test))\n",
        "disp = ConfusionMatrixDisplay(confusion_matrix=cm_rf, display_labels=grid_search_rf.classes_)\n",
        "disp.plot()\n",
        "plt.show()"
      ],
      "metadata": {
        "id": "NkJY3Hc3Ifdn",
        "colab": {
          "base_uri": "https://localhost:8080/",
          "height": 279
        },
        "outputId": "3cc42515-895f-4772-ebbc-ba3719232ac1"
      },
      "execution_count": 480,
      "outputs": [
        {
          "output_type": "display_data",
          "data": {
            "text/plain": [
              "<Figure size 432x288 with 2 Axes>"
            ],
            "image/png": "[encoded data removed]"
          },
          "metadata": {
            "needs_background": "light"
          }
        }
      ]
    },
    {
      "cell_type": "markdown",
      "source": [
        "### Gradient Boosting Classifier"
      ],
      "metadata": {
        "id": "WdGTdi9gIxaT"
      }
    },
    {
      "cell_type": "code",
      "source": [
        "print(classification_report(Y_test, grid_search_gb.best_estimator_.predict(X_test)))"
      ],
      "metadata": {
        "id": "syv4QAHCIzsW",
        "colab": {
          "base_uri": "https://localhost:8080/"
        },
        "outputId": "3dc9867f-ffcc-4058-d0da-d5dd63f13e53"
      },
      "execution_count": 481,
      "outputs": [
        {
          "output_type": "stream",
          "name": "stdout",
          "text": [
            "              precision    recall  f1-score   support\n",
            "\n",
            "          No       0.64      0.97      0.77      1233\n",
            "         Yes       0.48      0.06      0.10       708\n",
            "\n",
            "    accuracy                           0.63      1941\n",
            "   macro avg       0.56      0.51      0.44      1941\n",
            "weighted avg       0.58      0.63      0.53      1941\n",
            "\n"
          ]
        }
      ]
    },
    {
      "cell_type": "code",
      "source": [
        "cm_gb = confusion_matrix(Y_test, grid_search_gb.best_estimator_.predict(X_test))\n",
        "disp = ConfusionMatrixDisplay(confusion_matrix=cm_gb, display_labels=grid_search_gb.classes_)\n",
        "disp.plot()\n",
        "plt.show()"
      ],
      "metadata": {
        "id": "vTlAGs-_I1m0",
        "colab": {
          "base_uri": "https://localhost:8080/",
          "height": 279
        },
        "outputId": "1f6f9031-21a5-4ada-800f-b1895e985154"
      },
      "execution_count": 482,
      "outputs": [
        {
          "output_type": "display_data",
          "data": {
            "text/plain": [
              "<Figure size 432x288 with 2 Axes>"
            ],
            "image/png": "[encoded data removed]"
          },
          "metadata": {
            "needs_background": "light"
          }
        }
      ]
    },
    {
      "cell_type": "markdown",
      "source": [
        "## Model Comparsion"
      ],
      "metadata": {
        "id": "BFj_-rHcJDxF"
      }
    },
    {
      "cell_type": "markdown",
      "source": [
        "The comparsion of three model shows that **GRADIENT BOOSTING** model was the best with better accuracy, precision, and f-score"
      ],
      "metadata": {
        "id": "id9OvdivJHQ-"
      }
    },
    {
      "cell_type": "code",
      "source": [
        "#------------------------------------------------------\n",
        "# The comparsion of three model shows that GRADIENT BOOSTING classification model was the best\n",
        "# with higher accuracy, precision, f-score and under the ROC curve.\n",
        "#------------------------------------------------------\n",
        "print(classification_report(Y_test, grid_search_lg.best_estimator_.predict(X_test)))\n",
        "print(classification_report(Y_test, grid_search_rf.best_estimator_.predict(X_test)))\n",
        "print(classification_report(Y_test, grid_search_gb.best_estimator_.predict(X_test)))"
      ],
      "metadata": {
        "id": "7Xinan7UJJtO",
        "colab": {
          "base_uri": "https://localhost:8080/"
        },
        "outputId": "bda42496-850a-4505-b20e-bc67799af1b8"
      },
      "execution_count": 484,
      "outputs": [
        {
          "output_type": "stream",
          "name": "stdout",
          "text": [
            "              precision    recall  f1-score   support\n",
            "\n",
            "          No       0.64      0.97      0.77      1233\n",
            "         Yes       0.54      0.05      0.10       708\n",
            "\n",
            "    accuracy                           0.64      1941\n",
            "   macro avg       0.59      0.51      0.44      1941\n",
            "weighted avg       0.61      0.64      0.53      1941\n",
            "\n",
            "              precision    recall  f1-score   support\n",
            "\n",
            "          No       0.64      0.99      0.78      1233\n",
            "         Yes       0.58      0.02      0.03       708\n",
            "\n",
            "    accuracy                           0.64      1941\n",
            "   macro avg       0.61      0.50      0.40      1941\n",
            "weighted avg       0.62      0.64      0.50      1941\n",
            "\n",
            "              precision    recall  f1-score   support\n",
            "\n",
            "          No       0.64      0.97      0.77      1233\n",
            "         Yes       0.48      0.06      0.10       708\n",
            "\n",
            "    accuracy                           0.63      1941\n",
            "   macro avg       0.56      0.51      0.44      1941\n",
            "weighted avg       0.58      0.63      0.53      1941\n",
            "\n"
          ]
        }
      ]
    }
  ]
}
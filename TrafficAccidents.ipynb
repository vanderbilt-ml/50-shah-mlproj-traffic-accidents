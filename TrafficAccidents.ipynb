{
  "nbformat": 4,
  "nbformat_minor": 0,
  "metadata": {
    "colab": {
      "name": "TrafficAccidents.ipynb",
      "provenance": [],
      "collapsed_sections": [],
      "authorship_tag": "ABX9TyNtzLvCOINen+VnzpWLuibs",
      "include_colab_link": true
    },
    "kernelspec": {
      "name": "python3",
      "display_name": "Python 3"
    },
    "language_info": {
      "name": "python"
    }
  },
  "cells": [
    {
      "cell_type": "markdown",
      "metadata": {
        "id": "view-in-github",
        "colab_type": "text"
      },
      "source": [
        "<a href=\"https://colab.research.google.com/github/vanderbilt-ml/50-shah-mlproj-traffic-accidents/blob/main/TrafficAccidents.ipynb\" target=\"_parent\"><img src=\"https://colab.research.google.com/assets/colab-badge.svg\" alt=\"Open In Colab\"/></a>"
      ]
    },
    {
      "cell_type": "markdown",
      "source": [
        "\n",
        "\n",
        "```\n",
        "# This is formatted as code\n",
        "```\n",
        "\n",
        "#Traffic Accidents"
      ],
      "metadata": {
        "id": "arfe9vfC2bO-"
      }
    },
    {
      "cell_type": "markdown",
      "source": [
        "## Background"
      ],
      "metadata": {
        "id": "2R0zJeoh2hwG"
      }
    },
    {
      "cell_type": "markdown",
      "source": [
        "This is dataset of traffic accidents reported from 2019 to present. The data has been retrieved using manual export and is subject to change during an investigation as more information becomes available."
      ],
      "metadata": {
        "id": "C5vK98ftJHxv"
      }
    },
    {
      "cell_type": "markdown",
      "source": [
        "## Project Description"
      ],
      "metadata": {
        "id": "pdeE7iw828y7"
      }
    },
    {
      "cell_type": "markdown",
      "source": [
        "Each record is a reported traffic accident. Check the metadata field descriptions for more detailed information."
      ],
      "metadata": {
        "id": "a8Me5pVW3Dy4"
      }
    },
    {
      "cell_type": "markdown",
      "source": [
        "### **Data Dictionary**\n",
        "\n",
        "Feature\t|\tDescription\t|\tType\n",
        "-------------\t|\t-------------\t|\t-------------\n",
        "AccidentNumber\t|\tMNPD incident number for the crash\t|\tPlain Text\n",
        "AccidentDate\t|\tDate of the accident\t|\tDate & Time\n",
        "Injury\t|\tInjury reported\t|\tCheckBox\n",
        "Fatality\t|\tFatality reported\t|\tCheckBox\n",
        "PropertyDamage\t|\tIndicates if there was property damage as a result of the accident\t|\tCheckbox\n",
        "HitAndRun\t|\tIndicates if the accident was a hit and run\t|\tCheckbox\n",
        "CollisionType\t|\tFull text description of the collision type\t|\tPlain Text\n",
        "Weather\t|\tFull text description of the weather conditions\t|\tPlain Text\n",
        "Illumination\t|\tFull text description of the lighting conditions\t|\tPlain Text\n",
        "Precinct\t|\tAssigned precinct in which the accident occurred\t|\tPlain Text"
      ],
      "metadata": {
        "id": "MKSApobRkkh_"
      }
    },
    {
      "cell_type": "code",
      "source": [
        "#tables and visualizations\n",
        "import pandas as pd\n",
        "import numpy as np\n",
        "import seaborn as sns\n",
        "import matplotlib.pyplot as plt\n",
        "\n",
        "#machine learning\n",
        "from sklearn.model_selection import train_test_split, GridSearchCV\n",
        "from sklearn.metrics import mean_squared_error, mean_absolute_percentage_error, r2_score\n",
        "from sklearn.linear_model import LogisticRegression\n",
        "from sklearn.ensemble import RandomForestClassifier, GradientBoostingClassifier\n",
        "from sklearn.pipeline import Pipeline \n",
        "from sklearn.compose import ColumnTransformer, make_column_selector\n",
        "from sklearn.impute import SimpleImputer\n",
        "from sklearn.preprocessing import OneHotEncoder, LabelBinarizer, StandardScaler\n",
        "from sklearn import config_context, tree\n",
        "from sklearn.metrics import classification_report, confusion_matrix, ConfusionMatrixDisplay, roc_curve, roc_auc_score"
      ],
      "metadata": {
        "id": "PqlyBebnngSw"
      },
      "execution_count": 133,
      "outputs": []
    },
    {
      "cell_type": "markdown",
      "source": [
        "## Load Data\n",
        "\n",
        "Load the traffic accidents data provided using pandas and read it as a dataframe. Please note that the The repository is private so I have to use token to access .csv file."
      ],
      "metadata": {
        "id": "8ToIjCKinq-E"
      }
    },
    {
      "cell_type": "code",
      "source": [
        "penguins = pd.read_csv('https://raw.githubusercontent.com/vanderbilt-ml/50-shah-mlproj-traffic-accidents/main/Traffic_Accidents.csv')\n",
        "display(penguins.head())\n",
        "penguins.info()"
      ],
      "metadata": {
        "colab": {
          "base_uri": "https://localhost:8080/",
          "height": 754
        },
        "id": "QJcZnfpTn44c",
        "outputId": "8659e3ac-6b5c-4cfb-fb21-8a606ee213d0"
      },
      "execution_count": 250,
      "outputs": [
        {
          "output_type": "stream",
          "name": "stderr",
          "text": [
            "/usr/local/lib/python3.7/dist-packages/IPython/core/interactiveshell.py:2882: DtypeWarning: Columns (1,2,3,4,5,6,7,8,9) have mixed types.Specify dtype option on import or set low_memory=False.\n",
            "  exec(code_obj, self.user_global_ns, self.user_ns)\n"
          ]
        },
        {
          "output_type": "display_data",
          "data": {
            "text/plain": [
              "   AccidentNumber AccidentDate Injury Fatality PropertyDamage HitAndRun  \\\n",
              "0    2.020005e+10    1/31/2022  False    False          False     False   \n",
              "1    2.020010e+10     3/4/2022  False    False          False     False   \n",
              "2    2.020018e+10    4/15/2022   True    False          False     False   \n",
              "3    2.021002e+10    1/12/2022  False    False           True     False   \n",
              "4    2.022000e+10     1/1/2022  False    False          False     False   \n",
              "\n",
              "                             CollisionType Weather        Illumination  \\\n",
              "0               SIDESWIPE - SAME DIRECTION   CLEAR            DAYLIGHT   \n",
              "1                                    ANGLE   CLEAR            DAYLIGHT   \n",
              "2                                    ANGLE  CLOUDY            DAYLIGHT   \n",
              "3  NOT COLLISION W/MOTOR VEHICLE-TRANSPORT   CLEAR            DAYLIGHT   \n",
              "4  NOT COLLISION W/MOTOR VEHICLE-TRANSPORT   CLEAR  DARK - NOT LIGHTED   \n",
              "\n",
              "  Precinct  Unnamed: 10  Unnamed: 11  Unnamed: 12  Unnamed: 13  Unnamed: 14  \\\n",
              "0     WEST          NaN          NaN          NaN          NaN          NaN   \n",
              "1   CENTRA          NaN          NaN          NaN          NaN          NaN   \n",
              "2   HERMIT          NaN          NaN          NaN          NaN          NaN   \n",
              "3   CENTRA          NaN          NaN          NaN          NaN          NaN   \n",
              "4     WEST          NaN          NaN          NaN          NaN          NaN   \n",
              "\n",
              "   Unnamed: 15  Unnamed: 16  \n",
              "0          NaN          NaN  \n",
              "1          NaN          NaN  \n",
              "2          NaN          NaN  \n",
              "3          NaN          NaN  \n",
              "4          NaN          NaN  "
            ],
            "text/html": [
              "\n",
              "  <div id=\"df-f3b34cbf-3d3c-4a20-a9e6-83bba04875b6\">\n",
              "    <div class=\"colab-df-container\">\n",
              "      <div>\n",
              "<style scoped>\n",
              "    .dataframe tbody tr th:only-of-type {\n",
              "        vertical-align: middle;\n",
              "    }\n",
              "\n",
              "    .dataframe tbody tr th {\n",
              "        vertical-align: top;\n",
              "    }\n",
              "\n",
              "    .dataframe thead th {\n",
              "        text-align: right;\n",
              "    }\n",
              "</style>\n",
              "<table border=\"1\" class=\"dataframe\">\n",
              "  <thead>\n",
              "    <tr style=\"text-align: right;\">\n",
              "      <th></th>\n",
              "      <th>AccidentNumber</th>\n",
              "      <th>AccidentDate</th>\n",
              "      <th>Injury</th>\n",
              "      <th>Fatality</th>\n",
              "      <th>PropertyDamage</th>\n",
              "      <th>HitAndRun</th>\n",
              "      <th>CollisionType</th>\n",
              "      <th>Weather</th>\n",
              "      <th>Illumination</th>\n",
              "      <th>Precinct</th>\n",
              "      <th>Unnamed: 10</th>\n",
              "      <th>Unnamed: 11</th>\n",
              "      <th>Unnamed: 12</th>\n",
              "      <th>Unnamed: 13</th>\n",
              "      <th>Unnamed: 14</th>\n",
              "      <th>Unnamed: 15</th>\n",
              "      <th>Unnamed: 16</th>\n",
              "    </tr>\n",
              "  </thead>\n",
              "  <tbody>\n",
              "    <tr>\n",
              "      <th>0</th>\n",
              "      <td>2.020005e+10</td>\n",
              "      <td>1/31/2022</td>\n",
              "      <td>False</td>\n",
              "      <td>False</td>\n",
              "      <td>False</td>\n",
              "      <td>False</td>\n",
              "      <td>SIDESWIPE - SAME DIRECTION</td>\n",
              "      <td>CLEAR</td>\n",
              "      <td>DAYLIGHT</td>\n",
              "      <td>WEST</td>\n",
              "      <td>NaN</td>\n",
              "      <td>NaN</td>\n",
              "      <td>NaN</td>\n",
              "      <td>NaN</td>\n",
              "      <td>NaN</td>\n",
              "      <td>NaN</td>\n",
              "      <td>NaN</td>\n",
              "    </tr>\n",
              "    <tr>\n",
              "      <th>1</th>\n",
              "      <td>2.020010e+10</td>\n",
              "      <td>3/4/2022</td>\n",
              "      <td>False</td>\n",
              "      <td>False</td>\n",
              "      <td>False</td>\n",
              "      <td>False</td>\n",
              "      <td>ANGLE</td>\n",
              "      <td>CLEAR</td>\n",
              "      <td>DAYLIGHT</td>\n",
              "      <td>CENTRA</td>\n",
              "      <td>NaN</td>\n",
              "      <td>NaN</td>\n",
              "      <td>NaN</td>\n",
              "      <td>NaN</td>\n",
              "      <td>NaN</td>\n",
              "      <td>NaN</td>\n",
              "      <td>NaN</td>\n",
              "    </tr>\n",
              "    <tr>\n",
              "      <th>2</th>\n",
              "      <td>2.020018e+10</td>\n",
              "      <td>4/15/2022</td>\n",
              "      <td>True</td>\n",
              "      <td>False</td>\n",
              "      <td>False</td>\n",
              "      <td>False</td>\n",
              "      <td>ANGLE</td>\n",
              "      <td>CLOUDY</td>\n",
              "      <td>DAYLIGHT</td>\n",
              "      <td>HERMIT</td>\n",
              "      <td>NaN</td>\n",
              "      <td>NaN</td>\n",
              "      <td>NaN</td>\n",
              "      <td>NaN</td>\n",
              "      <td>NaN</td>\n",
              "      <td>NaN</td>\n",
              "      <td>NaN</td>\n",
              "    </tr>\n",
              "    <tr>\n",
              "      <th>3</th>\n",
              "      <td>2.021002e+10</td>\n",
              "      <td>1/12/2022</td>\n",
              "      <td>False</td>\n",
              "      <td>False</td>\n",
              "      <td>True</td>\n",
              "      <td>False</td>\n",
              "      <td>NOT COLLISION W/MOTOR VEHICLE-TRANSPORT</td>\n",
              "      <td>CLEAR</td>\n",
              "      <td>DAYLIGHT</td>\n",
              "      <td>CENTRA</td>\n",
              "      <td>NaN</td>\n",
              "      <td>NaN</td>\n",
              "      <td>NaN</td>\n",
              "      <td>NaN</td>\n",
              "      <td>NaN</td>\n",
              "      <td>NaN</td>\n",
              "      <td>NaN</td>\n",
              "    </tr>\n",
              "    <tr>\n",
              "      <th>4</th>\n",
              "      <td>2.022000e+10</td>\n",
              "      <td>1/1/2022</td>\n",
              "      <td>False</td>\n",
              "      <td>False</td>\n",
              "      <td>False</td>\n",
              "      <td>False</td>\n",
              "      <td>NOT COLLISION W/MOTOR VEHICLE-TRANSPORT</td>\n",
              "      <td>CLEAR</td>\n",
              "      <td>DARK - NOT LIGHTED</td>\n",
              "      <td>WEST</td>\n",
              "      <td>NaN</td>\n",
              "      <td>NaN</td>\n",
              "      <td>NaN</td>\n",
              "      <td>NaN</td>\n",
              "      <td>NaN</td>\n",
              "      <td>NaN</td>\n",
              "      <td>NaN</td>\n",
              "    </tr>\n",
              "  </tbody>\n",
              "</table>\n",
              "</div>\n",
              "      <button class=\"colab-df-convert\" onclick=\"convertToInteractive('df-f3b34cbf-3d3c-4a20-a9e6-83bba04875b6')\"\n",
              "              title=\"Convert this dataframe to an interactive table.\"\n",
              "              style=\"display:none;\">\n",
              "        \n",
              "  <svg xmlns=\"http://www.w3.org/2000/svg\" height=\"24px\"viewBox=\"0 0 24 24\"\n",
              "       width=\"24px\">\n",
              "    <path d=\"M0 0h24v24H0V0z\" fill=\"none\"/>\n",
              "    <path d=\"M18.56 5.44l.94 2.06.94-2.06 2.06-.94-2.06-.94-.94-2.06-.94 2.06-2.06.94zm-11 1L8.5 8.5l.94-2.06 2.06-.94-2.06-.94L8.5 2.5l-.94 2.06-2.06.94zm10 10l.94 2.06.94-2.06 2.06-.94-2.06-.94-.94-2.06-.94 2.06-2.06.94z\"/><path d=\"M17.41 7.96l-1.37-1.37c-.4-.4-.92-.59-1.43-.59-.52 0-1.04.2-1.43.59L10.3 9.45l-7.72 7.72c-.78.78-.78 2.05 0 2.83L4 21.41c.39.39.9.59 1.41.59.51 0 1.02-.2 1.41-.59l7.78-7.78 2.81-2.81c.8-.78.8-2.07 0-2.86zM5.41 20L4 18.59l7.72-7.72 1.47 1.35L5.41 20z\"/>\n",
              "  </svg>\n",
              "      </button>\n",
              "      \n",
              "  <style>\n",
              "    .colab-df-container {\n",
              "      display:flex;\n",
              "      flex-wrap:wrap;\n",
              "      gap: 12px;\n",
              "    }\n",
              "\n",
              "    .colab-df-convert {\n",
              "      background-color: #E8F0FE;\n",
              "      border: none;\n",
              "      border-radius: 50%;\n",
              "      cursor: pointer;\n",
              "      display: none;\n",
              "      fill: #1967D2;\n",
              "      height: 32px;\n",
              "      padding: 0 0 0 0;\n",
              "      width: 32px;\n",
              "    }\n",
              "\n",
              "    .colab-df-convert:hover {\n",
              "      background-color: #E2EBFA;\n",
              "      box-shadow: 0px 1px 2px rgba(60, 64, 67, 0.3), 0px 1px 3px 1px rgba(60, 64, 67, 0.15);\n",
              "      fill: #174EA6;\n",
              "    }\n",
              "\n",
              "    [theme=dark] .colab-df-convert {\n",
              "      background-color: #3B4455;\n",
              "      fill: #D2E3FC;\n",
              "    }\n",
              "\n",
              "    [theme=dark] .colab-df-convert:hover {\n",
              "      background-color: #434B5C;\n",
              "      box-shadow: 0px 1px 3px 1px rgba(0, 0, 0, 0.15);\n",
              "      filter: drop-shadow(0px 1px 2px rgba(0, 0, 0, 0.3));\n",
              "      fill: #FFFFFF;\n",
              "    }\n",
              "  </style>\n",
              "\n",
              "      <script>\n",
              "        const buttonEl =\n",
              "          document.querySelector('#df-f3b34cbf-3d3c-4a20-a9e6-83bba04875b6 button.colab-df-convert');\n",
              "        buttonEl.style.display =\n",
              "          google.colab.kernel.accessAllowed ? 'block' : 'none';\n",
              "\n",
              "        async function convertToInteractive(key) {\n",
              "          const element = document.querySelector('#df-f3b34cbf-3d3c-4a20-a9e6-83bba04875b6');\n",
              "          const dataTable =\n",
              "            await google.colab.kernel.invokeFunction('convertToInteractive',\n",
              "                                                     [key], {});\n",
              "          if (!dataTable) return;\n",
              "\n",
              "          const docLinkHtml = 'Like what you see? Visit the ' +\n",
              "            '<a target=\"_blank\" href=https://colab.research.google.com/notebooks/data_table.ipynb>data table notebook</a>'\n",
              "            + ' to learn more about interactive tables.';\n",
              "          element.innerHTML = '';\n",
              "          dataTable['output_type'] = 'display_data';\n",
              "          await google.colab.output.renderOutput(dataTable, element);\n",
              "          const docLink = document.createElement('div');\n",
              "          docLink.innerHTML = docLinkHtml;\n",
              "          element.appendChild(docLink);\n",
              "        }\n",
              "      </script>\n",
              "    </div>\n",
              "  </div>\n",
              "  "
            ]
          },
          "metadata": {}
        },
        {
          "output_type": "stream",
          "name": "stdout",
          "text": [
            "<class 'pandas.core.frame.DataFrame'>\n",
            "RangeIndex: 47668 entries, 0 to 47667\n",
            "Data columns (total 17 columns):\n",
            " #   Column          Non-Null Count  Dtype  \n",
            "---  ------          --------------  -----  \n",
            " 0   AccidentNumber  7762 non-null   float64\n",
            " 1   AccidentDate    7762 non-null   object \n",
            " 2   Injury          7762 non-null   object \n",
            " 3   Fatality        7762 non-null   object \n",
            " 4   PropertyDamage  7762 non-null   object \n",
            " 5   HitAndRun       7762 non-null   object \n",
            " 6   CollisionType   7762 non-null   object \n",
            " 7   Weather         7762 non-null   object \n",
            " 8   Illumination    7762 non-null   object \n",
            " 9   Precinct        7762 non-null   object \n",
            " 10  Unnamed: 10     0 non-null      float64\n",
            " 11  Unnamed: 11     0 non-null      float64\n",
            " 12  Unnamed: 12     0 non-null      float64\n",
            " 13  Unnamed: 13     0 non-null      float64\n",
            " 14  Unnamed: 14     0 non-null      float64\n",
            " 15  Unnamed: 15     0 non-null      float64\n",
            " 16  Unnamed: 16     0 non-null      float64\n",
            "dtypes: float64(8), object(9)\n",
            "memory usage: 6.2+ MB\n"
          ]
        }
      ]
    },
    {
      "cell_type": "markdown",
      "source": [
        "### Data Cleaning\n",
        "Detect and Remove Missing values"
      ],
      "metadata": {
        "id": "t2SqNJRAsEFn"
      }
    },
    {
      "cell_type": "markdown",
      "source": [
        "After exploring and observing the data, there are a few columns with the coded value for which the description is already available. I am removing data values out of the dataframe.\n",
        "\n",
        "The columns are specified below:\n",
        "\n",
        "**Date and Time**, **Reporting Officer**, **Collision Type Code**, **Weather Code**, **Illumination Code**, **Harmful Code**, **RPA**"
      ],
      "metadata": {
        "id": "PQ3tbHHNx1nL"
      }
    },
    {
      "cell_type": "code",
      "source": [
        "penguins.isnull().sum()"
      ],
      "metadata": {
        "id": "Eiq7QHGZZJ0M",
        "outputId": "80d3d979-8e7b-452a-f34f-a6de64bba503",
        "colab": {
          "base_uri": "https://localhost:8080/"
        }
      },
      "execution_count": 242,
      "outputs": [
        {
          "output_type": "execute_result",
          "data": {
            "text/plain": [
              "AccidentNumber                 0\n",
              "AccidentDate                   0\n",
              "NumberMotorVehicles            0\n",
              "NumberInjuries                 0\n",
              "NumberFatalities               0\n",
              "PropertyDamage                 0\n",
              "HitAndRun                      0\n",
              "ReportingOfficer               1\n",
              "CollisionTypeCode              2\n",
              "CollisionTypeDescription       0\n",
              "WeatherCode                 5029\n",
              "WeatherDescription             0\n",
              "IlluminationCode              93\n",
              "IlluminationDescription        0\n",
              "HarmfulCode                    0\n",
              "RPA                           21\n",
              "Precinct                       0\n",
              "dtype: int64"
            ]
          },
          "metadata": {},
          "execution_count": 242
        }
      ]
    },
    {
      "cell_type": "code",
      "source": [
        "penguins = penguins.drop(columns=['NumberMotorVehicles',\t'NumberInjuries',\t'NumberFatalities', 'ReportingOfficer', 'CollisionTypeCode', 'WeatherCode', 'IlluminationCode', 'HarmfulCode', 'RPA'])\n",
        "penguins.shape\n",
        "print(penguins.columns)"
      ],
      "metadata": {
        "colab": {
          "base_uri": "https://localhost:8080/"
        },
        "id": "KsQDvdU0w70e",
        "outputId": "3e439103-abe8-438e-9831-6e78cc87c011"
      },
      "execution_count": 243,
      "outputs": [
        {
          "output_type": "stream",
          "name": "stdout",
          "text": [
            "Index(['AccidentNumber', 'AccidentDate', 'PropertyDamage', 'HitAndRun',\n",
            "       'CollisionTypeDescription', 'WeatherDescription',\n",
            "       'IlluminationDescription', 'Precinct'],\n",
            "      dtype='object')\n"
          ]
        }
      ]
    },
    {
      "cell_type": "code",
      "source": [
        "penguins.isnull().sum()"
      ],
      "metadata": {
        "colab": {
          "base_uri": "https://localhost:8080/"
        },
        "id": "PDxMQWSarV2V",
        "outputId": "242d2a34-8444-4cd8-d467-21840612ec14"
      },
      "execution_count": 244,
      "outputs": [
        {
          "output_type": "execute_result",
          "data": {
            "text/plain": [
              "AccidentNumber              0\n",
              "AccidentDate                0\n",
              "PropertyDamage              0\n",
              "HitAndRun                   0\n",
              "CollisionTypeDescription    0\n",
              "WeatherDescription          0\n",
              "IlluminationDescription     0\n",
              "Precinct                    0\n",
              "dtype: int64"
            ]
          },
          "metadata": {},
          "execution_count": 244
        }
      ]
    },
    {
      "cell_type": "markdown",
      "source": [
        "## Feature Engineering\n",
        "\n",
        "There are many feature engineering techniques including e.g. Imputation, Handling Outliers, Binning, Log Transform, One-Hot Encoding, Grouping Operations, Feature Split, Scaling etc. \n",
        "\n",
        "We will be applying lesson learned from various assignments lets create some statistics on the  data attached here. Also create the test and train set, pipeline and check/learn the outcome of the data."
      ],
      "metadata": {
        "id": "TN9WjBoCmeew"
      }
    },
    {
      "cell_type": "code",
      "source": [
        "penguins.shape\n",
        "penguins.head()"
      ],
      "metadata": {
        "colab": {
          "base_uri": "https://localhost:8080/",
          "height": 206
        },
        "id": "y_-92sv18tXg",
        "outputId": "2c092d0d-520d-45c6-cd9c-91246042ceab"
      },
      "execution_count": 245,
      "outputs": [
        {
          "output_type": "execute_result",
          "data": {
            "text/plain": [
              "   AccidentNumber AccidentDate  PropertyDamage  HitAndRun  \\\n",
              "0     20120135824     3/8/2021           False      False   \n",
              "1     20190013511     1/7/2020           False      False   \n",
              "2     20190016232     1/8/2020           False      False   \n",
              "3     20190020194     1/9/2020           False      False   \n",
              "4     20200000064     1/1/2020           False      False   \n",
              "\n",
              "                  CollisionTypeDescription WeatherDescription  \\\n",
              "0                            Front to Rear              CLEAR   \n",
              "1           SIDESWIPE - OPPOSITE DIRECTION              CLEAR   \n",
              "2                                    ANGLE              CLEAR   \n",
              "3                            Front to Rear              CLEAR   \n",
              "4  NOT COLLISION W/MOTOR VEHICLE-TRANSPORT              CLEAR   \n",
              "\n",
              "  IlluminationDescription Precinct  \n",
              "0                DAYLIGHT     EAST  \n",
              "1                DAYLIGHT     WEST  \n",
              "2                DAYLIGHT     EAST  \n",
              "3          DARK - LIGHTED   CENTRA  \n",
              "4          DARK - LIGHTED    SOUTH  "
            ],
            "text/html": [
              "\n",
              "  <div id=\"df-7c440aca-ca27-4690-a79b-f4881e56be7c\">\n",
              "    <div class=\"colab-df-container\">\n",
              "      <div>\n",
              "<style scoped>\n",
              "    .dataframe tbody tr th:only-of-type {\n",
              "        vertical-align: middle;\n",
              "    }\n",
              "\n",
              "    .dataframe tbody tr th {\n",
              "        vertical-align: top;\n",
              "    }\n",
              "\n",
              "    .dataframe thead th {\n",
              "        text-align: right;\n",
              "    }\n",
              "</style>\n",
              "<table border=\"1\" class=\"dataframe\">\n",
              "  <thead>\n",
              "    <tr style=\"text-align: right;\">\n",
              "      <th></th>\n",
              "      <th>AccidentNumber</th>\n",
              "      <th>AccidentDate</th>\n",
              "      <th>PropertyDamage</th>\n",
              "      <th>HitAndRun</th>\n",
              "      <th>CollisionTypeDescription</th>\n",
              "      <th>WeatherDescription</th>\n",
              "      <th>IlluminationDescription</th>\n",
              "      <th>Precinct</th>\n",
              "    </tr>\n",
              "  </thead>\n",
              "  <tbody>\n",
              "    <tr>\n",
              "      <th>0</th>\n",
              "      <td>20120135824</td>\n",
              "      <td>3/8/2021</td>\n",
              "      <td>False</td>\n",
              "      <td>False</td>\n",
              "      <td>Front to Rear</td>\n",
              "      <td>CLEAR</td>\n",
              "      <td>DAYLIGHT</td>\n",
              "      <td>EAST</td>\n",
              "    </tr>\n",
              "    <tr>\n",
              "      <th>1</th>\n",
              "      <td>20190013511</td>\n",
              "      <td>1/7/2020</td>\n",
              "      <td>False</td>\n",
              "      <td>False</td>\n",
              "      <td>SIDESWIPE - OPPOSITE DIRECTION</td>\n",
              "      <td>CLEAR</td>\n",
              "      <td>DAYLIGHT</td>\n",
              "      <td>WEST</td>\n",
              "    </tr>\n",
              "    <tr>\n",
              "      <th>2</th>\n",
              "      <td>20190016232</td>\n",
              "      <td>1/8/2020</td>\n",
              "      <td>False</td>\n",
              "      <td>False</td>\n",
              "      <td>ANGLE</td>\n",
              "      <td>CLEAR</td>\n",
              "      <td>DAYLIGHT</td>\n",
              "      <td>EAST</td>\n",
              "    </tr>\n",
              "    <tr>\n",
              "      <th>3</th>\n",
              "      <td>20190020194</td>\n",
              "      <td>1/9/2020</td>\n",
              "      <td>False</td>\n",
              "      <td>False</td>\n",
              "      <td>Front to Rear</td>\n",
              "      <td>CLEAR</td>\n",
              "      <td>DARK - LIGHTED</td>\n",
              "      <td>CENTRA</td>\n",
              "    </tr>\n",
              "    <tr>\n",
              "      <th>4</th>\n",
              "      <td>20200000064</td>\n",
              "      <td>1/1/2020</td>\n",
              "      <td>False</td>\n",
              "      <td>False</td>\n",
              "      <td>NOT COLLISION W/MOTOR VEHICLE-TRANSPORT</td>\n",
              "      <td>CLEAR</td>\n",
              "      <td>DARK - LIGHTED</td>\n",
              "      <td>SOUTH</td>\n",
              "    </tr>\n",
              "  </tbody>\n",
              "</table>\n",
              "</div>\n",
              "      <button class=\"colab-df-convert\" onclick=\"convertToInteractive('df-7c440aca-ca27-4690-a79b-f4881e56be7c')\"\n",
              "              title=\"Convert this dataframe to an interactive table.\"\n",
              "              style=\"display:none;\">\n",
              "        \n",
              "  <svg xmlns=\"http://www.w3.org/2000/svg\" height=\"24px\"viewBox=\"0 0 24 24\"\n",
              "       width=\"24px\">\n",
              "    <path d=\"M0 0h24v24H0V0z\" fill=\"none\"/>\n",
              "    <path d=\"M18.56 5.44l.94 2.06.94-2.06 2.06-.94-2.06-.94-.94-2.06-.94 2.06-2.06.94zm-11 1L8.5 8.5l.94-2.06 2.06-.94-2.06-.94L8.5 2.5l-.94 2.06-2.06.94zm10 10l.94 2.06.94-2.06 2.06-.94-2.06-.94-.94-2.06-.94 2.06-2.06.94z\"/><path d=\"M17.41 7.96l-1.37-1.37c-.4-.4-.92-.59-1.43-.59-.52 0-1.04.2-1.43.59L10.3 9.45l-7.72 7.72c-.78.78-.78 2.05 0 2.83L4 21.41c.39.39.9.59 1.41.59.51 0 1.02-.2 1.41-.59l7.78-7.78 2.81-2.81c.8-.78.8-2.07 0-2.86zM5.41 20L4 18.59l7.72-7.72 1.47 1.35L5.41 20z\"/>\n",
              "  </svg>\n",
              "      </button>\n",
              "      \n",
              "  <style>\n",
              "    .colab-df-container {\n",
              "      display:flex;\n",
              "      flex-wrap:wrap;\n",
              "      gap: 12px;\n",
              "    }\n",
              "\n",
              "    .colab-df-convert {\n",
              "      background-color: #E8F0FE;\n",
              "      border: none;\n",
              "      border-radius: 50%;\n",
              "      cursor: pointer;\n",
              "      display: none;\n",
              "      fill: #1967D2;\n",
              "      height: 32px;\n",
              "      padding: 0 0 0 0;\n",
              "      width: 32px;\n",
              "    }\n",
              "\n",
              "    .colab-df-convert:hover {\n",
              "      background-color: #E2EBFA;\n",
              "      box-shadow: 0px 1px 2px rgba(60, 64, 67, 0.3), 0px 1px 3px 1px rgba(60, 64, 67, 0.15);\n",
              "      fill: #174EA6;\n",
              "    }\n",
              "\n",
              "    [theme=dark] .colab-df-convert {\n",
              "      background-color: #3B4455;\n",
              "      fill: #D2E3FC;\n",
              "    }\n",
              "\n",
              "    [theme=dark] .colab-df-convert:hover {\n",
              "      background-color: #434B5C;\n",
              "      box-shadow: 0px 1px 3px 1px rgba(0, 0, 0, 0.15);\n",
              "      filter: drop-shadow(0px 1px 2px rgba(0, 0, 0, 0.3));\n",
              "      fill: #FFFFFF;\n",
              "    }\n",
              "  </style>\n",
              "\n",
              "      <script>\n",
              "        const buttonEl =\n",
              "          document.querySelector('#df-7c440aca-ca27-4690-a79b-f4881e56be7c button.colab-df-convert');\n",
              "        buttonEl.style.display =\n",
              "          google.colab.kernel.accessAllowed ? 'block' : 'none';\n",
              "\n",
              "        async function convertToInteractive(key) {\n",
              "          const element = document.querySelector('#df-7c440aca-ca27-4690-a79b-f4881e56be7c');\n",
              "          const dataTable =\n",
              "            await google.colab.kernel.invokeFunction('convertToInteractive',\n",
              "                                                     [key], {});\n",
              "          if (!dataTable) return;\n",
              "\n",
              "          const docLinkHtml = 'Like what you see? Visit the ' +\n",
              "            '<a target=\"_blank\" href=https://colab.research.google.com/notebooks/data_table.ipynb>data table notebook</a>'\n",
              "            + ' to learn more about interactive tables.';\n",
              "          element.innerHTML = '';\n",
              "          dataTable['output_type'] = 'display_data';\n",
              "          await google.colab.output.renderOutput(dataTable, element);\n",
              "          const docLink = document.createElement('div');\n",
              "          docLink.innerHTML = docLinkHtml;\n",
              "          element.appendChild(docLink);\n",
              "        }\n",
              "      </script>\n",
              "    </div>\n",
              "  </div>\n",
              "  "
            ]
          },
          "metadata": {},
          "execution_count": 245
        }
      ]
    },
    {
      "cell_type": "markdown",
      "source": [
        "**Total Number of accidents based on Collission Type**"
      ],
      "metadata": {
        "id": "l60RoL1n-Wv2"
      }
    },
    {
      "cell_type": "code",
      "source": [
        "penguins[\"CollisionTypeDescription\"].unique()"
      ],
      "metadata": {
        "colab": {
          "base_uri": "https://localhost:8080/"
        },
        "id": "3e15Tlzj8aKf",
        "outputId": "ad3c8dcc-a4d6-4010-8175-646924806b01"
      },
      "execution_count": 246,
      "outputs": [
        {
          "output_type": "execute_result",
          "data": {
            "text/plain": [
              "array(['Front to Rear', 'SIDESWIPE - OPPOSITE DIRECTION', 'ANGLE',\n",
              "       'NOT COLLISION W/MOTOR VEHICLE-TRANSPORT', 'OTHER',\n",
              "       'SIDESWIPE - SAME DIRECTION', 'UNKNOWN', 'HEAD-ON', 'Rear to Side',\n",
              "       'REAR-TO-REAR', 'Unknown'], dtype=object)"
            ]
          },
          "metadata": {},
          "execution_count": 246
        }
      ]
    },
    {
      "cell_type": "code",
      "source": [
        "collision_types = penguins[\"CollisionTypeDescription\"].unique()"
      ],
      "metadata": {
        "id": "ab_IUszz985Y"
      },
      "execution_count": 247,
      "outputs": []
    },
    {
      "cell_type": "code",
      "source": [
        "counts_by_collision_type=[]\n",
        "for i in penguins[\"CollisionTypeDescription\"].unique(): counts_by_collision_type.append(penguins[penguins['CollisionTypeDescription']==i].count()['AccidentNumber'])\n",
        "\n",
        "fig,ax = plt.subplots(figsize=(16,10))\n",
        "sns.barplot(collision_types, counts_by_collision_type)"
      ],
      "metadata": {
        "colab": {
          "base_uri": "https://localhost:8080/",
          "height": 664
        },
        "id": "CKkKYDHF9dww",
        "outputId": "4691544f-3955-4443-dd8e-5160e635f8a2"
      },
      "execution_count": 248,
      "outputs": [
        {
          "output_type": "stream",
          "name": "stderr",
          "text": [
            "/usr/local/lib/python3.7/dist-packages/seaborn/_decorators.py:43: FutureWarning: Pass the following variables as keyword args: x, y. From version 0.12, the only valid positional argument will be `data`, and passing other arguments without an explicit keyword will result in an error or misinterpretation.\n",
            "  FutureWarning\n"
          ]
        },
        {
          "output_type": "execute_result",
          "data": {
            "text/plain": [
              "<matplotlib.axes._subplots.AxesSubplot at 0x7fc7799b9910>"
            ]
          },
          "metadata": {},
          "execution_count": 248
        },
        {
          "output_type": "display_data",
          "data": {
            "text/plain": [
              "<Figure size 1152x720 with 1 Axes>"
            ],
            "image/png": "[encoded data removed]"
          },
          "metadata": {
            "needs_background": "light"
          }
        }
      ]
    },
    {
      "cell_type": "markdown",
      "source": [
        "**Total Number of accidents based on Weather Condition**"
      ],
      "metadata": {
        "id": "8oaPjdVo-hVJ"
      }
    },
    {
      "cell_type": "code",
      "source": [
        "penguins[\"WeatherDescription\"].unique()"
      ],
      "metadata": {
        "colab": {
          "base_uri": "https://localhost:8080/"
        },
        "id": "XPPB-WvL-gU9",
        "outputId": "8efa3364-fb92-4d72-c82f-a0d7fee07915"
      },
      "execution_count": 200,
      "outputs": [
        {
          "output_type": "execute_result",
          "data": {
            "text/plain": [
              "array(['CLEAR', 'CLOUDY', 'RAIN', 'UNKNOWN', 'FOG', 'Unknown',\n",
              "       'SEVERE CROSSWIND', 'SNOW', 'BLOWING SNOW', 'OTHER (NARRATIVE)',\n",
              "       'SLEET, HAIL', 'SMOG, SMOKE'], dtype=object)"
            ]
          },
          "metadata": {},
          "execution_count": 200
        }
      ]
    },
    {
      "cell_type": "code",
      "source": [
        "weather_conditions = penguins[\"WeatherDescription\"].unique()"
      ],
      "metadata": {
        "id": "Eg1mzXFv-2JB"
      },
      "execution_count": 201,
      "outputs": []
    },
    {
      "cell_type": "code",
      "source": [
        "counts_by_weather_condition=[]\n",
        "for i in penguins[\"WeatherDescription\"].unique(): counts_by_weather_condition.append(penguins[penguins['WeatherDescription']==i].count()['AccidentNumber'])\n",
        "\n",
        "fig,ax = plt.subplots(figsize=(16,10))\n",
        "sns.barplot(weather_conditions, counts_by_weather_condition)"
      ],
      "metadata": {
        "colab": {
          "base_uri": "https://localhost:8080/",
          "height": 664
        },
        "id": "tUAf1Z9A-9_d",
        "outputId": "99a3b203-7eeb-4442-f639-8b2583a7dffb"
      },
      "execution_count": 202,
      "outputs": [
        {
          "output_type": "stream",
          "name": "stderr",
          "text": [
            "/usr/local/lib/python3.7/dist-packages/seaborn/_decorators.py:43: FutureWarning: Pass the following variables as keyword args: x, y. From version 0.12, the only valid positional argument will be `data`, and passing other arguments without an explicit keyword will result in an error or misinterpretation.\n",
            "  FutureWarning\n"
          ]
        },
        {
          "output_type": "execute_result",
          "data": {
            "text/plain": [
              "<matplotlib.axes._subplots.AxesSubplot at 0x7fc779b739d0>"
            ]
          },
          "metadata": {},
          "execution_count": 202
        },
        {
          "output_type": "display_data",
          "data": {
            "text/plain": [
              "<Figure size 1152x720 with 1 Axes>"
            ],
            "image/png": "[encoded data removed]"
          },
          "metadata": {
            "needs_background": "light"
          }
        }
      ]
    },
    {
      "cell_type": "markdown",
      "source": [
        "**Total Number of accidents by Day Of Week**"
      ],
      "metadata": {
        "id": "9DCUrrgcBTaU"
      }
    },
    {
      "cell_type": "code",
      "source": [
        "accident_DOW = pd.to_datetime(penguins[\"AccidentDate\"]).dt.day_name().unique()"
      ],
      "metadata": {
        "id": "mYZBVupeBSj7"
      },
      "execution_count": 203,
      "outputs": []
    },
    {
      "cell_type": "code",
      "source": [
        "print(accident_DOW)"
      ],
      "metadata": {
        "colab": {
          "base_uri": "https://localhost:8080/"
        },
        "id": "ZfV0nxRBHYhi",
        "outputId": "3f6c199b-538d-4793-a92b-de2a01dde5fb"
      },
      "execution_count": 204,
      "outputs": [
        {
          "output_type": "stream",
          "name": "stdout",
          "text": [
            "['Monday' 'Tuesday' 'Wednesday' 'Thursday' 'Friday' 'Saturday' 'Sunday']\n"
          ]
        }
      ]
    },
    {
      "cell_type": "code",
      "source": [
        "counts_by_DOW=[]\n",
        "for i in pd.to_datetime(penguins[\"AccidentDate\"]).dt.day_name().unique(): counts_by_DOW.append(penguins[pd.to_datetime(penguins[\"AccidentDate\"]).dt.day_name()==i].count()['AccidentNumber'])\n",
        "\n",
        "fig,ax = plt.subplots(figsize=(16,10))\n",
        "sns.barplot(accident_DOW, counts_by_DOW)"
      ],
      "metadata": {
        "colab": {
          "base_uri": "https://localhost:8080/",
          "height": 664
        },
        "id": "VcIHQSw6FY8r",
        "outputId": "434989b7-9883-44df-f507-00855a437459"
      },
      "execution_count": 205,
      "outputs": [
        {
          "output_type": "stream",
          "name": "stderr",
          "text": [
            "/usr/local/lib/python3.7/dist-packages/seaborn/_decorators.py:43: FutureWarning: Pass the following variables as keyword args: x, y. From version 0.12, the only valid positional argument will be `data`, and passing other arguments without an explicit keyword will result in an error or misinterpretation.\n",
            "  FutureWarning\n"
          ]
        },
        {
          "output_type": "execute_result",
          "data": {
            "text/plain": [
              "<matplotlib.axes._subplots.AxesSubplot at 0x7fc779b53e50>"
            ]
          },
          "metadata": {},
          "execution_count": 205
        },
        {
          "output_type": "display_data",
          "data": {
            "text/plain": [
              "<Figure size 1152x720 with 1 Axes>"
            ],
            "image/png": "[encoded data removed]"
          },
          "metadata": {
            "needs_background": "light"
          }
        }
      ]
    },
    {
      "cell_type": "code",
      "source": [
        "penguins = penguins.drop(columns=['AccidentDate'])\n",
        "penguins.shape\n",
        "print(penguins.columns)"
      ],
      "metadata": {
        "colab": {
          "base_uri": "https://localhost:8080/"
        },
        "id": "sLZN0bplOSYV",
        "outputId": "3c97def6-741a-4351-f2a5-d92a6f4da72e"
      },
      "execution_count": 206,
      "outputs": [
        {
          "output_type": "stream",
          "name": "stdout",
          "text": [
            "Index(['PropertyDamage', 'HitAndRun', 'CollisionTypeDescription',\n",
            "       'WeatherDescription', 'IlluminationDescription', 'Precinct'],\n",
            "      dtype='object')\n"
          ]
        }
      ]
    },
    {
      "cell_type": "markdown",
      "source": [
        "**Build Test and Train Set**"
      ],
      "metadata": {
        "id": "SDl0K2ya1aDa"
      }
    },
    {
      "cell_type": "code",
      "source": [
        "class_column = 'HitAndRun'\n",
        "random_seed = 2435\n",
        "\n",
        "X_train, X_test, Y_train, Y_test = train_test_split(penguins.drop(columns=class_column), penguins[class_column],\n",
        "                                                   test_size=0.25, random_state=random_seed, stratify=penguins[class_column])"
      ],
      "metadata": {
        "id": "fv3BwRH_1Zqy"
      },
      "execution_count": 207,
      "outputs": []
    },
    {
      "cell_type": "code",
      "source": [
        "# X Train\n",
        "print('On X train: ')\n",
        "print('X train dimensions: ', X_train.shape)\n",
        "display(X_train.head())\n",
        "\n",
        "# X test\n",
        "print('\\nOn X test: ')\n",
        "print('X test dimensions: ', X_test.shape)\n",
        "display(X_test.head())"
      ],
      "metadata": {
        "colab": {
          "base_uri": "https://localhost:8080/",
          "height": 482
        },
        "id": "adKFjOav4DRr",
        "outputId": "2bd51c19-6ccd-44b0-8e11-8dfaef4d1b70"
      },
      "execution_count": 208,
      "outputs": [
        {
          "output_type": "stream",
          "name": "stdout",
          "text": [
            "On X train: \n",
            "X train dimensions:  (35751, 5)\n"
          ]
        },
        {
          "output_type": "display_data",
          "data": {
            "text/plain": [
              "       PropertyDamage CollisionTypeDescription WeatherDescription  \\\n",
              "46868           False                    ANGLE              CLEAR   \n",
              "30562            True                    ANGLE              CLEAR   \n",
              "26670           False                    ANGLE              CLEAR   \n",
              "42967           False            Front to Rear               RAIN   \n",
              "46649           False                    ANGLE              CLEAR   \n",
              "\n",
              "      IlluminationDescription Precinct  \n",
              "46868                DAYLIGHT   MADISO  \n",
              "30562                DAYLIGHT   MADISO  \n",
              "26670                DAYLIGHT    SOUTH  \n",
              "42967                DAYLIGHT   MIDTOW  \n",
              "46649                DAYLIGHT   MIDTOW  "
            ],
            "text/html": [
              "\n",
              "  <div id=\"df-908cd2fa-c629-426b-ae1f-62afd5232c5a\">\n",
              "    <div class=\"colab-df-container\">\n",
              "      <div>\n",
              "<style scoped>\n",
              "    .dataframe tbody tr th:only-of-type {\n",
              "        vertical-align: middle;\n",
              "    }\n",
              "\n",
              "    .dataframe tbody tr th {\n",
              "        vertical-align: top;\n",
              "    }\n",
              "\n",
              "    .dataframe thead th {\n",
              "        text-align: right;\n",
              "    }\n",
              "</style>\n",
              "<table border=\"1\" class=\"dataframe\">\n",
              "  <thead>\n",
              "    <tr style=\"text-align: right;\">\n",
              "      <th></th>\n",
              "      <th>PropertyDamage</th>\n",
              "      <th>CollisionTypeDescription</th>\n",
              "      <th>WeatherDescription</th>\n",
              "      <th>IlluminationDescription</th>\n",
              "      <th>Precinct</th>\n",
              "    </tr>\n",
              "  </thead>\n",
              "  <tbody>\n",
              "    <tr>\n",
              "      <th>46868</th>\n",
              "      <td>False</td>\n",
              "      <td>ANGLE</td>\n",
              "      <td>CLEAR</td>\n",
              "      <td>DAYLIGHT</td>\n",
              "      <td>MADISO</td>\n",
              "    </tr>\n",
              "    <tr>\n",
              "      <th>30562</th>\n",
              "      <td>True</td>\n",
              "      <td>ANGLE</td>\n",
              "      <td>CLEAR</td>\n",
              "      <td>DAYLIGHT</td>\n",
              "      <td>MADISO</td>\n",
              "    </tr>\n",
              "    <tr>\n",
              "      <th>26670</th>\n",
              "      <td>False</td>\n",
              "      <td>ANGLE</td>\n",
              "      <td>CLEAR</td>\n",
              "      <td>DAYLIGHT</td>\n",
              "      <td>SOUTH</td>\n",
              "    </tr>\n",
              "    <tr>\n",
              "      <th>42967</th>\n",
              "      <td>False</td>\n",
              "      <td>Front to Rear</td>\n",
              "      <td>RAIN</td>\n",
              "      <td>DAYLIGHT</td>\n",
              "      <td>MIDTOW</td>\n",
              "    </tr>\n",
              "    <tr>\n",
              "      <th>46649</th>\n",
              "      <td>False</td>\n",
              "      <td>ANGLE</td>\n",
              "      <td>CLEAR</td>\n",
              "      <td>DAYLIGHT</td>\n",
              "      <td>MIDTOW</td>\n",
              "    </tr>\n",
              "  </tbody>\n",
              "</table>\n",
              "</div>\n",
              "      <button class=\"colab-df-convert\" onclick=\"convertToInteractive('df-908cd2fa-c629-426b-ae1f-62afd5232c5a')\"\n",
              "              title=\"Convert this dataframe to an interactive table.\"\n",
              "              style=\"display:none;\">\n",
              "        \n",
              "  <svg xmlns=\"http://www.w3.org/2000/svg\" height=\"24px\"viewBox=\"0 0 24 24\"\n",
              "       width=\"24px\">\n",
              "    <path d=\"M0 0h24v24H0V0z\" fill=\"none\"/>\n",
              "    <path d=\"M18.56 5.44l.94 2.06.94-2.06 2.06-.94-2.06-.94-.94-2.06-.94 2.06-2.06.94zm-11 1L8.5 8.5l.94-2.06 2.06-.94-2.06-.94L8.5 2.5l-.94 2.06-2.06.94zm10 10l.94 2.06.94-2.06 2.06-.94-2.06-.94-.94-2.06-.94 2.06-2.06.94z\"/><path d=\"M17.41 7.96l-1.37-1.37c-.4-.4-.92-.59-1.43-.59-.52 0-1.04.2-1.43.59L10.3 9.45l-7.72 7.72c-.78.78-.78 2.05 0 2.83L4 21.41c.39.39.9.59 1.41.59.51 0 1.02-.2 1.41-.59l7.78-7.78 2.81-2.81c.8-.78.8-2.07 0-2.86zM5.41 20L4 18.59l7.72-7.72 1.47 1.35L5.41 20z\"/>\n",
              "  </svg>\n",
              "      </button>\n",
              "      \n",
              "  <style>\n",
              "    .colab-df-container {\n",
              "      display:flex;\n",
              "      flex-wrap:wrap;\n",
              "      gap: 12px;\n",
              "    }\n",
              "\n",
              "    .colab-df-convert {\n",
              "      background-color: #E8F0FE;\n",
              "      border: none;\n",
              "      border-radius: 50%;\n",
              "      cursor: pointer;\n",
              "      display: none;\n",
              "      fill: #1967D2;\n",
              "      height: 32px;\n",
              "      padding: 0 0 0 0;\n",
              "      width: 32px;\n",
              "    }\n",
              "\n",
              "    .colab-df-convert:hover {\n",
              "      background-color: #E2EBFA;\n",
              "      box-shadow: 0px 1px 2px rgba(60, 64, 67, 0.3), 0px 1px 3px 1px rgba(60, 64, 67, 0.15);\n",
              "      fill: #174EA6;\n",
              "    }\n",
              "\n",
              "    [theme=dark] .colab-df-convert {\n",
              "      background-color: #3B4455;\n",
              "      fill: #D2E3FC;\n",
              "    }\n",
              "\n",
              "    [theme=dark] .colab-df-convert:hover {\n",
              "      background-color: #434B5C;\n",
              "      box-shadow: 0px 1px 3px 1px rgba(0, 0, 0, 0.15);\n",
              "      filter: drop-shadow(0px 1px 2px rgba(0, 0, 0, 0.3));\n",
              "      fill: #FFFFFF;\n",
              "    }\n",
              "  </style>\n",
              "\n",
              "      <script>\n",
              "        const buttonEl =\n",
              "          document.querySelector('#df-908cd2fa-c629-426b-ae1f-62afd5232c5a button.colab-df-convert');\n",
              "        buttonEl.style.display =\n",
              "          google.colab.kernel.accessAllowed ? 'block' : 'none';\n",
              "\n",
              "        async function convertToInteractive(key) {\n",
              "          const element = document.querySelector('#df-908cd2fa-c629-426b-ae1f-62afd5232c5a');\n",
              "          const dataTable =\n",
              "            await google.colab.kernel.invokeFunction('convertToInteractive',\n",
              "                                                     [key], {});\n",
              "          if (!dataTable) return;\n",
              "\n",
              "          const docLinkHtml = 'Like what you see? Visit the ' +\n",
              "            '<a target=\"_blank\" href=https://colab.research.google.com/notebooks/data_table.ipynb>data table notebook</a>'\n",
              "            + ' to learn more about interactive tables.';\n",
              "          element.innerHTML = '';\n",
              "          dataTable['output_type'] = 'display_data';\n",
              "          await google.colab.output.renderOutput(dataTable, element);\n",
              "          const docLink = document.createElement('div');\n",
              "          docLink.innerHTML = docLinkHtml;\n",
              "          element.appendChild(docLink);\n",
              "        }\n",
              "      </script>\n",
              "    </div>\n",
              "  </div>\n",
              "  "
            ]
          },
          "metadata": {}
        },
        {
          "output_type": "stream",
          "name": "stdout",
          "text": [
            "\n",
            "On X test: \n",
            "X test dimensions:  (11917, 5)\n"
          ]
        },
        {
          "output_type": "display_data",
          "data": {
            "text/plain": [
              "       PropertyDamage                 CollisionTypeDescription  \\\n",
              "36801           False                            Front to Rear   \n",
              "9197            False               SIDESWIPE - SAME DIRECTION   \n",
              "8047            False                            Front to Rear   \n",
              "38136           False               SIDESWIPE - SAME DIRECTION   \n",
              "25403           False  NOT COLLISION W/MOTOR VEHICLE-TRANSPORT   \n",
              "\n",
              "      WeatherDescription IlluminationDescription Precinct  \n",
              "36801             CLOUDY          DARK - LIGHTED   MIDTOW  \n",
              "9197               CLEAR                DAYLIGHT   CENTRA  \n",
              "8047               CLEAR                DAYLIGHT    SOUTH  \n",
              "38136              CLEAR                DAYLIGHT   MADISO  \n",
              "25403              CLEAR                DAYLIGHT   HERMIT  "
            ],
            "text/html": [
              "\n",
              "  <div id=\"df-e7779b2d-c063-482f-ba77-a98c37f002a4\">\n",
              "    <div class=\"colab-df-container\">\n",
              "      <div>\n",
              "<style scoped>\n",
              "    .dataframe tbody tr th:only-of-type {\n",
              "        vertical-align: middle;\n",
              "    }\n",
              "\n",
              "    .dataframe tbody tr th {\n",
              "        vertical-align: top;\n",
              "    }\n",
              "\n",
              "    .dataframe thead th {\n",
              "        text-align: right;\n",
              "    }\n",
              "</style>\n",
              "<table border=\"1\" class=\"dataframe\">\n",
              "  <thead>\n",
              "    <tr style=\"text-align: right;\">\n",
              "      <th></th>\n",
              "      <th>PropertyDamage</th>\n",
              "      <th>CollisionTypeDescription</th>\n",
              "      <th>WeatherDescription</th>\n",
              "      <th>IlluminationDescription</th>\n",
              "      <th>Precinct</th>\n",
              "    </tr>\n",
              "  </thead>\n",
              "  <tbody>\n",
              "    <tr>\n",
              "      <th>36801</th>\n",
              "      <td>False</td>\n",
              "      <td>Front to Rear</td>\n",
              "      <td>CLOUDY</td>\n",
              "      <td>DARK - LIGHTED</td>\n",
              "      <td>MIDTOW</td>\n",
              "    </tr>\n",
              "    <tr>\n",
              "      <th>9197</th>\n",
              "      <td>False</td>\n",
              "      <td>SIDESWIPE - SAME DIRECTION</td>\n",
              "      <td>CLEAR</td>\n",
              "      <td>DAYLIGHT</td>\n",
              "      <td>CENTRA</td>\n",
              "    </tr>\n",
              "    <tr>\n",
              "      <th>8047</th>\n",
              "      <td>False</td>\n",
              "      <td>Front to Rear</td>\n",
              "      <td>CLEAR</td>\n",
              "      <td>DAYLIGHT</td>\n",
              "      <td>SOUTH</td>\n",
              "    </tr>\n",
              "    <tr>\n",
              "      <th>38136</th>\n",
              "      <td>False</td>\n",
              "      <td>SIDESWIPE - SAME DIRECTION</td>\n",
              "      <td>CLEAR</td>\n",
              "      <td>DAYLIGHT</td>\n",
              "      <td>MADISO</td>\n",
              "    </tr>\n",
              "    <tr>\n",
              "      <th>25403</th>\n",
              "      <td>False</td>\n",
              "      <td>NOT COLLISION W/MOTOR VEHICLE-TRANSPORT</td>\n",
              "      <td>CLEAR</td>\n",
              "      <td>DAYLIGHT</td>\n",
              "      <td>HERMIT</td>\n",
              "    </tr>\n",
              "  </tbody>\n",
              "</table>\n",
              "</div>\n",
              "      <button class=\"colab-df-convert\" onclick=\"convertToInteractive('df-e7779b2d-c063-482f-ba77-a98c37f002a4')\"\n",
              "              title=\"Convert this dataframe to an interactive table.\"\n",
              "              style=\"display:none;\">\n",
              "        \n",
              "  <svg xmlns=\"http://www.w3.org/2000/svg\" height=\"24px\"viewBox=\"0 0 24 24\"\n",
              "       width=\"24px\">\n",
              "    <path d=\"M0 0h24v24H0V0z\" fill=\"none\"/>\n",
              "    <path d=\"M18.56 5.44l.94 2.06.94-2.06 2.06-.94-2.06-.94-.94-2.06-.94 2.06-2.06.94zm-11 1L8.5 8.5l.94-2.06 2.06-.94-2.06-.94L8.5 2.5l-.94 2.06-2.06.94zm10 10l.94 2.06.94-2.06 2.06-.94-2.06-.94-.94-2.06-.94 2.06-2.06.94z\"/><path d=\"M17.41 7.96l-1.37-1.37c-.4-.4-.92-.59-1.43-.59-.52 0-1.04.2-1.43.59L10.3 9.45l-7.72 7.72c-.78.78-.78 2.05 0 2.83L4 21.41c.39.39.9.59 1.41.59.51 0 1.02-.2 1.41-.59l7.78-7.78 2.81-2.81c.8-.78.8-2.07 0-2.86zM5.41 20L4 18.59l7.72-7.72 1.47 1.35L5.41 20z\"/>\n",
              "  </svg>\n",
              "      </button>\n",
              "      \n",
              "  <style>\n",
              "    .colab-df-container {\n",
              "      display:flex;\n",
              "      flex-wrap:wrap;\n",
              "      gap: 12px;\n",
              "    }\n",
              "\n",
              "    .colab-df-convert {\n",
              "      background-color: #E8F0FE;\n",
              "      border: none;\n",
              "      border-radius: 50%;\n",
              "      cursor: pointer;\n",
              "      display: none;\n",
              "      fill: #1967D2;\n",
              "      height: 32px;\n",
              "      padding: 0 0 0 0;\n",
              "      width: 32px;\n",
              "    }\n",
              "\n",
              "    .colab-df-convert:hover {\n",
              "      background-color: #E2EBFA;\n",
              "      box-shadow: 0px 1px 2px rgba(60, 64, 67, 0.3), 0px 1px 3px 1px rgba(60, 64, 67, 0.15);\n",
              "      fill: #174EA6;\n",
              "    }\n",
              "\n",
              "    [theme=dark] .colab-df-convert {\n",
              "      background-color: #3B4455;\n",
              "      fill: #D2E3FC;\n",
              "    }\n",
              "\n",
              "    [theme=dark] .colab-df-convert:hover {\n",
              "      background-color: #434B5C;\n",
              "      box-shadow: 0px 1px 3px 1px rgba(0, 0, 0, 0.15);\n",
              "      filter: drop-shadow(0px 1px 2px rgba(0, 0, 0, 0.3));\n",
              "      fill: #FFFFFF;\n",
              "    }\n",
              "  </style>\n",
              "\n",
              "      <script>\n",
              "        const buttonEl =\n",
              "          document.querySelector('#df-e7779b2d-c063-482f-ba77-a98c37f002a4 button.colab-df-convert');\n",
              "        buttonEl.style.display =\n",
              "          google.colab.kernel.accessAllowed ? 'block' : 'none';\n",
              "\n",
              "        async function convertToInteractive(key) {\n",
              "          const element = document.querySelector('#df-e7779b2d-c063-482f-ba77-a98c37f002a4');\n",
              "          const dataTable =\n",
              "            await google.colab.kernel.invokeFunction('convertToInteractive',\n",
              "                                                     [key], {});\n",
              "          if (!dataTable) return;\n",
              "\n",
              "          const docLinkHtml = 'Like what you see? Visit the ' +\n",
              "            '<a target=\"_blank\" href=https://colab.research.google.com/notebooks/data_table.ipynb>data table notebook</a>'\n",
              "            + ' to learn more about interactive tables.';\n",
              "          element.innerHTML = '';\n",
              "          dataTable['output_type'] = 'display_data';\n",
              "          await google.colab.output.renderOutput(dataTable, element);\n",
              "          const docLink = document.createElement('div');\n",
              "          docLink.innerHTML = docLinkHtml;\n",
              "          element.appendChild(docLink);\n",
              "        }\n",
              "      </script>\n",
              "    </div>\n",
              "  </div>\n",
              "  "
            ]
          },
          "metadata": {}
        }
      ]
    },
    {
      "cell_type": "code",
      "source": [
        "# Y Train\n",
        "print('On y train: ')\n",
        "print('y train dimensions: ', Y_train.shape)\n",
        "display(Y_train.head())\n",
        "\n",
        "# Y test\n",
        "print('\\nOn y test: ')\n",
        "print('y test dimensions: ', Y_test.shape)\n",
        "display(Y_test.head())"
      ],
      "metadata": {
        "colab": {
          "base_uri": "https://localhost:8080/",
          "height": 312
        },
        "id": "1YdMluCd4GCs",
        "outputId": "8aecf4e1-aa90-45ea-f05e-a9a4bd376d68"
      },
      "execution_count": 209,
      "outputs": [
        {
          "output_type": "stream",
          "name": "stdout",
          "text": [
            "On y train: \n",
            "y train dimensions:  (35751,)\n"
          ]
        },
        {
          "output_type": "display_data",
          "data": {
            "text/plain": [
              "46868     True\n",
              "30562     True\n",
              "26670    False\n",
              "42967    False\n",
              "46649    False\n",
              "Name: HitAndRun, dtype: bool"
            ]
          },
          "metadata": {}
        },
        {
          "output_type": "stream",
          "name": "stdout",
          "text": [
            "\n",
            "On y test: \n",
            "y test dimensions:  (11917,)\n"
          ]
        },
        {
          "output_type": "display_data",
          "data": {
            "text/plain": [
              "36801    False\n",
              "9197      True\n",
              "8047     False\n",
              "38136    False\n",
              "25403     True\n",
              "Name: HitAndRun, dtype: bool"
            ]
          },
          "metadata": {}
        }
      ]
    },
    {
      "cell_type": "markdown",
      "source": [
        "### Training pipeline\n",
        "\n",
        "Establish the training pipeline for model and repeat several times as needed The pipeline can also change depending on the data types of the columns in the dataset."
      ],
      "metadata": {
        "id": "oY6QNKhw4Lt7"
      }
    },
    {
      "cell_type": "code",
      "source": [
        "#individual pipelines for differing datatypes\n",
        "cat_pipeline = Pipeline(steps=[('cat_impute', SimpleImputer(missing_values=np.nan, strategy='most_frequent')),\n",
        "                               ('onehot_cat', OneHotEncoder(drop='if_binary'))])\n",
        "num_pipeline = Pipeline(steps=[('impute_num', SimpleImputer(missing_values=np.nan, strategy='mean')),\n",
        "                               ('scale_num', StandardScaler())])"
      ],
      "metadata": {
        "id": "7CMUs88O4Rel"
      },
      "execution_count": 210,
      "outputs": []
    },
    {
      "cell_type": "code",
      "source": [
        "#establish preprocessing pipeline by columns\n",
        "preproc = ColumnTransformer([('cat_pipe', cat_pipeline, make_column_selector(dtype_include=object)),\n",
        "                             ('num_pipe', num_pipeline, make_column_selector(dtype_include=np.number))],\n",
        "                             remainder='passthrough')"
      ],
      "metadata": {
        "id": "GLRYSnMN4U5D"
      },
      "execution_count": 211,
      "outputs": []
    },
    {
      "cell_type": "markdown",
      "source": [
        "### Logistic Regression"
      ],
      "metadata": {
        "id": "ZXzR-hmNw89m"
      }
    },
    {
      "cell_type": "code",
      "source": [
        "#generate the whole modeling pipeline with preprocessing\n",
        "pipe_lg = Pipeline(steps=[('preproc', preproc), ('mdl', LogisticRegression(penalty='elasticnet', solver='saga', tol=0.01))])\n",
        "\n",
        "#visualization for steps\n",
        "with config_context(display='diagram'): display(pipe_lg)"
      ],
      "metadata": {
        "colab": {
          "base_uri": "https://localhost:8080/",
          "height": 227
        },
        "id": "DNzci5F_xADE",
        "outputId": "4c7e744c-4189-4b19-f49c-5c6944433c6b"
      },
      "execution_count": 212,
      "outputs": [
        {
          "output_type": "display_data",
          "data": {
            "text/plain": [
              "Pipeline(steps=[('preproc',\n",
              "                 ColumnTransformer(remainder='passthrough',\n",
              "                                   transformers=[('cat_pipe',\n",
              "                                                  Pipeline(steps=[('cat_impute',\n",
              "                                                                   SimpleImputer(strategy='most_frequent')),\n",
              "                                                                  ('onehot_cat',\n",
              "                                                                   OneHotEncoder(drop='if_binary'))]),\n",
              "                                                  <sklearn.compose._column_transformer.make_column_selector object at 0x7fc779791d90>),\n",
              "                                                 ('num_pipe',\n",
              "                                                  Pipeline(steps=[('impute_num',\n",
              "                                                                   SimpleImputer()),\n",
              "                                                                  ('scale_num',\n",
              "                                                                   StandardScaler())]),\n",
              "                                                  <sklearn.compose._column_transformer.make_column_selector object at 0x7fc779791dd0>)])),\n",
              "                ('mdl',\n",
              "                 LogisticRegression(penalty='elasticnet', solver='saga',\n",
              "                                    tol=0.01))])"
            ],
            "text/html": [
              "<style>#sk-47a032bd-9b1f-46c9-af8b-27da2dc38814 {color: black;background-color: white;}#sk-47a032bd-9b1f-46c9-af8b-27da2dc38814 pre{padding: 0;}#sk-47a032bd-9b1f-46c9-af8b-27da2dc38814 div.sk-toggleable {background-color: white;}#sk-47a032bd-9b1f-46c9-af8b-27da2dc38814 label.sk-toggleable__label {cursor: pointer;display: block;width: 100%;margin-bottom: 0;padding: 0.3em;box-sizing: border-box;text-align: center;}#sk-47a032bd-9b1f-46c9-af8b-27da2dc38814 label.sk-toggleable__label-arrow:before {content: \"▸\";float: left;margin-right: 0.25em;color: #696969;}#sk-47a032bd-9b1f-46c9-af8b-27da2dc38814 label.sk-toggleable__label-arrow:hover:before {color: black;}#sk-47a032bd-9b1f-46c9-af8b-27da2dc38814 div.sk-estimator:hover label.sk-toggleable__label-arrow:before {color: black;}#sk-47a032bd-9b1f-46c9-af8b-27da2dc38814 div.sk-toggleable__content {max-height: 0;max-width: 0;overflow: hidden;text-align: left;background-color: #f0f8ff;}#sk-47a032bd-9b1f-46c9-af8b-27da2dc38814 div.sk-toggleable__content pre {margin: 0.2em;color: black;border-radius: 0.25em;background-color: #f0f8ff;}#sk-47a032bd-9b1f-46c9-af8b-27da2dc38814 input.sk-toggleable__control:checked~div.sk-toggleable__content {max-height: 200px;max-width: 100%;overflow: auto;}#sk-47a032bd-9b1f-46c9-af8b-27da2dc38814 input.sk-toggleable__control:checked~label.sk-toggleable__label-arrow:before {content: \"▾\";}#sk-47a032bd-9b1f-46c9-af8b-27da2dc38814 div.sk-estimator input.sk-toggleable__control:checked~label.sk-toggleable__label {background-color: #d4ebff;}#sk-47a032bd-9b1f-46c9-af8b-27da2dc38814 div.sk-label input.sk-toggleable__control:checked~label.sk-toggleable__label {background-color: #d4ebff;}#sk-47a032bd-9b1f-46c9-af8b-27da2dc38814 input.sk-hidden--visually {border: 0;clip: rect(1px 1px 1px 1px);clip: rect(1px, 1px, 1px, 1px);height: 1px;margin: -1px;overflow: hidden;padding: 0;position: absolute;width: 1px;}#sk-47a032bd-9b1f-46c9-af8b-27da2dc38814 div.sk-estimator {font-family: monospace;background-color: #f0f8ff;border: 1px dotted black;border-radius: 0.25em;box-sizing: border-box;margin-bottom: 0.5em;}#sk-47a032bd-9b1f-46c9-af8b-27da2dc38814 div.sk-estimator:hover {background-color: #d4ebff;}#sk-47a032bd-9b1f-46c9-af8b-27da2dc38814 div.sk-parallel-item::after {content: \"\";width: 100%;border-bottom: 1px solid gray;flex-grow: 1;}#sk-47a032bd-9b1f-46c9-af8b-27da2dc38814 div.sk-label:hover label.sk-toggleable__label {background-color: #d4ebff;}#sk-47a032bd-9b1f-46c9-af8b-27da2dc38814 div.sk-serial::before {content: \"\";position: absolute;border-left: 1px solid gray;box-sizing: border-box;top: 2em;bottom: 0;left: 50%;}#sk-47a032bd-9b1f-46c9-af8b-27da2dc38814 div.sk-serial {display: flex;flex-direction: column;align-items: center;background-color: white;padding-right: 0.2em;padding-left: 0.2em;}#sk-47a032bd-9b1f-46c9-af8b-27da2dc38814 div.sk-item {z-index: 1;}#sk-47a032bd-9b1f-46c9-af8b-27da2dc38814 div.sk-parallel {display: flex;align-items: stretch;justify-content: center;background-color: white;}#sk-47a032bd-9b1f-46c9-af8b-27da2dc38814 div.sk-parallel::before {content: \"\";position: absolute;border-left: 1px solid gray;box-sizing: border-box;top: 2em;bottom: 0;left: 50%;}#sk-47a032bd-9b1f-46c9-af8b-27da2dc38814 div.sk-parallel-item {display: flex;flex-direction: column;position: relative;background-color: white;}#sk-47a032bd-9b1f-46c9-af8b-27da2dc38814 div.sk-parallel-item:first-child::after {align-self: flex-end;width: 50%;}#sk-47a032bd-9b1f-46c9-af8b-27da2dc38814 div.sk-parallel-item:last-child::after {align-self: flex-start;width: 50%;}#sk-47a032bd-9b1f-46c9-af8b-27da2dc38814 div.sk-parallel-item:only-child::after {width: 0;}#sk-47a032bd-9b1f-46c9-af8b-27da2dc38814 div.sk-dashed-wrapped {border: 1px dashed gray;margin: 0 0.4em 0.5em 0.4em;box-sizing: border-box;padding-bottom: 0.4em;background-color: white;position: relative;}#sk-47a032bd-9b1f-46c9-af8b-27da2dc38814 div.sk-label label {font-family: monospace;font-weight: bold;background-color: white;display: inline-block;line-height: 1.2em;}#sk-47a032bd-9b1f-46c9-af8b-27da2dc38814 div.sk-label-container {position: relative;z-index: 2;text-align: center;}#sk-47a032bd-9b1f-46c9-af8b-27da2dc38814 div.sk-container {/* jupyter's `normalize.less` sets `[hidden] { display: none; }` but bootstrap.min.css set `[hidden] { display: none !important; }` so we also need the `!important` here to be able to override the default hidden behavior on the sphinx rendered scikit-learn.org. See: https://github.com/scikit-learn/scikit-learn/issues/21755 */display: inline-block !important;position: relative;}#sk-47a032bd-9b1f-46c9-af8b-27da2dc38814 div.sk-text-repr-fallback {display: none;}</style><div id=\"sk-47a032bd-9b1f-46c9-af8b-27da2dc38814\" class=\"sk-top-container\"><div class=\"sk-text-repr-fallback\"><pre>Pipeline(steps=[(&#x27;preproc&#x27;,\n",
              "                 ColumnTransformer(remainder=&#x27;passthrough&#x27;,\n",
              "                                   transformers=[(&#x27;cat_pipe&#x27;,\n",
              "                                                  Pipeline(steps=[(&#x27;cat_impute&#x27;,\n",
              "                                                                   SimpleImputer(strategy=&#x27;most_frequent&#x27;)),\n",
              "                                                                  (&#x27;onehot_cat&#x27;,\n",
              "                                                                   OneHotEncoder(drop=&#x27;if_binary&#x27;))]),\n",
              "                                                  &lt;sklearn.compose._column_transformer.make_column_selector object at 0x7fc779791d90&gt;),\n",
              "                                                 (&#x27;num_pipe&#x27;,\n",
              "                                                  Pipeline(steps=[(&#x27;impute_num&#x27;,\n",
              "                                                                   SimpleImputer()),\n",
              "                                                                  (&#x27;scale_num&#x27;,\n",
              "                                                                   StandardScaler())]),\n",
              "                                                  &lt;sklearn.compose._column_transformer.make_column_selector object at 0x7fc779791dd0&gt;)])),\n",
              "                (&#x27;mdl&#x27;,\n",
              "                 LogisticRegression(penalty=&#x27;elasticnet&#x27;, solver=&#x27;saga&#x27;,\n",
              "                                    tol=0.01))])</pre><b>Please rerun this cell to show the HTML repr or trust the notebook.</b></div><div class=\"sk-container\" hidden><div class=\"sk-item sk-dashed-wrapped\"><div class=\"sk-label-container\"><div class=\"sk-label sk-toggleable\"><input class=\"sk-toggleable__control sk-hidden--visually\" id=\"3f0ed0d3-f107-40df-a7df-0007bee21519\" type=\"checkbox\" ><label for=\"3f0ed0d3-f107-40df-a7df-0007bee21519\" class=\"sk-toggleable__label sk-toggleable__label-arrow\">Pipeline</label><div class=\"sk-toggleable__content\"><pre>Pipeline(steps=[(&#x27;preproc&#x27;,\n",
              "                 ColumnTransformer(remainder=&#x27;passthrough&#x27;,\n",
              "                                   transformers=[(&#x27;cat_pipe&#x27;,\n",
              "                                                  Pipeline(steps=[(&#x27;cat_impute&#x27;,\n",
              "                                                                   SimpleImputer(strategy=&#x27;most_frequent&#x27;)),\n",
              "                                                                  (&#x27;onehot_cat&#x27;,\n",
              "                                                                   OneHotEncoder(drop=&#x27;if_binary&#x27;))]),\n",
              "                                                  &lt;sklearn.compose._column_transformer.make_column_selector object at 0x7fc779791d90&gt;),\n",
              "                                                 (&#x27;num_pipe&#x27;,\n",
              "                                                  Pipeline(steps=[(&#x27;impute_num&#x27;,\n",
              "                                                                   SimpleImputer()),\n",
              "                                                                  (&#x27;scale_num&#x27;,\n",
              "                                                                   StandardScaler())]),\n",
              "                                                  &lt;sklearn.compose._column_transformer.make_column_selector object at 0x7fc779791dd0&gt;)])),\n",
              "                (&#x27;mdl&#x27;,\n",
              "                 LogisticRegression(penalty=&#x27;elasticnet&#x27;, solver=&#x27;saga&#x27;,\n",
              "                                    tol=0.01))])</pre></div></div></div><div class=\"sk-serial\"><div class=\"sk-item sk-dashed-wrapped\"><div class=\"sk-label-container\"><div class=\"sk-label sk-toggleable\"><input class=\"sk-toggleable__control sk-hidden--visually\" id=\"246db7ef-91a1-44dc-992a-ec48b177d9ca\" type=\"checkbox\" ><label for=\"246db7ef-91a1-44dc-992a-ec48b177d9ca\" class=\"sk-toggleable__label sk-toggleable__label-arrow\">preproc: ColumnTransformer</label><div class=\"sk-toggleable__content\"><pre>ColumnTransformer(remainder=&#x27;passthrough&#x27;,\n",
              "                  transformers=[(&#x27;cat_pipe&#x27;,\n",
              "                                 Pipeline(steps=[(&#x27;cat_impute&#x27;,\n",
              "                                                  SimpleImputer(strategy=&#x27;most_frequent&#x27;)),\n",
              "                                                 (&#x27;onehot_cat&#x27;,\n",
              "                                                  OneHotEncoder(drop=&#x27;if_binary&#x27;))]),\n",
              "                                 &lt;sklearn.compose._column_transformer.make_column_selector object at 0x7fc779791d90&gt;),\n",
              "                                (&#x27;num_pipe&#x27;,\n",
              "                                 Pipeline(steps=[(&#x27;impute_num&#x27;,\n",
              "                                                  SimpleImputer()),\n",
              "                                                 (&#x27;scale_num&#x27;,\n",
              "                                                  StandardScaler())]),\n",
              "                                 &lt;sklearn.compose._column_transformer.make_column_selector object at 0x7fc779791dd0&gt;)])</pre></div></div></div><div class=\"sk-parallel\"><div class=\"sk-parallel-item\"><div class=\"sk-item\"><div class=\"sk-label-container\"><div class=\"sk-label sk-toggleable\"><input class=\"sk-toggleable__control sk-hidden--visually\" id=\"f2ecf15d-663d-4356-8b8f-ab34744791e8\" type=\"checkbox\" ><label for=\"f2ecf15d-663d-4356-8b8f-ab34744791e8\" class=\"sk-toggleable__label sk-toggleable__label-arrow\">cat_pipe</label><div class=\"sk-toggleable__content\"><pre>&lt;sklearn.compose._column_transformer.make_column_selector object at 0x7fc779791d90&gt;</pre></div></div></div><div class=\"sk-serial\"><div class=\"sk-item\"><div class=\"sk-serial\"><div class=\"sk-item\"><div class=\"sk-estimator sk-toggleable\"><input class=\"sk-toggleable__control sk-hidden--visually\" id=\"27bb4d1f-b2d7-45fd-8c00-59f2b0a34b81\" type=\"checkbox\" ><label for=\"27bb4d1f-b2d7-45fd-8c00-59f2b0a34b81\" class=\"sk-toggleable__label sk-toggleable__label-arrow\">SimpleImputer</label><div class=\"sk-toggleable__content\"><pre>SimpleImputer(strategy=&#x27;most_frequent&#x27;)</pre></div></div></div><div class=\"sk-item\"><div class=\"sk-estimator sk-toggleable\"><input class=\"sk-toggleable__control sk-hidden--visually\" id=\"ca391a32-f2b0-4053-9111-a427118e5778\" type=\"checkbox\" ><label for=\"ca391a32-f2b0-4053-9111-a427118e5778\" class=\"sk-toggleable__label sk-toggleable__label-arrow\">OneHotEncoder</label><div class=\"sk-toggleable__content\"><pre>OneHotEncoder(drop=&#x27;if_binary&#x27;)</pre></div></div></div></div></div></div></div></div><div class=\"sk-parallel-item\"><div class=\"sk-item\"><div class=\"sk-label-container\"><div class=\"sk-label sk-toggleable\"><input class=\"sk-toggleable__control sk-hidden--visually\" id=\"4138cabe-2bb9-4dec-b67b-86675eb836ab\" type=\"checkbox\" ><label for=\"4138cabe-2bb9-4dec-b67b-86675eb836ab\" class=\"sk-toggleable__label sk-toggleable__label-arrow\">num_pipe</label><div class=\"sk-toggleable__content\"><pre>&lt;sklearn.compose._column_transformer.make_column_selector object at 0x7fc779791dd0&gt;</pre></div></div></div><div class=\"sk-serial\"><div class=\"sk-item\"><div class=\"sk-serial\"><div class=\"sk-item\"><div class=\"sk-estimator sk-toggleable\"><input class=\"sk-toggleable__control sk-hidden--visually\" id=\"2a594324-4d7b-4b0d-bfaf-03f76e11740a\" type=\"checkbox\" ><label for=\"2a594324-4d7b-4b0d-bfaf-03f76e11740a\" class=\"sk-toggleable__label sk-toggleable__label-arrow\">SimpleImputer</label><div class=\"sk-toggleable__content\"><pre>SimpleImputer()</pre></div></div></div><div class=\"sk-item\"><div class=\"sk-estimator sk-toggleable\"><input class=\"sk-toggleable__control sk-hidden--visually\" id=\"536a8fd0-7a7c-4c7f-8c84-8d61f0b98587\" type=\"checkbox\" ><label for=\"536a8fd0-7a7c-4c7f-8c84-8d61f0b98587\" class=\"sk-toggleable__label sk-toggleable__label-arrow\">StandardScaler</label><div class=\"sk-toggleable__content\"><pre>StandardScaler()</pre></div></div></div></div></div></div></div></div><div class=\"sk-parallel-item\"><div class=\"sk-item\"><div class=\"sk-label-container\"><div class=\"sk-label sk-toggleable\"><input class=\"sk-toggleable__control sk-hidden--visually\" id=\"8f9bc07d-2eff-4b63-a51c-260d32727cdd\" type=\"checkbox\" ><label for=\"8f9bc07d-2eff-4b63-a51c-260d32727cdd\" class=\"sk-toggleable__label sk-toggleable__label-arrow\">remainder</label><div class=\"sk-toggleable__content\"><pre></pre></div></div></div><div class=\"sk-serial\"><div class=\"sk-item\"><div class=\"sk-estimator sk-toggleable\"><input class=\"sk-toggleable__control sk-hidden--visually\" id=\"f379dff5-a8ba-4c5f-b995-317f1340daf9\" type=\"checkbox\" ><label for=\"f379dff5-a8ba-4c5f-b995-317f1340daf9\" class=\"sk-toggleable__label sk-toggleable__label-arrow\">passthrough</label><div class=\"sk-toggleable__content\"><pre>passthrough</pre></div></div></div></div></div></div></div></div><div class=\"sk-item\"><div class=\"sk-estimator sk-toggleable\"><input class=\"sk-toggleable__control sk-hidden--visually\" id=\"7060346b-1733-4b79-861c-7ddc385b55da\" type=\"checkbox\" ><label for=\"7060346b-1733-4b79-861c-7ddc385b55da\" class=\"sk-toggleable__label sk-toggleable__label-arrow\">LogisticRegression</label><div class=\"sk-toggleable__content\"><pre>LogisticRegression(penalty=&#x27;elasticnet&#x27;, solver=&#x27;saga&#x27;, tol=0.01)</pre></div></div></div></div></div></div></div>"
            ]
          },
          "metadata": {}
        }
      ]
    },
    {
      "cell_type": "markdown",
      "source": [
        "### Random Forest Classifier"
      ],
      "metadata": {
        "id": "r-dNJMC2xGMk"
      }
    },
    {
      "cell_type": "code",
      "source": [
        "pipe_rf = Pipeline([('preproc', preproc), ('rf', RandomForestClassifier())])\n",
        "\n",
        "# Feel free to uncomment and edit the code below to visualize your overall pipeline\n",
        "with config_context(display='diagram'): display(pipe_rf)"
      ],
      "metadata": {
        "colab": {
          "base_uri": "https://localhost:8080/",
          "height": 227
        },
        "id": "1z-51bjtxIQV",
        "outputId": "52ac1922-cb03-488e-dffd-1b4ba42215a0"
      },
      "execution_count": 213,
      "outputs": [
        {
          "output_type": "display_data",
          "data": {
            "text/plain": [
              "Pipeline(steps=[('preproc',\n",
              "                 ColumnTransformer(remainder='passthrough',\n",
              "                                   transformers=[('cat_pipe',\n",
              "                                                  Pipeline(steps=[('cat_impute',\n",
              "                                                                   SimpleImputer(strategy='most_frequent')),\n",
              "                                                                  ('onehot_cat',\n",
              "                                                                   OneHotEncoder(drop='if_binary'))]),\n",
              "                                                  <sklearn.compose._column_transformer.make_column_selector object at 0x7fc779791d90>),\n",
              "                                                 ('num_pipe',\n",
              "                                                  Pipeline(steps=[('impute_num',\n",
              "                                                                   SimpleImputer()),\n",
              "                                                                  ('scale_num',\n",
              "                                                                   StandardScaler())]),\n",
              "                                                  <sklearn.compose._column_transformer.make_column_selector object at 0x7fc779791dd0>)])),\n",
              "                ('rf', RandomForestClassifier())])"
            ],
            "text/html": [
              "<style>#sk-befd1511-575a-49f4-9362-47c3e120fbc2 {color: black;background-color: white;}#sk-befd1511-575a-49f4-9362-47c3e120fbc2 pre{padding: 0;}#sk-befd1511-575a-49f4-9362-47c3e120fbc2 div.sk-toggleable {background-color: white;}#sk-befd1511-575a-49f4-9362-47c3e120fbc2 label.sk-toggleable__label {cursor: pointer;display: block;width: 100%;margin-bottom: 0;padding: 0.3em;box-sizing: border-box;text-align: center;}#sk-befd1511-575a-49f4-9362-47c3e120fbc2 label.sk-toggleable__label-arrow:before {content: \"▸\";float: left;margin-right: 0.25em;color: #696969;}#sk-befd1511-575a-49f4-9362-47c3e120fbc2 label.sk-toggleable__label-arrow:hover:before {color: black;}#sk-befd1511-575a-49f4-9362-47c3e120fbc2 div.sk-estimator:hover label.sk-toggleable__label-arrow:before {color: black;}#sk-befd1511-575a-49f4-9362-47c3e120fbc2 div.sk-toggleable__content {max-height: 0;max-width: 0;overflow: hidden;text-align: left;background-color: #f0f8ff;}#sk-befd1511-575a-49f4-9362-47c3e120fbc2 div.sk-toggleable__content pre {margin: 0.2em;color: black;border-radius: 0.25em;background-color: #f0f8ff;}#sk-befd1511-575a-49f4-9362-47c3e120fbc2 input.sk-toggleable__control:checked~div.sk-toggleable__content {max-height: 200px;max-width: 100%;overflow: auto;}#sk-befd1511-575a-49f4-9362-47c3e120fbc2 input.sk-toggleable__control:checked~label.sk-toggleable__label-arrow:before {content: \"▾\";}#sk-befd1511-575a-49f4-9362-47c3e120fbc2 div.sk-estimator input.sk-toggleable__control:checked~label.sk-toggleable__label {background-color: #d4ebff;}#sk-befd1511-575a-49f4-9362-47c3e120fbc2 div.sk-label input.sk-toggleable__control:checked~label.sk-toggleable__label {background-color: #d4ebff;}#sk-befd1511-575a-49f4-9362-47c3e120fbc2 input.sk-hidden--visually {border: 0;clip: rect(1px 1px 1px 1px);clip: rect(1px, 1px, 1px, 1px);height: 1px;margin: -1px;overflow: hidden;padding: 0;position: absolute;width: 1px;}#sk-befd1511-575a-49f4-9362-47c3e120fbc2 div.sk-estimator {font-family: monospace;background-color: #f0f8ff;border: 1px dotted black;border-radius: 0.25em;box-sizing: border-box;margin-bottom: 0.5em;}#sk-befd1511-575a-49f4-9362-47c3e120fbc2 div.sk-estimator:hover {background-color: #d4ebff;}#sk-befd1511-575a-49f4-9362-47c3e120fbc2 div.sk-parallel-item::after {content: \"\";width: 100%;border-bottom: 1px solid gray;flex-grow: 1;}#sk-befd1511-575a-49f4-9362-47c3e120fbc2 div.sk-label:hover label.sk-toggleable__label {background-color: #d4ebff;}#sk-befd1511-575a-49f4-9362-47c3e120fbc2 div.sk-serial::before {content: \"\";position: absolute;border-left: 1px solid gray;box-sizing: border-box;top: 2em;bottom: 0;left: 50%;}#sk-befd1511-575a-49f4-9362-47c3e120fbc2 div.sk-serial {display: flex;flex-direction: column;align-items: center;background-color: white;padding-right: 0.2em;padding-left: 0.2em;}#sk-befd1511-575a-49f4-9362-47c3e120fbc2 div.sk-item {z-index: 1;}#sk-befd1511-575a-49f4-9362-47c3e120fbc2 div.sk-parallel {display: flex;align-items: stretch;justify-content: center;background-color: white;}#sk-befd1511-575a-49f4-9362-47c3e120fbc2 div.sk-parallel::before {content: \"\";position: absolute;border-left: 1px solid gray;box-sizing: border-box;top: 2em;bottom: 0;left: 50%;}#sk-befd1511-575a-49f4-9362-47c3e120fbc2 div.sk-parallel-item {display: flex;flex-direction: column;position: relative;background-color: white;}#sk-befd1511-575a-49f4-9362-47c3e120fbc2 div.sk-parallel-item:first-child::after {align-self: flex-end;width: 50%;}#sk-befd1511-575a-49f4-9362-47c3e120fbc2 div.sk-parallel-item:last-child::after {align-self: flex-start;width: 50%;}#sk-befd1511-575a-49f4-9362-47c3e120fbc2 div.sk-parallel-item:only-child::after {width: 0;}#sk-befd1511-575a-49f4-9362-47c3e120fbc2 div.sk-dashed-wrapped {border: 1px dashed gray;margin: 0 0.4em 0.5em 0.4em;box-sizing: border-box;padding-bottom: 0.4em;background-color: white;position: relative;}#sk-befd1511-575a-49f4-9362-47c3e120fbc2 div.sk-label label {font-family: monospace;font-weight: bold;background-color: white;display: inline-block;line-height: 1.2em;}#sk-befd1511-575a-49f4-9362-47c3e120fbc2 div.sk-label-container {position: relative;z-index: 2;text-align: center;}#sk-befd1511-575a-49f4-9362-47c3e120fbc2 div.sk-container {/* jupyter's `normalize.less` sets `[hidden] { display: none; }` but bootstrap.min.css set `[hidden] { display: none !important; }` so we also need the `!important` here to be able to override the default hidden behavior on the sphinx rendered scikit-learn.org. See: https://github.com/scikit-learn/scikit-learn/issues/21755 */display: inline-block !important;position: relative;}#sk-befd1511-575a-49f4-9362-47c3e120fbc2 div.sk-text-repr-fallback {display: none;}</style><div id=\"sk-befd1511-575a-49f4-9362-47c3e120fbc2\" class=\"sk-top-container\"><div class=\"sk-text-repr-fallback\"><pre>Pipeline(steps=[(&#x27;preproc&#x27;,\n",
              "                 ColumnTransformer(remainder=&#x27;passthrough&#x27;,\n",
              "                                   transformers=[(&#x27;cat_pipe&#x27;,\n",
              "                                                  Pipeline(steps=[(&#x27;cat_impute&#x27;,\n",
              "                                                                   SimpleImputer(strategy=&#x27;most_frequent&#x27;)),\n",
              "                                                                  (&#x27;onehot_cat&#x27;,\n",
              "                                                                   OneHotEncoder(drop=&#x27;if_binary&#x27;))]),\n",
              "                                                  &lt;sklearn.compose._column_transformer.make_column_selector object at 0x7fc779791d90&gt;),\n",
              "                                                 (&#x27;num_pipe&#x27;,\n",
              "                                                  Pipeline(steps=[(&#x27;impute_num&#x27;,\n",
              "                                                                   SimpleImputer()),\n",
              "                                                                  (&#x27;scale_num&#x27;,\n",
              "                                                                   StandardScaler())]),\n",
              "                                                  &lt;sklearn.compose._column_transformer.make_column_selector object at 0x7fc779791dd0&gt;)])),\n",
              "                (&#x27;rf&#x27;, RandomForestClassifier())])</pre><b>Please rerun this cell to show the HTML repr or trust the notebook.</b></div><div class=\"sk-container\" hidden><div class=\"sk-item sk-dashed-wrapped\"><div class=\"sk-label-container\"><div class=\"sk-label sk-toggleable\"><input class=\"sk-toggleable__control sk-hidden--visually\" id=\"185bd5e4-a19a-460a-b64f-2416af215e3c\" type=\"checkbox\" ><label for=\"185bd5e4-a19a-460a-b64f-2416af215e3c\" class=\"sk-toggleable__label sk-toggleable__label-arrow\">Pipeline</label><div class=\"sk-toggleable__content\"><pre>Pipeline(steps=[(&#x27;preproc&#x27;,\n",
              "                 ColumnTransformer(remainder=&#x27;passthrough&#x27;,\n",
              "                                   transformers=[(&#x27;cat_pipe&#x27;,\n",
              "                                                  Pipeline(steps=[(&#x27;cat_impute&#x27;,\n",
              "                                                                   SimpleImputer(strategy=&#x27;most_frequent&#x27;)),\n",
              "                                                                  (&#x27;onehot_cat&#x27;,\n",
              "                                                                   OneHotEncoder(drop=&#x27;if_binary&#x27;))]),\n",
              "                                                  &lt;sklearn.compose._column_transformer.make_column_selector object at 0x7fc779791d90&gt;),\n",
              "                                                 (&#x27;num_pipe&#x27;,\n",
              "                                                  Pipeline(steps=[(&#x27;impute_num&#x27;,\n",
              "                                                                   SimpleImputer()),\n",
              "                                                                  (&#x27;scale_num&#x27;,\n",
              "                                                                   StandardScaler())]),\n",
              "                                                  &lt;sklearn.compose._column_transformer.make_column_selector object at 0x7fc779791dd0&gt;)])),\n",
              "                (&#x27;rf&#x27;, RandomForestClassifier())])</pre></div></div></div><div class=\"sk-serial\"><div class=\"sk-item sk-dashed-wrapped\"><div class=\"sk-label-container\"><div class=\"sk-label sk-toggleable\"><input class=\"sk-toggleable__control sk-hidden--visually\" id=\"ef34c620-f2be-4e65-8cbe-5e9ba06e1011\" type=\"checkbox\" ><label for=\"ef34c620-f2be-4e65-8cbe-5e9ba06e1011\" class=\"sk-toggleable__label sk-toggleable__label-arrow\">preproc: ColumnTransformer</label><div class=\"sk-toggleable__content\"><pre>ColumnTransformer(remainder=&#x27;passthrough&#x27;,\n",
              "                  transformers=[(&#x27;cat_pipe&#x27;,\n",
              "                                 Pipeline(steps=[(&#x27;cat_impute&#x27;,\n",
              "                                                  SimpleImputer(strategy=&#x27;most_frequent&#x27;)),\n",
              "                                                 (&#x27;onehot_cat&#x27;,\n",
              "                                                  OneHotEncoder(drop=&#x27;if_binary&#x27;))]),\n",
              "                                 &lt;sklearn.compose._column_transformer.make_column_selector object at 0x7fc779791d90&gt;),\n",
              "                                (&#x27;num_pipe&#x27;,\n",
              "                                 Pipeline(steps=[(&#x27;impute_num&#x27;,\n",
              "                                                  SimpleImputer()),\n",
              "                                                 (&#x27;scale_num&#x27;,\n",
              "                                                  StandardScaler())]),\n",
              "                                 &lt;sklearn.compose._column_transformer.make_column_selector object at 0x7fc779791dd0&gt;)])</pre></div></div></div><div class=\"sk-parallel\"><div class=\"sk-parallel-item\"><div class=\"sk-item\"><div class=\"sk-label-container\"><div class=\"sk-label sk-toggleable\"><input class=\"sk-toggleable__control sk-hidden--visually\" id=\"48d14de4-d85d-475d-ab74-23f992e819a2\" type=\"checkbox\" ><label for=\"48d14de4-d85d-475d-ab74-23f992e819a2\" class=\"sk-toggleable__label sk-toggleable__label-arrow\">cat_pipe</label><div class=\"sk-toggleable__content\"><pre>&lt;sklearn.compose._column_transformer.make_column_selector object at 0x7fc779791d90&gt;</pre></div></div></div><div class=\"sk-serial\"><div class=\"sk-item\"><div class=\"sk-serial\"><div class=\"sk-item\"><div class=\"sk-estimator sk-toggleable\"><input class=\"sk-toggleable__control sk-hidden--visually\" id=\"3581f7ec-893f-439c-b8a5-34f981e9faeb\" type=\"checkbox\" ><label for=\"3581f7ec-893f-439c-b8a5-34f981e9faeb\" class=\"sk-toggleable__label sk-toggleable__label-arrow\">SimpleImputer</label><div class=\"sk-toggleable__content\"><pre>SimpleImputer(strategy=&#x27;most_frequent&#x27;)</pre></div></div></div><div class=\"sk-item\"><div class=\"sk-estimator sk-toggleable\"><input class=\"sk-toggleable__control sk-hidden--visually\" id=\"ec34dd33-94c3-4594-90d0-a713384506e4\" type=\"checkbox\" ><label for=\"ec34dd33-94c3-4594-90d0-a713384506e4\" class=\"sk-toggleable__label sk-toggleable__label-arrow\">OneHotEncoder</label><div class=\"sk-toggleable__content\"><pre>OneHotEncoder(drop=&#x27;if_binary&#x27;)</pre></div></div></div></div></div></div></div></div><div class=\"sk-parallel-item\"><div class=\"sk-item\"><div class=\"sk-label-container\"><div class=\"sk-label sk-toggleable\"><input class=\"sk-toggleable__control sk-hidden--visually\" id=\"52e5e9dc-c81e-4839-86ca-7bfd0ed67e7c\" type=\"checkbox\" ><label for=\"52e5e9dc-c81e-4839-86ca-7bfd0ed67e7c\" class=\"sk-toggleable__label sk-toggleable__label-arrow\">num_pipe</label><div class=\"sk-toggleable__content\"><pre>&lt;sklearn.compose._column_transformer.make_column_selector object at 0x7fc779791dd0&gt;</pre></div></div></div><div class=\"sk-serial\"><div class=\"sk-item\"><div class=\"sk-serial\"><div class=\"sk-item\"><div class=\"sk-estimator sk-toggleable\"><input class=\"sk-toggleable__control sk-hidden--visually\" id=\"3f9623ad-89e9-472d-bef2-720bfaeee6ab\" type=\"checkbox\" ><label for=\"3f9623ad-89e9-472d-bef2-720bfaeee6ab\" class=\"sk-toggleable__label sk-toggleable__label-arrow\">SimpleImputer</label><div class=\"sk-toggleable__content\"><pre>SimpleImputer()</pre></div></div></div><div class=\"sk-item\"><div class=\"sk-estimator sk-toggleable\"><input class=\"sk-toggleable__control sk-hidden--visually\" id=\"44f4425f-6066-45f8-8299-3dcd9a551855\" type=\"checkbox\" ><label for=\"44f4425f-6066-45f8-8299-3dcd9a551855\" class=\"sk-toggleable__label sk-toggleable__label-arrow\">StandardScaler</label><div class=\"sk-toggleable__content\"><pre>StandardScaler()</pre></div></div></div></div></div></div></div></div><div class=\"sk-parallel-item\"><div class=\"sk-item\"><div class=\"sk-label-container\"><div class=\"sk-label sk-toggleable\"><input class=\"sk-toggleable__control sk-hidden--visually\" id=\"584f6434-cbe5-478b-a640-7f2cce0ae6ea\" type=\"checkbox\" ><label for=\"584f6434-cbe5-478b-a640-7f2cce0ae6ea\" class=\"sk-toggleable__label sk-toggleable__label-arrow\">remainder</label><div class=\"sk-toggleable__content\"><pre></pre></div></div></div><div class=\"sk-serial\"><div class=\"sk-item\"><div class=\"sk-estimator sk-toggleable\"><input class=\"sk-toggleable__control sk-hidden--visually\" id=\"a6da7e4e-bb8b-4dd1-9652-7686076e4892\" type=\"checkbox\" ><label for=\"a6da7e4e-bb8b-4dd1-9652-7686076e4892\" class=\"sk-toggleable__label sk-toggleable__label-arrow\">passthrough</label><div class=\"sk-toggleable__content\"><pre>passthrough</pre></div></div></div></div></div></div></div></div><div class=\"sk-item\"><div class=\"sk-estimator sk-toggleable\"><input class=\"sk-toggleable__control sk-hidden--visually\" id=\"a8ce982c-5243-43b0-9a3d-46e51ddec7c9\" type=\"checkbox\" ><label for=\"a8ce982c-5243-43b0-9a3d-46e51ddec7c9\" class=\"sk-toggleable__label sk-toggleable__label-arrow\">RandomForestClassifier</label><div class=\"sk-toggleable__content\"><pre>RandomForestClassifier()</pre></div></div></div></div></div></div></div>"
            ]
          },
          "metadata": {}
        }
      ]
    },
    {
      "cell_type": "markdown",
      "source": [
        "### Gradient Boosting Classifier"
      ],
      "metadata": {
        "id": "y2qIKw4exNuX"
      }
    },
    {
      "cell_type": "code",
      "source": [
        "pipe_gb = Pipeline(steps=[('preproc', preproc), ('gbc', GradientBoostingClassifier())])\n",
        "\n",
        "\n",
        "# Feel free to uncomment and edit the code below to visualize your overall pipeline\n",
        "with config_context(display='diagram'): display(pipe_gb)"
      ],
      "metadata": {
        "colab": {
          "base_uri": "https://localhost:8080/",
          "height": 227
        },
        "id": "TplvK1LCxMsg",
        "outputId": "574c0e6a-8c10-4e8d-a4ec-8b7fc23929ca"
      },
      "execution_count": 214,
      "outputs": [
        {
          "output_type": "display_data",
          "data": {
            "text/plain": [
              "Pipeline(steps=[('preproc',\n",
              "                 ColumnTransformer(remainder='passthrough',\n",
              "                                   transformers=[('cat_pipe',\n",
              "                                                  Pipeline(steps=[('cat_impute',\n",
              "                                                                   SimpleImputer(strategy='most_frequent')),\n",
              "                                                                  ('onehot_cat',\n",
              "                                                                   OneHotEncoder(drop='if_binary'))]),\n",
              "                                                  <sklearn.compose._column_transformer.make_column_selector object at 0x7fc779791d90>),\n",
              "                                                 ('num_pipe',\n",
              "                                                  Pipeline(steps=[('impute_num',\n",
              "                                                                   SimpleImputer()),\n",
              "                                                                  ('scale_num',\n",
              "                                                                   StandardScaler())]),\n",
              "                                                  <sklearn.compose._column_transformer.make_column_selector object at 0x7fc779791dd0>)])),\n",
              "                ('gbc', GradientBoostingClassifier())])"
            ],
            "text/html": [
              "<style>#sk-ca369cf9-2617-4fdd-a241-47392bb25586 {color: black;background-color: white;}#sk-ca369cf9-2617-4fdd-a241-47392bb25586 pre{padding: 0;}#sk-ca369cf9-2617-4fdd-a241-47392bb25586 div.sk-toggleable {background-color: white;}#sk-ca369cf9-2617-4fdd-a241-47392bb25586 label.sk-toggleable__label {cursor: pointer;display: block;width: 100%;margin-bottom: 0;padding: 0.3em;box-sizing: border-box;text-align: center;}#sk-ca369cf9-2617-4fdd-a241-47392bb25586 label.sk-toggleable__label-arrow:before {content: \"▸\";float: left;margin-right: 0.25em;color: #696969;}#sk-ca369cf9-2617-4fdd-a241-47392bb25586 label.sk-toggleable__label-arrow:hover:before {color: black;}#sk-ca369cf9-2617-4fdd-a241-47392bb25586 div.sk-estimator:hover label.sk-toggleable__label-arrow:before {color: black;}#sk-ca369cf9-2617-4fdd-a241-47392bb25586 div.sk-toggleable__content {max-height: 0;max-width: 0;overflow: hidden;text-align: left;background-color: #f0f8ff;}#sk-ca369cf9-2617-4fdd-a241-47392bb25586 div.sk-toggleable__content pre {margin: 0.2em;color: black;border-radius: 0.25em;background-color: #f0f8ff;}#sk-ca369cf9-2617-4fdd-a241-47392bb25586 input.sk-toggleable__control:checked~div.sk-toggleable__content {max-height: 200px;max-width: 100%;overflow: auto;}#sk-ca369cf9-2617-4fdd-a241-47392bb25586 input.sk-toggleable__control:checked~label.sk-toggleable__label-arrow:before {content: \"▾\";}#sk-ca369cf9-2617-4fdd-a241-47392bb25586 div.sk-estimator input.sk-toggleable__control:checked~label.sk-toggleable__label {background-color: #d4ebff;}#sk-ca369cf9-2617-4fdd-a241-47392bb25586 div.sk-label input.sk-toggleable__control:checked~label.sk-toggleable__label {background-color: #d4ebff;}#sk-ca369cf9-2617-4fdd-a241-47392bb25586 input.sk-hidden--visually {border: 0;clip: rect(1px 1px 1px 1px);clip: rect(1px, 1px, 1px, 1px);height: 1px;margin: -1px;overflow: hidden;padding: 0;position: absolute;width: 1px;}#sk-ca369cf9-2617-4fdd-a241-47392bb25586 div.sk-estimator {font-family: monospace;background-color: #f0f8ff;border: 1px dotted black;border-radius: 0.25em;box-sizing: border-box;margin-bottom: 0.5em;}#sk-ca369cf9-2617-4fdd-a241-47392bb25586 div.sk-estimator:hover {background-color: #d4ebff;}#sk-ca369cf9-2617-4fdd-a241-47392bb25586 div.sk-parallel-item::after {content: \"\";width: 100%;border-bottom: 1px solid gray;flex-grow: 1;}#sk-ca369cf9-2617-4fdd-a241-47392bb25586 div.sk-label:hover label.sk-toggleable__label {background-color: #d4ebff;}#sk-ca369cf9-2617-4fdd-a241-47392bb25586 div.sk-serial::before {content: \"\";position: absolute;border-left: 1px solid gray;box-sizing: border-box;top: 2em;bottom: 0;left: 50%;}#sk-ca369cf9-2617-4fdd-a241-47392bb25586 div.sk-serial {display: flex;flex-direction: column;align-items: center;background-color: white;padding-right: 0.2em;padding-left: 0.2em;}#sk-ca369cf9-2617-4fdd-a241-47392bb25586 div.sk-item {z-index: 1;}#sk-ca369cf9-2617-4fdd-a241-47392bb25586 div.sk-parallel {display: flex;align-items: stretch;justify-content: center;background-color: white;}#sk-ca369cf9-2617-4fdd-a241-47392bb25586 div.sk-parallel::before {content: \"\";position: absolute;border-left: 1px solid gray;box-sizing: border-box;top: 2em;bottom: 0;left: 50%;}#sk-ca369cf9-2617-4fdd-a241-47392bb25586 div.sk-parallel-item {display: flex;flex-direction: column;position: relative;background-color: white;}#sk-ca369cf9-2617-4fdd-a241-47392bb25586 div.sk-parallel-item:first-child::after {align-self: flex-end;width: 50%;}#sk-ca369cf9-2617-4fdd-a241-47392bb25586 div.sk-parallel-item:last-child::after {align-self: flex-start;width: 50%;}#sk-ca369cf9-2617-4fdd-a241-47392bb25586 div.sk-parallel-item:only-child::after {width: 0;}#sk-ca369cf9-2617-4fdd-a241-47392bb25586 div.sk-dashed-wrapped {border: 1px dashed gray;margin: 0 0.4em 0.5em 0.4em;box-sizing: border-box;padding-bottom: 0.4em;background-color: white;position: relative;}#sk-ca369cf9-2617-4fdd-a241-47392bb25586 div.sk-label label {font-family: monospace;font-weight: bold;background-color: white;display: inline-block;line-height: 1.2em;}#sk-ca369cf9-2617-4fdd-a241-47392bb25586 div.sk-label-container {position: relative;z-index: 2;text-align: center;}#sk-ca369cf9-2617-4fdd-a241-47392bb25586 div.sk-container {/* jupyter's `normalize.less` sets `[hidden] { display: none; }` but bootstrap.min.css set `[hidden] { display: none !important; }` so we also need the `!important` here to be able to override the default hidden behavior on the sphinx rendered scikit-learn.org. See: https://github.com/scikit-learn/scikit-learn/issues/21755 */display: inline-block !important;position: relative;}#sk-ca369cf9-2617-4fdd-a241-47392bb25586 div.sk-text-repr-fallback {display: none;}</style><div id=\"sk-ca369cf9-2617-4fdd-a241-47392bb25586\" class=\"sk-top-container\"><div class=\"sk-text-repr-fallback\"><pre>Pipeline(steps=[(&#x27;preproc&#x27;,\n",
              "                 ColumnTransformer(remainder=&#x27;passthrough&#x27;,\n",
              "                                   transformers=[(&#x27;cat_pipe&#x27;,\n",
              "                                                  Pipeline(steps=[(&#x27;cat_impute&#x27;,\n",
              "                                                                   SimpleImputer(strategy=&#x27;most_frequent&#x27;)),\n",
              "                                                                  (&#x27;onehot_cat&#x27;,\n",
              "                                                                   OneHotEncoder(drop=&#x27;if_binary&#x27;))]),\n",
              "                                                  &lt;sklearn.compose._column_transformer.make_column_selector object at 0x7fc779791d90&gt;),\n",
              "                                                 (&#x27;num_pipe&#x27;,\n",
              "                                                  Pipeline(steps=[(&#x27;impute_num&#x27;,\n",
              "                                                                   SimpleImputer()),\n",
              "                                                                  (&#x27;scale_num&#x27;,\n",
              "                                                                   StandardScaler())]),\n",
              "                                                  &lt;sklearn.compose._column_transformer.make_column_selector object at 0x7fc779791dd0&gt;)])),\n",
              "                (&#x27;gbc&#x27;, GradientBoostingClassifier())])</pre><b>Please rerun this cell to show the HTML repr or trust the notebook.</b></div><div class=\"sk-container\" hidden><div class=\"sk-item sk-dashed-wrapped\"><div class=\"sk-label-container\"><div class=\"sk-label sk-toggleable\"><input class=\"sk-toggleable__control sk-hidden--visually\" id=\"a1cf46ef-6159-4c1a-a2df-146a92ce164e\" type=\"checkbox\" ><label for=\"a1cf46ef-6159-4c1a-a2df-146a92ce164e\" class=\"sk-toggleable__label sk-toggleable__label-arrow\">Pipeline</label><div class=\"sk-toggleable__content\"><pre>Pipeline(steps=[(&#x27;preproc&#x27;,\n",
              "                 ColumnTransformer(remainder=&#x27;passthrough&#x27;,\n",
              "                                   transformers=[(&#x27;cat_pipe&#x27;,\n",
              "                                                  Pipeline(steps=[(&#x27;cat_impute&#x27;,\n",
              "                                                                   SimpleImputer(strategy=&#x27;most_frequent&#x27;)),\n",
              "                                                                  (&#x27;onehot_cat&#x27;,\n",
              "                                                                   OneHotEncoder(drop=&#x27;if_binary&#x27;))]),\n",
              "                                                  &lt;sklearn.compose._column_transformer.make_column_selector object at 0x7fc779791d90&gt;),\n",
              "                                                 (&#x27;num_pipe&#x27;,\n",
              "                                                  Pipeline(steps=[(&#x27;impute_num&#x27;,\n",
              "                                                                   SimpleImputer()),\n",
              "                                                                  (&#x27;scale_num&#x27;,\n",
              "                                                                   StandardScaler())]),\n",
              "                                                  &lt;sklearn.compose._column_transformer.make_column_selector object at 0x7fc779791dd0&gt;)])),\n",
              "                (&#x27;gbc&#x27;, GradientBoostingClassifier())])</pre></div></div></div><div class=\"sk-serial\"><div class=\"sk-item sk-dashed-wrapped\"><div class=\"sk-label-container\"><div class=\"sk-label sk-toggleable\"><input class=\"sk-toggleable__control sk-hidden--visually\" id=\"d696e3f0-7b6e-4bd2-8a0e-9f7dda3086a0\" type=\"checkbox\" ><label for=\"d696e3f0-7b6e-4bd2-8a0e-9f7dda3086a0\" class=\"sk-toggleable__label sk-toggleable__label-arrow\">preproc: ColumnTransformer</label><div class=\"sk-toggleable__content\"><pre>ColumnTransformer(remainder=&#x27;passthrough&#x27;,\n",
              "                  transformers=[(&#x27;cat_pipe&#x27;,\n",
              "                                 Pipeline(steps=[(&#x27;cat_impute&#x27;,\n",
              "                                                  SimpleImputer(strategy=&#x27;most_frequent&#x27;)),\n",
              "                                                 (&#x27;onehot_cat&#x27;,\n",
              "                                                  OneHotEncoder(drop=&#x27;if_binary&#x27;))]),\n",
              "                                 &lt;sklearn.compose._column_transformer.make_column_selector object at 0x7fc779791d90&gt;),\n",
              "                                (&#x27;num_pipe&#x27;,\n",
              "                                 Pipeline(steps=[(&#x27;impute_num&#x27;,\n",
              "                                                  SimpleImputer()),\n",
              "                                                 (&#x27;scale_num&#x27;,\n",
              "                                                  StandardScaler())]),\n",
              "                                 &lt;sklearn.compose._column_transformer.make_column_selector object at 0x7fc779791dd0&gt;)])</pre></div></div></div><div class=\"sk-parallel\"><div class=\"sk-parallel-item\"><div class=\"sk-item\"><div class=\"sk-label-container\"><div class=\"sk-label sk-toggleable\"><input class=\"sk-toggleable__control sk-hidden--visually\" id=\"9e4eda39-a0ea-47bf-aa11-9cab70a957cd\" type=\"checkbox\" ><label for=\"9e4eda39-a0ea-47bf-aa11-9cab70a957cd\" class=\"sk-toggleable__label sk-toggleable__label-arrow\">cat_pipe</label><div class=\"sk-toggleable__content\"><pre>&lt;sklearn.compose._column_transformer.make_column_selector object at 0x7fc779791d90&gt;</pre></div></div></div><div class=\"sk-serial\"><div class=\"sk-item\"><div class=\"sk-serial\"><div class=\"sk-item\"><div class=\"sk-estimator sk-toggleable\"><input class=\"sk-toggleable__control sk-hidden--visually\" id=\"91be0200-0f42-4ec9-a980-33d504bc4f79\" type=\"checkbox\" ><label for=\"91be0200-0f42-4ec9-a980-33d504bc4f79\" class=\"sk-toggleable__label sk-toggleable__label-arrow\">SimpleImputer</label><div class=\"sk-toggleable__content\"><pre>SimpleImputer(strategy=&#x27;most_frequent&#x27;)</pre></div></div></div><div class=\"sk-item\"><div class=\"sk-estimator sk-toggleable\"><input class=\"sk-toggleable__control sk-hidden--visually\" id=\"64ecc036-2aa1-4050-afbc-7dceab845a3f\" type=\"checkbox\" ><label for=\"64ecc036-2aa1-4050-afbc-7dceab845a3f\" class=\"sk-toggleable__label sk-toggleable__label-arrow\">OneHotEncoder</label><div class=\"sk-toggleable__content\"><pre>OneHotEncoder(drop=&#x27;if_binary&#x27;)</pre></div></div></div></div></div></div></div></div><div class=\"sk-parallel-item\"><div class=\"sk-item\"><div class=\"sk-label-container\"><div class=\"sk-label sk-toggleable\"><input class=\"sk-toggleable__control sk-hidden--visually\" id=\"285638cf-3c2a-489a-860f-29dec716bcaf\" type=\"checkbox\" ><label for=\"285638cf-3c2a-489a-860f-29dec716bcaf\" class=\"sk-toggleable__label sk-toggleable__label-arrow\">num_pipe</label><div class=\"sk-toggleable__content\"><pre>&lt;sklearn.compose._column_transformer.make_column_selector object at 0x7fc779791dd0&gt;</pre></div></div></div><div class=\"sk-serial\"><div class=\"sk-item\"><div class=\"sk-serial\"><div class=\"sk-item\"><div class=\"sk-estimator sk-toggleable\"><input class=\"sk-toggleable__control sk-hidden--visually\" id=\"e79afebf-7ff7-4a54-8de3-71b354b12195\" type=\"checkbox\" ><label for=\"e79afebf-7ff7-4a54-8de3-71b354b12195\" class=\"sk-toggleable__label sk-toggleable__label-arrow\">SimpleImputer</label><div class=\"sk-toggleable__content\"><pre>SimpleImputer()</pre></div></div></div><div class=\"sk-item\"><div class=\"sk-estimator sk-toggleable\"><input class=\"sk-toggleable__control sk-hidden--visually\" id=\"7ac83efb-9994-470b-be56-267ffcbbfe86\" type=\"checkbox\" ><label for=\"7ac83efb-9994-470b-be56-267ffcbbfe86\" class=\"sk-toggleable__label sk-toggleable__label-arrow\">StandardScaler</label><div class=\"sk-toggleable__content\"><pre>StandardScaler()</pre></div></div></div></div></div></div></div></div><div class=\"sk-parallel-item\"><div class=\"sk-item\"><div class=\"sk-label-container\"><div class=\"sk-label sk-toggleable\"><input class=\"sk-toggleable__control sk-hidden--visually\" id=\"832900d0-b855-41c5-acae-8471e8dfc0f8\" type=\"checkbox\" ><label for=\"832900d0-b855-41c5-acae-8471e8dfc0f8\" class=\"sk-toggleable__label sk-toggleable__label-arrow\">remainder</label><div class=\"sk-toggleable__content\"><pre></pre></div></div></div><div class=\"sk-serial\"><div class=\"sk-item\"><div class=\"sk-estimator sk-toggleable\"><input class=\"sk-toggleable__control sk-hidden--visually\" id=\"028d3a2d-c60f-4d67-a302-aa51836edcc9\" type=\"checkbox\" ><label for=\"028d3a2d-c60f-4d67-a302-aa51836edcc9\" class=\"sk-toggleable__label sk-toggleable__label-arrow\">passthrough</label><div class=\"sk-toggleable__content\"><pre>passthrough</pre></div></div></div></div></div></div></div></div><div class=\"sk-item\"><div class=\"sk-estimator sk-toggleable\"><input class=\"sk-toggleable__control sk-hidden--visually\" id=\"7a1fce7a-d98a-4967-85d2-8c27c7709ae7\" type=\"checkbox\" ><label for=\"7a1fce7a-d98a-4967-85d2-8c27c7709ae7\" class=\"sk-toggleable__label sk-toggleable__label-arrow\">GradientBoostingClassifier</label><div class=\"sk-toggleable__content\"><pre>GradientBoostingClassifier()</pre></div></div></div></div></div></div></div>"
            ]
          },
          "metadata": {}
        }
      ]
    },
    {
      "cell_type": "markdown",
      "source": [
        "## Cross-validation with hyperparameter tuning"
      ],
      "metadata": {
        "id": "ZqOYi3Drx4Fj"
      }
    },
    {
      "cell_type": "markdown",
      "source": [
        "Now that we have our pipelines, we can now use this as part of cross validation and hyperparameter tuning."
      ],
      "metadata": {
        "id": "6ptQj3Cax7Kl"
      }
    },
    {
      "cell_type": "markdown",
      "source": [
        "### Logistic Regression"
      ],
      "metadata": {
        "id": "Ik0b1WZJx9iq"
      }
    },
    {
      "cell_type": "code",
      "source": [
        "tuning_grid_lg = {'mdl__l1_ratio' : np.linspace(0,1,5),\n",
        "               'mdl__C': np.logspace(-1, 6, 3) }\n",
        "grid_search_lg = GridSearchCV(pipe_lg, param_grid = tuning_grid_lg, cv = 5, return_train_score=True)"
      ],
      "metadata": {
        "id": "iUKswXy2x9IA"
      },
      "execution_count": 215,
      "outputs": []
    },
    {
      "cell_type": "code",
      "source": [
        "tuning_grid_lg"
      ],
      "metadata": {
        "colab": {
          "base_uri": "https://localhost:8080/"
        },
        "id": "wDS0PU1RyCc0",
        "outputId": "649484ce-d696-44d7-d377-d6065e723e34"
      },
      "execution_count": 216,
      "outputs": [
        {
          "output_type": "execute_result",
          "data": {
            "text/plain": [
              "{'mdl__C': array([1.00000000e-01, 3.16227766e+02, 1.00000000e+06]),\n",
              " 'mdl__l1_ratio': array([0.  , 0.25, 0.5 , 0.75, 1.  ])}"
            ]
          },
          "metadata": {},
          "execution_count": 216
        }
      ]
    },
    {
      "cell_type": "code",
      "source": [
        "grid_search_lg.fit(X_train, Y_train)"
      ],
      "metadata": {
        "colab": {
          "base_uri": "https://localhost:8080/"
        },
        "id": "CsD_lAEwyD8C",
        "outputId": "b750343f-ccd6-43e4-d90a-8a62d0f745c4"
      },
      "execution_count": 217,
      "outputs": [
        {
          "output_type": "execute_result",
          "data": {
            "text/plain": [
              "GridSearchCV(cv=5,\n",
              "             estimator=Pipeline(steps=[('preproc',\n",
              "                                        ColumnTransformer(remainder='passthrough',\n",
              "                                                          transformers=[('cat_pipe',\n",
              "                                                                         Pipeline(steps=[('cat_impute',\n",
              "                                                                                          SimpleImputer(strategy='most_frequent')),\n",
              "                                                                                         ('onehot_cat',\n",
              "                                                                                          OneHotEncoder(drop='if_binary'))]),\n",
              "                                                                         <sklearn.compose._column_transformer.make_column_selector object at 0x7fc779791d90>),\n",
              "                                                                        ('num_pipe',\n",
              "                                                                         Pipeline(step...\n",
              "                                                                                          SimpleImputer()),\n",
              "                                                                                         ('scale_num',\n",
              "                                                                                          StandardScaler())]),\n",
              "                                                                         <sklearn.compose._column_transformer.make_column_selector object at 0x7fc779791dd0>)])),\n",
              "                                       ('mdl',\n",
              "                                        LogisticRegression(penalty='elasticnet',\n",
              "                                                           solver='saga',\n",
              "                                                           tol=0.01))]),\n",
              "             param_grid={'mdl__C': array([1.00000000e-01, 3.16227766e+02, 1.00000000e+06]),\n",
              "                         'mdl__l1_ratio': array([0.  , 0.25, 0.5 , 0.75, 1.  ])},\n",
              "             return_train_score=True)"
            ]
          },
          "metadata": {},
          "execution_count": 217
        }
      ]
    },
    {
      "cell_type": "code",
      "source": [
        "print(grid_search_lg.best_score_)\n",
        "grid_search_lg.best_params_"
      ],
      "metadata": {
        "colab": {
          "base_uri": "https://localhost:8080/"
        },
        "id": "ecOn9-QdGPK8",
        "outputId": "7e351b66-d4fe-42e1-8dbc-6c593dbafe27"
      },
      "execution_count": 218,
      "outputs": [
        {
          "output_type": "stream",
          "name": "stdout",
          "text": [
            "0.7913904280588661\n"
          ]
        },
        {
          "output_type": "execute_result",
          "data": {
            "text/plain": [
              "{'mdl__C': 0.1, 'mdl__l1_ratio': 0.5}"
            ]
          },
          "metadata": {},
          "execution_count": 218
        }
      ]
    },
    {
      "cell_type": "code",
      "source": [
        "pd.DataFrame(grid_search_lg.cv_results_)"
      ],
      "metadata": {
        "colab": {
          "base_uri": "https://localhost:8080/",
          "height": 960
        },
        "id": "WZmBuDPsGRt4",
        "outputId": "5b73586d-2270-449e-cdb6-b80a12eb0bf8"
      },
      "execution_count": 219,
      "outputs": [
        {
          "output_type": "execute_result",
          "data": {
            "text/plain": [
              "    mean_fit_time  std_fit_time  mean_score_time  std_score_time param_mdl__C  \\\n",
              "0        0.136261      0.006309         0.019543        0.003926          0.1   \n",
              "1        0.193105      0.012112         0.017599        0.000559          0.1   \n",
              "2        0.177698      0.007697         0.017393        0.000287          0.1   \n",
              "3        0.174488      0.007126         0.017226        0.000285          0.1   \n",
              "4        0.155157      0.005630         0.018308        0.001289          0.1   \n",
              "5        0.267818      0.030584         0.017598        0.000282   316.227766   \n",
              "6        0.534296      0.066245         0.017754        0.000537   316.227766   \n",
              "7        0.551739      0.066842         0.018038        0.000985   316.227766   \n",
              "8        0.506110      0.058219         0.017336        0.000305   316.227766   \n",
              "9        0.510964      0.065354         0.018221        0.000850   316.227766   \n",
              "10       0.283513      0.030037         0.018003        0.000553    1000000.0   \n",
              "11       0.568542      0.084705         0.017532        0.000299    1000000.0   \n",
              "12       0.583454      0.090540         0.017925        0.001107    1000000.0   \n",
              "13       0.582731      0.075978         0.017560        0.000315    1000000.0   \n",
              "14       0.565376      0.069621         0.017489        0.000188    1000000.0   \n",
              "\n",
              "   param_mdl__l1_ratio                                             params  \\\n",
              "0                  0.0              {'mdl__C': 0.1, 'mdl__l1_ratio': 0.0}   \n",
              "1                 0.25             {'mdl__C': 0.1, 'mdl__l1_ratio': 0.25}   \n",
              "2                  0.5              {'mdl__C': 0.1, 'mdl__l1_ratio': 0.5}   \n",
              "3                 0.75             {'mdl__C': 0.1, 'mdl__l1_ratio': 0.75}   \n",
              "4                  1.0              {'mdl__C': 0.1, 'mdl__l1_ratio': 1.0}   \n",
              "5                  0.0  {'mdl__C': 316.22776601683796, 'mdl__l1_ratio'...   \n",
              "6                 0.25  {'mdl__C': 316.22776601683796, 'mdl__l1_ratio'...   \n",
              "7                  0.5  {'mdl__C': 316.22776601683796, 'mdl__l1_ratio'...   \n",
              "8                 0.75  {'mdl__C': 316.22776601683796, 'mdl__l1_ratio'...   \n",
              "9                  1.0  {'mdl__C': 316.22776601683796, 'mdl__l1_ratio'...   \n",
              "10                 0.0        {'mdl__C': 1000000.0, 'mdl__l1_ratio': 0.0}   \n",
              "11                0.25       {'mdl__C': 1000000.0, 'mdl__l1_ratio': 0.25}   \n",
              "12                 0.5        {'mdl__C': 1000000.0, 'mdl__l1_ratio': 0.5}   \n",
              "13                0.75       {'mdl__C': 1000000.0, 'mdl__l1_ratio': 0.75}   \n",
              "14                 1.0        {'mdl__C': 1000000.0, 'mdl__l1_ratio': 1.0}   \n",
              "\n",
              "    split0_test_score  split1_test_score  split2_test_score  ...  \\\n",
              "0            0.791638           0.792727           0.792587  ...   \n",
              "1            0.791498           0.793287           0.792308  ...   \n",
              "2            0.792197           0.793287           0.792028  ...   \n",
              "3            0.791498           0.792867           0.792168  ...   \n",
              "4            0.792057           0.792727           0.791888  ...   \n",
              "5            0.790379           0.793427           0.792727  ...   \n",
              "6            0.790379           0.793427           0.792727  ...   \n",
              "7            0.790379           0.793427           0.792727  ...   \n",
              "8            0.790379           0.793427           0.792727  ...   \n",
              "9            0.790379           0.793427           0.792727  ...   \n",
              "10           0.790379           0.793427           0.792727  ...   \n",
              "11           0.790379           0.793427           0.792727  ...   \n",
              "12           0.790379           0.793427           0.792727  ...   \n",
              "13           0.790379           0.793427           0.792727  ...   \n",
              "14           0.790379           0.793427           0.792727  ...   \n",
              "\n",
              "    mean_test_score  std_test_score  rank_test_score  split0_train_score  \\\n",
              "0          0.791223        0.001893                4            0.791608   \n",
              "1          0.791362        0.001863                2            0.791748   \n",
              "2          0.791390        0.001863                1            0.791713   \n",
              "3          0.791195        0.001750                5            0.791678   \n",
              "4          0.791362        0.001523                3            0.791503   \n",
              "5          0.791055        0.002217                6            0.791643   \n",
              "6          0.791055        0.002217                6            0.791643   \n",
              "7          0.791027        0.002210               15            0.791643   \n",
              "8          0.791055        0.002217                6            0.791643   \n",
              "9          0.791055        0.002217                6            0.791643   \n",
              "10         0.791055        0.002217                6            0.791643   \n",
              "11         0.791055        0.002217                6            0.791643   \n",
              "12         0.791055        0.002217                6            0.791643   \n",
              "13         0.791055        0.002217                6            0.791643   \n",
              "14         0.791055        0.002217                6            0.791643   \n",
              "\n",
              "    split1_train_score  split2_train_score  split3_train_score  \\\n",
              "0             0.791301            0.791231            0.791895   \n",
              "1             0.791056            0.791126            0.791651   \n",
              "2             0.791056            0.791546            0.791546   \n",
              "3             0.791231            0.791616            0.791825   \n",
              "4             0.791161            0.791406            0.791825   \n",
              "5             0.790812            0.791301            0.791860   \n",
              "6             0.790812            0.791301            0.791860   \n",
              "7             0.790812            0.791301            0.791860   \n",
              "8             0.790812            0.791301            0.791860   \n",
              "9             0.790812            0.791301            0.791860   \n",
              "10            0.790812            0.791301            0.791860   \n",
              "11            0.790812            0.791301            0.791860   \n",
              "12            0.790812            0.791301            0.791860   \n",
              "13            0.790812            0.791301            0.791860   \n",
              "14            0.790812            0.791301            0.791860   \n",
              "\n",
              "    split4_train_score  mean_train_score  std_train_score  \n",
              "0             0.792105          0.791628         0.000336  \n",
              "1             0.792035          0.791523         0.000375  \n",
              "2             0.791965          0.791565         0.000297  \n",
              "3             0.791756          0.791621         0.000207  \n",
              "4             0.792035          0.791586         0.000309  \n",
              "5             0.791895          0.791502         0.000405  \n",
              "6             0.791895          0.791502         0.000405  \n",
              "7             0.791895          0.791502         0.000405  \n",
              "8             0.791895          0.791502         0.000405  \n",
              "9             0.791895          0.791502         0.000405  \n",
              "10            0.791895          0.791502         0.000405  \n",
              "11            0.791895          0.791502         0.000405  \n",
              "12            0.791895          0.791502         0.000405  \n",
              "13            0.791895          0.791502         0.000405  \n",
              "14            0.791895          0.791502         0.000405  \n",
              "\n",
              "[15 rows x 22 columns]"
            ],
            "text/html": [
              "\n",
              "  <div id=\"df-77b1b828-2d6b-438b-94d1-606509d8380e\">\n",
              "    <div class=\"colab-df-container\">\n",
              "      <div>\n",
              "<style scoped>\n",
              "    .dataframe tbody tr th:only-of-type {\n",
              "        vertical-align: middle;\n",
              "    }\n",
              "\n",
              "    .dataframe tbody tr th {\n",
              "        vertical-align: top;\n",
              "    }\n",
              "\n",
              "    .dataframe thead th {\n",
              "        text-align: right;\n",
              "    }\n",
              "</style>\n",
              "<table border=\"1\" class=\"dataframe\">\n",
              "  <thead>\n",
              "    <tr style=\"text-align: right;\">\n",
              "      <th></th>\n",
              "      <th>mean_fit_time</th>\n",
              "      <th>std_fit_time</th>\n",
              "      <th>mean_score_time</th>\n",
              "      <th>std_score_time</th>\n",
              "      <th>param_mdl__C</th>\n",
              "      <th>param_mdl__l1_ratio</th>\n",
              "      <th>params</th>\n",
              "      <th>split0_test_score</th>\n",
              "      <th>split1_test_score</th>\n",
              "      <th>split2_test_score</th>\n",
              "      <th>...</th>\n",
              "      <th>mean_test_score</th>\n",
              "      <th>std_test_score</th>\n",
              "      <th>rank_test_score</th>\n",
              "      <th>split0_train_score</th>\n",
              "      <th>split1_train_score</th>\n",
              "      <th>split2_train_score</th>\n",
              "      <th>split3_train_score</th>\n",
              "      <th>split4_train_score</th>\n",
              "      <th>mean_train_score</th>\n",
              "      <th>std_train_score</th>\n",
              "    </tr>\n",
              "  </thead>\n",
              "  <tbody>\n",
              "    <tr>\n",
              "      <th>0</th>\n",
              "      <td>0.136261</td>\n",
              "      <td>0.006309</td>\n",
              "      <td>0.019543</td>\n",
              "      <td>0.003926</td>\n",
              "      <td>0.1</td>\n",
              "      <td>0.0</td>\n",
              "      <td>{'mdl__C': 0.1, 'mdl__l1_ratio': 0.0}</td>\n",
              "      <td>0.791638</td>\n",
              "      <td>0.792727</td>\n",
              "      <td>0.792587</td>\n",
              "      <td>...</td>\n",
              "      <td>0.791223</td>\n",
              "      <td>0.001893</td>\n",
              "      <td>4</td>\n",
              "      <td>0.791608</td>\n",
              "      <td>0.791301</td>\n",
              "      <td>0.791231</td>\n",
              "      <td>0.791895</td>\n",
              "      <td>0.792105</td>\n",
              "      <td>0.791628</td>\n",
              "      <td>0.000336</td>\n",
              "    </tr>\n",
              "    <tr>\n",
              "      <th>1</th>\n",
              "      <td>0.193105</td>\n",
              "      <td>0.012112</td>\n",
              "      <td>0.017599</td>\n",
              "      <td>0.000559</td>\n",
              "      <td>0.1</td>\n",
              "      <td>0.25</td>\n",
              "      <td>{'mdl__C': 0.1, 'mdl__l1_ratio': 0.25}</td>\n",
              "      <td>0.791498</td>\n",
              "      <td>0.793287</td>\n",
              "      <td>0.792308</td>\n",
              "      <td>...</td>\n",
              "      <td>0.791362</td>\n",
              "      <td>0.001863</td>\n",
              "      <td>2</td>\n",
              "      <td>0.791748</td>\n",
              "      <td>0.791056</td>\n",
              "      <td>0.791126</td>\n",
              "      <td>0.791651</td>\n",
              "      <td>0.792035</td>\n",
              "      <td>0.791523</td>\n",
              "      <td>0.000375</td>\n",
              "    </tr>\n",
              "    <tr>\n",
              "      <th>2</th>\n",
              "      <td>0.177698</td>\n",
              "      <td>0.007697</td>\n",
              "      <td>0.017393</td>\n",
              "      <td>0.000287</td>\n",
              "      <td>0.1</td>\n",
              "      <td>0.5</td>\n",
              "      <td>{'mdl__C': 0.1, 'mdl__l1_ratio': 0.5}</td>\n",
              "      <td>0.792197</td>\n",
              "      <td>0.793287</td>\n",
              "      <td>0.792028</td>\n",
              "      <td>...</td>\n",
              "      <td>0.791390</td>\n",
              "      <td>0.001863</td>\n",
              "      <td>1</td>\n",
              "      <td>0.791713</td>\n",
              "      <td>0.791056</td>\n",
              "      <td>0.791546</td>\n",
              "      <td>0.791546</td>\n",
              "      <td>0.791965</td>\n",
              "      <td>0.791565</td>\n",
              "      <td>0.000297</td>\n",
              "    </tr>\n",
              "    <tr>\n",
              "      <th>3</th>\n",
              "      <td>0.174488</td>\n",
              "      <td>0.007126</td>\n",
              "      <td>0.017226</td>\n",
              "      <td>0.000285</td>\n",
              "      <td>0.1</td>\n",
              "      <td>0.75</td>\n",
              "      <td>{'mdl__C': 0.1, 'mdl__l1_ratio': 0.75}</td>\n",
              "      <td>0.791498</td>\n",
              "      <td>0.792867</td>\n",
              "      <td>0.792168</td>\n",
              "      <td>...</td>\n",
              "      <td>0.791195</td>\n",
              "      <td>0.001750</td>\n",
              "      <td>5</td>\n",
              "      <td>0.791678</td>\n",
              "      <td>0.791231</td>\n",
              "      <td>0.791616</td>\n",
              "      <td>0.791825</td>\n",
              "      <td>0.791756</td>\n",
              "      <td>0.791621</td>\n",
              "      <td>0.000207</td>\n",
              "    </tr>\n",
              "    <tr>\n",
              "      <th>4</th>\n",
              "      <td>0.155157</td>\n",
              "      <td>0.005630</td>\n",
              "      <td>0.018308</td>\n",
              "      <td>0.001289</td>\n",
              "      <td>0.1</td>\n",
              "      <td>1.0</td>\n",
              "      <td>{'mdl__C': 0.1, 'mdl__l1_ratio': 1.0}</td>\n",
              "      <td>0.792057</td>\n",
              "      <td>0.792727</td>\n",
              "      <td>0.791888</td>\n",
              "      <td>...</td>\n",
              "      <td>0.791362</td>\n",
              "      <td>0.001523</td>\n",
              "      <td>3</td>\n",
              "      <td>0.791503</td>\n",
              "      <td>0.791161</td>\n",
              "      <td>0.791406</td>\n",
              "      <td>0.791825</td>\n",
              "      <td>0.792035</td>\n",
              "      <td>0.791586</td>\n",
              "      <td>0.000309</td>\n",
              "    </tr>\n",
              "    <tr>\n",
              "      <th>5</th>\n",
              "      <td>0.267818</td>\n",
              "      <td>0.030584</td>\n",
              "      <td>0.017598</td>\n",
              "      <td>0.000282</td>\n",
              "      <td>316.227766</td>\n",
              "      <td>0.0</td>\n",
              "      <td>{'mdl__C': 316.22776601683796, 'mdl__l1_ratio'...</td>\n",
              "      <td>0.790379</td>\n",
              "      <td>0.793427</td>\n",
              "      <td>0.792727</td>\n",
              "      <td>...</td>\n",
              "      <td>0.791055</td>\n",
              "      <td>0.002217</td>\n",
              "      <td>6</td>\n",
              "      <td>0.791643</td>\n",
              "      <td>0.790812</td>\n",
              "      <td>0.791301</td>\n",
              "      <td>0.791860</td>\n",
              "      <td>0.791895</td>\n",
              "      <td>0.791502</td>\n",
              "      <td>0.000405</td>\n",
              "    </tr>\n",
              "    <tr>\n",
              "      <th>6</th>\n",
              "      <td>0.534296</td>\n",
              "      <td>0.066245</td>\n",
              "      <td>0.017754</td>\n",
              "      <td>0.000537</td>\n",
              "      <td>316.227766</td>\n",
              "      <td>0.25</td>\n",
              "      <td>{'mdl__C': 316.22776601683796, 'mdl__l1_ratio'...</td>\n",
              "      <td>0.790379</td>\n",
              "      <td>0.793427</td>\n",
              "      <td>0.792727</td>\n",
              "      <td>...</td>\n",
              "      <td>0.791055</td>\n",
              "      <td>0.002217</td>\n",
              "      <td>6</td>\n",
              "      <td>0.791643</td>\n",
              "      <td>0.790812</td>\n",
              "      <td>0.791301</td>\n",
              "      <td>0.791860</td>\n",
              "      <td>0.791895</td>\n",
              "      <td>0.791502</td>\n",
              "      <td>0.000405</td>\n",
              "    </tr>\n",
              "    <tr>\n",
              "      <th>7</th>\n",
              "      <td>0.551739</td>\n",
              "      <td>0.066842</td>\n",
              "      <td>0.018038</td>\n",
              "      <td>0.000985</td>\n",
              "      <td>316.227766</td>\n",
              "      <td>0.5</td>\n",
              "      <td>{'mdl__C': 316.22776601683796, 'mdl__l1_ratio'...</td>\n",
              "      <td>0.790379</td>\n",
              "      <td>0.793427</td>\n",
              "      <td>0.792727</td>\n",
              "      <td>...</td>\n",
              "      <td>0.791027</td>\n",
              "      <td>0.002210</td>\n",
              "      <td>15</td>\n",
              "      <td>0.791643</td>\n",
              "      <td>0.790812</td>\n",
              "      <td>0.791301</td>\n",
              "      <td>0.791860</td>\n",
              "      <td>0.791895</td>\n",
              "      <td>0.791502</td>\n",
              "      <td>0.000405</td>\n",
              "    </tr>\n",
              "    <tr>\n",
              "      <th>8</th>\n",
              "      <td>0.506110</td>\n",
              "      <td>0.058219</td>\n",
              "      <td>0.017336</td>\n",
              "      <td>0.000305</td>\n",
              "      <td>316.227766</td>\n",
              "      <td>0.75</td>\n",
              "      <td>{'mdl__C': 316.22776601683796, 'mdl__l1_ratio'...</td>\n",
              "      <td>0.790379</td>\n",
              "      <td>0.793427</td>\n",
              "      <td>0.792727</td>\n",
              "      <td>...</td>\n",
              "      <td>0.791055</td>\n",
              "      <td>0.002217</td>\n",
              "      <td>6</td>\n",
              "      <td>0.791643</td>\n",
              "      <td>0.790812</td>\n",
              "      <td>0.791301</td>\n",
              "      <td>0.791860</td>\n",
              "      <td>0.791895</td>\n",
              "      <td>0.791502</td>\n",
              "      <td>0.000405</td>\n",
              "    </tr>\n",
              "    <tr>\n",
              "      <th>9</th>\n",
              "      <td>0.510964</td>\n",
              "      <td>0.065354</td>\n",
              "      <td>0.018221</td>\n",
              "      <td>0.000850</td>\n",
              "      <td>316.227766</td>\n",
              "      <td>1.0</td>\n",
              "      <td>{'mdl__C': 316.22776601683796, 'mdl__l1_ratio'...</td>\n",
              "      <td>0.790379</td>\n",
              "      <td>0.793427</td>\n",
              "      <td>0.792727</td>\n",
              "      <td>...</td>\n",
              "      <td>0.791055</td>\n",
              "      <td>0.002217</td>\n",
              "      <td>6</td>\n",
              "      <td>0.791643</td>\n",
              "      <td>0.790812</td>\n",
              "      <td>0.791301</td>\n",
              "      <td>0.791860</td>\n",
              "      <td>0.791895</td>\n",
              "      <td>0.791502</td>\n",
              "      <td>0.000405</td>\n",
              "    </tr>\n",
              "    <tr>\n",
              "      <th>10</th>\n",
              "      <td>0.283513</td>\n",
              "      <td>0.030037</td>\n",
              "      <td>0.018003</td>\n",
              "      <td>0.000553</td>\n",
              "      <td>1000000.0</td>\n",
              "      <td>0.0</td>\n",
              "      <td>{'mdl__C': 1000000.0, 'mdl__l1_ratio': 0.0}</td>\n",
              "      <td>0.790379</td>\n",
              "      <td>0.793427</td>\n",
              "      <td>0.792727</td>\n",
              "      <td>...</td>\n",
              "      <td>0.791055</td>\n",
              "      <td>0.002217</td>\n",
              "      <td>6</td>\n",
              "      <td>0.791643</td>\n",
              "      <td>0.790812</td>\n",
              "      <td>0.791301</td>\n",
              "      <td>0.791860</td>\n",
              "      <td>0.791895</td>\n",
              "      <td>0.791502</td>\n",
              "      <td>0.000405</td>\n",
              "    </tr>\n",
              "    <tr>\n",
              "      <th>11</th>\n",
              "      <td>0.568542</td>\n",
              "      <td>0.084705</td>\n",
              "      <td>0.017532</td>\n",
              "      <td>0.000299</td>\n",
              "      <td>1000000.0</td>\n",
              "      <td>0.25</td>\n",
              "      <td>{'mdl__C': 1000000.0, 'mdl__l1_ratio': 0.25}</td>\n",
              "      <td>0.790379</td>\n",
              "      <td>0.793427</td>\n",
              "      <td>0.792727</td>\n",
              "      <td>...</td>\n",
              "      <td>0.791055</td>\n",
              "      <td>0.002217</td>\n",
              "      <td>6</td>\n",
              "      <td>0.791643</td>\n",
              "      <td>0.790812</td>\n",
              "      <td>0.791301</td>\n",
              "      <td>0.791860</td>\n",
              "      <td>0.791895</td>\n",
              "      <td>0.791502</td>\n",
              "      <td>0.000405</td>\n",
              "    </tr>\n",
              "    <tr>\n",
              "      <th>12</th>\n",
              "      <td>0.583454</td>\n",
              "      <td>0.090540</td>\n",
              "      <td>0.017925</td>\n",
              "      <td>0.001107</td>\n",
              "      <td>1000000.0</td>\n",
              "      <td>0.5</td>\n",
              "      <td>{'mdl__C': 1000000.0, 'mdl__l1_ratio': 0.5}</td>\n",
              "      <td>0.790379</td>\n",
              "      <td>0.793427</td>\n",
              "      <td>0.792727</td>\n",
              "      <td>...</td>\n",
              "      <td>0.791055</td>\n",
              "      <td>0.002217</td>\n",
              "      <td>6</td>\n",
              "      <td>0.791643</td>\n",
              "      <td>0.790812</td>\n",
              "      <td>0.791301</td>\n",
              "      <td>0.791860</td>\n",
              "      <td>0.791895</td>\n",
              "      <td>0.791502</td>\n",
              "      <td>0.000405</td>\n",
              "    </tr>\n",
              "    <tr>\n",
              "      <th>13</th>\n",
              "      <td>0.582731</td>\n",
              "      <td>0.075978</td>\n",
              "      <td>0.017560</td>\n",
              "      <td>0.000315</td>\n",
              "      <td>1000000.0</td>\n",
              "      <td>0.75</td>\n",
              "      <td>{'mdl__C': 1000000.0, 'mdl__l1_ratio': 0.75}</td>\n",
              "      <td>0.790379</td>\n",
              "      <td>0.793427</td>\n",
              "      <td>0.792727</td>\n",
              "      <td>...</td>\n",
              "      <td>0.791055</td>\n",
              "      <td>0.002217</td>\n",
              "      <td>6</td>\n",
              "      <td>0.791643</td>\n",
              "      <td>0.790812</td>\n",
              "      <td>0.791301</td>\n",
              "      <td>0.791860</td>\n",
              "      <td>0.791895</td>\n",
              "      <td>0.791502</td>\n",
              "      <td>0.000405</td>\n",
              "    </tr>\n",
              "    <tr>\n",
              "      <th>14</th>\n",
              "      <td>0.565376</td>\n",
              "      <td>0.069621</td>\n",
              "      <td>0.017489</td>\n",
              "      <td>0.000188</td>\n",
              "      <td>1000000.0</td>\n",
              "      <td>1.0</td>\n",
              "      <td>{'mdl__C': 1000000.0, 'mdl__l1_ratio': 1.0}</td>\n",
              "      <td>0.790379</td>\n",
              "      <td>0.793427</td>\n",
              "      <td>0.792727</td>\n",
              "      <td>...</td>\n",
              "      <td>0.791055</td>\n",
              "      <td>0.002217</td>\n",
              "      <td>6</td>\n",
              "      <td>0.791643</td>\n",
              "      <td>0.790812</td>\n",
              "      <td>0.791301</td>\n",
              "      <td>0.791860</td>\n",
              "      <td>0.791895</td>\n",
              "      <td>0.791502</td>\n",
              "      <td>0.000405</td>\n",
              "    </tr>\n",
              "  </tbody>\n",
              "</table>\n",
              "<p>15 rows × 22 columns</p>\n",
              "</div>\n",
              "      <button class=\"colab-df-convert\" onclick=\"convertToInteractive('df-77b1b828-2d6b-438b-94d1-606509d8380e')\"\n",
              "              title=\"Convert this dataframe to an interactive table.\"\n",
              "              style=\"display:none;\">\n",
              "        \n",
              "  <svg xmlns=\"http://www.w3.org/2000/svg\" height=\"24px\"viewBox=\"0 0 24 24\"\n",
              "       width=\"24px\">\n",
              "    <path d=\"M0 0h24v24H0V0z\" fill=\"none\"/>\n",
              "    <path d=\"M18.56 5.44l.94 2.06.94-2.06 2.06-.94-2.06-.94-.94-2.06-.94 2.06-2.06.94zm-11 1L8.5 8.5l.94-2.06 2.06-.94-2.06-.94L8.5 2.5l-.94 2.06-2.06.94zm10 10l.94 2.06.94-2.06 2.06-.94-2.06-.94-.94-2.06-.94 2.06-2.06.94z\"/><path d=\"M17.41 7.96l-1.37-1.37c-.4-.4-.92-.59-1.43-.59-.52 0-1.04.2-1.43.59L10.3 9.45l-7.72 7.72c-.78.78-.78 2.05 0 2.83L4 21.41c.39.39.9.59 1.41.59.51 0 1.02-.2 1.41-.59l7.78-7.78 2.81-2.81c.8-.78.8-2.07 0-2.86zM5.41 20L4 18.59l7.72-7.72 1.47 1.35L5.41 20z\"/>\n",
              "  </svg>\n",
              "      </button>\n",
              "      \n",
              "  <style>\n",
              "    .colab-df-container {\n",
              "      display:flex;\n",
              "      flex-wrap:wrap;\n",
              "      gap: 12px;\n",
              "    }\n",
              "\n",
              "    .colab-df-convert {\n",
              "      background-color: #E8F0FE;\n",
              "      border: none;\n",
              "      border-radius: 50%;\n",
              "      cursor: pointer;\n",
              "      display: none;\n",
              "      fill: #1967D2;\n",
              "      height: 32px;\n",
              "      padding: 0 0 0 0;\n",
              "      width: 32px;\n",
              "    }\n",
              "\n",
              "    .colab-df-convert:hover {\n",
              "      background-color: #E2EBFA;\n",
              "      box-shadow: 0px 1px 2px rgba(60, 64, 67, 0.3), 0px 1px 3px 1px rgba(60, 64, 67, 0.15);\n",
              "      fill: #174EA6;\n",
              "    }\n",
              "\n",
              "    [theme=dark] .colab-df-convert {\n",
              "      background-color: #3B4455;\n",
              "      fill: #D2E3FC;\n",
              "    }\n",
              "\n",
              "    [theme=dark] .colab-df-convert:hover {\n",
              "      background-color: #434B5C;\n",
              "      box-shadow: 0px 1px 3px 1px rgba(0, 0, 0, 0.15);\n",
              "      filter: drop-shadow(0px 1px 2px rgba(0, 0, 0, 0.3));\n",
              "      fill: #FFFFFF;\n",
              "    }\n",
              "  </style>\n",
              "\n",
              "      <script>\n",
              "        const buttonEl =\n",
              "          document.querySelector('#df-77b1b828-2d6b-438b-94d1-606509d8380e button.colab-df-convert');\n",
              "        buttonEl.style.display =\n",
              "          google.colab.kernel.accessAllowed ? 'block' : 'none';\n",
              "\n",
              "        async function convertToInteractive(key) {\n",
              "          const element = document.querySelector('#df-77b1b828-2d6b-438b-94d1-606509d8380e');\n",
              "          const dataTable =\n",
              "            await google.colab.kernel.invokeFunction('convertToInteractive',\n",
              "                                                     [key], {});\n",
              "          if (!dataTable) return;\n",
              "\n",
              "          const docLinkHtml = 'Like what you see? Visit the ' +\n",
              "            '<a target=\"_blank\" href=https://colab.research.google.com/notebooks/data_table.ipynb>data table notebook</a>'\n",
              "            + ' to learn more about interactive tables.';\n",
              "          element.innerHTML = '';\n",
              "          dataTable['output_type'] = 'display_data';\n",
              "          await google.colab.output.renderOutput(dataTable, element);\n",
              "          const docLink = document.createElement('div');\n",
              "          docLink.innerHTML = docLinkHtml;\n",
              "          element.appendChild(docLink);\n",
              "        }\n",
              "      </script>\n",
              "    </div>\n",
              "  </div>\n",
              "  "
            ]
          },
          "metadata": {},
          "execution_count": 219
        }
      ]
    },
    {
      "cell_type": "markdown",
      "source": [
        "### Random Forest Classifier"
      ],
      "metadata": {
        "id": "vlEV8SIsGU61"
      }
    },
    {
      "cell_type": "code",
      "source": [
        "tuning_grid_rf = param_grid = {'rf__n_estimators': [10, 50],\n",
        "                                        'rf__max_features': ['auto', 'sqrt', 'log2'],\n",
        "                                        'rf__max_depth' : [4,5,6],\n",
        "                                        'rf__criterion' :['gini', 'entropy']\n",
        "                                       }\n",
        "grid_search_rf = GridSearchCV(pipe_rf, param_grid = tuning_grid_rf, cv = 5, return_train_score=True)"
      ],
      "metadata": {
        "id": "KFh4yZJ1GY5m"
      },
      "execution_count": 220,
      "outputs": []
    },
    {
      "cell_type": "code",
      "source": [
        "grid_search_rf.fit(X_train, Y_train)"
      ],
      "metadata": {
        "colab": {
          "base_uri": "https://localhost:8080/"
        },
        "id": "lTMgBv2rGbER",
        "outputId": "6bcd4e34-44c5-49e5-a041-02a83bea8d98"
      },
      "execution_count": 221,
      "outputs": [
        {
          "output_type": "execute_result",
          "data": {
            "text/plain": [
              "GridSearchCV(cv=5,\n",
              "             estimator=Pipeline(steps=[('preproc',\n",
              "                                        ColumnTransformer(remainder='passthrough',\n",
              "                                                          transformers=[('cat_pipe',\n",
              "                                                                         Pipeline(steps=[('cat_impute',\n",
              "                                                                                          SimpleImputer(strategy='most_frequent')),\n",
              "                                                                                         ('onehot_cat',\n",
              "                                                                                          OneHotEncoder(drop='if_binary'))]),\n",
              "                                                                         <sklearn.compose._column_transformer.make_column_selector object at 0x7fc779791d90>),\n",
              "                                                                        ('num_pipe',\n",
              "                                                                         Pipeline(steps=[('impute_num',\n",
              "                                                                                          SimpleImputer()),\n",
              "                                                                                         ('scale_num',\n",
              "                                                                                          StandardScaler())]),\n",
              "                                                                         <sklearn.compose._column_transformer.make_column_selector object at 0x7fc779791dd0>)])),\n",
              "                                       ('rf', RandomForestClassifier())]),\n",
              "             param_grid={'rf__criterion': ['gini', 'entropy'],\n",
              "                         'rf__max_depth': [4, 5, 6],\n",
              "                         'rf__max_features': ['auto', 'sqrt', 'log2'],\n",
              "                         'rf__n_estimators': [10, 50]},\n",
              "             return_train_score=True)"
            ]
          },
          "metadata": {},
          "execution_count": 221
        }
      ]
    },
    {
      "cell_type": "code",
      "source": [
        "pipe_rf.fit(X_train, Y_train)"
      ],
      "metadata": {
        "colab": {
          "base_uri": "https://localhost:8080/"
        },
        "id": "VI52k8L2GfuS",
        "outputId": "26c17222-6312-4ce5-9964-cda74ea7dcbb"
      },
      "execution_count": 222,
      "outputs": [
        {
          "output_type": "execute_result",
          "data": {
            "text/plain": [
              "Pipeline(steps=[('preproc',\n",
              "                 ColumnTransformer(remainder='passthrough',\n",
              "                                   transformers=[('cat_pipe',\n",
              "                                                  Pipeline(steps=[('cat_impute',\n",
              "                                                                   SimpleImputer(strategy='most_frequent')),\n",
              "                                                                  ('onehot_cat',\n",
              "                                                                   OneHotEncoder(drop='if_binary'))]),\n",
              "                                                  <sklearn.compose._column_transformer.make_column_selector object at 0x7fc779791d90>),\n",
              "                                                 ('num_pipe',\n",
              "                                                  Pipeline(steps=[('impute_num',\n",
              "                                                                   SimpleImputer()),\n",
              "                                                                  ('scale_num',\n",
              "                                                                   StandardScaler())]),\n",
              "                                                  <sklearn.compose._column_transformer.make_column_selector object at 0x7fc779791dd0>)])),\n",
              "                ('rf', RandomForestClassifier())])"
            ]
          },
          "metadata": {},
          "execution_count": 222
        }
      ]
    },
    {
      "cell_type": "code",
      "source": [
        "grid_search_rf.best_params_"
      ],
      "metadata": {
        "colab": {
          "base_uri": "https://localhost:8080/"
        },
        "id": "nPbbxCypGmgK",
        "outputId": "cf74f5d9-2aa9-44ad-de0c-447a11054293"
      },
      "execution_count": 223,
      "outputs": [
        {
          "output_type": "execute_result",
          "data": {
            "text/plain": [
              "{'rf__criterion': 'gini',\n",
              " 'rf__max_depth': 6,\n",
              " 'rf__max_features': 'sqrt',\n",
              " 'rf__n_estimators': 50}"
            ]
          },
          "metadata": {},
          "execution_count": 223
        }
      ]
    },
    {
      "cell_type": "code",
      "source": [
        "print(grid_search_rf.best_score_)"
      ],
      "metadata": {
        "colab": {
          "base_uri": "https://localhost:8080/"
        },
        "id": "8td7yeSmGoDu",
        "outputId": "3edda541-31d2-4034-c6dc-3afe2652ccf1"
      },
      "execution_count": 224,
      "outputs": [
        {
          "output_type": "stream",
          "name": "stdout",
          "text": [
            "0.7904394143124389\n"
          ]
        }
      ]
    },
    {
      "cell_type": "markdown",
      "source": [
        "### Gradient Boosting Classifier"
      ],
      "metadata": {
        "id": "B761CNS9Gumg"
      }
    },
    {
      "cell_type": "code",
      "source": [
        "tuning_grid_gb = param_grid = {'gbc__learning_rate': [1, 0.5, 0.25],\n",
        "                                       'gbc__n_estimators': [64, 128, 256],\n",
        "                                       'gbc__max_depth': [2, 4],\n",
        "                                       'gbc__min_samples_split': [2, 4]\n",
        "                                      }\n",
        "grid_search_gb = GridSearchCV(pipe_gb, param_grid = tuning_grid_gb, cv = 5, return_train_score=True)"
      ],
      "metadata": {
        "id": "jTa3qYxXGxxU"
      },
      "execution_count": 225,
      "outputs": []
    },
    {
      "cell_type": "code",
      "source": [
        "grid_search_gb.fit(X_train, Y_train)"
      ],
      "metadata": {
        "colab": {
          "base_uri": "https://localhost:8080/"
        },
        "id": "QvdLUefcGyic",
        "outputId": "2a874edc-021a-416b-8db0-ef5f37bd1de2"
      },
      "execution_count": 226,
      "outputs": [
        {
          "output_type": "execute_result",
          "data": {
            "text/plain": [
              "GridSearchCV(cv=5,\n",
              "             estimator=Pipeline(steps=[('preproc',\n",
              "                                        ColumnTransformer(remainder='passthrough',\n",
              "                                                          transformers=[('cat_pipe',\n",
              "                                                                         Pipeline(steps=[('cat_impute',\n",
              "                                                                                          SimpleImputer(strategy='most_frequent')),\n",
              "                                                                                         ('onehot_cat',\n",
              "                                                                                          OneHotEncoder(drop='if_binary'))]),\n",
              "                                                                         <sklearn.compose._column_transformer.make_column_selector object at 0x7fc779791d90>),\n",
              "                                                                        ('num_pipe',\n",
              "                                                                         Pipeline(steps=[('impute_num',\n",
              "                                                                                          SimpleImputer()),\n",
              "                                                                                         ('scale_num',\n",
              "                                                                                          StandardScaler())]),\n",
              "                                                                         <sklearn.compose._column_transformer.make_column_selector object at 0x7fc779791dd0>)])),\n",
              "                                       ('gbc', GradientBoostingClassifier())]),\n",
              "             param_grid={'gbc__learning_rate': [1, 0.5, 0.25],\n",
              "                         'gbc__max_depth': [2, 4],\n",
              "                         'gbc__min_samples_split': [2, 4],\n",
              "                         'gbc__n_estimators': [64, 128, 256]},\n",
              "             return_train_score=True)"
            ]
          },
          "metadata": {},
          "execution_count": 226
        }
      ]
    },
    {
      "cell_type": "code",
      "source": [
        "pipe_gb.fit(X_train, Y_train)"
      ],
      "metadata": {
        "colab": {
          "base_uri": "https://localhost:8080/"
        },
        "id": "oODRxFfQG1qS",
        "outputId": "0f432d68-fdf0-41dc-9423-327814a3a9dc"
      },
      "execution_count": 227,
      "outputs": [
        {
          "output_type": "execute_result",
          "data": {
            "text/plain": [
              "Pipeline(steps=[('preproc',\n",
              "                 ColumnTransformer(remainder='passthrough',\n",
              "                                   transformers=[('cat_pipe',\n",
              "                                                  Pipeline(steps=[('cat_impute',\n",
              "                                                                   SimpleImputer(strategy='most_frequent')),\n",
              "                                                                  ('onehot_cat',\n",
              "                                                                   OneHotEncoder(drop='if_binary'))]),\n",
              "                                                  <sklearn.compose._column_transformer.make_column_selector object at 0x7fc779791d90>),\n",
              "                                                 ('num_pipe',\n",
              "                                                  Pipeline(steps=[('impute_num',\n",
              "                                                                   SimpleImputer()),\n",
              "                                                                  ('scale_num',\n",
              "                                                                   StandardScaler())]),\n",
              "                                                  <sklearn.compose._column_transformer.make_column_selector object at 0x7fc779791dd0>)])),\n",
              "                ('gbc', GradientBoostingClassifier())])"
            ]
          },
          "metadata": {},
          "execution_count": 227
        }
      ]
    },
    {
      "cell_type": "code",
      "source": [
        "grid_search_gb.best_params_"
      ],
      "metadata": {
        "colab": {
          "base_uri": "https://localhost:8080/"
        },
        "id": "VhH4ZAfsG5L9",
        "outputId": "b8dc1ff9-4226-4b1d-c90a-1d72390ba7df"
      },
      "execution_count": 228,
      "outputs": [
        {
          "output_type": "execute_result",
          "data": {
            "text/plain": [
              "{'gbc__learning_rate': 0.25,\n",
              " 'gbc__max_depth': 2,\n",
              " 'gbc__min_samples_split': 2,\n",
              " 'gbc__n_estimators': 64}"
            ]
          },
          "metadata": {},
          "execution_count": 228
        }
      ]
    },
    {
      "cell_type": "code",
      "source": [
        "print(grid_search_gb.best_score_)"
      ],
      "metadata": {
        "colab": {
          "base_uri": "https://localhost:8080/"
        },
        "id": "XAHiWeePG6en",
        "outputId": "3c500c91-309e-4f93-8f90-623704b0098b"
      },
      "execution_count": 229,
      "outputs": [
        {
          "output_type": "stream",
          "name": "stdout",
          "text": [
            "0.7920337651440993\n"
          ]
        }
      ]
    },
    {
      "cell_type": "markdown",
      "source": [
        "## Final fit"
      ],
      "metadata": {
        "id": "BK30kkzFG8vo"
      }
    },
    {
      "cell_type": "markdown",
      "source": [
        "The final fit here is already present in the generated model due to the way we set our parameters in the grid search. If we want to look at the performance, we can do so. Here is a non-helpful description of the best model:"
      ],
      "metadata": {
        "id": "_rgaDkBwHAg6"
      }
    },
    {
      "cell_type": "markdown",
      "source": [
        "### Logistic Regression"
      ],
      "metadata": {
        "id": "Gh74gnAMHCSJ"
      }
    },
    {
      "cell_type": "code",
      "source": [
        "grid_search_lg.best_estimator_"
      ],
      "metadata": {
        "colab": {
          "base_uri": "https://localhost:8080/"
        },
        "id": "KpTBms2YHFZH",
        "outputId": "02aad0b9-e8f0-4533-d99e-ac62a578444f"
      },
      "execution_count": 230,
      "outputs": [
        {
          "output_type": "execute_result",
          "data": {
            "text/plain": [
              "Pipeline(steps=[('preproc',\n",
              "                 ColumnTransformer(remainder='passthrough',\n",
              "                                   transformers=[('cat_pipe',\n",
              "                                                  Pipeline(steps=[('cat_impute',\n",
              "                                                                   SimpleImputer(strategy='most_frequent')),\n",
              "                                                                  ('onehot_cat',\n",
              "                                                                   OneHotEncoder(drop='if_binary'))]),\n",
              "                                                  <sklearn.compose._column_transformer.make_column_selector object at 0x7fc779a6a0d0>),\n",
              "                                                 ('num_pipe',\n",
              "                                                  Pipeline(steps=[('impute_num',\n",
              "                                                                   SimpleImputer()),\n",
              "                                                                  ('scale_num',\n",
              "                                                                   StandardScaler())]),\n",
              "                                                  <sklearn.compose._column_transformer.make_column_selector object at 0x7fc7797c8990>)])),\n",
              "                ('mdl',\n",
              "                 LogisticRegression(C=0.1, l1_ratio=0.5, penalty='elasticnet',\n",
              "                                    solver='saga', tol=0.01))])"
            ]
          },
          "metadata": {},
          "execution_count": 230
        }
      ]
    },
    {
      "cell_type": "markdown",
      "source": [
        "### Random Forest Classifier"
      ],
      "metadata": {
        "id": "i_orSacpHJZg"
      }
    },
    {
      "cell_type": "code",
      "source": [
        "grid_search_rf.best_estimator_"
      ],
      "metadata": {
        "colab": {
          "base_uri": "https://localhost:8080/"
        },
        "id": "0LoPElL6HMMg",
        "outputId": "f8595600-a79d-47b5-9b84-65de67566a71"
      },
      "execution_count": 231,
      "outputs": [
        {
          "output_type": "execute_result",
          "data": {
            "text/plain": [
              "Pipeline(steps=[('preproc',\n",
              "                 ColumnTransformer(remainder='passthrough',\n",
              "                                   transformers=[('cat_pipe',\n",
              "                                                  Pipeline(steps=[('cat_impute',\n",
              "                                                                   SimpleImputer(strategy='most_frequent')),\n",
              "                                                                  ('onehot_cat',\n",
              "                                                                   OneHotEncoder(drop='if_binary'))]),\n",
              "                                                  <sklearn.compose._column_transformer.make_column_selector object at 0x7fc779aaecd0>),\n",
              "                                                 ('num_pipe',\n",
              "                                                  Pipeline(steps=[('impute_num',\n",
              "                                                                   SimpleImputer()),\n",
              "                                                                  ('scale_num',\n",
              "                                                                   StandardScaler())]),\n",
              "                                                  <sklearn.compose._column_transformer.make_column_selector object at 0x7fc7797a3d90>)])),\n",
              "                ('rf',\n",
              "                 RandomForestClassifier(max_depth=6, max_features='sqrt',\n",
              "                                        n_estimators=50))])"
            ]
          },
          "metadata": {},
          "execution_count": 231
        }
      ]
    },
    {
      "cell_type": "markdown",
      "source": [
        "### Gradient Boosting Classifier"
      ],
      "metadata": {
        "id": "JT27QfNfHPGW"
      }
    },
    {
      "cell_type": "code",
      "source": [
        "grid_search_gb.best_estimator_"
      ],
      "metadata": {
        "colab": {
          "base_uri": "https://localhost:8080/"
        },
        "id": "wEUHzzt_HQpq",
        "outputId": "21c370c5-f6e5-44eb-af3b-1fe753b8a8ad"
      },
      "execution_count": 232,
      "outputs": [
        {
          "output_type": "execute_result",
          "data": {
            "text/plain": [
              "Pipeline(steps=[('preproc',\n",
              "                 ColumnTransformer(remainder='passthrough',\n",
              "                                   transformers=[('cat_pipe',\n",
              "                                                  Pipeline(steps=[('cat_impute',\n",
              "                                                                   SimpleImputer(strategy='most_frequent')),\n",
              "                                                                  ('onehot_cat',\n",
              "                                                                   OneHotEncoder(drop='if_binary'))]),\n",
              "                                                  <sklearn.compose._column_transformer.make_column_selector object at 0x7fc779a2c6d0>),\n",
              "                                                 ('num_pipe',\n",
              "                                                  Pipeline(steps=[('impute_num',\n",
              "                                                                   SimpleImputer()),\n",
              "                                                                  ('scale_num',\n",
              "                                                                   StandardScaler())]),\n",
              "                                                  <sklearn.compose._column_transformer.make_column_selector object at 0x7fc779a2c3d0>)])),\n",
              "                ('gbc',\n",
              "                 GradientBoostingClassifier(learning_rate=0.25, max_depth=2,\n",
              "                                            n_estimators=64))])"
            ]
          },
          "metadata": {},
          "execution_count": 232
        }
      ]
    },
    {
      "cell_type": "markdown",
      "source": [
        "## Variable importance"
      ],
      "metadata": {
        "id": "kSdAClrYHSik"
      }
    },
    {
      "cell_type": "markdown",
      "source": [
        "Now we assess the importance in the selected model to reveal any potential insights."
      ],
      "metadata": {
        "id": "IpzILkgDHXZV"
      }
    },
    {
      "cell_type": "markdown",
      "source": [
        "### Logistic Regression"
      ],
      "metadata": {
        "id": "xYM5wYMCHZZx"
      }
    },
    {
      "cell_type": "code",
      "source": [
        "grid_search_lg.classes_"
      ],
      "metadata": {
        "colab": {
          "base_uri": "https://localhost:8080/"
        },
        "id": "D_OP3ugxHcq9",
        "outputId": "0293d555-0619-449c-b518-fa5f5f48823b"
      },
      "execution_count": 233,
      "outputs": [
        {
          "output_type": "execute_result",
          "data": {
            "text/plain": [
              "array([False,  True])"
            ]
          },
          "metadata": {},
          "execution_count": 233
        }
      ]
    },
    {
      "cell_type": "code",
      "source": [
        "vip_lg = grid_search_lg.best_estimator_['mdl'].coef_[0]\n",
        "vip_lg"
      ],
      "metadata": {
        "colab": {
          "base_uri": "https://localhost:8080/"
        },
        "id": "C6J5O06FHesZ",
        "outputId": "3858e90e-6d9c-4ba8-9a08-1bcf81f85a89"
      },
      "execution_count": 234,
      "outputs": [
        {
          "output_type": "execute_result",
          "data": {
            "text/plain": [
              "array([-7.76313978e-01, -6.07640916e-01, -6.50700735e-01, -1.31522130e+00,\n",
              "       -6.90150869e-03,  8.73609382e-01,  4.32683016e-01,  2.27149322e-01,\n",
              "        0.00000000e+00,  1.86165743e+00,  0.00000000e+00,  0.00000000e+00,\n",
              "        1.68040315e-01,  0.00000000e+00,  0.00000000e+00,  0.00000000e+00,\n",
              "       -6.76631832e-02,  0.00000000e+00,  0.00000000e+00,  0.00000000e+00,\n",
              "       -4.44134089e-03,  1.34307052e+00,  7.27762190e-04,  1.32117239e-01,\n",
              "       -1.28690919e-04, -6.57068105e-01, -6.29468112e-01, -2.48860984e-01,\n",
              "        5.99912794e-01,  0.00000000e+00,  1.84167293e+00,  0.00000000e+00,\n",
              "       -3.04755174e-01,  3.27100534e-02, -6.29790004e-02,  1.54491787e-01,\n",
              "       -2.84641849e-01,  1.48625899e-01,  2.23862518e-01,  0.00000000e+00,\n",
              "       -2.42657757e-01,  6.71041411e-01])"
            ]
          },
          "metadata": {},
          "execution_count": 234
        }
      ]
    },
    {
      "cell_type": "code",
      "source": [
        "#get names in correct preproc order\n",
        "cat_names = grid_search_lg.best_estimator_.named_steps['preproc'].transformers_[0][1].named_steps['onehot_cat'].get_feature_names_out()\n",
        "cat_names"
      ],
      "metadata": {
        "colab": {
          "base_uri": "https://localhost:8080/"
        },
        "id": "yQmSYLRjVVUx",
        "outputId": "fed5d997-011e-4ac7-d4c2-a5104c0995ed"
      },
      "execution_count": 235,
      "outputs": [
        {
          "output_type": "execute_result",
          "data": {
            "text/plain": [
              "array(['x0_ANGLE', 'x0_Front to Rear', 'x0_HEAD-ON',\n",
              "       'x0_NOT COLLISION W/MOTOR VEHICLE-TRANSPORT', 'x0_OTHER',\n",
              "       'x0_REAR-TO-REAR', 'x0_Rear to Side',\n",
              "       'x0_SIDESWIPE - OPPOSITE DIRECTION',\n",
              "       'x0_SIDESWIPE - SAME DIRECTION', 'x0_UNKNOWN', 'x0_Unknown',\n",
              "       'x1_BLOWING SNOW', 'x1_CLEAR', 'x1_CLOUDY', 'x1_FOG',\n",
              "       'x1_OTHER (NARRATIVE)', 'x1_RAIN', 'x1_SEVERE CROSSWIND',\n",
              "       'x1_SLEET, HAIL', 'x1_SMOG, SMOKE', 'x1_SNOW', 'x1_UNKNOWN',\n",
              "       'x1_Unknown', 'x2_DARK - LIGHTED', 'x2_DARK - NOT LIGHTED',\n",
              "       'x2_DAWN', 'x2_DAYLIGHT', 'x2_DUSK', 'x2_Dark-Unknown Lighting',\n",
              "       'x2_OTHER', 'x2_UNKNOWN', 'x2_Unknown', 'x3_CENTRA', 'x3_EAST',\n",
              "       'x3_HERMIT', 'x3_MADISO', 'x3_MIDTOW', 'x3_NORTH', 'x3_SOUTH',\n",
              "       'x3_Unknown', 'x3_WEST'], dtype=object)"
            ]
          },
          "metadata": {},
          "execution_count": 235
        }
      ]
    },
    {
      "cell_type": "code",
      "source": [
        "num_names = grid_search_lg.best_estimator_.named_steps['preproc'].transformers_[1][2]\n",
        "num_names"
      ],
      "metadata": {
        "colab": {
          "base_uri": "https://localhost:8080/"
        },
        "id": "fs11LIT1HiQI",
        "outputId": "21fcb501-1614-475a-86f7-6fbe95cd6242"
      },
      "execution_count": 236,
      "outputs": [
        {
          "output_type": "execute_result",
          "data": {
            "text/plain": [
              "[]"
            ]
          },
          "metadata": {},
          "execution_count": 236
        }
      ]
    },
    {
      "cell_type": "code",
      "source": [
        "#create df with vip info\n",
        "coef_info = pd.DataFrame({'feat_names':np.hstack([cat_names, num_names]), 'vip': vip_lg})\n",
        "\n",
        "#get sign and magnitude information\n",
        "coef_info = coef_info.assign(coef_mag = abs(coef_info['vip']),\n",
        "                             coef_sign = np.sign(coef_info['vip']))\n",
        "\n",
        "#sort and plot\n",
        "coef_info = coef_info.set_index('feat_names').sort_values(by='coef_mag', ascending=False)\n",
        "plt.figure(figsize=(10, 10)) \n",
        "sns.barplot(y=coef_info.index, x='coef_mag', hue='coef_sign', data=coef_info, orient='h', dodge=False);"
      ],
      "metadata": {
        "colab": {
          "base_uri": "https://localhost:8080/",
          "height": 381
        },
        "id": "aGW_NuxKVYen",
        "outputId": "bbc3c30c-02e4-4cac-8bcf-6f6aa67dc561"
      },
      "execution_count": 237,
      "outputs": [
        {
          "output_type": "error",
          "ename": "ValueError",
          "evalue": "ignored",
          "traceback": [
            "\u001b[0;31m---------------------------------------------------------------------------\u001b[0m",
            "\u001b[0;31mValueError\u001b[0m                                Traceback (most recent call last)",
            "\u001b[0;32m<ipython-input-237-7cbbe72c9eed>\u001b[0m in \u001b[0;36m<module>\u001b[0;34m()\u001b[0m\n\u001b[1;32m      1\u001b[0m \u001b[0;31m#create df with vip info\u001b[0m\u001b[0;34m\u001b[0m\u001b[0;34m\u001b[0m\u001b[0;34m\u001b[0m\u001b[0m\n\u001b[0;32m----> 2\u001b[0;31m \u001b[0mcoef_info\u001b[0m \u001b[0;34m=\u001b[0m \u001b[0mpd\u001b[0m\u001b[0;34m.\u001b[0m\u001b[0mDataFrame\u001b[0m\u001b[0;34m(\u001b[0m\u001b[0;34m{\u001b[0m\u001b[0;34m'feat_names'\u001b[0m\u001b[0;34m:\u001b[0m\u001b[0mnp\u001b[0m\u001b[0;34m.\u001b[0m\u001b[0mhstack\u001b[0m\u001b[0;34m(\u001b[0m\u001b[0;34m[\u001b[0m\u001b[0mcat_names\u001b[0m\u001b[0;34m,\u001b[0m \u001b[0mnum_names\u001b[0m\u001b[0;34m]\u001b[0m\u001b[0;34m)\u001b[0m\u001b[0;34m,\u001b[0m \u001b[0;34m'vip'\u001b[0m\u001b[0;34m:\u001b[0m \u001b[0mvip_lg\u001b[0m\u001b[0;34m}\u001b[0m\u001b[0;34m)\u001b[0m\u001b[0;34m\u001b[0m\u001b[0;34m\u001b[0m\u001b[0m\n\u001b[0m\u001b[1;32m      3\u001b[0m \u001b[0;34m\u001b[0m\u001b[0m\n\u001b[1;32m      4\u001b[0m \u001b[0;31m#get sign and magnitude information\u001b[0m\u001b[0;34m\u001b[0m\u001b[0;34m\u001b[0m\u001b[0;34m\u001b[0m\u001b[0m\n\u001b[1;32m      5\u001b[0m coef_info = coef_info.assign(coef_mag = abs(coef_info['vip']),\n",
            "\u001b[0;32m/usr/local/lib/python3.7/dist-packages/pandas/core/frame.py\u001b[0m in \u001b[0;36m__init__\u001b[0;34m(self, data, index, columns, dtype, copy)\u001b[0m\n\u001b[1;32m    612\u001b[0m         \u001b[0;32melif\u001b[0m \u001b[0misinstance\u001b[0m\u001b[0;34m(\u001b[0m\u001b[0mdata\u001b[0m\u001b[0;34m,\u001b[0m \u001b[0mdict\u001b[0m\u001b[0;34m)\u001b[0m\u001b[0;34m:\u001b[0m\u001b[0;34m\u001b[0m\u001b[0;34m\u001b[0m\u001b[0m\n\u001b[1;32m    613\u001b[0m             \u001b[0;31m# GH#38939 de facto copy defaults to False only in non-dict cases\u001b[0m\u001b[0;34m\u001b[0m\u001b[0;34m\u001b[0m\u001b[0;34m\u001b[0m\u001b[0m\n\u001b[0;32m--> 614\u001b[0;31m             \u001b[0mmgr\u001b[0m \u001b[0;34m=\u001b[0m \u001b[0mdict_to_mgr\u001b[0m\u001b[0;34m(\u001b[0m\u001b[0mdata\u001b[0m\u001b[0;34m,\u001b[0m \u001b[0mindex\u001b[0m\u001b[0;34m,\u001b[0m \u001b[0mcolumns\u001b[0m\u001b[0;34m,\u001b[0m \u001b[0mdtype\u001b[0m\u001b[0;34m=\u001b[0m\u001b[0mdtype\u001b[0m\u001b[0;34m,\u001b[0m \u001b[0mcopy\u001b[0m\u001b[0;34m=\u001b[0m\u001b[0mcopy\u001b[0m\u001b[0;34m,\u001b[0m \u001b[0mtyp\u001b[0m\u001b[0;34m=\u001b[0m\u001b[0mmanager\u001b[0m\u001b[0;34m)\u001b[0m\u001b[0;34m\u001b[0m\u001b[0;34m\u001b[0m\u001b[0m\n\u001b[0m\u001b[1;32m    615\u001b[0m         \u001b[0;32melif\u001b[0m \u001b[0misinstance\u001b[0m\u001b[0;34m(\u001b[0m\u001b[0mdata\u001b[0m\u001b[0;34m,\u001b[0m \u001b[0mma\u001b[0m\u001b[0;34m.\u001b[0m\u001b[0mMaskedArray\u001b[0m\u001b[0;34m)\u001b[0m\u001b[0;34m:\u001b[0m\u001b[0;34m\u001b[0m\u001b[0;34m\u001b[0m\u001b[0m\n\u001b[1;32m    616\u001b[0m             \u001b[0;32mimport\u001b[0m \u001b[0mnumpy\u001b[0m\u001b[0;34m.\u001b[0m\u001b[0mma\u001b[0m\u001b[0;34m.\u001b[0m\u001b[0mmrecords\u001b[0m \u001b[0;32mas\u001b[0m \u001b[0mmrecords\u001b[0m\u001b[0;34m\u001b[0m\u001b[0;34m\u001b[0m\u001b[0m\n",
            "\u001b[0;32m/usr/local/lib/python3.7/dist-packages/pandas/core/internals/construction.py\u001b[0m in \u001b[0;36mdict_to_mgr\u001b[0;34m(data, index, columns, dtype, typ, copy)\u001b[0m\n\u001b[1;32m    463\u001b[0m \u001b[0;34m\u001b[0m\u001b[0m\n\u001b[1;32m    464\u001b[0m     return arrays_to_mgr(\n\u001b[0;32m--> 465\u001b[0;31m         \u001b[0marrays\u001b[0m\u001b[0;34m,\u001b[0m \u001b[0mdata_names\u001b[0m\u001b[0;34m,\u001b[0m \u001b[0mindex\u001b[0m\u001b[0;34m,\u001b[0m \u001b[0mcolumns\u001b[0m\u001b[0;34m,\u001b[0m \u001b[0mdtype\u001b[0m\u001b[0;34m=\u001b[0m\u001b[0mdtype\u001b[0m\u001b[0;34m,\u001b[0m \u001b[0mtyp\u001b[0m\u001b[0;34m=\u001b[0m\u001b[0mtyp\u001b[0m\u001b[0;34m,\u001b[0m \u001b[0mconsolidate\u001b[0m\u001b[0;34m=\u001b[0m\u001b[0mcopy\u001b[0m\u001b[0;34m\u001b[0m\u001b[0;34m\u001b[0m\u001b[0m\n\u001b[0m\u001b[1;32m    466\u001b[0m     )\n\u001b[1;32m    467\u001b[0m \u001b[0;34m\u001b[0m\u001b[0m\n",
            "\u001b[0;32m/usr/local/lib/python3.7/dist-packages/pandas/core/internals/construction.py\u001b[0m in \u001b[0;36marrays_to_mgr\u001b[0;34m(arrays, arr_names, index, columns, dtype, verify_integrity, typ, consolidate)\u001b[0m\n\u001b[1;32m    117\u001b[0m         \u001b[0;31m# figure out the index, if necessary\u001b[0m\u001b[0;34m\u001b[0m\u001b[0;34m\u001b[0m\u001b[0;34m\u001b[0m\u001b[0m\n\u001b[1;32m    118\u001b[0m         \u001b[0;32mif\u001b[0m \u001b[0mindex\u001b[0m \u001b[0;32mis\u001b[0m \u001b[0;32mNone\u001b[0m\u001b[0;34m:\u001b[0m\u001b[0;34m\u001b[0m\u001b[0;34m\u001b[0m\u001b[0m\n\u001b[0;32m--> 119\u001b[0;31m             \u001b[0mindex\u001b[0m \u001b[0;34m=\u001b[0m \u001b[0m_extract_index\u001b[0m\u001b[0;34m(\u001b[0m\u001b[0marrays\u001b[0m\u001b[0;34m)\u001b[0m\u001b[0;34m\u001b[0m\u001b[0;34m\u001b[0m\u001b[0m\n\u001b[0m\u001b[1;32m    120\u001b[0m         \u001b[0;32melse\u001b[0m\u001b[0;34m:\u001b[0m\u001b[0;34m\u001b[0m\u001b[0;34m\u001b[0m\u001b[0m\n\u001b[1;32m    121\u001b[0m             \u001b[0mindex\u001b[0m \u001b[0;34m=\u001b[0m \u001b[0mensure_index\u001b[0m\u001b[0;34m(\u001b[0m\u001b[0mindex\u001b[0m\u001b[0;34m)\u001b[0m\u001b[0;34m\u001b[0m\u001b[0;34m\u001b[0m\u001b[0m\n",
            "\u001b[0;32m/usr/local/lib/python3.7/dist-packages/pandas/core/internals/construction.py\u001b[0m in \u001b[0;36m_extract_index\u001b[0;34m(data)\u001b[0m\n\u001b[1;32m    633\u001b[0m             \u001b[0mlengths\u001b[0m \u001b[0;34m=\u001b[0m \u001b[0mlist\u001b[0m\u001b[0;34m(\u001b[0m\u001b[0mset\u001b[0m\u001b[0;34m(\u001b[0m\u001b[0mraw_lengths\u001b[0m\u001b[0;34m)\u001b[0m\u001b[0;34m)\u001b[0m\u001b[0;34m\u001b[0m\u001b[0;34m\u001b[0m\u001b[0m\n\u001b[1;32m    634\u001b[0m             \u001b[0;32mif\u001b[0m \u001b[0mlen\u001b[0m\u001b[0;34m(\u001b[0m\u001b[0mlengths\u001b[0m\u001b[0;34m)\u001b[0m \u001b[0;34m>\u001b[0m \u001b[0;36m1\u001b[0m\u001b[0;34m:\u001b[0m\u001b[0;34m\u001b[0m\u001b[0;34m\u001b[0m\u001b[0m\n\u001b[0;32m--> 635\u001b[0;31m                 \u001b[0;32mraise\u001b[0m \u001b[0mValueError\u001b[0m\u001b[0;34m(\u001b[0m\u001b[0;34m\"All arrays must be of the same length\"\u001b[0m\u001b[0;34m)\u001b[0m\u001b[0;34m\u001b[0m\u001b[0;34m\u001b[0m\u001b[0m\n\u001b[0m\u001b[1;32m    636\u001b[0m \u001b[0;34m\u001b[0m\u001b[0m\n\u001b[1;32m    637\u001b[0m             \u001b[0;32mif\u001b[0m \u001b[0mhave_dicts\u001b[0m\u001b[0;34m:\u001b[0m\u001b[0;34m\u001b[0m\u001b[0;34m\u001b[0m\u001b[0m\n",
            "\u001b[0;31mValueError\u001b[0m: All arrays must be of the same length"
          ]
        }
      ]
    },
    {
      "cell_type": "markdown",
      "source": [
        "### Random Forest Classifier"
      ],
      "metadata": {
        "id": "wHRQ4UWeHmIG"
      }
    },
    {
      "cell_type": "code",
      "source": [
        "grid_search_rf.classes_"
      ],
      "metadata": {
        "id": "-tFFWkj_Holk"
      },
      "execution_count": null,
      "outputs": []
    },
    {
      "cell_type": "code",
      "source": [
        "vip_rf = grid_search_rf.best_estimator_['rf']\n",
        "vip_rf"
      ],
      "metadata": {
        "id": "7dVXEVgMHqcE"
      },
      "execution_count": null,
      "outputs": []
    },
    {
      "cell_type": "code",
      "source": [
        "cat_names = grid_search_rf.best_estimator_.named_steps['preproc'].transformers_[0][1].named_steps['onehot_cat'].get_feature_names_out()\n",
        "num_names = grid_search_rf.best_estimator_.named_steps['preproc'].transformers_[1][2]\n",
        "vip_rf = grid_search_rf.best_estimator_.steps[1]\n",
        "vip_rf = vip_rf[1].estimators_\n",
        "\n",
        "plt.figure(figsize=(18, 12)) \n",
        "tree.plot_tree(vip_rf[0], feature_names=np.hstack([cat_names, num_names]), fontsize=8, filled=True)\n",
        "plt.show()"
      ],
      "metadata": {
        "id": "AfETEOjhHr7a"
      },
      "execution_count": null,
      "outputs": []
    },
    {
      "cell_type": "markdown",
      "source": [
        "### Gradient Boosting Classifier"
      ],
      "metadata": {
        "id": "ouYlaZpvHvlg"
      }
    },
    {
      "cell_type": "code",
      "source": [
        "grid_search_gb.classes_"
      ],
      "metadata": {
        "id": "4YAp03_gHx5L"
      },
      "execution_count": null,
      "outputs": []
    },
    {
      "cell_type": "code",
      "source": [
        "vip_gb = grid_search_gb.best_estimator_['gbc']\n",
        "vip_gb"
      ],
      "metadata": {
        "id": "u5yFS2XUH0nP"
      },
      "execution_count": null,
      "outputs": []
    },
    {
      "cell_type": "markdown",
      "source": [
        ""
      ],
      "metadata": {
        "id": "Mi-sfCz_HvVp"
      }
    },
    {
      "cell_type": "markdown",
      "source": [
        "## Performance metrics on test data"
      ],
      "metadata": {
        "id": "RkOIlgkR3l3R"
      }
    },
    {
      "cell_type": "markdown",
      "source": [
        "Here, we can see the performance of the model, which is pretty nice! We can also look into different scores specifically for more insight into the performance."
      ],
      "metadata": {
        "id": "Ijdc53tX3qJE"
      }
    },
    {
      "cell_type": "markdown",
      "source": [
        "### Logistic Regression"
      ],
      "metadata": {
        "id": "uJlBIRtfIA1_"
      }
    },
    {
      "cell_type": "code",
      "source": [
        "print(classification_report(Y_test, grid_search_lg.best_estimator_.predict(X_test)))"
      ],
      "metadata": {
        "id": "MeYSQFw8IEGU"
      },
      "execution_count": null,
      "outputs": []
    },
    {
      "cell_type": "code",
      "source": [
        "cm_lg = confusion_matrix(Y_test, grid_search_lg.best_estimator_.predict(X_test))\n",
        "disp = ConfusionMatrixDisplay(confusion_matrix=cm_lg,\n",
        "                               display_labels=grid_search_lg.classes_)\n",
        "disp.plot()\n",
        "plt.show()"
      ],
      "metadata": {
        "id": "BFQwCkS6IHR0"
      },
      "execution_count": null,
      "outputs": []
    },
    {
      "cell_type": "code",
      "source": [
        "rmse = np.sqrt(mean_squared_error(Y_test.reset_index(drop=True), grid_search_lg.best_estimator_.predict(X_test)))\n",
        "mape = mean_absolute_percentage_error(Y_test.reset_index(drop=True),grid_search_lg.best_estimator_.predict(X_test))\n",
        "r2 = r2_score(Y_test.reset_index(drop=True), grid_search_lg.best_estimator_.predict(X_test))\n",
        "\n",
        "print('lg R2 is: {0}'.format(r2))\n",
        "print('lg RMSE is: {0}'.format(rmse))\n",
        "print('lg MAPE is: {0}'.format(mape))"
      ],
      "metadata": {
        "id": "z0fgqaiPIYM0"
      },
      "execution_count": null,
      "outputs": []
    },
    {
      "cell_type": "markdown",
      "source": [
        "### Random Forest Classifier"
      ],
      "metadata": {
        "id": "ME4TJYC_Iagh"
      }
    },
    {
      "cell_type": "code",
      "source": [
        "print(classification_report(Y_test, grid_search_rf.best_estimator_.predict(X_test)))"
      ],
      "metadata": {
        "id": "hIA5mTLoIc0t"
      },
      "execution_count": null,
      "outputs": []
    },
    {
      "cell_type": "code",
      "source": [
        "cm_rf = confusion_matrix(Y_test, grid_search_rf.best_estimator_.predict(X_test))\n",
        "disp = ConfusionMatrixDisplay(confusion_matrix=cm_rf, display_labels=grid_search_rf.classes_)\n",
        "disp.plot()\n",
        "plt.show()"
      ],
      "metadata": {
        "id": "NkJY3Hc3Ifdn"
      },
      "execution_count": null,
      "outputs": []
    },
    {
      "cell_type": "code",
      "source": [
        "rmse = np.sqrt(mean_squared_error(Y_test.reset_index(drop=True), grid_search_rf.best_estimator_.predict(X_test)))\n",
        "mape = mean_absolute_percentage_error(Y_test.reset_index(drop=True),grid_search_rf.best_estimator_.predict(X_test))\n",
        "r2 = r2_score(Y_test.reset_index(drop=True), grid_search_rf.best_estimator_.predict(X_test))\n",
        "\n",
        "print('rf R2 is: {0}'.format(r2))\n",
        "print('rf RMSE is: {0}'.format(rmse))\n",
        "print('rf MAPE is: {0}'.format(mape))"
      ],
      "metadata": {
        "id": "AFtKCuFhIhG9"
      },
      "execution_count": null,
      "outputs": []
    },
    {
      "cell_type": "markdown",
      "source": [
        "### Gradient Boosting Classifier"
      ],
      "metadata": {
        "id": "WdGTdi9gIxaT"
      }
    },
    {
      "cell_type": "code",
      "source": [
        "print(classification_report(Y_test, grid_search_gb.best_estimator_.predict(X_test)))"
      ],
      "metadata": {
        "id": "syv4QAHCIzsW"
      },
      "execution_count": null,
      "outputs": []
    },
    {
      "cell_type": "code",
      "source": [
        "cm_gb = confusion_matrix(Y_test, grid_search_gb.best_estimator_.predict(X_test))\n",
        "disp = ConfusionMatrixDisplay(confusion_matrix=cm_gb, display_labels=grid_search_gb.classes_)\n",
        "disp.plot()\n",
        "plt.show()"
      ],
      "metadata": {
        "id": "vTlAGs-_I1m0"
      },
      "execution_count": null,
      "outputs": []
    },
    {
      "cell_type": "code",
      "source": [
        "rmse = np.sqrt(mean_squared_error(y_test.reset_index(drop=True), grid_search_gb.best_estimator_.predict(X_test)))\n",
        "mape = mean_absolute_percentage_error(y_test.reset_index(drop=True),grid_search_gb.best_estimator_.predict(X_test))\n",
        "r2 = r2_score(y_test.reset_index(drop=True), grid_search_gb.best_estimator_.predict(X_test))\n",
        "\n",
        "print('gb R2 is: {0}'.format(r2))\n",
        "print('gb RMSE is: {0}'.format(rmse))\n",
        "print('gb MAPE is: {0}'.format(mape))"
      ],
      "metadata": {
        "id": "h95UGC2iI5VM"
      },
      "execution_count": null,
      "outputs": []
    },
    {
      "cell_type": "markdown",
      "source": [
        "## ROC Curve"
      ],
      "metadata": {
        "id": "Dr8ykQUYI7kr"
      }
    },
    {
      "cell_type": "code",
      "source": [
        "lg_roc_auc = roc_auc_score(y_test, grid_search_lg.best_estimator_.predict_proba(X_test)[:,1])\n",
        "print('Area under Lg ROC cure:', lg_roc_auc)\n",
        "\n",
        "rf_roc_auc = roc_auc_score(y_test, grid_search_rf.best_estimator_.predict_proba(X_test)[:,1])\n",
        "print('Area under Rf ROC cure:', rf_roc_auc)\n",
        "\n",
        "gb_roc_auc = roc_auc_score(y_test, grid_search_gb.best_estimator_.predict_proba(X_test)[:,1])\n",
        "print('Area under Gb ROC cure:', gb_roc_auc)\n",
        "\n",
        "lg_FPR, lg_TPR, lg_Thresholds = roc_curve(y_test, grid_search_lg.best_estimator_.predict_proba(X_test)[:,1])\n",
        "rf_FPR, rf_TPR, rf_Thresholds = roc_curve(y_test, grid_search_rf.best_estimator_.predict_proba(X_test)[:,1])\n",
        "gb_FPR, gb_TPR, gb_Thresholds = roc_curve(y_test, grid_search_gb.best_estimator_.predict_proba(X_test)[:,1])\n",
        "\n",
        "sns.set_style(\"darkgrid\")\n",
        "plt.figure(figsize=(12,12))\n",
        "\n",
        "plt.plot(lg_FPR, lg_TPR, label='Logistic Regression (area = %0.2f)' % lg_roc_auc)\n",
        "plt.plot(rf_FPR, rf_TPR, label='Random Forest Classifier (area = %0.2f)' % rf_roc_auc)\n",
        "plt.plot(gb_FPR, gb_TPR, label='Gradient Boosting Classifier (area = %0.2f)' % gb_roc_auc)\n",
        "\n",
        "# Plot Base Rate ROC\n",
        "plt.plot([0,1], [0,1],label='Base Rate')\n",
        "\n",
        "plt.xlim([0.0, 1.0])\n",
        "plt.ylim([0.0, 1.05])\n",
        "plt.xlabel('False Positive Rate', fontsize = 14)\n",
        "plt.ylabel('True Positive Rate', fontsize = 14)\n",
        "plt.title('ROC Graph', fontsize =16)\n",
        "plt.legend(loc=\"lower right\")\n",
        "plt.show()"
      ],
      "metadata": {
        "id": "wCD_f4eyI-pc"
      },
      "execution_count": null,
      "outputs": []
    },
    {
      "cell_type": "markdown",
      "source": [
        "## Model Comparsion"
      ],
      "metadata": {
        "id": "BFj_-rHcJDxF"
      }
    },
    {
      "cell_type": "markdown",
      "source": [
        "The comparsion of three model shows that **GRADIENT BOOSTING** model was the best with better accuracy, precision, and f-score"
      ],
      "metadata": {
        "id": "id9OvdivJHQ-"
      }
    },
    {
      "cell_type": "code",
      "source": [
        "#------------------------------------------------------\n",
        "# The comparsion of three model shows that GRADIENT BOOSTING classification model was the best\n",
        "# with higher accuracy, precision, f-score and under the ROC curve.\n",
        "#------------------------------------------------------\n",
        "print(classification_report(Y_test, grid_search_lg.best_estimator_.predict(X_test)))\n",
        "print(classification_report(Y_test, grid_search_rf.best_estimator_.predict(X_test)))\n",
        "print(classification_report(Y_test, grid_search_gb.best_estimator_.predict(X_test)))"
      ],
      "metadata": {
        "id": "7Xinan7UJJtO"
      },
      "execution_count": null,
      "outputs": []
    }
  ]
}